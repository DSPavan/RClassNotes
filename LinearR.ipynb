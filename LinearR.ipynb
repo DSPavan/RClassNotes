{
 "cells": [
  {
   "cell_type": "code",
   "execution_count": 14,
   "metadata": {},
   "outputs": [
    {
     "name": "stdout",
     "output_type": "stream",
     "text": [
      "    Ozone Solar.R Wind Temp Month Day\n",
      "1      41     190  7.4   67     5   1\n",
      "2      36     118  8.0   72     5   2\n",
      "3      12     149 12.6   74     5   3\n",
      "4      18     313 11.5   62     5   4\n",
      "5      NA      NA 14.3   56     5   5\n",
      "6      28      NA 14.9   66     5   6\n",
      "7      23     299  8.6   65     5   7\n",
      "8      19      99 13.8   59     5   8\n",
      "9       8      19 20.1   61     5   9\n",
      "10     NA     194  8.6   69     5  10\n",
      "11      7      NA  6.9   74     5  11\n",
      "12     16     256  9.7   69     5  12\n",
      "13     11     290  9.2   66     5  13\n",
      "14     14     274 10.9   68     5  14\n",
      "15     18      65 13.2   58     5  15\n",
      "16     14     334 11.5   64     5  16\n",
      "17     34     307 12.0   66     5  17\n",
      "18      6      78 18.4   57     5  18\n",
      "19     30     322 11.5   68     5  19\n",
      "20     11      44  9.7   62     5  20\n",
      "21      1       8  9.7   59     5  21\n",
      "22     11     320 16.6   73     5  22\n",
      "23      4      25  9.7   61     5  23\n",
      "24     32      92 12.0   61     5  24\n",
      "25     NA      66 16.6   57     5  25\n",
      "26     NA     266 14.9   58     5  26\n",
      "27     NA      NA  8.0   57     5  27\n",
      "28     23      13 12.0   67     5  28\n",
      "29     45     252 14.9   81     5  29\n",
      "30    115     223  5.7   79     5  30\n",
      "31     37     279  7.4   76     5  31\n",
      "32     NA     286  8.6   78     6   1\n",
      "33     NA     287  9.7   74     6   2\n",
      "34     NA     242 16.1   67     6   3\n",
      "35     NA     186  9.2   84     6   4\n",
      "36     NA     220  8.6   85     6   5\n",
      "37     NA     264 14.3   79     6   6\n",
      "38     29     127  9.7   82     6   7\n",
      "39     NA     273  6.9   87     6   8\n",
      "40     71     291 13.8   90     6   9\n",
      "41     39     323 11.5   87     6  10\n",
      "42     NA     259 10.9   93     6  11\n",
      "43     NA     250  9.2   92     6  12\n",
      "44     23     148  8.0   82     6  13\n",
      "45     NA     332 13.8   80     6  14\n",
      "46     NA     322 11.5   79     6  15\n",
      "47     21     191 14.9   77     6  16\n",
      "48     37     284 20.7   72     6  17\n",
      "49     20      37  9.2   65     6  18\n",
      "50     12     120 11.5   73     6  19\n",
      "51     13     137 10.3   76     6  20\n",
      "52     NA     150  6.3   77     6  21\n",
      "53     NA      59  1.7   76     6  22\n",
      "54     NA      91  4.6   76     6  23\n",
      "55     NA     250  6.3   76     6  24\n",
      "56     NA     135  8.0   75     6  25\n",
      "57     NA     127  8.0   78     6  26\n",
      "58     NA      47 10.3   73     6  27\n",
      "59     NA      98 11.5   80     6  28\n",
      "60     NA      31 14.9   77     6  29\n",
      "61     NA     138  8.0   83     6  30\n",
      "62    135     269  4.1   84     7   1\n",
      "63     49     248  9.2   85     7   2\n",
      "64     32     236  9.2   81     7   3\n",
      "65     NA     101 10.9   84     7   4\n",
      "66     64     175  4.6   83     7   5\n",
      "67     40     314 10.9   83     7   6\n",
      "68     77     276  5.1   88     7   7\n",
      "69     97     267  6.3   92     7   8\n",
      "70     97     272  5.7   92     7   9\n",
      "71     85     175  7.4   89     7  10\n",
      "72     NA     139  8.6   82     7  11\n",
      "73     10     264 14.3   73     7  12\n",
      "74     27     175 14.9   81     7  13\n",
      "75     NA     291 14.9   91     7  14\n",
      "76      7      48 14.3   80     7  15\n",
      "77     48     260  6.9   81     7  16\n",
      "78     35     274 10.3   82     7  17\n",
      "79     61     285  6.3   84     7  18\n",
      "80     79     187  5.1   87     7  19\n",
      "81     63     220 11.5   85     7  20\n",
      "82     16       7  6.9   74     7  21\n",
      "83     NA     258  9.7   81     7  22\n",
      "84     NA     295 11.5   82     7  23\n",
      "85     80     294  8.6   86     7  24\n",
      "86    108     223  8.0   85     7  25\n",
      "87     20      81  8.6   82     7  26\n",
      "88     52      82 12.0   86     7  27\n",
      "89     82     213  7.4   88     7  28\n",
      "90     50     275  7.4   86     7  29\n",
      "91     64     253  7.4   83     7  30\n",
      "92     59     254  9.2   81     7  31\n",
      "93     39      83  6.9   81     8   1\n",
      "94      9      24 13.8   81     8   2\n",
      "95     16      77  7.4   82     8   3\n",
      "96     78      NA  6.9   86     8   4\n",
      "97     35      NA  7.4   85     8   5\n",
      "98     66      NA  4.6   87     8   6\n",
      "99    122     255  4.0   89     8   7\n",
      "100    89     229 10.3   90     8   8\n",
      "101   110     207  8.0   90     8   9\n",
      "102    NA     222  8.6   92     8  10\n",
      "103    NA     137 11.5   86     8  11\n",
      "104    44     192 11.5   86     8  12\n",
      "105    28     273 11.5   82     8  13\n",
      "106    65     157  9.7   80     8  14\n",
      "107    NA      64 11.5   79     8  15\n",
      "108    22      71 10.3   77     8  16\n",
      "109    59      51  6.3   79     8  17\n",
      "110    23     115  7.4   76     8  18\n",
      "111    31     244 10.9   78     8  19\n",
      "112    44     190 10.3   78     8  20\n",
      "113    21     259 15.5   77     8  21\n",
      "114     9      36 14.3   72     8  22\n",
      "115    NA     255 12.6   75     8  23\n",
      "116    45     212  9.7   79     8  24\n",
      "117   168     238  3.4   81     8  25\n",
      "118    73     215  8.0   86     8  26\n",
      "119    NA     153  5.7   88     8  27\n",
      "120    76     203  9.7   97     8  28\n",
      "121   118     225  2.3   94     8  29\n",
      "122    84     237  6.3   96     8  30\n",
      "123    85     188  6.3   94     8  31\n",
      "124    96     167  6.9   91     9   1\n",
      "125    78     197  5.1   92     9   2\n",
      "126    73     183  2.8   93     9   3\n",
      "127    91     189  4.6   93     9   4\n",
      "128    47      95  7.4   87     9   5\n",
      "129    32      92 15.5   84     9   6\n",
      "130    20     252 10.9   80     9   7\n",
      "131    23     220 10.3   78     9   8\n",
      "132    21     230 10.9   75     9   9\n",
      "133    24     259  9.7   73     9  10\n",
      "134    44     236 14.9   81     9  11\n",
      "135    21     259 15.5   76     9  12\n",
      "136    28     238  6.3   77     9  13\n",
      "137     9      24 10.9   71     9  14\n",
      "138    13     112 11.5   71     9  15\n",
      "139    46     237  6.9   78     9  16\n",
      "140    18     224 13.8   67     9  17\n",
      "141    13      27 10.3   76     9  18\n",
      "142    24     238 10.3   68     9  19\n",
      "143    16     201  8.0   82     9  20\n",
      "144    13     238 12.6   64     9  21\n",
      "145    23      14  9.2   71     9  22\n",
      "146    36     139 10.3   81     9  23\n",
      "147     7      49 10.3   69     9  24\n",
      "148    14      20 16.6   63     9  25\n",
      "149    30     193  6.9   70     9  26\n",
      "150    NA     145 13.2   77     9  27\n",
      "151    14     191 14.3   75     9  28\n",
      "152    18     131  8.0   76     9  29\n",
      "153    20     223 11.5   68     9  30\n"
     ]
    }
   ],
   "source": [
    "#library(e1071)\n",
    "data(\"airquality\")\n",
    "mydata <- airquality\n",
    "print(mydata)\n",
    "# https://stat.ethz.ch/R-manual/R-devel/library/datasets/html/airquality.html\n",
    "#Daily readings of the following air quality values for May 1, 1973 (a Tuesday) to September 30, 1973.\n",
    "\n",
    "#Ozone: Mean ozone in parts per billion from 1300 to 1500 hours at Roosevelt Island\n",
    "\n",
    "#Solar.R: Solar radiation in Langleys in the frequency band 4000–7700 Angstroms from 0800 to 1200 hours at Central Park\n",
    "\n",
    "#Wind: Average wind speed in miles per hour at 0700 and 1000 hours at LaGuardia Airport\n",
    "\n",
    "# Temp: Maximum daily temperature in degrees Fahrenheit at La Guardia Airport."
   ]
  },
  {
   "cell_type": "code",
   "execution_count": 3,
   "metadata": {},
   "outputs": [
    {
     "name": "stdout",
     "output_type": "stream",
     "text": [
      "    Ozone Solar.R Wind Temp Month Day\n",
      "1      41     190  7.4   67     5   1\n",
      "2      36     118  8.0   72     5   2\n",
      "3      12     149 12.6   74     5   3\n",
      "4      18     313 11.5   62     5   4\n",
      "7      23     299  8.6   65     5   7\n",
      "8      19      99 13.8   59     5   8\n",
      "9       8      19 20.1   61     5   9\n",
      "12     16     256  9.7   69     5  12\n",
      "13     11     290  9.2   66     5  13\n",
      "14     14     274 10.9   68     5  14\n",
      "15     18      65 13.2   58     5  15\n",
      "16     14     334 11.5   64     5  16\n",
      "17     34     307 12.0   66     5  17\n",
      "18      6      78 18.4   57     5  18\n",
      "19     30     322 11.5   68     5  19\n",
      "20     11      44  9.7   62     5  20\n",
      "21      1       8  9.7   59     5  21\n",
      "22     11     320 16.6   73     5  22\n",
      "23      4      25  9.7   61     5  23\n",
      "24     32      92 12.0   61     5  24\n",
      "28     23      13 12.0   67     5  28\n",
      "29     45     252 14.9   81     5  29\n",
      "30    115     223  5.7   79     5  30\n",
      "31     37     279  7.4   76     5  31\n",
      "38     29     127  9.7   82     6   7\n",
      "40     71     291 13.8   90     6   9\n",
      "41     39     323 11.5   87     6  10\n",
      "44     23     148  8.0   82     6  13\n",
      "47     21     191 14.9   77     6  16\n",
      "48     37     284 20.7   72     6  17\n",
      "49     20      37  9.2   65     6  18\n",
      "50     12     120 11.5   73     6  19\n",
      "51     13     137 10.3   76     6  20\n",
      "62    135     269  4.1   84     7   1\n",
      "63     49     248  9.2   85     7   2\n",
      "64     32     236  9.2   81     7   3\n",
      "66     64     175  4.6   83     7   5\n",
      "67     40     314 10.9   83     7   6\n",
      "68     77     276  5.1   88     7   7\n",
      "69     97     267  6.3   92     7   8\n",
      "70     97     272  5.7   92     7   9\n",
      "71     85     175  7.4   89     7  10\n",
      "73     10     264 14.3   73     7  12\n",
      "74     27     175 14.9   81     7  13\n",
      "76      7      48 14.3   80     7  15\n",
      "77     48     260  6.9   81     7  16\n",
      "78     35     274 10.3   82     7  17\n",
      "79     61     285  6.3   84     7  18\n",
      "80     79     187  5.1   87     7  19\n",
      "81     63     220 11.5   85     7  20\n",
      "82     16       7  6.9   74     7  21\n",
      "85     80     294  8.6   86     7  24\n",
      "86    108     223  8.0   85     7  25\n",
      "87     20      81  8.6   82     7  26\n",
      "88     52      82 12.0   86     7  27\n",
      "89     82     213  7.4   88     7  28\n",
      "90     50     275  7.4   86     7  29\n",
      "91     64     253  7.4   83     7  30\n",
      "92     59     254  9.2   81     7  31\n",
      "93     39      83  6.9   81     8   1\n",
      "94      9      24 13.8   81     8   2\n",
      "95     16      77  7.4   82     8   3\n",
      "99    122     255  4.0   89     8   7\n",
      "100    89     229 10.3   90     8   8\n",
      "101   110     207  8.0   90     8   9\n",
      "104    44     192 11.5   86     8  12\n",
      "105    28     273 11.5   82     8  13\n",
      "106    65     157  9.7   80     8  14\n",
      "108    22      71 10.3   77     8  16\n",
      "109    59      51  6.3   79     8  17\n",
      "110    23     115  7.4   76     8  18\n",
      "111    31     244 10.9   78     8  19\n",
      "112    44     190 10.3   78     8  20\n",
      "113    21     259 15.5   77     8  21\n",
      "114     9      36 14.3   72     8  22\n",
      "116    45     212  9.7   79     8  24\n",
      "117   168     238  3.4   81     8  25\n",
      "118    73     215  8.0   86     8  26\n",
      "120    76     203  9.7   97     8  28\n",
      "121   118     225  2.3   94     8  29\n",
      "122    84     237  6.3   96     8  30\n",
      "123    85     188  6.3   94     8  31\n",
      "124    96     167  6.9   91     9   1\n",
      "125    78     197  5.1   92     9   2\n",
      "126    73     183  2.8   93     9   3\n",
      "127    91     189  4.6   93     9   4\n",
      "128    47      95  7.4   87     9   5\n",
      "129    32      92 15.5   84     9   6\n",
      "130    20     252 10.9   80     9   7\n",
      "131    23     220 10.3   78     9   8\n",
      "132    21     230 10.9   75     9   9\n",
      "133    24     259  9.7   73     9  10\n",
      "134    44     236 14.9   81     9  11\n",
      "135    21     259 15.5   76     9  12\n",
      "136    28     238  6.3   77     9  13\n",
      "137     9      24 10.9   71     9  14\n",
      "138    13     112 11.5   71     9  15\n",
      "139    46     237  6.9   78     9  16\n",
      "140    18     224 13.8   67     9  17\n",
      "141    13      27 10.3   76     9  18\n",
      "142    24     238 10.3   68     9  19\n",
      "143    16     201  8.0   82     9  20\n",
      "144    13     238 12.6   64     9  21\n",
      "145    23      14  9.2   71     9  22\n",
      "146    36     139 10.3   81     9  23\n",
      "147     7      49 10.3   69     9  24\n",
      "148    14      20 16.6   63     9  25\n",
      "149    30     193  6.9   70     9  26\n",
      "151    14     191 14.3   75     9  28\n",
      "152    18     131  8.0   76     9  29\n",
      "153    20     223 11.5   68     9  30\n"
     ]
    }
   ],
   "source": [
    "mydata <- na.omit(mydata)\n",
    "print(mydata)\n",
    "#print(summary(mydata))"
   ]
  },
  {
   "cell_type": "code",
   "execution_count": 4,
   "metadata": {},
   "outputs": [
    {
     "name": "stdout",
     "output_type": "stream",
     "text": [
      "     Ozone          Solar.R           Wind            Temp      \n",
      " Min.   :  1.0   Min.   :  7.0   Min.   : 2.30   Min.   :57.00  \n",
      " 1st Qu.: 18.0   1st Qu.:113.5   1st Qu.: 7.40   1st Qu.:71.00  \n",
      " Median : 31.0   Median :207.0   Median : 9.70   Median :79.00  \n",
      " Mean   : 42.1   Mean   :184.8   Mean   : 9.94   Mean   :77.79  \n",
      " 3rd Qu.: 62.0   3rd Qu.:255.5   3rd Qu.:11.50   3rd Qu.:84.50  \n",
      " Max.   :168.0   Max.   :334.0   Max.   :20.70   Max.   :97.00  \n",
      "     Month            Day       \n",
      " Min.   :5.000   Min.   : 1.00  \n",
      " 1st Qu.:6.000   1st Qu.: 9.00  \n",
      " Median :7.000   Median :16.00  \n",
      " Mean   :7.216   Mean   :15.95  \n",
      " 3rd Qu.:9.000   3rd Qu.:22.50  \n",
      " Max.   :9.000   Max.   :31.00  \n"
     ]
    }
   ],
   "source": [
    "print(summary(mydata))"
   ]
  },
  {
   "cell_type": "code",
   "execution_count": 5,
   "metadata": {},
   "outputs": [
    {
     "name": "stdout",
     "output_type": "stream",
     "text": [
      "[1] 0.6985414\n"
     ]
    }
   ],
   "source": [
    "cr <- cor(mydata$Ozone, mydata$Temp)\n",
    "print(cr)"
   ]
  },
  {
   "cell_type": "code",
   "execution_count": 6,
   "metadata": {},
   "outputs": [
    {
     "name": "stdout",
     "output_type": "stream",
     "text": [
      "\n",
      "Call:\n",
      "lm(formula = mydata$Ozone ~ mydata$Temp, data = mydata)\n",
      "\n",
      "Coefficients:\n",
      "(Intercept)  mydata$Temp  \n",
      "   -147.646        2.439  \n",
      "\n"
     ]
    }
   ],
   "source": [
    "linearMod <- lm(mydata$Ozone~ mydata$Temp, data=mydata) \n",
    "print(linearMod)"
   ]
  },
  {
   "cell_type": "code",
   "execution_count": 9,
   "metadata": {},
   "outputs": [
    {
     "data": {
      "text/plain": [
       "\n",
       "Call:\n",
       "lm(formula = mydata$Ozone ~ mydata$Temp, data = mydata)\n",
       "\n",
       "Residuals:\n",
       "    Min      1Q  Median      3Q     Max \n",
       "-40.922 -17.459  -0.874  10.444 118.078 \n",
       "\n",
       "Coefficients:\n",
       "             Estimate Std. Error t value Pr(>|t|)    \n",
       "(Intercept) -147.6461    18.7553  -7.872 2.76e-12 ***\n",
       "mydata$Temp    2.4391     0.2393  10.192  < 2e-16 ***\n",
       "---\n",
       "Signif. codes:  0 '***' 0.001 '**' 0.01 '*' 0.05 '.' 0.1 ' ' 1\n",
       "\n",
       "Residual standard error: 23.92 on 109 degrees of freedom\n",
       "Multiple R-squared:  0.488,\tAdjusted R-squared:  0.4833 \n",
       "F-statistic: 103.9 on 1 and 109 DF,  p-value: < 2.2e-16\n"
      ]
     },
     "metadata": {},
     "output_type": "display_data"
    }
   ],
   "source": [
    "summary(linearMod)"
   ]
  },
  {
   "cell_type": "code",
   "execution_count": 8,
   "metadata": {},
   "outputs": [
    {
     "name": "stdout",
     "output_type": "stream",
     "text": [
      "  [1] -147.646 -145.207 -142.768 -140.329 -137.890 -135.451 -133.012 -130.573\n",
      "  [9] -128.134 -125.695 -123.256 -120.817 -118.378 -115.939 -113.500 -111.061\n",
      " [17] -108.622 -106.183 -103.744 -101.305  -98.866  -96.427  -93.988  -91.549\n",
      " [25]  -89.110  -86.671  -84.232  -81.793  -79.354  -76.915  -74.476  -72.037\n",
      " [33]  -69.598  -67.159  -64.720  -62.281  -59.842  -57.403  -54.964  -52.525\n",
      " [41]  -50.086  -47.647  -45.208  -42.769  -40.330  -37.891  -35.452  -33.013\n",
      " [49]  -30.574  -28.135  -25.696  -23.257  -20.818  -18.379  -15.940  -13.501\n",
      " [57]  -11.062   -8.623   -6.184   -3.745   -1.306    1.133    3.572    6.011\n",
      " [65]    8.450   10.889   13.328   15.767   18.206   20.645   23.084   25.523\n",
      " [73]   27.962   30.401   32.840   35.279   37.718   40.157   42.596   45.035\n",
      " [81]   47.474   49.913   52.352   54.791   57.230   59.669   62.108   64.547\n",
      " [89]   66.986   69.425   71.864   74.303   76.742   79.181   81.620   84.059\n",
      " [97]   86.498   88.937   91.376   93.815   96.254\n"
     ]
    },
    {
     "data": {
      "image/png": "[encoded data removed]",
      "text/plain": [
       "plot without title"
      ]
     },
     "metadata": {},
     "output_type": "display_data"
    }
   ],
   "source": [
    "x = 0:100\n",
    "Y = -147.646+ ( 2.439*x)\n",
    "print(Y)\n",
    "plot(x,Y,lwd=2,typ=\"l\")"
   ]
  },
  {
   "cell_type": "code",
   "execution_count": 10,
   "metadata": {},
   "outputs": [],
   "source": [
    "# Create Training and Test data -\n",
    "set.seed(100)  # setting seed to reproduce results of random sampling\n",
    "trainingRowIndex <- sample(1:nrow(mydata), 0.8*nrow(mydata))  # row indices for training data\n",
    "trainingData <- mydata[trainingRowIndex, ]  # model training data\n",
    "testData  <- mydata[-trainingRowIndex, ]   # test data"
   ]
  },
  {
   "cell_type": "code",
   "execution_count": 13,
   "metadata": {},
   "outputs": [
    {
     "name": "stdout",
     "output_type": "stream",
     "text": [
      "\n",
      "Call:\n",
      "lm(formula = Ozone ~ Temp, data = mydata)\n",
      "\n",
      "Coefficients:\n",
      "(Intercept)         Temp  \n",
      "   -147.646        2.439  \n",
      "\n",
      "        1         4         7        12        13        29        40        49 \n",
      "15.774291  3.578742 10.896071 20.652511 13.335181 49.921830 71.873819 10.896071 \n",
      "       64        67        73        74        76        86        88        93 \n",
      "49.921830 54.800050 30.408951 49.921830 47.482720 59.678270 62.117379 49.921830 \n",
      "      105       108       111       122       137       152       153 \n",
      "52.360940 40.165390 42.604500 86.508479 25.530731 37.726280 18.213401 \n",
      "    Ozone Solar.R Wind Temp Month Day\n",
      "1      41     190  7.4   67     5   1\n",
      "4      18     313 11.5   62     5   4\n",
      "7      23     299  8.6   65     5   7\n",
      "12     16     256  9.7   69     5  12\n",
      "13     11     290  9.2   66     5  13\n",
      "29     45     252 14.9   81     5  29\n",
      "40     71     291 13.8   90     6   9\n",
      "49     20      37  9.2   65     6  18\n",
      "64     32     236  9.2   81     7   3\n",
      "67     40     314 10.9   83     7   6\n",
      "73     10     264 14.3   73     7  12\n",
      "74     27     175 14.9   81     7  13\n",
      "76      7      48 14.3   80     7  15\n",
      "86    108     223  8.0   85     7  25\n",
      "88     52      82 12.0   86     7  27\n",
      "93     39      83  6.9   81     8   1\n",
      "105    28     273 11.5   82     8  13\n",
      "108    22      71 10.3   77     8  16\n",
      "111    31     244 10.9   78     8  19\n",
      "122    84     237  6.3   96     8  30\n",
      "137     9      24 10.9   71     9  14\n",
      "152    18     131  8.0   76     9  29\n",
      "153    20     223 11.5   68     9  30\n"
     ]
    }
   ],
   "source": [
    "# Build the model on training data -\n",
    "linearMod2 <- lm(Ozone ~ Temp, data=mydata) \n",
    "print(linearMod2)\n",
    "distPred <- predict(linearMod2, testData)  # predict distance\n",
    "print(distPred )\n",
    "print(testData)\n",
    "\n"
   ]
  },
  {
   "cell_type": "code",
   "execution_count": 15,
   "metadata": {},
   "outputs": [
    {
     "data": {
      "text/html": [
       "<table>\n",
       "<thead><tr><th></th><th scope=col>Ozone</th><th scope=col>Temp</th><th scope=col>fitted</th></tr></thead>\n",
       "<tbody>\n",
       "\t<tr><th scope=row>1</th><td> 41      </td><td>67       </td><td>15.774291</td></tr>\n",
       "\t<tr><th scope=row>4</th><td> 18      </td><td>62       </td><td> 3.578742</td></tr>\n",
       "\t<tr><th scope=row>7</th><td> 23      </td><td>65       </td><td>10.896071</td></tr>\n",
       "\t<tr><th scope=row>12</th><td> 16      </td><td>69       </td><td>20.652511</td></tr>\n",
       "\t<tr><th scope=row>13</th><td> 11      </td><td>66       </td><td>13.335181</td></tr>\n",
       "\t<tr><th scope=row>29</th><td> 45      </td><td>81       </td><td>49.921830</td></tr>\n",
       "\t<tr><th scope=row>40</th><td> 71      </td><td>90       </td><td>71.873819</td></tr>\n",
       "\t<tr><th scope=row>49</th><td> 20      </td><td>65       </td><td>10.896071</td></tr>\n",
       "\t<tr><th scope=row>64</th><td> 32      </td><td>81       </td><td>49.921830</td></tr>\n",
       "\t<tr><th scope=row>67</th><td> 40      </td><td>83       </td><td>54.800050</td></tr>\n",
       "\t<tr><th scope=row>73</th><td> 10      </td><td>73       </td><td>30.408951</td></tr>\n",
       "\t<tr><th scope=row>74</th><td> 27      </td><td>81       </td><td>49.921830</td></tr>\n",
       "\t<tr><th scope=row>76</th><td>  7      </td><td>80       </td><td>47.482720</td></tr>\n",
       "\t<tr><th scope=row>86</th><td>108      </td><td>85       </td><td>59.678270</td></tr>\n",
       "\t<tr><th scope=row>88</th><td> 52      </td><td>86       </td><td>62.117379</td></tr>\n",
       "\t<tr><th scope=row>93</th><td> 39      </td><td>81       </td><td>49.921830</td></tr>\n",
       "\t<tr><th scope=row>105</th><td> 28      </td><td>82       </td><td>52.360940</td></tr>\n",
       "\t<tr><th scope=row>108</th><td> 22      </td><td>77       </td><td>40.165390</td></tr>\n",
       "\t<tr><th scope=row>111</th><td> 31      </td><td>78       </td><td>42.604500</td></tr>\n",
       "\t<tr><th scope=row>122</th><td> 84      </td><td>96       </td><td>86.508479</td></tr>\n",
       "\t<tr><th scope=row>137</th><td>  9      </td><td>71       </td><td>25.530731</td></tr>\n",
       "\t<tr><th scope=row>152</th><td> 18      </td><td>76       </td><td>37.726280</td></tr>\n",
       "\t<tr><th scope=row>153</th><td> 20      </td><td>68       </td><td>18.213401</td></tr>\n",
       "</tbody>\n",
       "</table>\n"
      ],
      "text/latex": [
       "\\begin{tabular}{r|lll}\n",
       "  & Ozone & Temp & fitted\\\\\n",
       "\\hline\n",
       "\t1 &  41       & 67        & 15.774291\\\\\n",
       "\t4 &  18       & 62        &  3.578742\\\\\n",
       "\t7 &  23       & 65        & 10.896071\\\\\n",
       "\t12 &  16       & 69        & 20.652511\\\\\n",
       "\t13 &  11       & 66        & 13.335181\\\\\n",
       "\t29 &  45       & 81        & 49.921830\\\\\n",
       "\t40 &  71       & 90        & 71.873819\\\\\n",
       "\t49 &  20       & 65        & 10.896071\\\\\n",
       "\t64 &  32       & 81        & 49.921830\\\\\n",
       "\t67 &  40       & 83        & 54.800050\\\\\n",
       "\t73 &  10       & 73        & 30.408951\\\\\n",
       "\t74 &  27       & 81        & 49.921830\\\\\n",
       "\t76 &   7       & 80        & 47.482720\\\\\n",
       "\t86 & 108       & 85        & 59.678270\\\\\n",
       "\t88 &  52       & 86        & 62.117379\\\\\n",
       "\t93 &  39       & 81        & 49.921830\\\\\n",
       "\t105 &  28       & 82        & 52.360940\\\\\n",
       "\t108 &  22       & 77        & 40.165390\\\\\n",
       "\t111 &  31       & 78        & 42.604500\\\\\n",
       "\t122 &  84       & 96        & 86.508479\\\\\n",
       "\t137 &   9       & 71        & 25.530731\\\\\n",
       "\t152 &  18       & 76        & 37.726280\\\\\n",
       "\t153 &  20       & 68        & 18.213401\\\\\n",
       "\\end{tabular}\n"
      ],
      "text/markdown": [
       "\n",
       "| <!--/--> | Ozone | Temp | fitted | \n",
       "|---|---|---|---|---|---|---|---|---|---|---|---|---|---|---|---|---|---|---|---|---|---|---|\n",
       "| 1 |  41       | 67        | 15.774291 | \n",
       "| 4 |  18       | 62        |  3.578742 | \n",
       "| 7 |  23       | 65        | 10.896071 | \n",
       "| 12 |  16       | 69        | 20.652511 | \n",
       "| 13 |  11       | 66        | 13.335181 | \n",
       "| 29 |  45       | 81        | 49.921830 | \n",
       "| 40 |  71       | 90        | 71.873819 | \n",
       "| 49 |  20       | 65        | 10.896071 | \n",
       "| 64 |  32       | 81        | 49.921830 | \n",
       "| 67 |  40       | 83        | 54.800050 | \n",
       "| 73 |  10       | 73        | 30.408951 | \n",
       "| 74 |  27       | 81        | 49.921830 | \n",
       "| 76 |   7       | 80        | 47.482720 | \n",
       "| 86 | 108       | 85        | 59.678270 | \n",
       "| 88 |  52       | 86        | 62.117379 | \n",
       "| 93 |  39       | 81        | 49.921830 | \n",
       "| 105 |  28       | 82        | 52.360940 | \n",
       "| 108 |  22       | 77        | 40.165390 | \n",
       "| 111 |  31       | 78        | 42.604500 | \n",
       "| 122 |  84       | 96        | 86.508479 | \n",
       "| 137 |   9       | 71        | 25.530731 | \n",
       "| 152 |  18       | 76        | 37.726280 | \n",
       "| 153 |  20       | 68        | 18.213401 | \n",
       "\n",
       "\n"
      ],
      "text/plain": [
       "    Ozone Temp fitted   \n",
       "1    41   67   15.774291\n",
       "4    18   62    3.578742\n",
       "7    23   65   10.896071\n",
       "12   16   69   20.652511\n",
       "13   11   66   13.335181\n",
       "29   45   81   49.921830\n",
       "40   71   90   71.873819\n",
       "49   20   65   10.896071\n",
       "64   32   81   49.921830\n",
       "67   40   83   54.800050\n",
       "73   10   73   30.408951\n",
       "74   27   81   49.921830\n",
       "76    7   80   47.482720\n",
       "86  108   85   59.678270\n",
       "88   52   86   62.117379\n",
       "93   39   81   49.921830\n",
       "105  28   82   52.360940\n",
       "108  22   77   40.165390\n",
       "111  31   78   42.604500\n",
       "122  84   96   86.508479\n",
       "137   9   71   25.530731\n",
       "152  18   76   37.726280\n",
       "153  20   68   18.213401"
      ]
     },
     "metadata": {},
     "output_type": "display_data"
    }
   ],
   "source": [
    "data.frame(Ozone = testData$Ozone , Temp = testData$Temp, fitted = distPred)"
   ]
  },
  {
   "cell_type": "code",
   "execution_count": 27,
   "metadata": {},
   "outputs": [
    {
     "data": {
      "image/png": "[encoded data removed]",
      "text/plain": [
       "Plot with title \"Regression\""
      ]
     },
     "metadata": {},
     "output_type": "display_data"
    }
   ],
   "source": [
    "\n",
    "plot(mydata$Ozone ~ mydata$Temp,col = \"red\",main = \"Regression\")\n",
    "abline(lm(mydata$Ozone ~ mydata$Temp))"
   ]
  },
  {
   "cell_type": "code",
   "execution_count": 17,
   "metadata": {},
   "outputs": [
    {
     "data": {
      "text/html": [
       "0.698360342150932"
      ],
      "text/latex": [
       "0.698360342150932"
      ],
      "text/markdown": [
       "0.698360342150932"
      ],
      "text/plain": [
       "[1] 0.6983603"
      ]
     },
     "metadata": {},
     "output_type": "display_data"
    }
   ],
   "source": [
    "cor(mydata$Ozone, mydata$Temp, method = \"pearson\", use = \"complete.obs\")"
   ]
  },
  {
   "cell_type": "code",
   "execution_count": 30,
   "metadata": {},
   "outputs": [
    {
     "data": {},
     "metadata": {},
     "output_type": "display_data"
    },
    {
     "data": {
      "image/png": "[encoded data removed]",
      "text/plain": [
       "plot without title"
      ]
     },
     "metadata": {},
     "output_type": "display_data"
    }
   ],
   "source": [
    "library(ggplot2)\n",
    "ggplot(linearMod2, aes(x=Ozone,y=Temp, color=\"red\")) + geom_point() +\n",
    "  geom_smooth(method = \"lm\", se = FALSE) +\n",
    "  ylab(\"Ozone\") +\n",
    "  xlab(\"temp\") +\n",
    "  ggtitle(\"Ozone Vs Temp\")"
   ]
  },
  {
   "cell_type": "code",
   "execution_count": 31,
   "metadata": {},
   "outputs": [
    {
     "name": "stderr",
     "output_type": "stream",
     "text": [
      "`geom_smooth()` using method = 'loess'\n"
     ]
    },
    {
     "data": {},
     "metadata": {},
     "output_type": "display_data"
    },
    {
     "data": {
      "image/png": "[encoded data removed]",
      "text/plain": [
       "plot without title"
      ]
     },
     "metadata": {},
     "output_type": "display_data"
    }
   ],
   "source": [
    "ggplot(linearMod2, aes(Ozone,Temp)) +\n",
    "  stat_smooth() + geom_point() +\n",
    "  ylab(\"Ozone\") +\n",
    "  xlab(\"temp\") +\n",
    "  ggtitle(\"Ozone Vs Temp\")"
   ]
  },
  {
   "cell_type": "code",
   "execution_count": 32,
   "metadata": {},
   "outputs": [
    {
     "name": "stdout",
     "output_type": "stream",
     "text": [
      "\n",
      "Call:\n",
      "lm(formula = mydata$Ozone ~ ., data = mydata)\n",
      "\n",
      "Coefficients:\n",
      "(Intercept)      Solar.R         Wind         Temp        Month          Day  \n",
      "  -64.11632      0.05027     -3.31844      1.89579     -3.03996      0.27388  \n",
      "\n"
     ]
    }
   ],
   "source": [
    "linearMod <- lm(mydata$Ozone~ ., data=mydata) \n",
    "print(linearMod)\n"
   ]
  },
  {
   "cell_type": "code",
   "execution_count": 33,
   "metadata": {},
   "outputs": [
    {
     "data": {
      "text/plain": [
       "\n",
       "Call:\n",
       "lm(formula = mydata$Ozone ~ ., data = mydata)\n",
       "\n",
       "Residuals:\n",
       "    Min      1Q  Median      3Q     Max \n",
       "-37.014 -12.284  -3.302   8.454  95.348 \n",
       "\n",
       "Coefficients:\n",
       "             Estimate Std. Error t value Pr(>|t|)    \n",
       "(Intercept) -64.11632   23.48249  -2.730  0.00742 ** \n",
       "Solar.R       0.05027    0.02342   2.147  0.03411 *  \n",
       "Wind         -3.31844    0.64451  -5.149 1.23e-06 ***\n",
       "Temp          1.89579    0.27389   6.922 3.66e-10 ***\n",
       "Month        -3.03996    1.51346  -2.009  0.04714 *  \n",
       "Day           0.27388    0.22967   1.192  0.23576    \n",
       "---\n",
       "Signif. codes:  0 '***' 0.001 '**' 0.01 '*' 0.05 '.' 0.1 ' ' 1\n",
       "\n",
       "Residual standard error: 20.86 on 105 degrees of freedom\n",
       "  (42 observations deleted due to missingness)\n",
       "Multiple R-squared:  0.6249,\tAdjusted R-squared:  0.6071 \n",
       "F-statistic: 34.99 on 5 and 105 DF,  p-value: < 2.2e-16\n"
      ]
     },
     "metadata": {},
     "output_type": "display_data"
    }
   ],
   "source": [
    "summary(linearMod)"
   ]
  },
  {
   "cell_type": "code",
   "execution_count": 37,
   "metadata": {},
   "outputs": [
    {
     "name": "stdout",
     "output_type": "stream",
     "text": [
      "\n",
      "Call:\n",
      "lm(formula = Ozone ~ Solar.R + Wind + Temp, data = mydata)\n",
      "\n",
      "Coefficients:\n",
      "(Intercept)      Solar.R         Wind         Temp  \n",
      "  -64.34208      0.05982     -3.33359      1.65209  \n",
      "\n"
     ]
    },
    {
     "data": {
      "text/html": [
       "<table>\n",
       "<thead><tr><th></th><th scope=col>Ozone</th><th scope=col>Temp</th><th scope=col>fitted</th></tr></thead>\n",
       "<tbody>\n",
       "\t<tr><th scope=row>1</th><td> 41     </td><td>67      </td><td>33.04548</td></tr>\n",
       "\t<tr><th scope=row>4</th><td> 18     </td><td>62      </td><td>18.47523</td></tr>\n",
       "\t<tr><th scope=row>7</th><td> 23     </td><td>65      </td><td>32.26143</td></tr>\n",
       "\t<tr><th scope=row>12</th><td> 16     </td><td>69      </td><td>32.63057</td></tr>\n",
       "\t<tr><th scope=row>13</th><td> 11     </td><td>66      </td><td>31.37498</td></tr>\n",
       "\t<tr><th scope=row>29</th><td> 45     </td><td>81      </td><td>34.88173</td></tr>\n",
       "\t<tr><th scope=row>40</th><td> 71     </td><td>90      </td><td>55.75051</td></tr>\n",
       "\t<tr><th scope=row>49</th><td> 20     </td><td>65      </td><td>14.58828</td></tr>\n",
       "\t<tr><th scope=row>64</th><td> 32     </td><td>81      </td><td>52.92607</td></tr>\n",
       "\t<tr><th scope=row>67</th><td> 40     </td><td>83      </td><td>55.22915</td></tr>\n",
       "\t<tr><th scope=row>73</th><td> 10     </td><td>73      </td><td>24.38298</td></tr>\n",
       "\t<tr><th scope=row>74</th><td> 27     </td><td>81      </td><td>30.27554</td></tr>\n",
       "\t<tr><th scope=row>76</th><td>  7     </td><td>80      </td><td>23.02639</td></tr>\n",
       "\t<tr><th scope=row>86</th><td>108     </td><td>85      </td><td>62.75708</td></tr>\n",
       "\t<tr><th scope=row>88</th><td> 52     </td><td>86      </td><td>42.64010</td></tr>\n",
       "\t<tr><th scope=row>93</th><td> 39     </td><td>81      </td><td>51.44078</td></tr>\n",
       "\t<tr><th scope=row>105</th><td> 28     </td><td>82      </td><td>49.12426</td></tr>\n",
       "\t<tr><th scope=row>108</th><td> 22     </td><td>77      </td><td>32.78035</td></tr>\n",
       "\t<tr><th scope=row>111</th><td> 31     </td><td>78      </td><td>42.78125</td></tr>\n",
       "\t<tr><th scope=row>122</th><td> 84     </td><td>96      </td><td>87.43470</td></tr>\n",
       "\t<tr><th scope=row>137</th><td>  9     </td><td>71      </td><td>18.05607</td></tr>\n",
       "\t<tr><th scope=row>152</th><td> 18     </td><td>76      </td><td>42.38475</td></tr>\n",
       "\t<tr><th scope=row>153</th><td> 20     </td><td>68      </td><td>23.00393</td></tr>\n",
       "</tbody>\n",
       "</table>\n"
      ],
      "text/latex": [
       "\\begin{tabular}{r|lll}\n",
       "  & Ozone & Temp & fitted\\\\\n",
       "\\hline\n",
       "\t1 &  41      & 67       & 33.04548\\\\\n",
       "\t4 &  18      & 62       & 18.47523\\\\\n",
       "\t7 &  23      & 65       & 32.26143\\\\\n",
       "\t12 &  16      & 69       & 32.63057\\\\\n",
       "\t13 &  11      & 66       & 31.37498\\\\\n",
       "\t29 &  45      & 81       & 34.88173\\\\\n",
       "\t40 &  71      & 90       & 55.75051\\\\\n",
       "\t49 &  20      & 65       & 14.58828\\\\\n",
       "\t64 &  32      & 81       & 52.92607\\\\\n",
       "\t67 &  40      & 83       & 55.22915\\\\\n",
       "\t73 &  10      & 73       & 24.38298\\\\\n",
       "\t74 &  27      & 81       & 30.27554\\\\\n",
       "\t76 &   7      & 80       & 23.02639\\\\\n",
       "\t86 & 108      & 85       & 62.75708\\\\\n",
       "\t88 &  52      & 86       & 42.64010\\\\\n",
       "\t93 &  39      & 81       & 51.44078\\\\\n",
       "\t105 &  28      & 82       & 49.12426\\\\\n",
       "\t108 &  22      & 77       & 32.78035\\\\\n",
       "\t111 &  31      & 78       & 42.78125\\\\\n",
       "\t122 &  84      & 96       & 87.43470\\\\\n",
       "\t137 &   9      & 71       & 18.05607\\\\\n",
       "\t152 &  18      & 76       & 42.38475\\\\\n",
       "\t153 &  20      & 68       & 23.00393\\\\\n",
       "\\end{tabular}\n"
      ],
      "text/markdown": [
       "\n",
       "| <!--/--> | Ozone | Temp | fitted | \n",
       "|---|---|---|---|---|---|---|---|---|---|---|---|---|---|---|---|---|---|---|---|---|---|---|\n",
       "| 1 |  41      | 67       | 33.04548 | \n",
       "| 4 |  18      | 62       | 18.47523 | \n",
       "| 7 |  23      | 65       | 32.26143 | \n",
       "| 12 |  16      | 69       | 32.63057 | \n",
       "| 13 |  11      | 66       | 31.37498 | \n",
       "| 29 |  45      | 81       | 34.88173 | \n",
       "| 40 |  71      | 90       | 55.75051 | \n",
       "| 49 |  20      | 65       | 14.58828 | \n",
       "| 64 |  32      | 81       | 52.92607 | \n",
       "| 67 |  40      | 83       | 55.22915 | \n",
       "| 73 |  10      | 73       | 24.38298 | \n",
       "| 74 |  27      | 81       | 30.27554 | \n",
       "| 76 |   7      | 80       | 23.02639 | \n",
       "| 86 | 108      | 85       | 62.75708 | \n",
       "| 88 |  52      | 86       | 42.64010 | \n",
       "| 93 |  39      | 81       | 51.44078 | \n",
       "| 105 |  28      | 82       | 49.12426 | \n",
       "| 108 |  22      | 77       | 32.78035 | \n",
       "| 111 |  31      | 78       | 42.78125 | \n",
       "| 122 |  84      | 96       | 87.43470 | \n",
       "| 137 |   9      | 71       | 18.05607 | \n",
       "| 152 |  18      | 76       | 42.38475 | \n",
       "| 153 |  20      | 68       | 23.00393 | \n",
       "\n",
       "\n"
      ],
      "text/plain": [
       "    Ozone Temp fitted  \n",
       "1    41   67   33.04548\n",
       "4    18   62   18.47523\n",
       "7    23   65   32.26143\n",
       "12   16   69   32.63057\n",
       "13   11   66   31.37498\n",
       "29   45   81   34.88173\n",
       "40   71   90   55.75051\n",
       "49   20   65   14.58828\n",
       "64   32   81   52.92607\n",
       "67   40   83   55.22915\n",
       "73   10   73   24.38298\n",
       "74   27   81   30.27554\n",
       "76    7   80   23.02639\n",
       "86  108   85   62.75708\n",
       "88   52   86   42.64010\n",
       "93   39   81   51.44078\n",
       "105  28   82   49.12426\n",
       "108  22   77   32.78035\n",
       "111  31   78   42.78125\n",
       "122  84   96   87.43470\n",
       "137   9   71   18.05607\n",
       "152  18   76   42.38475\n",
       "153  20   68   23.00393"
      ]
     },
     "metadata": {},
     "output_type": "display_data"
    }
   ],
   "source": [
    "# Create Training and Test data -\n",
    "mydata <- na.omit(mydata)\n",
    "set.seed(100)  # setting seed to reproduce results of random sampling\n",
    "trainingRowIndex <- sample(1:nrow(mydata), 0.8*nrow(mydata))  # row indices for training data\n",
    "trainingData <- mydata[trainingRowIndex, ]  # model training data\n",
    "testData  <- mydata[-trainingRowIndex, ]   # test data\n",
    "\n",
    "# Build the model on training data -\n",
    "#linearMod2 <- lm(Ozone ~ ., data=mydata) \n",
    "\n",
    "linearMod2 <- lm(Ozone ~ Solar.R +Wind+Temp, data=mydata) \n",
    "print(linearMod2)\n",
    "distPred <- predict(linearMod2, testData)  # predict distance\n",
    "#print(distPred )\n",
    "#print(testData)\n",
    "\n",
    "data.frame(Ozone = testData$Ozone , Temp = testData$Temp, fitted = distPred)"
   ]
  },
  {
   "cell_type": "code",
   "execution_count": null,
   "metadata": {},
   "outputs": [],
   "source": []
  }
 ],
 "metadata": {
  "kernelspec": {
   "display_name": "R",
   "language": "R",
   "name": "ir"
  },
  "language_info": {
   "codemirror_mode": "r",
   "file_extension": ".r",
   "mimetype": "text/x-r-source",
   "name": "R",
   "pygments_lexer": "r",
   "version": "3.4.3"
  }
 },
 "nbformat": 4,
 "nbformat_minor": 2
}
