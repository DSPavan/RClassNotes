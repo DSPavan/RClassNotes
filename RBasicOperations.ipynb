{
 "cells": [
  {
   "cell_type": "code",
   "execution_count": 26,
   "metadata": {},
   "outputs": [],
   "source": [
    "# Arithmetic\n",
    "\n",
    "# Logical Operators ( AND  , OR, | , &)\n",
    "\n",
    "# Relationsl ( > , < , >=  etc)\n",
    "\n",
    "# assignment  (  <- , -> , =)\n",
    "\n",
    "# Miscelaneous ( : (colon) , %*% ( matrix multiplication))"
   ]
  },
  {
   "cell_type": "code",
   "execution_count": 3,
   "metadata": {},
   "outputs": [
    {
     "data": {
      "text/html": [
       "<ol class=list-inline>\n",
       "\t<li>6</li>\n",
       "\t<li>7</li>\n",
       "\t<li>8</li>\n",
       "\t<li>9</li>\n",
       "</ol>\n"
      ],
      "text/latex": [
       "\\begin{enumerate*}\n",
       "\\item 6\n",
       "\\item 7\n",
       "\\item 8\n",
       "\\item 9\n",
       "\\end{enumerate*}\n"
      ],
      "text/markdown": [
       "1. 6\n",
       "2. 7\n",
       "3. 8\n",
       "4. 9\n",
       "\n",
       "\n"
      ],
      "text/plain": [
       "[1] 6 7 8 9"
      ]
     },
     "metadata": {},
     "output_type": "display_data"
    },
    {
     "data": {
      "text/html": [
       "<ol class=list-inline>\n",
       "\t<li>0</li>\n",
       "\t<li>1</li>\n",
       "\t<li>2</li>\n",
       "\t<li>3</li>\n",
       "</ol>\n"
      ],
      "text/latex": [
       "\\begin{enumerate*}\n",
       "\\item 0\n",
       "\\item 1\n",
       "\\item 2\n",
       "\\item 3\n",
       "\\end{enumerate*}\n"
      ],
      "text/markdown": [
       "1. 0\n",
       "2. 1\n",
       "3. 2\n",
       "4. 3\n",
       "\n",
       "\n"
      ],
      "text/plain": [
       "[1] 0 1 2 3"
      ]
     },
     "metadata": {},
     "output_type": "display_data"
    },
    {
     "data": {
      "text/html": [
       "<ol class=list-inline>\n",
       "\t<li>2</li>\n",
       "\t<li>4</li>\n",
       "\t<li>6</li>\n",
       "\t<li>8</li>\n",
       "</ol>\n"
      ],
      "text/latex": [
       "\\begin{enumerate*}\n",
       "\\item 2\n",
       "\\item 4\n",
       "\\item 6\n",
       "\\item 8\n",
       "\\end{enumerate*}\n"
      ],
      "text/markdown": [
       "1. 2\n",
       "2. 4\n",
       "3. 6\n",
       "4. 8\n",
       "\n",
       "\n"
      ],
      "text/plain": [
       "[1] 2 4 6 8"
      ]
     },
     "metadata": {},
     "output_type": "display_data"
    },
    {
     "data": {
      "text/html": [
       "<ol class=list-inline>\n",
       "\t<li>0.5</li>\n",
       "\t<li>1</li>\n",
       "\t<li>1.5</li>\n",
       "\t<li>2</li>\n",
       "</ol>\n"
      ],
      "text/latex": [
       "\\begin{enumerate*}\n",
       "\\item 0.5\n",
       "\\item 1\n",
       "\\item 1.5\n",
       "\\item 2\n",
       "\\end{enumerate*}\n"
      ],
      "text/markdown": [
       "1. 0.5\n",
       "2. 1\n",
       "3. 1.5\n",
       "4. 2\n",
       "\n",
       "\n"
      ],
      "text/plain": [
       "[1] 0.5 1.0 1.5 2.0"
      ]
     },
     "metadata": {},
     "output_type": "display_data"
    }
   ],
   "source": [
    "# Basic Operations\n",
    "#  + , - ,%, *\n",
    "\n",
    "a <- c(1,2,3,4)\n",
    "\n",
    "f1 <- a + 5\n",
    "f1\n",
    "\n",
    "f2 <- a-1\n",
    "f2\n",
    "\n",
    "f3 <- a*2\n",
    "f3\n",
    "\n",
    "f4 <- a/2\n",
    "f4"
   ]
  },
  {
   "cell_type": "code",
   "execution_count": 8,
   "metadata": {},
   "outputs": [
    {
     "data": {
      "text/html": [
       "<ol class=list-inline>\n",
       "\t<li>1</li>\n",
       "\t<li>1.4142135623731</li>\n",
       "\t<li>1.73205080756888</li>\n",
       "\t<li>2</li>\n",
       "</ol>\n"
      ],
      "text/latex": [
       "\\begin{enumerate*}\n",
       "\\item 1\n",
       "\\item 1.4142135623731\n",
       "\\item 1.73205080756888\n",
       "\\item 2\n",
       "\\end{enumerate*}\n"
      ],
      "text/markdown": [
       "1. 1\n",
       "2. 1.4142135623731\n",
       "3. 1.73205080756888\n",
       "4. 2\n",
       "\n",
       "\n"
      ],
      "text/plain": [
       "[1] 1.000000 1.414214 1.732051 2.000000"
      ]
     },
     "metadata": {},
     "output_type": "display_data"
    },
    {
     "data": {
      "text/html": [
       "<ol class=list-inline>\n",
       "\t<li>0</li>\n",
       "\t<li>0.693147180559945</li>\n",
       "\t<li>1.09861228866811</li>\n",
       "\t<li>1.38629436111989</li>\n",
       "</ol>\n"
      ],
      "text/latex": [
       "\\begin{enumerate*}\n",
       "\\item 0\n",
       "\\item 0.693147180559945\n",
       "\\item 1.09861228866811\n",
       "\\item 1.38629436111989\n",
       "\\end{enumerate*}\n"
      ],
      "text/markdown": [
       "1. 0\n",
       "2. 0.693147180559945\n",
       "3. 1.09861228866811\n",
       "4. 1.38629436111989\n",
       "\n",
       "\n"
      ],
      "text/plain": [
       "[1] 0.0000000 0.6931472 1.0986123 1.3862944"
      ]
     },
     "metadata": {},
     "output_type": "display_data"
    },
    {
     "data": {
      "text/html": [
       "<ol class=list-inline>\n",
       "\t<li>0</li>\n",
       "\t<li>0.301029995663981</li>\n",
       "\t<li>0.477121254719662</li>\n",
       "\t<li>0.602059991327962</li>\n",
       "</ol>\n"
      ],
      "text/latex": [
       "\\begin{enumerate*}\n",
       "\\item 0\n",
       "\\item 0.301029995663981\n",
       "\\item 0.477121254719662\n",
       "\\item 0.602059991327962\n",
       "\\end{enumerate*}\n"
      ],
      "text/markdown": [
       "1. 0\n",
       "2. 0.301029995663981\n",
       "3. 0.477121254719662\n",
       "4. 0.602059991327962\n",
       "\n",
       "\n"
      ],
      "text/plain": [
       "[1] 0.0000000 0.3010300 0.4771213 0.6020600"
      ]
     },
     "metadata": {},
     "output_type": "display_data"
    },
    {
     "data": {
      "text/html": [
       "<ol class=list-inline>\n",
       "\t<li>2.71828182845905</li>\n",
       "\t<li>7.38905609893065</li>\n",
       "\t<li>20.0855369231877</li>\n",
       "\t<li>54.5981500331442</li>\n",
       "</ol>\n"
      ],
      "text/latex": [
       "\\begin{enumerate*}\n",
       "\\item 2.71828182845905\n",
       "\\item 7.38905609893065\n",
       "\\item 20.0855369231877\n",
       "\\item 54.5981500331442\n",
       "\\end{enumerate*}\n"
      ],
      "text/markdown": [
       "1. 2.71828182845905\n",
       "2. 7.38905609893065\n",
       "3. 20.0855369231877\n",
       "4. 54.5981500331442\n",
       "\n",
       "\n"
      ],
      "text/plain": [
       "[1]  2.718282  7.389056 20.085537 54.598150"
      ]
     },
     "metadata": {},
     "output_type": "display_data"
    },
    {
     "data": {
      "text/html": [
       "<ol class=list-inline>\n",
       "\t<li>1</li>\n",
       "\t<li>2</li>\n",
       "\t<li>3</li>\n",
       "\t<li>4</li>\n",
       "</ol>\n"
      ],
      "text/latex": [
       "\\begin{enumerate*}\n",
       "\\item 1\n",
       "\\item 2\n",
       "\\item 3\n",
       "\\item 4\n",
       "\\end{enumerate*}\n"
      ],
      "text/markdown": [
       "1. 1\n",
       "2. 2\n",
       "3. 3\n",
       "4. 4\n",
       "\n",
       "\n"
      ],
      "text/plain": [
       "[1] 1 2 3 4"
      ]
     },
     "metadata": {},
     "output_type": "display_data"
    },
    {
     "data": {
      "text/html": [
       "<ol class=list-inline>\n",
       "\t<li>1</li>\n",
       "\t<li>4</li>\n",
       "\t<li>9</li>\n",
       "\t<li>16</li>\n",
       "</ol>\n"
      ],
      "text/latex": [
       "\\begin{enumerate*}\n",
       "\\item 1\n",
       "\\item 4\n",
       "\\item 9\n",
       "\\item 16\n",
       "\\end{enumerate*}\n"
      ],
      "text/markdown": [
       "1. 1\n",
       "2. 4\n",
       "3. 9\n",
       "4. 16\n",
       "\n",
       "\n"
      ],
      "text/plain": [
       "[1]  1  4  9 16"
      ]
     },
     "metadata": {},
     "output_type": "display_data"
    },
    {
     "data": {
      "text/html": [
       "<ol class=list-inline>\n",
       "\t<li>1</li>\n",
       "\t<li>4</li>\n",
       "\t<li>9</li>\n",
       "\t<li>16</li>\n",
       "</ol>\n"
      ],
      "text/latex": [
       "\\begin{enumerate*}\n",
       "\\item 1\n",
       "\\item 4\n",
       "\\item 9\n",
       "\\item 16\n",
       "\\end{enumerate*}\n"
      ],
      "text/markdown": [
       "1. 1\n",
       "2. 4\n",
       "3. 9\n",
       "4. 16\n",
       "\n",
       "\n"
      ],
      "text/plain": [
       "[1]  1  4  9 16"
      ]
     },
     "metadata": {},
     "output_type": "display_data"
    }
   ],
   "source": [
    "sqrt(a)\n",
    "\n",
    "log(a)  # natural logarithms\n",
    "\n",
    "log10(a) # Log\n",
    "\n",
    "exp(a) # exponential\n",
    "\n",
    "exp(log(a))\n",
    "\n",
    "a^2  # power\n",
    "\n",
    "a**2 # power"
   ]
  },
  {
   "cell_type": "code",
   "execution_count": 15,
   "metadata": {},
   "outputs": [
    {
     "data": {
      "text/html": [
       "<ol class=list-inline>\n",
       "\t<li>2.71828182845905</li>\n",
       "\t<li>7.38905609893065</li>\n",
       "\t<li>20.0855369231877</li>\n",
       "\t<li>54.5981500331442</li>\n",
       "\t<li>148.413159102577</li>\n",
       "\t<li>403.428793492735</li>\n",
       "\t<li>1096.63315842846</li>\n",
       "\t<li>2980.95798704173</li>\n",
       "\t<li>8103.08392757538</li>\n",
       "\t<li>22026.4657948067</li>\n",
       "\t<li>59874.1417151978</li>\n",
       "\t<li>162754.791419004</li>\n",
       "\t<li>442413.39200892</li>\n",
       "\t<li>1202604.28416478</li>\n",
       "\t<li>3269017.37247211</li>\n",
       "\t<li>8886110.52050787</li>\n",
       "\t<li>24154952.7535753</li>\n",
       "\t<li>65659969.1373305</li>\n",
       "\t<li>178482300.963187</li>\n",
       "\t<li>485165195.40979</li>\n",
       "</ol>\n"
      ],
      "text/latex": [
       "\\begin{enumerate*}\n",
       "\\item 2.71828182845905\n",
       "\\item 7.38905609893065\n",
       "\\item 20.0855369231877\n",
       "\\item 54.5981500331442\n",
       "\\item 148.413159102577\n",
       "\\item 403.428793492735\n",
       "\\item 1096.63315842846\n",
       "\\item 2980.95798704173\n",
       "\\item 8103.08392757538\n",
       "\\item 22026.4657948067\n",
       "\\item 59874.1417151978\n",
       "\\item 162754.791419004\n",
       "\\item 442413.39200892\n",
       "\\item 1202604.28416478\n",
       "\\item 3269017.37247211\n",
       "\\item 8886110.52050787\n",
       "\\item 24154952.7535753\n",
       "\\item 65659969.1373305\n",
       "\\item 178482300.963187\n",
       "\\item 485165195.40979\n",
       "\\end{enumerate*}\n"
      ],
      "text/markdown": [
       "1. 2.71828182845905\n",
       "2. 7.38905609893065\n",
       "3. 20.0855369231877\n",
       "4. 54.5981500331442\n",
       "5. 148.413159102577\n",
       "6. 403.428793492735\n",
       "7. 1096.63315842846\n",
       "8. 2980.95798704173\n",
       "9. 8103.08392757538\n",
       "10. 22026.4657948067\n",
       "11. 59874.1417151978\n",
       "12. 162754.791419004\n",
       "13. 442413.39200892\n",
       "14. 1202604.28416478\n",
       "15. 3269017.37247211\n",
       "16. 8886110.52050787\n",
       "17. 24154952.7535753\n",
       "18. 65659969.1373305\n",
       "19. 178482300.963187\n",
       "20. 485165195.40979\n",
       "\n",
       "\n"
      ],
      "text/plain": [
       " [1] 2.718282e+00 7.389056e+00 2.008554e+01 5.459815e+01 1.484132e+02\n",
       " [6] 4.034288e+02 1.096633e+03 2.980958e+03 8.103084e+03 2.202647e+04\n",
       "[11] 5.987414e+04 1.627548e+05 4.424134e+05 1.202604e+06 3.269017e+06\n",
       "[16] 8.886111e+06 2.415495e+07 6.565997e+07 1.784823e+08 4.851652e+08"
      ]
     },
     "metadata": {},
     "output_type": "display_data"
    },
    {
     "data": {
      "text/html": [
       "2.30258509299405"
      ],
      "text/latex": [
       "2.30258509299405"
      ],
      "text/markdown": [
       "2.30258509299405"
      ],
      "text/plain": [
       "[1] 2.302585"
      ]
     },
     "metadata": {},
     "output_type": "display_data"
    }
   ],
   "source": [
    "y <- rep(1:20)\n",
    "exp(y)\n",
    "# a function whose value is a constant raised to the power of the argument, especially the function where the constant is e.\n",
    "\n",
    "# The constant e = 2.71828...  e ** x\n",
    "\n",
    "log(10)\n"
   ]
  },
  {
   "cell_type": "code",
   "execution_count": 17,
   "metadata": {},
   "outputs": [
    {
     "data": {
      "text/html": [
       "<ol class=list-inline>\n",
       "\t<li>'a'</li>\n",
       "\t<li>'f1'</li>\n",
       "\t<li>'f2'</li>\n",
       "\t<li>'f3'</li>\n",
       "\t<li>'f4'</li>\n",
       "\t<li>'y'</li>\n",
       "</ol>\n"
      ],
      "text/latex": [
       "\\begin{enumerate*}\n",
       "\\item 'a'\n",
       "\\item 'f1'\n",
       "\\item 'f2'\n",
       "\\item 'f3'\n",
       "\\item 'f4'\n",
       "\\item 'y'\n",
       "\\end{enumerate*}\n"
      ],
      "text/markdown": [
       "1. 'a'\n",
       "2. 'f1'\n",
       "3. 'f2'\n",
       "4. 'f3'\n",
       "5. 'f4'\n",
       "6. 'y'\n",
       "\n",
       "\n"
      ],
      "text/plain": [
       "[1] \"a\"  \"f1\" \"f2\" \"f3\" \"f4\" \"y\" "
      ]
     },
     "metadata": {},
     "output_type": "display_data"
    }
   ],
   "source": [
    "ls() # List of variables"
   ]
  },
  {
   "cell_type": "code",
   "execution_count": 20,
   "metadata": {},
   "outputs": [
    {
     "data": {
      "text/html": [
       "<ol class=list-inline>\n",
       "\t<li>1</li>\n",
       "\t<li>2</li>\n",
       "\t<li>3</li>\n",
       "\t<li>4</li>\n",
       "\t<li>5</li>\n",
       "\t<li>6</li>\n",
       "</ol>\n"
      ],
      "text/latex": [
       "\\begin{enumerate*}\n",
       "\\item 1\n",
       "\\item 2\n",
       "\\item 3\n",
       "\\item 4\n",
       "\\item 5\n",
       "\\item 6\n",
       "\\end{enumerate*}\n"
      ],
      "text/markdown": [
       "1. 1\n",
       "2. 2\n",
       "3. 3\n",
       "4. 4\n",
       "5. 5\n",
       "6. 6\n",
       "\n",
       "\n"
      ],
      "text/plain": [
       "[1] 1 2 3 4 5 6"
      ]
     },
     "metadata": {},
     "output_type": "display_data"
    },
    {
     "data": {
      "text/html": [
       "<ol class=list-inline>\n",
       "\t<li>6</li>\n",
       "\t<li>5</li>\n",
       "\t<li>4</li>\n",
       "\t<li>3</li>\n",
       "\t<li>2</li>\n",
       "\t<li>1</li>\n",
       "</ol>\n"
      ],
      "text/latex": [
       "\\begin{enumerate*}\n",
       "\\item 6\n",
       "\\item 5\n",
       "\\item 4\n",
       "\\item 3\n",
       "\\item 2\n",
       "\\item 1\n",
       "\\end{enumerate*}\n"
      ],
      "text/markdown": [
       "1. 6\n",
       "2. 5\n",
       "3. 4\n",
       "4. 3\n",
       "5. 2\n",
       "6. 1\n",
       "\n",
       "\n"
      ],
      "text/plain": [
       "[1] 6 5 4 3 2 1"
      ]
     },
     "metadata": {},
     "output_type": "display_data"
    },
    {
     "data": {
      "text/html": [
       "21"
      ],
      "text/latex": [
       "21"
      ],
      "text/markdown": [
       "21"
      ],
      "text/plain": [
       "[1] 21"
      ]
     },
     "metadata": {},
     "output_type": "display_data"
    }
   ],
   "source": [
    "# Basic operations sort - asc, descending\n",
    "\n",
    "a = c(2,4,6,3,1,5)\n",
    "\n",
    "b = sort(a)\n",
    "c = sort(a,decreasing = TRUE)\n",
    "\n",
    "b\n",
    "c\n",
    "\n",
    "sum(a)"
   ]
  },
  {
   "cell_type": "code",
   "execution_count": 23,
   "metadata": {},
   "outputs": [
    {
     "data": {
      "text/html": [
       "1"
      ],
      "text/latex": [
       "1"
      ],
      "text/markdown": [
       "1"
      ],
      "text/plain": [
       "[1] 1"
      ]
     },
     "metadata": {},
     "output_type": "display_data"
    },
    {
     "data": {
      "text/html": [
       "2"
      ],
      "text/latex": [
       "2"
      ],
      "text/markdown": [
       "2"
      ],
      "text/plain": [
       "[1] 2"
      ]
     },
     "metadata": {},
     "output_type": "display_data"
    }
   ],
   "source": [
    "#Arithmetic Operators\n",
    "\n",
    "#Operator\tDescription\n",
    "# +\taddition\n",
    "# -\tsubtraction\n",
    "# *\tmultiplication\n",
    "# /\tdivision\n",
    "# ^ or **\texponentiation\n",
    "# x %% y\tmodulus (x mod y) 5%%2 is 1\n",
    "# x %/% y\tinteger division 5%/%2 is 2\n",
    "\n",
    "5 %% 2 # Remainder\n",
    "5 %/% 2 # Quotient\n"
   ]
  },
  {
   "cell_type": "code",
   "execution_count": 24,
   "metadata": {},
   "outputs": [],
   "source": [
    "# Logical Operators\n",
    "# Operator\tDescription\n",
    "# <\tless than\n",
    "# <=\tless than or equal to\n",
    "# >\tgreater than\n",
    "# >=\tgreater than or equal to\n",
    "# ==\texactly equal to\n",
    "# !=\tnot equal to\n",
    "# !x\tNot x\n",
    "# x | y\tx OR y\n",
    "# x & y\tx AND y\n",
    "# isTRUE(x)\ttest if X is TRUE\n"
   ]
  },
  {
   "cell_type": "code",
   "execution_count": 25,
   "metadata": {},
   "outputs": [
    {
     "data": {
      "text/html": [
       "<ol class=list-inline>\n",
       "\t<li>1</li>\n",
       "\t<li>2</li>\n",
       "\t<li>3</li>\n",
       "\t<li>4</li>\n",
       "\t<li>9</li>\n",
       "\t<li>10</li>\n",
       "</ol>\n"
      ],
      "text/latex": [
       "\\begin{enumerate*}\n",
       "\\item 1\n",
       "\\item 2\n",
       "\\item 3\n",
       "\\item 4\n",
       "\\item 9\n",
       "\\item 10\n",
       "\\end{enumerate*}\n"
      ],
      "text/markdown": [
       "1. 1\n",
       "2. 2\n",
       "3. 3\n",
       "4. 4\n",
       "5. 9\n",
       "6. 10\n",
       "\n",
       "\n"
      ],
      "text/plain": [
       "[1]  1  2  3  4  9 10"
      ]
     },
     "metadata": {},
     "output_type": "display_data"
    }
   ],
   "source": [
    "# An example \n",
    "x <- c(1:10)\n",
    "x[(x>8) | (x<5)]"
   ]
  },
  {
   "cell_type": "code",
   "execution_count": null,
   "metadata": {},
   "outputs": [],
   "source": []
  }
 ],
 "metadata": {
  "kernelspec": {
   "display_name": "R",
   "language": "R",
   "name": "ir"
  },
  "language_info": {
   "codemirror_mode": "r",
   "file_extension": ".r",
   "mimetype": "text/x-r-source",
   "name": "R",
   "pygments_lexer": "r",
   "version": "3.5.0"
  }
 },
 "nbformat": 4,
 "nbformat_minor": 2
}
