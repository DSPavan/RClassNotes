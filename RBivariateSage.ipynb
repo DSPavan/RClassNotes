{
 "cells": [
  {
   "cell_type": "code",
   "execution_count": 1,
   "metadata": {},
   "outputs": [
    {
     "name": "stdout",
     "output_type": "stream",
     "text": [
      "'data.frame':\t74 obs. of  16 variables:\n",
      " $ name    : chr  \"100%_Bran\" \"All-Bran\" \"All-Bran_with_Extra_Fiber\" \"Cracklin'_Oat_Bran\" ...\n",
      " $ mfr     : chr  \"N\" \"K\" \"K\" \"K\" ...\n",
      " $ type    : chr  \"C\" \"C\" \"C\" \"C\" ...\n",
      " $ calories: int  70 70 50 110 120 120 120 110 110 110 ...\n",
      " $ protein : int  4 4 4 3 3 3 3 2 2 2 ...\n",
      " $ fat     : int  1 1 0 3 1 1 5 2 2 0 ...\n",
      " $ sodium  : int  130 260 140 140 200 210 15 200 180 125 ...\n",
      " $ fiber   : num  10 9 14 4 6 5 2 1 1.5 1 ...\n",
      " $ carbo   : num  5 7 8 10 11 14 8 14 10.5 11 ...\n",
      " $ sugars  : int  6 5 0 7 14 12 8 8 10 14 ...\n",
      " $ potass  : int  280 320 330 160 260 240 135 -1 70 30 ...\n",
      " $ vitamins: int  25 25 25 25 25 25 0 25 25 25 ...\n",
      " $ shelf   : int  3 3 3 3 3 2 3 3 1 2 ...\n",
      " $ weight  : num  1 1 1 1 1.33 1.33 1 1 1 1 ...\n",
      " $ cups    : num  0.33 0.33 0.5 0.5 0.67 0.75 1 0.75 0.75 1 ...\n",
      " $ rating  : num  68.4 59.4 93.7 40.4 37.8 ...\n",
      "NULL\n"
     ]
    }
   ],
   "source": [
    "#  stringsAsFactors = FALSE,\n",
    "data2 <- read.csv(\"C:\\\\Users\\\\hp\\\\Downloads\\\\cerealspga05.csv\", header = TRUE,\n",
    "                 stringsAsFactors = FALSE,\n",
    "                 strip.white = TRUE ,\n",
    "                 sep = ',')\n",
    "\n",
    "print(str(data2))"
   ]
  },
  {
   "cell_type": "code",
   "execution_count": 4,
   "metadata": {},
   "outputs": [
    {
     "data": {
      "text/plain": [
       "\n",
       "\tOne Sample t-test\n",
       "\n",
       "data:  data2$rating[data2$mfr == \"N\"]\n",
       "t = 30.219, df = 5, p-value = 7.444e-07\n",
       "alternative hypothesis: true mean is not equal to 0\n",
       "95 percent confidence interval:\n",
       " 62.18688 73.75025\n",
       "sample estimates:\n",
       "mean of x \n",
       " 67.96857 \n"
      ]
     },
     "metadata": {},
     "output_type": "display_data"
    }
   ],
   "source": [
    "# You can run an independent sample t-test across groups using the t.test() command\n",
    "# data2$sugarl\n",
    "\n",
    "t.test( data2$rating[data2$mfr==\"N\"],\n",
    "       data2$ratingl[data2$mfr ==\"Q\"] )"
   ]
  },
  {
   "cell_type": "code",
   "execution_count": 3,
   "metadata": {},
   "outputs": [
    {
     "data": {
      "text/plain": [
       "\n",
       "\tOne Sample t-test\n",
       "\n",
       "data:  data2$sugar[data2$type == \"C\"]\n",
       "t = 13.576, df = 70, p-value < 2.2e-16\n",
       "alternative hypothesis: true mean is not equal to 0\n",
       "95 percent confidence interval:\n",
       " 5.995681 8.060657\n",
       "sample estimates:\n",
       "mean of x \n",
       " 7.028169 \n"
      ]
     },
     "metadata": {},
     "output_type": "display_data"
    }
   ],
   "source": [
    "t.test(data2$sugar[data2$type==\"C\"],\n",
    "       data2$sugarl[data2$type ==\"H\"])"
   ]
  },
  {
   "cell_type": "code",
   "execution_count": 5,
   "metadata": {},
   "outputs": [
    {
     "data": {
      "text/plain": [
       "\n",
       "\tPaired t-test\n",
       "\n",
       "data:  data2$sugar and data2$rating\n",
       "t = -17.341, df = 73, p-value < 2.2e-16\n",
       "alternative hypothesis: true difference in means is not equal to 0\n",
       "95 percent confidence interval:\n",
       " -40.25909 -31.95890\n",
       "sample estimates:\n",
       "mean of the differences \n",
       "              -36.10899 \n"
      ]
     },
     "metadata": {},
     "output_type": "display_data"
    }
   ],
   "source": [
    "t.test(data2$sugar,  data2$rating, paired=TRUE)"
   ]
  },
  {
   "cell_type": "code",
   "execution_count": 6,
   "metadata": {},
   "outputs": [
    {
     "data": {
      "text/plain": [
       "\n",
       "\tWelch Two Sample t-test\n",
       "\n",
       "data:  data2$sugar and data2$rating\n",
       "t = -20.759, df = 87.154, p-value < 2.2e-16\n",
       "alternative hypothesis: true difference in means is not equal to 0\n",
       "95 percent confidence interval:\n",
       " -39.56619 -32.65179\n",
       "sample estimates:\n",
       "mean of x mean of y \n",
       "  6.77027  42.87926 \n"
      ]
     },
     "metadata": {},
     "output_type": "display_data"
    }
   ],
   "source": [
    "t.test(data2$sugar,  data2$rating, paired=FALSE)"
   ]
  },
  {
   "cell_type": "code",
   "execution_count": 9,
   "metadata": {},
   "outputs": [
    {
     "data": {
      "text/plain": [
       "\n",
       "\tOne Sample t-test\n",
       "\n",
       "data:  data2$rating[data2$mfr == \"N\"]\n",
       "t = -0.90319, df = 5, p-value = 0.4078\n",
       "alternative hypothesis: true mean is not equal to 70\n",
       "95 percent confidence interval:\n",
       " 62.18688 73.75025\n",
       "sample estimates:\n",
       "mean of x \n",
       " 67.96857 \n"
      ]
     },
     "metadata": {},
     "output_type": "display_data"
    }
   ],
   "source": [
    "# mu = population average\n",
    "# rstudio   ?t.test\n",
    "t.test( data2$rating[data2$mfr==\"N\"],\n",
    "       data2$ratingl[data2$mfr ==\"Q\"]  , mu = 70)"
   ]
  },
  {
   "cell_type": "code",
   "execution_count": 10,
   "metadata": {},
   "outputs": [
    {
     "name": "stderr",
     "output_type": "stream",
     "text": [
      "Warning message:\n",
      "\"package 'dplyr' was built under R version 3.5.3\"\n",
      "Attaching package: 'dplyr'\n",
      "\n",
      "The following objects are masked from 'package:stats':\n",
      "\n",
      "    filter, lag\n",
      "\n",
      "The following objects are masked from 'package:base':\n",
      "\n",
      "    intersect, setdiff, setequal, union\n",
      "\n"
     ]
    },
    {
     "data": {
      "text/plain": [
       "            Df Sum Sq Mean Sq F value   Pr(>F)    \n",
       "data2$mfr    6   5513   918.8   6.566 1.73e-05 ***\n",
       "Residuals   67   9375   139.9                     \n",
       "---\n",
       "Signif. codes:  0 '***' 0.001 '**' 0.01 '*' 0.05 '.' 0.1 ' ' 1"
      ]
     },
     "metadata": {},
     "output_type": "display_data"
    }
   ],
   "source": [
    "# Run the one-way ANOVA model\n",
    "\n",
    "library(\"dplyr\")\n",
    "data2= data2 %>% na.omit()\n",
    "#              Numeric Y  ~  Categorical - X\n",
    "result <- aov(data2$rating ~ data2$mfr, data=data2)\n",
    "\n",
    "summary(result)"
   ]
  },
  {
   "cell_type": "code",
   "execution_count": 11,
   "metadata": {},
   "outputs": [
    {
     "data": {
      "text/plain": [
       "  Tukey multiple comparisons of means\n",
       "    95% family-wise confidence level\n",
       "\n",
       "Fit: aov(formula = data2$rating ~ data2$mfr, data = data2)\n",
       "\n",
       "$`data2$mfr`\n",
       "           diff        lwr       upr     p adj\n",
       "G-A -20.3650653 -57.128846 16.398716 0.6289835\n",
       "K-A -10.8124547 -47.541471 25.916562 0.9721449\n",
       "N-A  13.1176502 -25.718931 51.954231 0.9459921\n",
       "P-A -13.0465857 -51.183351 25.090180 0.9426951\n",
       "Q-A -11.9349271 -50.071692 26.201838 0.9624146\n",
       "R-A -11.3396922 -50.176273 27.496889 0.9732547\n",
       "K-G   9.5526107  -1.169952 20.275173 0.1121232\n",
       "N-G  33.4827155  16.922742 50.042689 0.0000010\n",
       "P-G   7.3184796  -7.526236 22.163195 0.7446547\n",
       "Q-G   8.4301382  -6.414578 23.274854 0.6012813\n",
       "R-G   9.0253732  -7.534601 25.585347 0.6465799\n",
       "N-K  23.9301048   7.447454 40.412755 0.0007222\n",
       "P-K  -2.2341311 -16.992540 12.524277 0.9992367\n",
       "Q-K  -1.1224725 -15.880881 13.635936 0.9999863\n",
       "R-K  -0.5272375 -17.009888 15.955413 0.9999999\n",
       "P-N -26.1642359 -45.582526 -6.745945 0.0021317\n",
       "Q-N -25.0525773 -44.470868 -5.634287 0.0037718\n",
       "R-N -24.4573423 -45.216368 -3.698317 0.0109241\n",
       "Q-P   1.1116586 -16.866185 19.089502 0.9999960\n",
       "R-P   1.7068936 -17.711397 21.125184 0.9999678\n",
       "R-Q   0.5952350 -18.823055 20.013525 0.9999999\n"
      ]
     },
     "metadata": {},
     "output_type": "display_data"
    }
   ],
   "source": [
    "# Tukey multiple pairwise-comparisons\n",
    "TukeyHSD(result)"
   ]
  },
  {
   "cell_type": "code",
   "execution_count": 12,
   "metadata": {},
   "outputs": [
    {
     "name": "stderr",
     "output_type": "stream",
     "text": [
      "Loading required package: carData\n",
      "\n",
      "Attaching package: 'car'\n",
      "\n",
      "The following object is masked from 'package:dplyr':\n",
      "\n",
      "    recode\n",
      "\n",
      "Warning message in leveneTest.default(y = y, group = group, ...):\n",
      "\"group coerced to factor.\""
     ]
    },
    {
     "data": {
      "text/html": [
       "<table>\n",
       "<thead><tr><th></th><th scope=col>Df</th><th scope=col>F value</th><th scope=col>Pr(&gt;F)</th></tr></thead>\n",
       "<tbody>\n",
       "\t<tr><th scope=row>group</th><td> 6       </td><td>1.364226 </td><td>0.2418812</td></tr>\n",
       "\t<tr><th scope=row> </th><td>67       </td><td>      NA </td><td>       NA</td></tr>\n",
       "</tbody>\n",
       "</table>\n"
      ],
      "text/latex": [
       "\\begin{tabular}{r|lll}\n",
       "  & Df & F value & Pr(>F)\\\\\n",
       "\\hline\n",
       "\tgroup &  6        & 1.364226  & 0.2418812\\\\\n",
       "\t  & 67        &       NA  &        NA\\\\\n",
       "\\end{tabular}\n"
      ],
      "text/markdown": [
       "\n",
       "| <!--/--> | Df | F value | Pr(>F) | \n",
       "|---|---|\n",
       "| group |  6        | 1.364226  | 0.2418812 | \n",
       "|   | 67        |       NA  |        NA | \n",
       "\n",
       "\n"
      ],
      "text/plain": [
       "      Df F value  Pr(>F)   \n",
       "group  6 1.364226 0.2418812\n",
       "      67       NA        NA"
      ]
     },
     "metadata": {},
     "output_type": "display_data"
    }
   ],
   "source": [
    "library(car)\n",
    "leveneTest(rating ~ mfr, data = data2)"
   ]
  },
  {
   "cell_type": "code",
   "execution_count": 13,
   "metadata": {},
   "outputs": [],
   "source": [
    "# above 0.05 ,means Homogenous\n",
    "# 0.25 - Homegenous - Normal\n",
    "\n"
   ]
  },
  {
   "cell_type": "code",
   "execution_count": 14,
   "metadata": {},
   "outputs": [
    {
     "data": {
      "text/plain": [
       "\n",
       "\tKruskal-Wallis rank sum test\n",
       "\n",
       "data:  as.numeric(rating) by calories\n",
       "Kruskal-Wallis chi-squared = 43.328, df = 9, p-value = 1.877e-06\n"
      ]
     },
     "metadata": {},
     "output_type": "display_data"
    }
   ],
   "source": [
    "# Non-parametric alternative to one-way ANOVA test\n",
    "# Y ~ x\n",
    "# both are numeric\n",
    "kruskal.test(as.numeric(rating) ~ calories, data = data2)\n",
    "# all group levels must be finite"
   ]
  },
  {
   "cell_type": "code",
   "execution_count": 15,
   "metadata": {},
   "outputs": [
    {
     "data": {
      "text/plain": [
       "            Df Sum Sq Mean Sq F value   Pr(>F)    \n",
       "mfr          6   5513   918.8   6.429 2.35e-05 ***\n",
       "type         1     12    11.7   0.082    0.775    \n",
       "mfr:type     1     74    74.0   0.518    0.474    \n",
       "Residuals   65   9289   142.9                     \n",
       "---\n",
       "Signif. codes:  0 '***' 0.001 '**' 0.01 '*' 0.05 '.' 0.1 ' ' 1"
      ]
     },
     "metadata": {},
     "output_type": "display_data"
    }
   ],
   "source": [
    "# Two-way ANOVA with interaction effect  = \"*\"\n",
    "res.aov2b <- aov(rating ~ mfr * type, data = data2)\n",
    "summary(res.aov2b)"
   ]
  },
  {
   "cell_type": "code",
   "execution_count": 16,
   "metadata": {},
   "outputs": [
    {
     "data": {
      "text/plain": [
       "            Df Sum Sq Mean Sq F value   Pr(>F)    \n",
       "mfr          6   5513   918.8   6.477 2.09e-05 ***\n",
       "type         1     12    11.7   0.083    0.775    \n",
       "Residuals   66   9363   141.9                     \n",
       "---\n",
       "Signif. codes:  0 '***' 0.001 '**' 0.01 '*' 0.05 '.' 0.1 ' ' 1"
      ]
     },
     "metadata": {},
     "output_type": "display_data"
    }
   ],
   "source": [
    "res.aov2b <- aov(rating ~ mfr + type, data = data2)\n",
    "summary(res.aov2b)"
   ]
  },
  {
   "cell_type": "code",
   "execution_count": 17,
   "metadata": {},
   "outputs": [
    {
     "name": "stdout",
     "output_type": "stream",
     "text": [
      "   \n",
      "     C  H\n",
      "  A  0  1\n",
      "  G 22  0\n",
      "  K 23  0\n",
      "  N  5  1\n",
      "  P  8  0\n",
      "  Q  7  1\n",
      "  R  6  0\n"
     ]
    }
   ],
   "source": [
    "#chisquare\n",
    "# Create a table with the needed variables.\n",
    "# X1, X2 - Categories\n",
    "cer.data = table(data2$mfr, data2$type) \n",
    "print(cer.data)\n",
    "\n"
   ]
  },
  {
   "cell_type": "code",
   "execution_count": 18,
   "metadata": {},
   "outputs": [
    {
     "name": "stderr",
     "output_type": "stream",
     "text": [
      "Warning message in chisq.test(cer.data):\n",
      "\"Chi-squared approximation may be incorrect\""
     ]
    },
    {
     "name": "stdout",
     "output_type": "stream",
     "text": [
      "\n",
      "\tPearson's Chi-squared test\n",
      "\n",
      "data:  cer.data\n",
      "X-squared = 30.081, df = 6, p-value = 3.795e-05\n",
      "\n"
     ]
    }
   ],
   "source": [
    "# Perform the Chi-Square test.\n",
    "print(chisq.test(cer.data))"
   ]
  },
  {
   "cell_type": "code",
   "execution_count": 19,
   "metadata": {},
   "outputs": [
    {
     "name": "stderr",
     "output_type": "stream",
     "text": [
      "Warning message in chisq.test(data2$type, data2$mfr):\n",
      "\"Chi-squared approximation may be incorrect\""
     ]
    },
    {
     "data": {
      "text/plain": [
       "\n",
       "\tPearson's Chi-squared test\n",
       "\n",
       "data:  data2$type and data2$mfr\n",
       "X-squared = 30.081, df = 6, p-value = 3.795e-05\n"
      ]
     },
     "metadata": {},
     "output_type": "display_data"
    }
   ],
   "source": [
    "# Chi-squared test\n",
    "chisq.test(data2$type, data2$mfr) # continuity correction"
   ]
  },
  {
   "cell_type": "code",
   "execution_count": 20,
   "metadata": {},
   "outputs": [],
   "source": [
    "#\n",
    "#t.test\n",
    "#aov\n",
    "#chisq.test\n",
    "\n"
   ]
  },
  {
   "cell_type": "code",
   "execution_count": 22,
   "metadata": {},
   "outputs": [],
   "source": [
    "# Covariance\n",
    "# correlation\n",
    "\n",
    "# Both variables , Must be Numeric , not a category"
   ]
  },
  {
   "cell_type": "code",
   "execution_count": 24,
   "metadata": {},
   "outputs": [
    {
     "data": {
      "text/html": [
       "-0.760031036881615"
      ],
      "text/latex": [
       "-0.760031036881615"
      ],
      "text/markdown": [
       "-0.760031036881615"
      ],
      "text/plain": [
       "[1] -0.760031"
      ]
     },
     "metadata": {},
     "output_type": "display_data"
    }
   ],
   "source": [
    "cor(data2$rating, data2$sugar, use=\"complete.obs\")\n",
    "# 'x' must be numeric\n"
   ]
  },
  {
   "cell_type": "code",
   "execution_count": 25,
   "metadata": {},
   "outputs": [
    {
     "data": {
      "text/html": [
       "-48.4905944962977"
      ],
      "text/latex": [
       "-48.4905944962977"
      ],
      "text/markdown": [
       "-48.4905944962977"
      ],
      "text/plain": [
       "[1] -48.49059"
      ]
     },
     "metadata": {},
     "output_type": "display_data"
    }
   ],
   "source": [
    "cov(data2$rating, data2$sugar, use=\"complete.obs\")"
   ]
  },
  {
   "cell_type": "code",
   "execution_count": null,
   "metadata": {},
   "outputs": [],
   "source": []
  }
 ],
 "metadata": {
  "kernelspec": {
   "display_name": "R",
   "language": "R",
   "name": "ir"
  },
  "language_info": {
   "codemirror_mode": "r",
   "file_extension": ".r",
   "mimetype": "text/x-r-source",
   "name": "R",
   "pygments_lexer": "r",
   "version": "3.5.1"
  }
 },
 "nbformat": 4,
 "nbformat_minor": 2
}
