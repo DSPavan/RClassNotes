{
 "cells": [
  {
   "cell_type": "code",
   "execution_count": 5,
   "metadata": {},
   "outputs": [
    {
     "name": "stdout",
     "output_type": "stream",
     "text": [
      "                       name mfr type calories protein fat sodium fiber carbo\n",
      "1                 100%_Bran   N    C       70       4   1    130  10.0   5.0\n",
      "2         100%_Natural_Bran   Q    C      120       3   5     15   2.0   8.0\n",
      "3                  All-Bran   K    C       70       4   1    260   9.0   7.0\n",
      "4 All-Bran_with_Extra_Fiber   K    C       50       4   0    140  14.0   8.0\n",
      "5            Almond_Delight   R    C      110       2   2    200   1.0  14.0\n",
      "6   Apple_Cinnamon_Cheerios   G    C      110       2   2    180   1.5  10.5\n",
      "  sugars potass vitamins shelf weight cups   rating\n",
      "1      6    280       25     3      1 0.33 68.40297\n",
      "2      8    135        0     3      1 1.00 33.98368\n",
      "3      5    320       25     3      1 0.33 59.42551\n",
      "4      0    330       25     3      1 0.50 93.70491\n",
      "5      8     -1       25     3      1 0.75 34.38484\n",
      "6     10     70       25     1      1 0.75 29.50954\n"
     ]
    }
   ],
   "source": [
    "data2 <- read.csv(\"C:\\\\Users\\\\radha31\\\\Downloads\\\\cereals.csv\")\n",
    "print(head(data2))"
   ]
  },
  {
   "cell_type": "code",
   "execution_count": 8,
   "metadata": {},
   "outputs": [
    {
     "name": "stdout",
     "output_type": "stream",
     "text": [
      "   \n",
      "     C  H\n",
      "  A  0  1\n",
      "  G 22  0\n",
      "  K 23  0\n",
      "  N  5  1\n",
      "  P  8  0\n",
      "  Q  7  1\n",
      "  R  6  0\n"
     ]
    },
    {
     "name": "stderr",
     "output_type": "stream",
     "text": [
      "Warning message in chisq.test(cer.data):\n",
      "\"Chi-squared approximation may be incorrect\""
     ]
    },
    {
     "name": "stdout",
     "output_type": "stream",
     "text": [
      "\n",
      "\tPearson's Chi-squared test\n",
      "\n",
      "data:  cer.data\n",
      "X-squared = 30.081, df = 6, p-value = 3.795e-05\n",
      "\n"
     ]
    }
   ],
   "source": [
    "# chi square\n",
    "# Between 2 groups\n",
    "# Mfr - type\n",
    "\n",
    "\n",
    "# Create a data frame from the main data set.\n",
    "#cer.data <- data.frame(data2$mfr, data2$type)\n",
    "\n",
    "# Create a table with the needed variables.\n",
    "cer.data = table(data2$mfr, data2$type) \n",
    "print(cer.data)\n",
    "\n",
    "# Perform the Chi-Square test.\n",
    "print(chisq.test(cer.data))"
   ]
  },
  {
   "cell_type": "code",
   "execution_count": 10,
   "metadata": {},
   "outputs": [
    {
     "name": "stderr",
     "output_type": "stream",
     "text": [
      "Warning message in chisq.test(data2$type, data2$mfr, correct = FALSE):\n",
      "\"Chi-squared approximation may be incorrect\""
     ]
    },
    {
     "data": {
      "text/plain": [
       "\n",
       "\tPearson's Chi-squared test\n",
       "\n",
       "data:  data2$type and data2$mfr\n",
       "X-squared = 30.081, df = 6, p-value = 3.795e-05\n"
      ]
     },
     "metadata": {},
     "output_type": "display_data"
    }
   ],
   "source": [
    "# Chi-squared test\n",
    "chisq.test(data2$type, data2$mfr, correct=FALSE) # continuity correction"
   ]
  },
  {
   "cell_type": "code",
   "execution_count": 11,
   "metadata": {},
   "outputs": [
    {
     "name": "stderr",
     "output_type": "stream",
     "text": [
      "Warning message in chisq.test(data2$type, data2$mfr, correct = TRUE):\n",
      "\"Chi-squared approximation may be incorrect\""
     ]
    },
    {
     "data": {
      "text/plain": [
       "\n",
       "\tPearson's Chi-squared test\n",
       "\n",
       "data:  data2$type and data2$mfr\n",
       "X-squared = 30.081, df = 6, p-value = 3.795e-05\n"
      ]
     },
     "metadata": {},
     "output_type": "display_data"
    }
   ],
   "source": [
    "chisq.test(data2$type, data2$mfr, correct=TRUE) # continuity correction"
   ]
  },
  {
   "cell_type": "code",
   "execution_count": null,
   "metadata": {},
   "outputs": [],
   "source": [
    "# at Df= 6 Chi square 12.60\n",
    "# we got 30, means Higher. so significant\n",
    "\n",
    "#This sample is Unequal distribution"
   ]
  }
 ],
 "metadata": {
  "kernelspec": {
   "display_name": "R",
   "language": "R",
   "name": "ir"
  },
  "language_info": {
   "codemirror_mode": "r",
   "file_extension": ".r",
   "mimetype": "text/x-r-source",
   "name": "R",
   "pygments_lexer": "r",
   "version": "3.5.1"
  }
 },
 "nbformat": 4,
 "nbformat_minor": 2
}
