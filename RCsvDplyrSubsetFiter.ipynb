{
 "cells": [
  {
   "cell_type": "code",
   "execution_count": 1,
   "metadata": {},
   "outputs": [
    {
     "name": "stdout",
     "output_type": "stream",
     "text": [
      "                       name mfr type calories protein fat sodium fiber carbo\n",
      "1                 100%_Bran   N    C       70       4   1    130  10.0   5.0\n",
      "2         100%_Natural_Bran   Q    C      120       3   5     15   2.0   8.0\n",
      "3                  All-Bran   K    C       70       4   1    260   9.0   7.0\n",
      "4 All-Bran_with_Extra_Fiber   K    C       50       4   0    140  14.0   8.0\n",
      "5            Almond_Delight   R    C      110       2   2    200   1.0  14.0\n",
      "6   Apple_Cinnamon_Cheerios   G    C      110       2   2    180   1.5  10.5\n",
      "  sugars potass vitamins shelf weight cups   rating\n",
      "1      6    280       25     3      1 0.33 68.40297\n",
      "2      8    135        0     3      1 1.00 33.98368\n",
      "3      5    320       25     3      1 0.33 59.42551\n",
      "4      0    330       25     3      1 0.50 93.70491\n",
      "5      8     -1       25     3      1 0.75 34.38484\n",
      "6     10     70       25     1      1 0.75 29.50954\n"
     ]
    }
   ],
   "source": [
    "# Read CSV\n",
    "# subset\n",
    "# Filter\n",
    "# library(dplyr)\n",
    "data <- read.csv(\"C:\\\\Users\\\\radha\\\\Downloads\\\\cereals_1.csv\")\n",
    "print(head(data))\n",
    "\n"
   ]
  },
  {
   "cell_type": "code",
   "execution_count": 3,
   "metadata": {},
   "outputs": [
    {
     "name": "stdout",
     "output_type": "stream",
     "text": [
      "Dim = 80 16 Cols = 16 Rows = 80'data.frame':\t80 obs. of  16 variables:\n",
      " $ name    : Factor w/ 78 levels \"0.67\",\"1\",\"100%_Bran\",..: 3 4 5 6 7 8 9 10 11 12 ...\n",
      " $ mfr     : Factor w/ 13 levels \"_Dates\",\"_Peaches\",..: 10 12 9 9 13 8 9 8 13 11 ...\n",
      " $ type    : Factor w/ 6 levels \"\",\"_&_Almonds\",..: 5 5 5 5 5 5 5 5 5 5 ...\n",
      " $ calories: Factor w/ 13 levels \"\",\"100\",\"110\",..: 9 4 9 8 3 3 3 5 11 11 ...\n",
      " $ protein : Factor w/ 8 levels \"\",\"1\",\"2\",\"3\",..: 5 4 5 5 3 3 3 4 3 4 ...\n",
      " $ fat     : int  1 5 1 0 2 2 0 2 1 0 ...\n",
      " $ sodium  : int  130 15 260 140 200 180 125 210 200 210 ...\n",
      " $ fiber   : num  10 2 9 14 1 1.5 1 2 4 5 ...\n",
      " $ carbo   : num  5 8 7 8 14 10.5 11 18 15 13 ...\n",
      " $ sugars  : int  6 8 5 0 8 10 14 8 6 5 ...\n",
      " $ potass  : int  280 135 320 330 -1 70 30 100 125 190 ...\n",
      " $ vitamins: int  25 0 25 25 25 25 25 25 25 25 ...\n",
      " $ shelf   : int  3 3 3 3 3 1 2 3 1 3 ...\n",
      " $ weight  : num  1 1 1 1 1 1 1 1.33 1 1 ...\n",
      " $ cups    : num  0.33 1 0.33 0.5 0.75 0.75 1 0.75 0.67 0.67 ...\n",
      " $ rating  : num  68.4 34 59.4 93.7 34.4 ...\n",
      "NULL\n"
     ]
    }
   ],
   "source": [
    "cat(\"Dim =\",dim(data))\n",
    "cat(\" Cols =\", ncol(data))\n",
    "cat(\" Rows =\", nrow(data))\n",
    "\n",
    "\n",
    "print(str(data))  # Str shows few problems"
   ]
  },
  {
   "cell_type": "code",
   "execution_count": 5,
   "metadata": {},
   "outputs": [
    {
     "name": "stdout",
     "output_type": "stream",
     "text": [
      "'data.frame':\t80 obs. of  16 variables:\n",
      " $ name    : chr  \"100%_Bran\" \"100%_Natural_Bran\" \"All-Bran\" \"All-Bran_with_Extra_Fiber\" ...\n",
      " $ mfr     : chr  \"N\" \"Q\" \"K\" \"K\" ...\n",
      " $ type    : chr  \"C\" \"C\" \"C\" \"C\" ...\n",
      " $ calories: chr  \"70\" \"120\" \"70\" \"50\" ...\n",
      " $ protein : chr  \"4\" \"3\" \"4\" \"4\" ...\n",
      " $ fat     : int  1 5 1 0 2 2 0 2 1 0 ...\n",
      " $ sodium  : int  130 15 260 140 200 180 125 210 200 210 ...\n",
      " $ fiber   : num  10 2 9 14 1 1.5 1 2 4 5 ...\n",
      " $ carbo   : num  5 8 7 8 14 10.5 11 18 15 13 ...\n",
      " $ sugars  : int  6 8 5 0 8 10 14 8 6 5 ...\n",
      " $ potass  : int  280 135 320 330 -1 70 30 100 125 190 ...\n",
      " $ vitamins: int  25 0 25 25 25 25 25 25 25 25 ...\n",
      " $ shelf   : int  3 3 3 3 3 1 2 3 1 3 ...\n",
      " $ weight  : num  1 1 1 1 1 1 1 1.33 1 1 ...\n",
      " $ cups    : num  0.33 1 0.33 0.5 0.75 0.75 1 0.75 0.67 0.67 ...\n",
      " $ rating  : num  68.4 34 59.4 93.7 34.4 ...\n",
      "NULL\n"
     ]
    }
   ],
   "source": [
    "#  stringsAsFactors = FALSE,\n",
    "data2 <- read.csv(\"C:\\\\Users\\\\radha\\\\Downloads\\\\cereals_1.csv\", header = TRUE,\n",
    "                 stringsAsFactors = FALSE,\n",
    "                 strip.white = TRUE ,\n",
    "                 sep = ',')\n",
    "\n",
    "print(str(data2)) "
   ]
  },
  {
   "cell_type": "code",
   "execution_count": 6,
   "metadata": {},
   "outputs": [],
   "source": [
    "write.csv(data2, file = 'C:\\\\Users\\\\radha\\\\Downloads\\\\cereals_1out.csv')"
   ]
  },
  {
   "cell_type": "code",
   "execution_count": 7,
   "metadata": {},
   "outputs": [
    {
     "name": "stdout",
     "output_type": "stream",
     "text": [
      "                 data2.name data2.sodium data2.rating\n",
      "1                 100%_Bran          130     68.40297\n",
      "2         100%_Natural_Bran           15     33.98368\n",
      "3                  All-Bran          260     59.42551\n",
      "4 All-Bran_with_Extra_Fiber          140     93.70491\n",
      "5            Almond_Delight          200     34.38484\n",
      "6   Apple_Cinnamon_Cheerios          180     29.50954\n"
     ]
    }
   ],
   "source": [
    "df = data.frame(data2$name, data2$sodium ,data2$rating)\n",
    "print(head(df))"
   ]
  },
  {
   "cell_type": "code",
   "execution_count": 10,
   "metadata": {},
   "outputs": [
    {
     "name": "stdout",
     "output_type": "stream",
     "text": [
      "[1]  1 16\n",
      "                       name mfr type calories protein fat sodium fiber carbo\n",
      "4 All-Bran_with_Extra_Fiber   K    C       50       4   0    140    14     8\n",
      "  sugars potass vitamins shelf weight cups   rating\n",
      "4      0    330       25     3      1  0.5 93.70491\n"
     ]
    }
   ],
   "source": [
    "## subset data\n",
    "subVal <- subset(data2, data2$rating > 80)\n",
    "print(dim(subVal))\n",
    "print(head(subVal))"
   ]
  },
  {
   "cell_type": "code",
   "execution_count": 15,
   "metadata": {},
   "outputs": [
    {
     "name": "stdout",
     "output_type": "stream",
     "text": [
      "[1] 80  3\n",
      "[1]  3 16\n",
      "   name       mfr type calories protein fat sodium fiber carbo sugars potass\n",
      "29 0.67 40.917047                        NA     NA    NA    NA     NA     NA\n",
      "47    1 37.136863                        NA     NA    NA    NA     NA     NA\n",
      "49    1 34.139765                        NA     NA    NA    NA     NA     NA\n",
      "   vitamins shelf weight cups rating\n",
      "29       NA    NA     NA   NA     NA\n",
      "47       NA    NA     NA   NA     NA\n",
      "49       NA    NA     NA   NA     NA\n"
     ]
    }
   ],
   "source": [
    "print(dim(df))\n",
    "subVal2 <- subset(data2,is.na(data2$sodium))\n",
    "print(dim(subVal2))\n",
    "print(subVal2)"
   ]
  },
  {
   "cell_type": "code",
   "execution_count": 16,
   "metadata": {},
   "outputs": [
    {
     "name": "stdout",
     "output_type": "stream",
     "text": [
      "[1] 20 16\n"
     ]
    }
   ],
   "source": [
    "# Rows only 20 only example\n",
    "data <- read.csv(\"C:\\\\Users\\\\radha\\\\Downloads\\\\cereals_1.csv\", header = TRUE,\n",
    "               stringsAsFactors = FALSE,\n",
    "               strip.white = TRUE ,\n",
    "               sep = ',',nrows=20\n",
    "                )\n",
    "print(dim(data))"
   ]
  },
  {
   "cell_type": "code",
   "execution_count": 17,
   "metadata": {},
   "outputs": [],
   "source": [
    "#na.omit(data)\n",
    "#na.rm=TRUE"
   ]
  },
  {
   "cell_type": "code",
   "execution_count": 18,
   "metadata": {},
   "outputs": [
    {
     "name": "stderr",
     "output_type": "stream",
     "text": [
      "\n",
      "Attaching package: 'dplyr'\n",
      "\n",
      "The following objects are masked from 'package:stats':\n",
      "\n",
      "    filter, lag\n",
      "\n",
      "The following objects are masked from 'package:base':\n",
      "\n",
      "    intersect, setdiff, setequal, union\n",
      "\n"
     ]
    },
    {
     "name": "stdout",
     "output_type": "stream",
     "text": [
      "                       name mfr type calories protein fat sodium fiber carbo\n",
      "1                 100%_Bran   N    C       70       4   1    130  10.0   5.0\n",
      "2         100%_Natural_Bran   Q    C      120       3   5     15   2.0   8.0\n",
      "3                  All-Bran   K    C       70       4   1    260   9.0   7.0\n",
      "4 All-Bran_with_Extra_Fiber   K    C       50       4   0    140  14.0   8.0\n",
      "5            Almond_Delight   R    C      110       2   2    200   1.0  14.0\n",
      "6   Apple_Cinnamon_Cheerios   G    C      110       2   2    180   1.5  10.5\n",
      "  sugars potass vitamins shelf weight cups   rating\n",
      "1      6    280       25     3      1 0.33 68.40297\n",
      "2      8    135        0     3      1 1.00 33.98368\n",
      "3      5    320       25     3      1 0.33 59.42551\n",
      "4      0    330       25     3      1 0.50 93.70491\n",
      "5      8     -1       25     3      1 0.75 34.38484\n",
      "6     10     70       25     1      1 0.75 29.50954\n",
      "[1] 77 16\n"
     ]
    }
   ],
   "source": [
    "library(dplyr)\n",
    "data2 <- read.csv(\"C:\\\\Users\\\\radha\\\\Downloads\\\\cereals_1.csv\", header = TRUE,\n",
    "                 stringsAsFactors = FALSE,\n",
    "                 strip.white = TRUE ,\n",
    "                 sep = ',', na.strings = c(\"\", \"NA\"))\n",
    "\n",
    "data2= data2 %>% na.omit()\n",
    "\n",
    "print(head(data2))\n",
    "print(dim(data2))\n"
   ]
  },
  {
   "cell_type": "code",
   "execution_count": 20,
   "metadata": {},
   "outputs": [
    {
     "name": "stdout",
     "output_type": "stream",
     "text": [
      "            name.mfr.type.calories\n",
      "1                 100%_Bran\\tN\\tC\\t70\n",
      "2        100%_Natural_Bran\\tQ\\tC\\t120\n",
      "3                  All-Bran\\tK\\tC\\t70\n",
      "4 All-Bran_with_Extra_Fiber\\tK\\tC\\t50\n",
      "5           Almond_Delight\\tR\\tC\\t110\n",
      "6  Apple_Cinnamon_Cheerios\\tG\\tC\\t110\n",
      "[1] 7 1\n"
     ]
    }
   ],
   "source": [
    "# from clipboard\n",
    "library(dplyr)\n",
    "data <- read.table(file = \"clipboard\", sep = \",\", header=TRUE)\n",
    "print(head(data))\n",
    "print(dim(data))\n",
    "\n"
   ]
  },
  {
   "cell_type": "code",
   "execution_count": 22,
   "metadata": {},
   "outputs": [
    {
     "data": {
      "text/html": [
       "<table>\n",
       "<thead><tr><th scope=col>name</th><th scope=col>mfr</th><th scope=col>type</th><th scope=col>calories</th><th scope=col>protein</th><th scope=col>fat</th><th scope=col>sodium</th><th scope=col>fiber</th><th scope=col>carbo</th><th scope=col>sugars</th><th scope=col>potass</th><th scope=col>vitamins</th><th scope=col>shelf</th><th scope=col>weight</th><th scope=col>cups</th><th scope=col>rating</th></tr></thead>\n",
       "<tbody>\n",
       "\t<tr><td>100%_Natural_Bran</td><td>Q                </td><td>C                </td><td>120              </td><td>3                </td><td>5                </td><td> 15              </td><td>2                </td><td> 8               </td><td>8                </td><td>135              </td><td> 0               </td><td>3                </td><td>1                </td><td>1.00             </td><td>33.98368         </td></tr>\n",
       "\t<tr><td>Cheerios         </td><td>G                </td><td>C                </td><td>110              </td><td>6                </td><td>2                </td><td>290              </td><td>2                </td><td>17               </td><td>1                </td><td>105              </td><td>25               </td><td>1                </td><td>1                </td><td>1.25             </td><td>50.76500         </td></tr>\n",
       "</tbody>\n",
       "</table>\n"
      ],
      "text/latex": [
       "\\begin{tabular}{r|llllllllllllllll}\n",
       " name & mfr & type & calories & protein & fat & sodium & fiber & carbo & sugars & potass & vitamins & shelf & weight & cups & rating\\\\\n",
       "\\hline\n",
       "\t 100\\%\\_Natural\\_Bran & Q                       & C                       & 120                     & 3                       & 5                       &  15                     & 2                       &  8                      & 8                       & 135                     &  0                      & 3                       & 1                       & 1.00                    & 33.98368               \\\\\n",
       "\t Cheerios          & G                 & C                 & 110               & 6                 & 2                 & 290               & 2                 & 17                & 1                 & 105               & 25                & 1                 & 1                 & 1.25              & 50.76500         \\\\\n",
       "\\end{tabular}\n"
      ],
      "text/markdown": [
       "\n",
       "name | mfr | type | calories | protein | fat | sodium | fiber | carbo | sugars | potass | vitamins | shelf | weight | cups | rating | \n",
       "|---|---|\n",
       "| 100%_Natural_Bran | Q                 | C                 | 120               | 3                 | 5                 |  15               | 2                 |  8                | 8                 | 135               |  0                | 3                 | 1                 | 1.00              | 33.98368          | \n",
       "| Cheerios          | G                 | C                 | 110               | 6                 | 2                 | 290               | 2                 | 17                | 1                 | 105               | 25                | 1                 | 1                 | 1.25              | 50.76500          | \n",
       "\n",
       "\n"
      ],
      "text/plain": [
       "  name              mfr type calories protein fat sodium fiber carbo sugars\n",
       "1 100%_Natural_Bran Q   C    120      3       5    15    2      8    8     \n",
       "2 Cheerios          G   C    110      6       2   290    2     17    1     \n",
       "  potass vitamins shelf weight cups rating  \n",
       "1 135     0       3     1      1.00 33.98368\n",
       "2 105    25       1     1      1.25 50.76500"
      ]
     },
     "metadata": {},
     "output_type": "display_data"
    }
   ],
   "source": [
    "filter(data2, name %in% c(\"100%_Natural_Bran\", \"Cheerios\"))"
   ]
  },
  {
   "cell_type": "code",
   "execution_count": 24,
   "metadata": {},
   "outputs": [
    {
     "data": {
      "text/html": [
       "<table>\n",
       "<thead><tr><th scope=col>name</th><th scope=col>mfr</th><th scope=col>type</th><th scope=col>calories</th><th scope=col>protein</th><th scope=col>fat</th><th scope=col>sodium</th><th scope=col>fiber</th><th scope=col>carbo</th><th scope=col>sugars</th><th scope=col>potass</th><th scope=col>vitamins</th><th scope=col>shelf</th><th scope=col>weight</th><th scope=col>cups</th><th scope=col>rating</th></tr></thead>\n",
       "<tbody>\n",
       "\t<tr><td>100%_Bran                </td><td>N                        </td><td>C                        </td><td>70                       </td><td>4                        </td><td>1                        </td><td>130                      </td><td>10                       </td><td> 5                       </td><td>6                        </td><td>280                      </td><td>25                       </td><td>3                        </td><td>1.00                     </td><td>0.33                     </td><td>68.40297                 </td></tr>\n",
       "\t<tr><td>All-Bran_with_Extra_Fiber</td><td>K                        </td><td>C                        </td><td>50                       </td><td>4                        </td><td>0                        </td><td>140                      </td><td>14                       </td><td> 8                       </td><td>0                        </td><td>330                      </td><td>25                       </td><td>3                        </td><td>1.00                     </td><td>0.50                     </td><td>93.70491                 </td></tr>\n",
       "\t<tr><td>Shredded_Wheat           </td><td>N                        </td><td>C                        </td><td>80                       </td><td>2                        </td><td>0                        </td><td>  0                      </td><td> 3                       </td><td>16                       </td><td>0                        </td><td> 95                      </td><td> 0                       </td><td>1                        </td><td>0.83                     </td><td>1.00                     </td><td>68.23588                 </td></tr>\n",
       "\t<tr><td>Shredded_Wheat_'n'Bran   </td><td>N                        </td><td>C                        </td><td>90                       </td><td>3                        </td><td>0                        </td><td>  0                      </td><td> 4                       </td><td>19                       </td><td>0                        </td><td>140                      </td><td> 0                       </td><td>1                        </td><td>1.00                     </td><td>0.67                     </td><td>74.47295                 </td></tr>\n",
       "\t<tr><td>Shredded_Wheat_spoon_size</td><td>N                        </td><td>C                        </td><td>90                       </td><td>3                        </td><td>0                        </td><td>  0                      </td><td> 3                       </td><td>20                       </td><td>0                        </td><td>120                      </td><td> 0                       </td><td>1                        </td><td>1.00                     </td><td>0.67                     </td><td>72.80179                 </td></tr>\n",
       "</tbody>\n",
       "</table>\n"
      ],
      "text/latex": [
       "\\begin{tabular}{r|llllllllllllllll}\n",
       " name & mfr & type & calories & protein & fat & sodium & fiber & carbo & sugars & potass & vitamins & shelf & weight & cups & rating\\\\\n",
       "\\hline\n",
       "\t 100\\%\\_Bran                 & N                             & C                             & 70                            & 4                             & 1                             & 130                           & 10                            &  5                            & 6                             & 280                           & 25                            & 3                             & 1.00                          & 0.33                          & 68.40297                     \\\\\n",
       "\t All-Bran\\_with\\_Extra\\_Fiber & K                               & C                               & 50                              & 4                               & 0                               & 140                             & 14                              &  8                              & 0                               & 330                             & 25                              & 3                               & 1.00                            & 0.50                            & 93.70491                       \\\\\n",
       "\t Shredded\\_Wheat            & N                           & C                           & 80                          & 2                           & 0                           &   0                         &  3                          & 16                          & 0                           &  95                         &  0                          & 1                           & 0.83                        & 1.00                        & 68.23588                   \\\\\n",
       "\t Shredded\\_Wheat\\_'n'Bran    & N                             & C                             & 90                            & 3                             & 0                             &   0                           &  4                            & 19                            & 0                             & 140                           &  0                            & 1                             & 1.00                          & 0.67                          & 74.47295                     \\\\\n",
       "\t Shredded\\_Wheat\\_spoon\\_size & N                               & C                               & 90                              & 3                               & 0                               &   0                             &  3                              & 20                              & 0                               & 120                             &  0                              & 1                               & 1.00                            & 0.67                            & 72.80179                       \\\\\n",
       "\\end{tabular}\n"
      ],
      "text/markdown": [
       "\n",
       "name | mfr | type | calories | protein | fat | sodium | fiber | carbo | sugars | potass | vitamins | shelf | weight | cups | rating | \n",
       "|---|---|---|---|---|\n",
       "| 100%_Bran                 | N                         | C                         | 70                        | 4                         | 1                         | 130                       | 10                        |  5                        | 6                         | 280                       | 25                        | 3                         | 1.00                      | 0.33                      | 68.40297                  | \n",
       "| All-Bran_with_Extra_Fiber | K                         | C                         | 50                        | 4                         | 0                         | 140                       | 14                        |  8                        | 0                         | 330                       | 25                        | 3                         | 1.00                      | 0.50                      | 93.70491                  | \n",
       "| Shredded_Wheat            | N                         | C                         | 80                        | 2                         | 0                         |   0                       |  3                        | 16                        | 0                         |  95                       |  0                        | 1                         | 0.83                      | 1.00                      | 68.23588                  | \n",
       "| Shredded_Wheat_'n'Bran    | N                         | C                         | 90                        | 3                         | 0                         |   0                       |  4                        | 19                        | 0                         | 140                       |  0                        | 1                         | 1.00                      | 0.67                      | 74.47295                  | \n",
       "| Shredded_Wheat_spoon_size | N                         | C                         | 90                        | 3                         | 0                         |   0                       |  3                        | 20                        | 0                         | 120                       |  0                        | 1                         | 1.00                      | 0.67                      | 72.80179                  | \n",
       "\n",
       "\n"
      ],
      "text/plain": [
       "  name                      mfr type calories protein fat sodium fiber carbo\n",
       "1 100%_Bran                 N   C    70       4       1   130    10     5   \n",
       "2 All-Bran_with_Extra_Fiber K   C    50       4       0   140    14     8   \n",
       "3 Shredded_Wheat            N   C    80       2       0     0     3    16   \n",
       "4 Shredded_Wheat_'n'Bran    N   C    90       3       0     0     4    19   \n",
       "5 Shredded_Wheat_spoon_size N   C    90       3       0     0     3    20   \n",
       "  sugars potass vitamins shelf weight cups rating  \n",
       "1 6      280    25       3     1.00   0.33 68.40297\n",
       "2 0      330    25       3     1.00   0.50 93.70491\n",
       "3 0       95     0       1     0.83   1.00 68.23588\n",
       "4 0      140     0       1     1.00   0.67 74.47295\n",
       "5 0      120     0       1     1.00   0.67 72.80179"
      ]
     },
     "metadata": {},
     "output_type": "display_data"
    }
   ],
   "source": [
    "filter(data2, rating > 65)"
   ]
  },
  {
   "cell_type": "code",
   "execution_count": null,
   "metadata": {},
   "outputs": [],
   "source": []
  }
 ],
 "metadata": {
  "kernelspec": {
   "display_name": "R",
   "language": "R",
   "name": "ir"
  },
  "language_info": {
   "codemirror_mode": "r",
   "file_extension": ".r",
   "mimetype": "text/x-r-source",
   "name": "R",
   "pygments_lexer": "r",
   "version": "3.5.0"
  }
 },
 "nbformat": 4,
 "nbformat_minor": 2
}
