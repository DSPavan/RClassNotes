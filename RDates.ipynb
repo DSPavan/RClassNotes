{
 "cells": [
  {
   "cell_type": "code",
   "execution_count": 5,
   "metadata": {},
   "outputs": [
    {
     "data": {
      "text/html": [
       "<ol class=list-inline>\n",
       "\t<li><time datetime=\"2018-09-30\">2018-09-30</time></li>\n",
       "\t<li><time datetime=\"2018-02-14\">2018-02-14</time></li>\n",
       "</ol>\n"
      ],
      "text/latex": [
       "\\begin{enumerate*}\n",
       "\\item 2018-09-30\n",
       "\\item 2018-02-14\n",
       "\\end{enumerate*}\n"
      ],
      "text/markdown": [
       "1. 2018-09-30\n",
       "2. 2018-02-14\n",
       "\n",
       "\n"
      ],
      "text/plain": [
       "[1] \"2018-09-30\" \"2018-02-14\""
      ]
     },
     "metadata": {},
     "output_type": "display_data"
    }
   ],
   "source": [
    "# use as.Date( ) to convert strings to dates \n",
    "mydates <- as.Date(c(\"2018-09-30\", \"2018-02-14\"))\n",
    "mydates"
   ]
  },
  {
   "cell_type": "code",
   "execution_count": 3,
   "metadata": {},
   "outputs": [],
   "source": [
    "#Sys.Date( ) returns today's date. \n",
    "#date() returns the current date and time."
   ]
  },
  {
   "cell_type": "code",
   "execution_count": 6,
   "metadata": {},
   "outputs": [
    {
     "data": {
      "text/plain": [
       "Time difference of 228 days"
      ]
     },
     "metadata": {},
     "output_type": "display_data"
    }
   ],
   "source": [
    "days <- mydates[1] - mydates[2]\n",
    "days"
   ]
  },
  {
   "cell_type": "code",
   "execution_count": 7,
   "metadata": {},
   "outputs": [
    {
     "data": {
      "text/html": [
       "'October 03 2018'"
      ],
      "text/latex": [
       "'October 03 2018'"
      ],
      "text/markdown": [
       "'October 03 2018'"
      ],
      "text/plain": [
       "[1] \"October 03 2018\""
      ]
     },
     "metadata": {},
     "output_type": "display_data"
    }
   ],
   "source": [
    "# print today's date\n",
    "today <- Sys.Date()\n",
    "format(today, format=\"%B %d %Y\")\n"
   ]
  },
  {
   "attachments": {
    "dates1.png": {
     "image/png": "[encoded data removed]"
    }
   },
   "cell_type": "markdown",
   "metadata": {},
   "source": [
    "![dates1.png](attachment:dates1.png)"
   ]
  },
  {
   "cell_type": "code",
   "execution_count": 13,
   "metadata": {},
   "outputs": [
    {
     "data": {
      "text/html": [
       "<ol class=list-inline>\n",
       "\t<li><time datetime=\"2017-01-06\">2017-01-06</time></li>\n",
       "\t<li><time datetime=\"2018-08-16\">2018-08-16</time></li>\n",
       "</ol>\n"
      ],
      "text/latex": [
       "\\begin{enumerate*}\n",
       "\\item 2017-01-06\n",
       "\\item 2018-08-16\n",
       "\\end{enumerate*}\n"
      ],
      "text/markdown": [
       "1. 2017-01-06\n",
       "2. 2018-08-16\n",
       "\n",
       "\n"
      ],
      "text/plain": [
       "[1] \"2017-01-06\" \"2018-08-16\""
      ]
     },
     "metadata": {},
     "output_type": "display_data"
    },
    {
     "data": {
      "text/html": [
       "<ol class=list-inline>\n",
       "\t<li>'January 06 2017'</li>\n",
       "\t<li>'August 16 2018'</li>\n",
       "</ol>\n"
      ],
      "text/latex": [
       "\\begin{enumerate*}\n",
       "\\item 'January 06 2017'\n",
       "\\item 'August 16 2018'\n",
       "\\end{enumerate*}\n"
      ],
      "text/markdown": [
       "1. 'January 06 2017'\n",
       "2. 'August 16 2018'\n",
       "\n",
       "\n"
      ],
      "text/plain": [
       "[1] \"January 06 2017\" \"August 16 2018\" "
      ]
     },
     "metadata": {},
     "output_type": "display_data"
    }
   ],
   "source": [
    "# convert date info in format 'mm/dd/yyyy'\n",
    "strDates <- c(\"01/06/2017\", \"08/16/2018\")\n",
    "dates <- as.Date(strDates, \"%m/%d/%Y\")\n",
    "dates\n",
    "\n",
    "format(dates, format=\"%B %d %Y\")"
   ]
  },
  {
   "cell_type": "code",
   "execution_count": 14,
   "metadata": {},
   "outputs": [
    {
     "data": {
      "text/html": [
       "<ol class=list-inline>\n",
       "\t<li>'Friday'</li>\n",
       "\t<li>'Thursday'</li>\n",
       "</ol>\n"
      ],
      "text/latex": [
       "\\begin{enumerate*}\n",
       "\\item 'Friday'\n",
       "\\item 'Thursday'\n",
       "\\end{enumerate*}\n"
      ],
      "text/markdown": [
       "1. 'Friday'\n",
       "2. 'Thursday'\n",
       "\n",
       "\n"
      ],
      "text/plain": [
       "[1] \"Friday\"   \"Thursday\""
      ]
     },
     "metadata": {},
     "output_type": "display_data"
    }
   ],
   "source": [
    "weekdays(dates)"
   ]
  },
  {
   "cell_type": "code",
   "execution_count": 16,
   "metadata": {},
   "outputs": [
    {
     "data": {
      "text/plain": [
       "Time difference of 83.85714 weeks"
      ]
     },
     "metadata": {},
     "output_type": "display_data"
    }
   ],
   "source": [
    "difftime(dates[2],dates[1],units='weeks')"
   ]
  },
  {
   "cell_type": "code",
   "execution_count": null,
   "metadata": {},
   "outputs": [],
   "source": []
  }
 ],
 "metadata": {
  "kernelspec": {
   "display_name": "R",
   "language": "R",
   "name": "ir"
  },
  "language_info": {
   "codemirror_mode": "r",
   "file_extension": ".r",
   "mimetype": "text/x-r-source",
   "name": "R",
   "pygments_lexer": "r",
   "version": "3.5.0"
  }
 },
 "nbformat": 4,
 "nbformat_minor": 2
}
