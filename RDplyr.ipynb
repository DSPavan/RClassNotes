{
 "cells": [
  {
   "cell_type": "code",
   "execution_count": 1,
   "metadata": {},
   "outputs": [
    {
     "name": "stderr",
     "output_type": "stream",
     "text": [
      "\n",
      "Attaching package: 'dplyr'\n",
      "\n",
      "The following objects are masked from 'package:stats':\n",
      "\n",
      "    filter, lag\n",
      "\n",
      "The following objects are masked from 'package:base':\n",
      "\n",
      "    intersect, setdiff, setequal, union\n",
      "\n"
     ]
    }
   ],
   "source": [
    "library(\"dplyr\")"
   ]
  },
  {
   "cell_type": "code",
   "execution_count": 3,
   "metadata": {},
   "outputs": [
    {
     "name": "stderr",
     "output_type": "stream",
     "text": [
      "The following objects are masked from iris (pos = 3):\n",
      "\n",
      "    Petal.Length, Petal.Width, Sepal.Length, Sepal.Width, Species\n",
      "\n"
     ]
    },
    {
     "data": {
      "text/html": [
       "<table>\n",
       "<thead><tr><th scope=col>Sepal.Length</th><th scope=col>Sepal.Width</th><th scope=col>Petal.Length</th><th scope=col>Petal.Width</th><th scope=col>Species</th></tr></thead>\n",
       "<tbody>\n",
       "\t<tr><td>5.1   </td><td>3.5   </td><td>1.4   </td><td>0.2   </td><td>setosa</td></tr>\n",
       "\t<tr><td>4.9   </td><td>3.0   </td><td>1.4   </td><td>0.2   </td><td>setosa</td></tr>\n",
       "\t<tr><td>4.7   </td><td>3.2   </td><td>1.3   </td><td>0.2   </td><td>setosa</td></tr>\n",
       "\t<tr><td>4.6   </td><td>3.1   </td><td>1.5   </td><td>0.2   </td><td>setosa</td></tr>\n",
       "\t<tr><td>5.0   </td><td>3.6   </td><td>1.4   </td><td>0.2   </td><td>setosa</td></tr>\n",
       "\t<tr><td>5.4   </td><td>3.9   </td><td>1.7   </td><td>0.4   </td><td>setosa</td></tr>\n",
       "</tbody>\n",
       "</table>\n"
      ],
      "text/latex": [
       "\\begin{tabular}{r|lllll}\n",
       " Sepal.Length & Sepal.Width & Petal.Length & Petal.Width & Species\\\\\n",
       "\\hline\n",
       "\t 5.1    & 3.5    & 1.4    & 0.2    & setosa\\\\\n",
       "\t 4.9    & 3.0    & 1.4    & 0.2    & setosa\\\\\n",
       "\t 4.7    & 3.2    & 1.3    & 0.2    & setosa\\\\\n",
       "\t 4.6    & 3.1    & 1.5    & 0.2    & setosa\\\\\n",
       "\t 5.0    & 3.6    & 1.4    & 0.2    & setosa\\\\\n",
       "\t 5.4    & 3.9    & 1.7    & 0.4    & setosa\\\\\n",
       "\\end{tabular}\n"
      ],
      "text/markdown": [
       "\n",
       "Sepal.Length | Sepal.Width | Petal.Length | Petal.Width | Species | \n",
       "|---|---|---|---|---|---|\n",
       "| 5.1    | 3.5    | 1.4    | 0.2    | setosa | \n",
       "| 4.9    | 3.0    | 1.4    | 0.2    | setosa | \n",
       "| 4.7    | 3.2    | 1.3    | 0.2    | setosa | \n",
       "| 4.6    | 3.1    | 1.5    | 0.2    | setosa | \n",
       "| 5.0    | 3.6    | 1.4    | 0.2    | setosa | \n",
       "| 5.4    | 3.9    | 1.7    | 0.4    | setosa | \n",
       "\n",
       "\n"
      ],
      "text/plain": [
       "  Sepal.Length Sepal.Width Petal.Length Petal.Width Species\n",
       "1 5.1          3.5         1.4          0.2         setosa \n",
       "2 4.9          3.0         1.4          0.2         setosa \n",
       "3 4.7          3.2         1.3          0.2         setosa \n",
       "4 4.6          3.1         1.5          0.2         setosa \n",
       "5 5.0          3.6         1.4          0.2         setosa \n",
       "6 5.4          3.9         1.7          0.4         setosa "
      ]
     },
     "metadata": {},
     "output_type": "display_data"
    }
   ],
   "source": [
    "attach(iris)\n",
    "head(iris)\n",
    "newdf2 <- iris"
   ]
  },
  {
   "cell_type": "code",
   "execution_count": 5,
   "metadata": {},
   "outputs": [
    {
     "name": "stdout",
     "output_type": "stream",
     "text": [
      "[1] 70  5\n",
      "   Sepal.Length Sepal.Width Petal.Length Petal.Width    Species\n",
      "51          7.0         3.2          4.7         1.4 versicolor\n",
      "52          6.4         3.2          4.5         1.5 versicolor\n",
      "53          6.9         3.1          4.9         1.5 versicolor\n",
      "55          6.5         2.8          4.6         1.5 versicolor\n",
      "57          6.3         3.3          4.7         1.6 versicolor\n",
      "59          6.6         2.9          4.6         1.3 versicolor\n"
     ]
    }
   ],
   "source": [
    "## subset data\n",
    "subVal <- subset(newdf2, newdf2$Sepal.Length > 5.8)\n",
    "print(dim(subVal))\n",
    "print(head(subVal))"
   ]
  },
  {
   "cell_type": "code",
   "execution_count": 7,
   "metadata": {},
   "outputs": [
    {
     "name": "stdout",
     "output_type": "stream",
     "text": [
      "[1] 0 5\n",
      "[1] Sepal.Length Sepal.Width  Petal.Length Petal.Width  Species     \n",
      "<0 rows> (or 0-length row.names)\n"
     ]
    }
   ],
   "source": [
    "subVal2 <- subset(newdf2,is.na(newdf2$Petal.Width))\n",
    "print(dim(subVal2))\n",
    "print(subVal2)"
   ]
  },
  {
   "cell_type": "code",
   "execution_count": 11,
   "metadata": {},
   "outputs": [
    {
     "data": {
      "text/html": [
       "<table>\n",
       "<thead><tr><th scope=col>Sepal.Length</th><th scope=col>Sepal.Width</th><th scope=col>Petal.Length</th><th scope=col>Petal.Width</th><th scope=col>Species</th></tr></thead>\n",
       "<tbody>\n",
       "\t<tr><td>6.3      </td><td>3.3      </td><td>6.0      </td><td>2.5      </td><td>virginica</td></tr>\n",
       "\t<tr><td>5.8      </td><td>2.7      </td><td>5.1      </td><td>1.9      </td><td>virginica</td></tr>\n",
       "\t<tr><td>7.1      </td><td>3.0      </td><td>5.9      </td><td>2.1      </td><td>virginica</td></tr>\n",
       "\t<tr><td>6.3      </td><td>2.9      </td><td>5.6      </td><td>1.8      </td><td>virginica</td></tr>\n",
       "\t<tr><td>6.5      </td><td>3.0      </td><td>5.8      </td><td>2.2      </td><td>virginica</td></tr>\n",
       "\t<tr><td>7.6      </td><td>3.0      </td><td>6.6      </td><td>2.1      </td><td>virginica</td></tr>\n",
       "\t<tr><td>4.9      </td><td>2.5      </td><td>4.5      </td><td>1.7      </td><td>virginica</td></tr>\n",
       "\t<tr><td>7.3      </td><td>2.9      </td><td>6.3      </td><td>1.8      </td><td>virginica</td></tr>\n",
       "\t<tr><td>6.7      </td><td>2.5      </td><td>5.8      </td><td>1.8      </td><td>virginica</td></tr>\n",
       "\t<tr><td>7.2      </td><td>3.6      </td><td>6.1      </td><td>2.5      </td><td>virginica</td></tr>\n",
       "\t<tr><td>6.5      </td><td>3.2      </td><td>5.1      </td><td>2.0      </td><td>virginica</td></tr>\n",
       "\t<tr><td>6.4      </td><td>2.7      </td><td>5.3      </td><td>1.9      </td><td>virginica</td></tr>\n",
       "\t<tr><td>6.8      </td><td>3.0      </td><td>5.5      </td><td>2.1      </td><td>virginica</td></tr>\n",
       "\t<tr><td>5.7      </td><td>2.5      </td><td>5.0      </td><td>2.0      </td><td>virginica</td></tr>\n",
       "\t<tr><td>5.8      </td><td>2.8      </td><td>5.1      </td><td>2.4      </td><td>virginica</td></tr>\n",
       "\t<tr><td>6.4      </td><td>3.2      </td><td>5.3      </td><td>2.3      </td><td>virginica</td></tr>\n",
       "\t<tr><td>6.5      </td><td>3.0      </td><td>5.5      </td><td>1.8      </td><td>virginica</td></tr>\n",
       "\t<tr><td>7.7      </td><td>3.8      </td><td>6.7      </td><td>2.2      </td><td>virginica</td></tr>\n",
       "\t<tr><td>7.7      </td><td>2.6      </td><td>6.9      </td><td>2.3      </td><td>virginica</td></tr>\n",
       "\t<tr><td>6.0      </td><td>2.2      </td><td>5.0      </td><td>1.5      </td><td>virginica</td></tr>\n",
       "\t<tr><td>6.9      </td><td>3.2      </td><td>5.7      </td><td>2.3      </td><td>virginica</td></tr>\n",
       "\t<tr><td>5.6      </td><td>2.8      </td><td>4.9      </td><td>2.0      </td><td>virginica</td></tr>\n",
       "\t<tr><td>7.7      </td><td>2.8      </td><td>6.7      </td><td>2.0      </td><td>virginica</td></tr>\n",
       "\t<tr><td>6.3      </td><td>2.7      </td><td>4.9      </td><td>1.8      </td><td>virginica</td></tr>\n",
       "\t<tr><td>6.7      </td><td>3.3      </td><td>5.7      </td><td>2.1      </td><td>virginica</td></tr>\n",
       "\t<tr><td>7.2      </td><td>3.2      </td><td>6.0      </td><td>1.8      </td><td>virginica</td></tr>\n",
       "\t<tr><td>6.2      </td><td>2.8      </td><td>4.8      </td><td>1.8      </td><td>virginica</td></tr>\n",
       "\t<tr><td>6.1      </td><td>3.0      </td><td>4.9      </td><td>1.8      </td><td>virginica</td></tr>\n",
       "\t<tr><td>6.4      </td><td>2.8      </td><td>5.6      </td><td>2.1      </td><td>virginica</td></tr>\n",
       "\t<tr><td>7.2      </td><td>3.0      </td><td>5.8      </td><td>1.6      </td><td>virginica</td></tr>\n",
       "\t<tr><td>7.4      </td><td>2.8      </td><td>6.1      </td><td>1.9      </td><td>virginica</td></tr>\n",
       "\t<tr><td>7.9      </td><td>3.8      </td><td>6.4      </td><td>2.0      </td><td>virginica</td></tr>\n",
       "\t<tr><td>6.4      </td><td>2.8      </td><td>5.6      </td><td>2.2      </td><td>virginica</td></tr>\n",
       "\t<tr><td>6.3      </td><td>2.8      </td><td>5.1      </td><td>1.5      </td><td>virginica</td></tr>\n",
       "\t<tr><td>6.1      </td><td>2.6      </td><td>5.6      </td><td>1.4      </td><td>virginica</td></tr>\n",
       "\t<tr><td>7.7      </td><td>3.0      </td><td>6.1      </td><td>2.3      </td><td>virginica</td></tr>\n",
       "\t<tr><td>6.3      </td><td>3.4      </td><td>5.6      </td><td>2.4      </td><td>virginica</td></tr>\n",
       "\t<tr><td>6.4      </td><td>3.1      </td><td>5.5      </td><td>1.8      </td><td>virginica</td></tr>\n",
       "\t<tr><td>6.0      </td><td>3.0      </td><td>4.8      </td><td>1.8      </td><td>virginica</td></tr>\n",
       "\t<tr><td>6.9      </td><td>3.1      </td><td>5.4      </td><td>2.1      </td><td>virginica</td></tr>\n",
       "\t<tr><td>6.7      </td><td>3.1      </td><td>5.6      </td><td>2.4      </td><td>virginica</td></tr>\n",
       "\t<tr><td>6.9      </td><td>3.1      </td><td>5.1      </td><td>2.3      </td><td>virginica</td></tr>\n",
       "\t<tr><td>5.8      </td><td>2.7      </td><td>5.1      </td><td>1.9      </td><td>virginica</td></tr>\n",
       "\t<tr><td>6.8      </td><td>3.2      </td><td>5.9      </td><td>2.3      </td><td>virginica</td></tr>\n",
       "\t<tr><td>6.7      </td><td>3.3      </td><td>5.7      </td><td>2.5      </td><td>virginica</td></tr>\n",
       "\t<tr><td>6.7      </td><td>3.0      </td><td>5.2      </td><td>2.3      </td><td>virginica</td></tr>\n",
       "\t<tr><td>6.3      </td><td>2.5      </td><td>5.0      </td><td>1.9      </td><td>virginica</td></tr>\n",
       "\t<tr><td>6.5      </td><td>3.0      </td><td>5.2      </td><td>2.0      </td><td>virginica</td></tr>\n",
       "\t<tr><td>6.2      </td><td>3.4      </td><td>5.4      </td><td>2.3      </td><td>virginica</td></tr>\n",
       "\t<tr><td>5.9      </td><td>3.0      </td><td>5.1      </td><td>1.8      </td><td>virginica</td></tr>\n",
       "</tbody>\n",
       "</table>\n"
      ],
      "text/latex": [
       "\\begin{tabular}{r|lllll}\n",
       " Sepal.Length & Sepal.Width & Petal.Length & Petal.Width & Species\\\\\n",
       "\\hline\n",
       "\t 6.3       & 3.3       & 6.0       & 2.5       & virginica\\\\\n",
       "\t 5.8       & 2.7       & 5.1       & 1.9       & virginica\\\\\n",
       "\t 7.1       & 3.0       & 5.9       & 2.1       & virginica\\\\\n",
       "\t 6.3       & 2.9       & 5.6       & 1.8       & virginica\\\\\n",
       "\t 6.5       & 3.0       & 5.8       & 2.2       & virginica\\\\\n",
       "\t 7.6       & 3.0       & 6.6       & 2.1       & virginica\\\\\n",
       "\t 4.9       & 2.5       & 4.5       & 1.7       & virginica\\\\\n",
       "\t 7.3       & 2.9       & 6.3       & 1.8       & virginica\\\\\n",
       "\t 6.7       & 2.5       & 5.8       & 1.8       & virginica\\\\\n",
       "\t 7.2       & 3.6       & 6.1       & 2.5       & virginica\\\\\n",
       "\t 6.5       & 3.2       & 5.1       & 2.0       & virginica\\\\\n",
       "\t 6.4       & 2.7       & 5.3       & 1.9       & virginica\\\\\n",
       "\t 6.8       & 3.0       & 5.5       & 2.1       & virginica\\\\\n",
       "\t 5.7       & 2.5       & 5.0       & 2.0       & virginica\\\\\n",
       "\t 5.8       & 2.8       & 5.1       & 2.4       & virginica\\\\\n",
       "\t 6.4       & 3.2       & 5.3       & 2.3       & virginica\\\\\n",
       "\t 6.5       & 3.0       & 5.5       & 1.8       & virginica\\\\\n",
       "\t 7.7       & 3.8       & 6.7       & 2.2       & virginica\\\\\n",
       "\t 7.7       & 2.6       & 6.9       & 2.3       & virginica\\\\\n",
       "\t 6.0       & 2.2       & 5.0       & 1.5       & virginica\\\\\n",
       "\t 6.9       & 3.2       & 5.7       & 2.3       & virginica\\\\\n",
       "\t 5.6       & 2.8       & 4.9       & 2.0       & virginica\\\\\n",
       "\t 7.7       & 2.8       & 6.7       & 2.0       & virginica\\\\\n",
       "\t 6.3       & 2.7       & 4.9       & 1.8       & virginica\\\\\n",
       "\t 6.7       & 3.3       & 5.7       & 2.1       & virginica\\\\\n",
       "\t 7.2       & 3.2       & 6.0       & 1.8       & virginica\\\\\n",
       "\t 6.2       & 2.8       & 4.8       & 1.8       & virginica\\\\\n",
       "\t 6.1       & 3.0       & 4.9       & 1.8       & virginica\\\\\n",
       "\t 6.4       & 2.8       & 5.6       & 2.1       & virginica\\\\\n",
       "\t 7.2       & 3.0       & 5.8       & 1.6       & virginica\\\\\n",
       "\t 7.4       & 2.8       & 6.1       & 1.9       & virginica\\\\\n",
       "\t 7.9       & 3.8       & 6.4       & 2.0       & virginica\\\\\n",
       "\t 6.4       & 2.8       & 5.6       & 2.2       & virginica\\\\\n",
       "\t 6.3       & 2.8       & 5.1       & 1.5       & virginica\\\\\n",
       "\t 6.1       & 2.6       & 5.6       & 1.4       & virginica\\\\\n",
       "\t 7.7       & 3.0       & 6.1       & 2.3       & virginica\\\\\n",
       "\t 6.3       & 3.4       & 5.6       & 2.4       & virginica\\\\\n",
       "\t 6.4       & 3.1       & 5.5       & 1.8       & virginica\\\\\n",
       "\t 6.0       & 3.0       & 4.8       & 1.8       & virginica\\\\\n",
       "\t 6.9       & 3.1       & 5.4       & 2.1       & virginica\\\\\n",
       "\t 6.7       & 3.1       & 5.6       & 2.4       & virginica\\\\\n",
       "\t 6.9       & 3.1       & 5.1       & 2.3       & virginica\\\\\n",
       "\t 5.8       & 2.7       & 5.1       & 1.9       & virginica\\\\\n",
       "\t 6.8       & 3.2       & 5.9       & 2.3       & virginica\\\\\n",
       "\t 6.7       & 3.3       & 5.7       & 2.5       & virginica\\\\\n",
       "\t 6.7       & 3.0       & 5.2       & 2.3       & virginica\\\\\n",
       "\t 6.3       & 2.5       & 5.0       & 1.9       & virginica\\\\\n",
       "\t 6.5       & 3.0       & 5.2       & 2.0       & virginica\\\\\n",
       "\t 6.2       & 3.4       & 5.4       & 2.3       & virginica\\\\\n",
       "\t 5.9       & 3.0       & 5.1       & 1.8       & virginica\\\\\n",
       "\\end{tabular}\n"
      ],
      "text/markdown": [
       "\n",
       "Sepal.Length | Sepal.Width | Petal.Length | Petal.Width | Species | \n",
       "|---|---|---|---|---|---|---|---|---|---|---|---|---|---|---|---|---|---|---|---|---|---|---|---|---|---|---|---|---|---|---|---|---|---|---|---|---|---|---|---|---|---|---|---|---|---|---|---|---|---|\n",
       "| 6.3       | 3.3       | 6.0       | 2.5       | virginica | \n",
       "| 5.8       | 2.7       | 5.1       | 1.9       | virginica | \n",
       "| 7.1       | 3.0       | 5.9       | 2.1       | virginica | \n",
       "| 6.3       | 2.9       | 5.6       | 1.8       | virginica | \n",
       "| 6.5       | 3.0       | 5.8       | 2.2       | virginica | \n",
       "| 7.6       | 3.0       | 6.6       | 2.1       | virginica | \n",
       "| 4.9       | 2.5       | 4.5       | 1.7       | virginica | \n",
       "| 7.3       | 2.9       | 6.3       | 1.8       | virginica | \n",
       "| 6.7       | 2.5       | 5.8       | 1.8       | virginica | \n",
       "| 7.2       | 3.6       | 6.1       | 2.5       | virginica | \n",
       "| 6.5       | 3.2       | 5.1       | 2.0       | virginica | \n",
       "| 6.4       | 2.7       | 5.3       | 1.9       | virginica | \n",
       "| 6.8       | 3.0       | 5.5       | 2.1       | virginica | \n",
       "| 5.7       | 2.5       | 5.0       | 2.0       | virginica | \n",
       "| 5.8       | 2.8       | 5.1       | 2.4       | virginica | \n",
       "| 6.4       | 3.2       | 5.3       | 2.3       | virginica | \n",
       "| 6.5       | 3.0       | 5.5       | 1.8       | virginica | \n",
       "| 7.7       | 3.8       | 6.7       | 2.2       | virginica | \n",
       "| 7.7       | 2.6       | 6.9       | 2.3       | virginica | \n",
       "| 6.0       | 2.2       | 5.0       | 1.5       | virginica | \n",
       "| 6.9       | 3.2       | 5.7       | 2.3       | virginica | \n",
       "| 5.6       | 2.8       | 4.9       | 2.0       | virginica | \n",
       "| 7.7       | 2.8       | 6.7       | 2.0       | virginica | \n",
       "| 6.3       | 2.7       | 4.9       | 1.8       | virginica | \n",
       "| 6.7       | 3.3       | 5.7       | 2.1       | virginica | \n",
       "| 7.2       | 3.2       | 6.0       | 1.8       | virginica | \n",
       "| 6.2       | 2.8       | 4.8       | 1.8       | virginica | \n",
       "| 6.1       | 3.0       | 4.9       | 1.8       | virginica | \n",
       "| 6.4       | 2.8       | 5.6       | 2.1       | virginica | \n",
       "| 7.2       | 3.0       | 5.8       | 1.6       | virginica | \n",
       "| 7.4       | 2.8       | 6.1       | 1.9       | virginica | \n",
       "| 7.9       | 3.8       | 6.4       | 2.0       | virginica | \n",
       "| 6.4       | 2.8       | 5.6       | 2.2       | virginica | \n",
       "| 6.3       | 2.8       | 5.1       | 1.5       | virginica | \n",
       "| 6.1       | 2.6       | 5.6       | 1.4       | virginica | \n",
       "| 7.7       | 3.0       | 6.1       | 2.3       | virginica | \n",
       "| 6.3       | 3.4       | 5.6       | 2.4       | virginica | \n",
       "| 6.4       | 3.1       | 5.5       | 1.8       | virginica | \n",
       "| 6.0       | 3.0       | 4.8       | 1.8       | virginica | \n",
       "| 6.9       | 3.1       | 5.4       | 2.1       | virginica | \n",
       "| 6.7       | 3.1       | 5.6       | 2.4       | virginica | \n",
       "| 6.9       | 3.1       | 5.1       | 2.3       | virginica | \n",
       "| 5.8       | 2.7       | 5.1       | 1.9       | virginica | \n",
       "| 6.8       | 3.2       | 5.9       | 2.3       | virginica | \n",
       "| 6.7       | 3.3       | 5.7       | 2.5       | virginica | \n",
       "| 6.7       | 3.0       | 5.2       | 2.3       | virginica | \n",
       "| 6.3       | 2.5       | 5.0       | 1.9       | virginica | \n",
       "| 6.5       | 3.0       | 5.2       | 2.0       | virginica | \n",
       "| 6.2       | 3.4       | 5.4       | 2.3       | virginica | \n",
       "| 5.9       | 3.0       | 5.1       | 1.8       | virginica | \n",
       "\n",
       "\n"
      ],
      "text/plain": [
       "   Sepal.Length Sepal.Width Petal.Length Petal.Width Species  \n",
       "1  6.3          3.3         6.0          2.5         virginica\n",
       "2  5.8          2.7         5.1          1.9         virginica\n",
       "3  7.1          3.0         5.9          2.1         virginica\n",
       "4  6.3          2.9         5.6          1.8         virginica\n",
       "5  6.5          3.0         5.8          2.2         virginica\n",
       "6  7.6          3.0         6.6          2.1         virginica\n",
       "7  4.9          2.5         4.5          1.7         virginica\n",
       "8  7.3          2.9         6.3          1.8         virginica\n",
       "9  6.7          2.5         5.8          1.8         virginica\n",
       "10 7.2          3.6         6.1          2.5         virginica\n",
       "11 6.5          3.2         5.1          2.0         virginica\n",
       "12 6.4          2.7         5.3          1.9         virginica\n",
       "13 6.8          3.0         5.5          2.1         virginica\n",
       "14 5.7          2.5         5.0          2.0         virginica\n",
       "15 5.8          2.8         5.1          2.4         virginica\n",
       "16 6.4          3.2         5.3          2.3         virginica\n",
       "17 6.5          3.0         5.5          1.8         virginica\n",
       "18 7.7          3.8         6.7          2.2         virginica\n",
       "19 7.7          2.6         6.9          2.3         virginica\n",
       "20 6.0          2.2         5.0          1.5         virginica\n",
       "21 6.9          3.2         5.7          2.3         virginica\n",
       "22 5.6          2.8         4.9          2.0         virginica\n",
       "23 7.7          2.8         6.7          2.0         virginica\n",
       "24 6.3          2.7         4.9          1.8         virginica\n",
       "25 6.7          3.3         5.7          2.1         virginica\n",
       "26 7.2          3.2         6.0          1.8         virginica\n",
       "27 6.2          2.8         4.8          1.8         virginica\n",
       "28 6.1          3.0         4.9          1.8         virginica\n",
       "29 6.4          2.8         5.6          2.1         virginica\n",
       "30 7.2          3.0         5.8          1.6         virginica\n",
       "31 7.4          2.8         6.1          1.9         virginica\n",
       "32 7.9          3.8         6.4          2.0         virginica\n",
       "33 6.4          2.8         5.6          2.2         virginica\n",
       "34 6.3          2.8         5.1          1.5         virginica\n",
       "35 6.1          2.6         5.6          1.4         virginica\n",
       "36 7.7          3.0         6.1          2.3         virginica\n",
       "37 6.3          3.4         5.6          2.4         virginica\n",
       "38 6.4          3.1         5.5          1.8         virginica\n",
       "39 6.0          3.0         4.8          1.8         virginica\n",
       "40 6.9          3.1         5.4          2.1         virginica\n",
       "41 6.7          3.1         5.6          2.4         virginica\n",
       "42 6.9          3.1         5.1          2.3         virginica\n",
       "43 5.8          2.7         5.1          1.9         virginica\n",
       "44 6.8          3.2         5.9          2.3         virginica\n",
       "45 6.7          3.3         5.7          2.5         virginica\n",
       "46 6.7          3.0         5.2          2.3         virginica\n",
       "47 6.3          2.5         5.0          1.9         virginica\n",
       "48 6.5          3.0         5.2          2.0         virginica\n",
       "49 6.2          3.4         5.4          2.3         virginica\n",
       "50 5.9          3.0         5.1          1.8         virginica"
      ]
     },
     "metadata": {},
     "output_type": "display_data"
    }
   ],
   "source": [
    "f2 <- filter(newdf2, Species %in% c(\"virginica\")) # If text ,\"Abcd\"\n",
    "f2"
   ]
  },
  {
   "cell_type": "code",
   "execution_count": 12,
   "metadata": {},
   "outputs": [],
   "source": [
    "# Subset, Filter difference\n",
    "# select, mutate"
   ]
  },
  {
   "cell_type": "code",
   "execution_count": 17,
   "metadata": {},
   "outputs": [
    {
     "data": {
      "text/html": [
       "<table>\n",
       "<thead><tr><th scope=col>SL</th><th scope=col>SW</th><th scope=col>PL</th><th scope=col>PW</th><th scope=col>SP</th></tr></thead>\n",
       "<tbody>\n",
       "\t<tr><td>5.1   </td><td>3.5   </td><td>1.4   </td><td>0.2   </td><td>setosa</td></tr>\n",
       "\t<tr><td>4.9   </td><td>3.0   </td><td>1.4   </td><td>0.2   </td><td>setosa</td></tr>\n",
       "\t<tr><td>4.7   </td><td>3.2   </td><td>1.3   </td><td>0.2   </td><td>setosa</td></tr>\n",
       "\t<tr><td>4.6   </td><td>3.1   </td><td>1.5   </td><td>0.2   </td><td>setosa</td></tr>\n",
       "\t<tr><td>5.0   </td><td>3.6   </td><td>1.4   </td><td>0.2   </td><td>setosa</td></tr>\n",
       "\t<tr><td>5.4   </td><td>3.9   </td><td>1.7   </td><td>0.4   </td><td>setosa</td></tr>\n",
       "</tbody>\n",
       "</table>\n"
      ],
      "text/latex": [
       "\\begin{tabular}{r|lllll}\n",
       " SL & SW & PL & PW & SP\\\\\n",
       "\\hline\n",
       "\t 5.1    & 3.5    & 1.4    & 0.2    & setosa\\\\\n",
       "\t 4.9    & 3.0    & 1.4    & 0.2    & setosa\\\\\n",
       "\t 4.7    & 3.2    & 1.3    & 0.2    & setosa\\\\\n",
       "\t 4.6    & 3.1    & 1.5    & 0.2    & setosa\\\\\n",
       "\t 5.0    & 3.6    & 1.4    & 0.2    & setosa\\\\\n",
       "\t 5.4    & 3.9    & 1.7    & 0.4    & setosa\\\\\n",
       "\\end{tabular}\n"
      ],
      "text/markdown": [
       "\n",
       "SL | SW | PL | PW | SP | \n",
       "|---|---|---|---|---|---|\n",
       "| 5.1    | 3.5    | 1.4    | 0.2    | setosa | \n",
       "| 4.9    | 3.0    | 1.4    | 0.2    | setosa | \n",
       "| 4.7    | 3.2    | 1.3    | 0.2    | setosa | \n",
       "| 4.6    | 3.1    | 1.5    | 0.2    | setosa | \n",
       "| 5.0    | 3.6    | 1.4    | 0.2    | setosa | \n",
       "| 5.4    | 3.9    | 1.7    | 0.4    | setosa | \n",
       "\n",
       "\n"
      ],
      "text/plain": [
       "  SL  SW  PL  PW  SP    \n",
       "1 5.1 3.5 1.4 0.2 setosa\n",
       "2 4.9 3.0 1.4 0.2 setosa\n",
       "3 4.7 3.2 1.3 0.2 setosa\n",
       "4 4.6 3.1 1.5 0.2 setosa\n",
       "5 5.0 3.6 1.4 0.2 setosa\n",
       "6 5.4 3.9 1.7 0.4 setosa"
      ]
     },
     "metadata": {},
     "output_type": "display_data"
    }
   ],
   "source": [
    "finaldf <- select(newdf2, \n",
    "      SL =  Sepal.Length,\n",
    "      SW = Sepal.Width,\n",
    "       PL = Petal.Length ,\n",
    "       PW = Petal.Width ,\n",
    "       SP = Species\n",
    "      )\n",
    "\n",
    "head(finaldf)\n",
    "# Case sensitive - Observe"
   ]
  },
  {
   "cell_type": "code",
   "execution_count": 19,
   "metadata": {},
   "outputs": [
    {
     "data": {
      "text/html": [
       "<table>\n",
       "<thead><tr><th scope=col>SL</th><th scope=col>SW</th><th scope=col>PL</th><th scope=col>PW</th><th scope=col>SP</th><th scope=col>LengthRatio</th><th scope=col>WidthRatio</th></tr></thead>\n",
       "<tbody>\n",
       "\t<tr><td>5.1     </td><td>3.5     </td><td>1.4     </td><td>0.2     </td><td>setosa  </td><td>3.642857</td><td>17.50   </td></tr>\n",
       "\t<tr><td>4.9     </td><td>3.0     </td><td>1.4     </td><td>0.2     </td><td>setosa  </td><td>3.500000</td><td>15.00   </td></tr>\n",
       "\t<tr><td>4.7     </td><td>3.2     </td><td>1.3     </td><td>0.2     </td><td>setosa  </td><td>3.615385</td><td>16.00   </td></tr>\n",
       "\t<tr><td>4.6     </td><td>3.1     </td><td>1.5     </td><td>0.2     </td><td>setosa  </td><td>3.066667</td><td>15.50   </td></tr>\n",
       "\t<tr><td>5.0     </td><td>3.6     </td><td>1.4     </td><td>0.2     </td><td>setosa  </td><td>3.571429</td><td>18.00   </td></tr>\n",
       "\t<tr><td>5.4     </td><td>3.9     </td><td>1.7     </td><td>0.4     </td><td>setosa  </td><td>3.176471</td><td> 9.75   </td></tr>\n",
       "</tbody>\n",
       "</table>\n"
      ],
      "text/latex": [
       "\\begin{tabular}{r|lllllll}\n",
       " SL & SW & PL & PW & SP & LengthRatio & WidthRatio\\\\\n",
       "\\hline\n",
       "\t 5.1      & 3.5      & 1.4      & 0.2      & setosa   & 3.642857 & 17.50   \\\\\n",
       "\t 4.9      & 3.0      & 1.4      & 0.2      & setosa   & 3.500000 & 15.00   \\\\\n",
       "\t 4.7      & 3.2      & 1.3      & 0.2      & setosa   & 3.615385 & 16.00   \\\\\n",
       "\t 4.6      & 3.1      & 1.5      & 0.2      & setosa   & 3.066667 & 15.50   \\\\\n",
       "\t 5.0      & 3.6      & 1.4      & 0.2      & setosa   & 3.571429 & 18.00   \\\\\n",
       "\t 5.4      & 3.9      & 1.7      & 0.4      & setosa   & 3.176471 &  9.75   \\\\\n",
       "\\end{tabular}\n"
      ],
      "text/markdown": [
       "\n",
       "SL | SW | PL | PW | SP | LengthRatio | WidthRatio | \n",
       "|---|---|---|---|---|---|\n",
       "| 5.1      | 3.5      | 1.4      | 0.2      | setosa   | 3.642857 | 17.50    | \n",
       "| 4.9      | 3.0      | 1.4      | 0.2      | setosa   | 3.500000 | 15.00    | \n",
       "| 4.7      | 3.2      | 1.3      | 0.2      | setosa   | 3.615385 | 16.00    | \n",
       "| 4.6      | 3.1      | 1.5      | 0.2      | setosa   | 3.066667 | 15.50    | \n",
       "| 5.0      | 3.6      | 1.4      | 0.2      | setosa   | 3.571429 | 18.00    | \n",
       "| 5.4      | 3.9      | 1.7      | 0.4      | setosa   | 3.176471 |  9.75    | \n",
       "\n",
       "\n"
      ],
      "text/plain": [
       "  SL  SW  PL  PW  SP     LengthRatio WidthRatio\n",
       "1 5.1 3.5 1.4 0.2 setosa 3.642857    17.50     \n",
       "2 4.9 3.0 1.4 0.2 setosa 3.500000    15.00     \n",
       "3 4.7 3.2 1.3 0.2 setosa 3.615385    16.00     \n",
       "4 4.6 3.1 1.5 0.2 setosa 3.066667    15.50     \n",
       "5 5.0 3.6 1.4 0.2 setosa 3.571429    18.00     \n",
       "6 5.4 3.9 1.7 0.4 setosa 3.176471     9.75     "
      ]
     },
     "metadata": {},
     "output_type": "display_data"
    }
   ],
   "source": [
    "# Mutate - New columns - %>%\n",
    "finaldf <- finaldf %>%\n",
    "  mutate(LengthRatio = SL/PL , WidthRatio = SW/PW )\n",
    "\n",
    "head(finaldf)"
   ]
  },
  {
   "cell_type": "code",
   "execution_count": null,
   "metadata": {},
   "outputs": [],
   "source": []
  }
 ],
 "metadata": {
  "kernelspec": {
   "display_name": "R",
   "language": "R",
   "name": "ir"
  },
  "language_info": {
   "codemirror_mode": "r",
   "file_extension": ".r",
   "mimetype": "text/x-r-source",
   "name": "R",
   "pygments_lexer": "r",
   "version": "3.5.1"
  }
 },
 "nbformat": 4,
 "nbformat_minor": 2
}
