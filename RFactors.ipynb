{
 "cells": [
  {
   "cell_type": "code",
   "execution_count": 1,
   "metadata": {},
   "outputs": [],
   "source": [
    "# Factors\n",
    "# Character()\n",
    "# Numeric()\n",
    "\n"
   ]
  },
  {
   "cell_type": "code",
   "execution_count": 4,
   "metadata": {},
   "outputs": [
    {
     "data": {
      "text/html": [
       "<ol class=list-inline>\n",
       "\t<li>hyd</li>\n",
       "\t<li>Ban</li>\n",
       "\t<li>che</li>\n",
       "\t<li>hyd</li>\n",
       "\t<li>Mum</li>\n",
       "\t<li>del</li>\n",
       "\t<li>cal</li>\n",
       "\t<li>che</li>\n",
       "</ol>\n",
       "\n",
       "<details>\n",
       "\t<summary style=display:list-item;cursor:pointer>\n",
       "\t\t<strong>Levels</strong>:\n",
       "\t</summary>\n",
       "\t<ol class=list-inline>\n",
       "\t\t<li>'Ban'</li>\n",
       "\t\t<li>'cal'</li>\n",
       "\t\t<li>'che'</li>\n",
       "\t\t<li>'del'</li>\n",
       "\t\t<li>'hyd'</li>\n",
       "\t\t<li>'Mum'</li>\n",
       "\t</ol>\n",
       "</details>"
      ],
      "text/latex": [
       "\\begin{enumerate*}\n",
       "\\item hyd\n",
       "\\item Ban\n",
       "\\item che\n",
       "\\item hyd\n",
       "\\item Mum\n",
       "\\item del\n",
       "\\item cal\n",
       "\\item che\n",
       "\\end{enumerate*}\n",
       "\n",
       "\\emph{Levels}: \\begin{enumerate*}\n",
       "\\item 'Ban'\n",
       "\\item 'cal'\n",
       "\\item 'che'\n",
       "\\item 'del'\n",
       "\\item 'hyd'\n",
       "\\item 'Mum'\n",
       "\\end{enumerate*}\n"
      ],
      "text/markdown": [
       "1. hyd\n",
       "2. Ban\n",
       "3. che\n",
       "4. hyd\n",
       "5. Mum\n",
       "6. del\n",
       "7. cal\n",
       "8. che\n",
       "\n",
       "\n",
       "\n",
       "**Levels**: 1. 'Ban'\n",
       "2. 'cal'\n",
       "3. 'che'\n",
       "4. 'del'\n",
       "5. 'hyd'\n",
       "6. 'Mum'\n",
       "\n",
       "\n"
      ],
      "text/plain": [
       "[1] hyd Ban che hyd Mum del cal che\n",
       "Levels: Ban cal che del hyd Mum"
      ]
     },
     "metadata": {},
     "output_type": "display_data"
    }
   ],
   "source": [
    "state <- c(\"hyd\",\"Ban\",\"che\",\"hyd\",\"Mum\", \"del\",\"cal\",\"che\") \n",
    "\n",
    "# state\n",
    "factor(state) # factors means unique LIST for Groups\n",
    " "
   ]
  },
  {
   "cell_type": "code",
   "execution_count": 5,
   "metadata": {},
   "outputs": [
    {
     "data": {
      "text/html": [
       "<ol class=list-inline>\n",
       "\t<li>'Ban'</li>\n",
       "\t<li>'cal'</li>\n",
       "\t<li>'che'</li>\n",
       "\t<li>'del'</li>\n",
       "\t<li>'hyd'</li>\n",
       "\t<li>'Mum'</li>\n",
       "</ol>\n"
      ],
      "text/latex": [
       "\\begin{enumerate*}\n",
       "\\item 'Ban'\n",
       "\\item 'cal'\n",
       "\\item 'che'\n",
       "\\item 'del'\n",
       "\\item 'hyd'\n",
       "\\item 'Mum'\n",
       "\\end{enumerate*}\n"
      ],
      "text/markdown": [
       "1. 'Ban'\n",
       "2. 'cal'\n",
       "3. 'che'\n",
       "4. 'del'\n",
       "5. 'hyd'\n",
       "6. 'Mum'\n",
       "\n",
       "\n"
      ],
      "text/plain": [
       "[1] \"Ban\" \"cal\" \"che\" \"del\" \"hyd\" \"Mum\""
      ]
     },
     "metadata": {},
     "output_type": "display_data"
    }
   ],
   "source": [
    "x <- factor(state) \n",
    "levels(x)\n"
   ]
  },
  {
   "cell_type": "code",
   "execution_count": 8,
   "metadata": {},
   "outputs": [
    {
     "data": {
      "text/html": [
       "<table>\n",
       "<thead><tr><th scope=col>Ban</th><th scope=col>cal</th><th scope=col>che</th><th scope=col>del</th><th scope=col>hyd</th><th scope=col>Mum</th></tr></thead>\n",
       "<tbody>\n",
       "\t<tr><td>15</td><td>13</td><td>20</td><td>14</td><td>16</td><td>15</td></tr>\n",
       "</tbody>\n",
       "</table>\n"
      ],
      "text/latex": [
       "\\begin{tabular}{llllll}\n",
       " Ban & cal & che & del & hyd & Mum\\\\\n",
       "\\hline\n",
       "\t 15 & 13 & 20 & 14 & 16 & 15\\\\\n",
       "\\end{tabular}\n"
      ],
      "text/markdown": [
       "\n",
       "Ban | cal | che | del | hyd | Mum | \n",
       "|---|\n",
       "| 15 | 13 | 20 | 14 | 16 | 15 | \n",
       "\n",
       "\n"
      ],
      "text/plain": [
       "     Ban cal che del hyd Mum\n",
       "[1,] 15  13  20  14  16  15 "
      ]
     },
     "metadata": {},
     "output_type": "display_data"
    }
   ],
   "source": [
    "state <- c(\"hyd\",\"Ban\",\"che\",\"hyd\",\"Mum\", \"del\",\"cal\",\"che\") \n",
    "\n",
    "income <- c(10,15,18,22,15,14,13,22)\n",
    "t(tapply(income,state,mean)) # check for 'che'\n"
   ]
  },
  {
   "cell_type": "code",
   "execution_count": 9,
   "metadata": {},
   "outputs": [
    {
     "data": {
      "text/html": [
       "<ol class=list-inline>\n",
       "\t<li>hyd</li>\n",
       "\t<li>Ban</li>\n",
       "\t<li>che</li>\n",
       "\t<li>hyd</li>\n",
       "\t<li>Mum</li>\n",
       "\t<li>del</li>\n",
       "\t<li>cal</li>\n",
       "\t<li>che</li>\n",
       "</ol>\n",
       "\n",
       "<details>\n",
       "\t<summary style=display:list-item;cursor:pointer>\n",
       "\t\t<strong>Levels</strong>:\n",
       "\t</summary>\n",
       "\t<ol class=list-inline>\n",
       "\t\t<li>'Ban'</li>\n",
       "\t\t<li>'cal'</li>\n",
       "\t\t<li>'che'</li>\n",
       "\t\t<li>'del'</li>\n",
       "\t\t<li>'hyd'</li>\n",
       "\t\t<li>'Mum'</li>\n",
       "\t</ol>\n",
       "</details>"
      ],
      "text/latex": [
       "\\begin{enumerate*}\n",
       "\\item hyd\n",
       "\\item Ban\n",
       "\\item che\n",
       "\\item hyd\n",
       "\\item Mum\n",
       "\\item del\n",
       "\\item cal\n",
       "\\item che\n",
       "\\end{enumerate*}\n",
       "\n",
       "\\emph{Levels}: \\begin{enumerate*}\n",
       "\\item 'Ban'\n",
       "\\item 'cal'\n",
       "\\item 'che'\n",
       "\\item 'del'\n",
       "\\item 'hyd'\n",
       "\\item 'Mum'\n",
       "\\end{enumerate*}\n"
      ],
      "text/markdown": [
       "1. hyd\n",
       "2. Ban\n",
       "3. che\n",
       "4. hyd\n",
       "5. Mum\n",
       "6. del\n",
       "7. cal\n",
       "8. che\n",
       "\n",
       "\n",
       "\n",
       "**Levels**: 1. 'Ban'\n",
       "2. 'cal'\n",
       "3. 'che'\n",
       "4. 'del'\n",
       "5. 'hyd'\n",
       "6. 'Mum'\n",
       "\n",
       "\n"
      ],
      "text/plain": [
       "[1] hyd Ban che hyd Mum del cal che\n",
       "Levels: Ban < cal < che < del < hyd < Mum"
      ]
     },
     "metadata": {},
     "output_type": "display_data"
    }
   ],
   "source": [
    "ordered(state)\n"
   ]
  },
  {
   "cell_type": "code",
   "execution_count": 10,
   "metadata": {},
   "outputs": [],
   "source": [
    "# save.image(\"workmay29A.txt\")\n",
    "\n",
    "# load(\"workmay29A.txt\")\n"
   ]
  },
  {
   "cell_type": "code",
   "execution_count": null,
   "metadata": {},
   "outputs": [],
   "source": []
  }
 ],
 "metadata": {
  "kernelspec": {
   "display_name": "R",
   "language": "R",
   "name": "ir"
  },
  "language_info": {
   "codemirror_mode": "r",
   "file_extension": ".r",
   "mimetype": "text/x-r-source",
   "name": "R",
   "pygments_lexer": "r",
   "version": "3.5.0"
  }
 },
 "nbformat": 4,
 "nbformat_minor": 2
}
