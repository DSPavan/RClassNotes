{
 "cells": [
  {
   "cell_type": "code",
   "execution_count": null,
   "metadata": {},
   "outputs": [],
   "source": [
    "library(readr)\n",
    "\n",
    "analysis.anova <- read.csv(\"C:\\\\Users\\\\radha31\\\\Downloads\\\\train.csv\", sep=\",\", header = TRUE)\n",
    "\n",
    "str(analysis.anova)\n",
    "\n",
    "head(analysis.anova)"
   ]
  },
  {
   "cell_type": "code",
   "execution_count": 1,
   "metadata": {},
   "outputs": [
    {
     "name": "stderr",
     "output_type": "stream",
     "text": [
      "Warning message in file(file, \"rt\"):\n",
      "\"cannot open file 'C:\\Users\\radha\\Desktop\\Alex Outputs\\simple.csv': No such file or directory\""
     ]
    },
    {
     "ename": "ERROR",
     "evalue": "Error in file(file, \"rt\"): cannot open the connection\n",
     "output_type": "error",
     "traceback": [
      "Error in file(file, \"rt\"): cannot open the connection\nTraceback:\n",
      "1. read.csv(\"C:\\\\Users\\\\radha\\\\Desktop\\\\Alex Outputs\\\\simple.csv\")",
      "2. read.table(file = file, header = header, sep = sep, quote = quote, \n .     dec = dec, fill = fill, comment.char = comment.char, ...)",
      "3. file(file, \"rt\")"
     ]
    }
   ],
   "source": [
    "data <- read.csv(\"C:\\\\Users\\\\radha\\\\Desktop\\\\Alex Outputs\\\\simple.csv\")\n",
    "print(head(data))\n",
    "\n",
    "write.csv(df, file = 'data/car-speeds-cleaned.csv')\n",
    "print(str(data)) "
   ]
  },
  {
   "cell_type": "code",
   "execution_count": 2,
   "metadata": {},
   "outputs": [],
   "source": [
    "## require(XLConnect) , Not using\n",
    " \n",
    "#library(\"xlsx\")"
   ]
  },
  {
   "cell_type": "code",
   "execution_count": 4,
   "metadata": {},
   "outputs": [
    {
     "ename": "ERROR",
     "evalue": "Error: `path` does not exist: 'C:\\Users\\radha\\Desktop\\Alex Outputs\\sales1.xlsx'\n",
     "output_type": "error",
     "traceback": [
      "Error: `path` does not exist: 'C:\\Users\\radha\\Desktop\\Alex Outputs\\sales1.xlsx'\nTraceback:\n",
      "1. read_excel(filename1, sheet = \"sales\", range = cell_cols(\"B:D\"))",
      "2. check_file(path)",
      "3. stop(\"`path` does not exist: \", sQuote(path), call. = FALSE)"
     ]
    }
   ],
   "source": [
    "library(readxl)\n",
    "# xls files\n",
    "filename1 =\"C:\\\\Users\\\\radha\\\\Desktop\\\\Alex Outputs\\\\sales1.xlsx\"\n",
    "my_data <- read_excel(filename1 ,  sheet = \"sales\" , range = cell_cols(\"B:D\"))\n",
    "\n",
    "print(head(my_data))\n",
    "\n",
    "\n",
    "\n",
    "# range = \"C1:E4\"    \n",
    "# range = cell_rows(1:4)\n",
    "# range = cell_cols(\"B:D\")"
   ]
  },
  {
   "cell_type": "code",
   "execution_count": 5,
   "metadata": {},
   "outputs": [
    {
     "ename": "ERROR",
     "evalue": "Error in library(writexl): there is no package called 'writexl'\n",
     "output_type": "error",
     "traceback": [
      "Error in library(writexl): there is no package called 'writexl'\nTraceback:\n",
      "1. library(writexl)",
      "2. stop(txt, domain = NA)"
     ]
    }
   ],
   "source": [
    "library(writexl)\n",
    "filename2 =\"C:\\\\Users\\\\radha\\\\Desktop\\\\Alex Outputs\\\\sales1Ex.xlsx\"\n",
    "write_xlsx(my_data, filename2, col_names = TRUE)"
   ]
  },
  {
   "cell_type": "code",
   "execution_count": 9,
   "metadata": {},
   "outputs": [
    {
     "name": "stdout",
     "output_type": "stream",
     "text": [
      "<RECORDS>\n",
      "  <EMPLOYEE>\n",
      "    <ID>1</ID>\n",
      "    <NAME>Rick</NAME>\n",
      "    <SALARY>623.3</SALARY>\n",
      "    <STARTDATE>1/1/2012</STARTDATE>\n",
      "    <DEPT>IT</DEPT>\n",
      "  </EMPLOYEE>\n",
      "  <EMPLOYEE>\n",
      "    <ID>2</ID>\n",
      "    <NAME>Dan</NAME>\n",
      "    <SALARY>515.2</SALARY>\n",
      "    <STARTDATE>9/23/2013</STARTDATE>\n",
      "    <DEPT>Operations</DEPT>\n",
      "  </EMPLOYEE>\n",
      "  <EMPLOYEE>\n",
      "    <ID>3</ID>\n",
      "    <NAME>Michelle</NAME>\n",
      "    <SALARY>611</SALARY>\n",
      "    <STARTDATE>11/15/2014</STARTDATE>\n",
      "    <DEPT>IT</DEPT>\n",
      "  </EMPLOYEE>\n",
      "  <EMPLOYEE>\n",
      "    <ID>4</ID>\n",
      "    <NAME>Ryan</NAME>\n",
      "    <SALARY>729</SALARY>\n",
      "    <STARTDATE>5/11/2014</STARTDATE>\n",
      "    <DEPT>HR</DEPT>\n",
      "  </EMPLOYEE>\n",
      "  <EMPLOYEE>\n",
      "    <ID>5</ID>\n",
      "    <NAME>Gary</NAME>\n",
      "    <SALARY>843.25</SALARY>\n",
      "    <STARTDATE>3/27/2015</STARTDATE>\n",
      "    <DEPT>Finance</DEPT>\n",
      "  </EMPLOYEE>\n",
      "  <EMPLOYEE>\n",
      "    <ID>6</ID>\n",
      "    <NAME>Nina</NAME>\n",
      "    <SALARY>578</SALARY>\n",
      "    <STARTDATE>5/21/2013</STARTDATE>\n",
      "    <DEPT>IT</DEPT>\n",
      "  </EMPLOYEE>\n",
      "  <EMPLOYEE>\n",
      "    <ID>7</ID>\n",
      "    <NAME>Simon</NAME>\n",
      "    <SALARY>632.8</SALARY>\n",
      "    <STARTDATE>7/30/2013</STARTDATE>\n",
      "    <DEPT>Operations</DEPT>\n",
      "  </EMPLOYEE>\n",
      "  <EMPLOYEE>\n",
      "    <ID>8</ID>\n",
      "    <NAME>Guru</NAME>\n",
      "    <SALARY>722.5</SALARY>\n",
      "    <STARTDATE>6/17/2014</STARTDATE>\n",
      "    <DEPT>Finance</DEPT>\n",
      "  </EMPLOYEE>\n",
      "</RECORDS> \n",
      "[1] 8\n",
      "$EMPLOYEE\n",
      "<EMPLOYEE>\n",
      "  <ID>1</ID>\n",
      "  <NAME>Rick</NAME>\n",
      "  <SALARY>623.3</SALARY>\n",
      "  <STARTDATE>1/1/2012</STARTDATE>\n",
      "  <DEPT>IT</DEPT>\n",
      "</EMPLOYEE> \n",
      "\n",
      "attr(,\"class\")\n",
      "[1] \"XMLInternalNodeList\" \"XMLNodeList\"        \n",
      "<ID>1</ID> \n",
      "  ID     NAME SALARY  STARTDATE       DEPT\n",
      "1  1     Rick  623.3   1/1/2012         IT\n",
      "2  2      Dan  515.2  9/23/2013 Operations\n",
      "3  3 Michelle    611 11/15/2014         IT\n",
      "4  4     Ryan    729  5/11/2014         HR\n",
      "5  5     Gary 843.25  3/27/2015    Finance\n",
      "6  6     Nina    578  5/21/2013         IT\n",
      "7  7    Simon  632.8  7/30/2013 Operations\n",
      "8  8     Guru  722.5  6/17/2014    Finance\n"
     ]
    }
   ],
   "source": [
    "# XML\n",
    "library(\"XML\")\n",
    "filename = \"C:\\\\Users\\\\HP\\\\downloads\\\\readxml.xml\"\n",
    "result <- xmlParse(file = filename)\n",
    "# Print the result.\n",
    "#print(result)\n",
    "\n",
    "# Exract the root node form the xml file.\n",
    "rootnode <- xmlRoot(result)\n",
    "# Find number of nodes in the root.\n",
    "rootsize <- xmlSize(rootnode)\n",
    "# Print the result.\n",
    "print(rootnode)\n",
    "print(rootsize) \n",
    "\n",
    "print(rootnode[1])\n",
    "# Get the first element of the first node.\n",
    "print(rootnode[[1]][[1]])\n",
    "\n",
    "xmldataframe <- xmlToDataFrame(result)\n",
    "print(xmldataframe)"
   ]
  },
  {
   "cell_type": "code",
   "execution_count": 10,
   "metadata": {},
   "outputs": [
    {
     "name": "stdout",
     "output_type": "stream",
     "text": [
      "$kind\n",
      "[1] \"youtube#searchListResponse\"\n",
      "\n",
      "$etag\n",
      "[1] \"\\\"m2yskBQFythfE4irbTIeOgYYfBU/PaiEDiVxOyCWelLPuuwa9LKz3Gk\\\"\"\n",
      "\n",
      "$nextPageToken\n",
      "[1] \"CAUQAA\"\n",
      "\n",
      "$regionCode\n",
      "[1] \"KE\"\n",
      "\n",
      "$pageInfo\n",
      "$pageInfo$totalResults\n",
      "[1] 4249\n",
      "\n",
      "$pageInfo$resultsPerPage\n",
      "[1] 5\n",
      "\n",
      "\n",
      "$items\n",
      "$items[[1]]\n",
      "$items[[1]]$kind\n",
      "[1] \"youtube#searchResult\"\n",
      "\n",
      "$items[[1]]$etag\n",
      "[1] \"\\\"m2yskBQFythfE4irbTIeOgYYfBU/QpOIr3QKlV5EUlzfFcVvDiJT0hw\\\"\"\n",
      "\n",
      "$items[[1]]$id\n",
      "$items[[1]]$id$kind\n",
      "[1] \"youtube#channel\"\n",
      "\n",
      "$items[[1]]$id$channelId\n",
      "[1] \"UCJowOS1R0FnhipXVqEnYU1A\"\n",
      "\n",
      "\n",
      "\n",
      "$items[[2]]\n",
      "$items[[2]]$kind\n",
      "[1] \"youtube#searchResult\"\n",
      "\n",
      "$items[[2]]$etag\n",
      "[1] \"\\\"m2yskBQFythfE4irbTIeOgYYfBU/AWutzVOt_5p1iLVifyBdfoSTf9E\\\"\"\n",
      "\n",
      "$items[[2]]$id\n",
      "$items[[2]]$id$kind\n",
      "[1] \"youtube#video\"\n",
      "\n",
      "$items[[2]]$id$videoId\n",
      "[1] \"Eqa2nAAhHN0\"\n",
      "\n",
      "\n",
      "\n",
      "$items[[3]]\n",
      "$items[[3]]$kind\n",
      "[1] \"youtube#searchResult\"\n",
      "\n",
      "$items[[3]]$etag\n",
      "[1] \"\\\"m2yskBQFythfE4irbTIeOgYYfBU/2dIR9BTfr7QphpBuY3hPU-h5u-4\\\"\"\n",
      "\n",
      "$items[[3]]$id\n",
      "$items[[3]]$id$kind\n",
      "[1] \"youtube#video\"\n",
      "\n",
      "$items[[3]]$id$videoId\n",
      "[1] \"IirngItQuVs\"\n",
      "\n",
      "\n",
      "\n",
      "\n",
      "[1] \"KE\"\n",
      "                        kind\n",
      "1 youtube#searchListResponse\n",
      "                                                       etag nextPageToken\n",
      "1 \"m2yskBQFythfE4irbTIeOgYYfBU/PaiEDiVxOyCWelLPuuwa9LKz3Gk\"        CAUQAA\n",
      "  regionCode pageInfo.totalResults pageInfo.resultsPerPage           items.kind\n",
      "1         KE                  4249                       5 youtube#searchResult\n",
      "                                                 items.etag   items.id.kind\n",
      "1 \"m2yskBQFythfE4irbTIeOgYYfBU/QpOIr3QKlV5EUlzfFcVvDiJT0hw\" youtube#channel\n",
      "        items.id.channelId         items.kind.1\n",
      "1 UCJowOS1R0FnhipXVqEnYU1A youtube#searchResult\n",
      "                                               items.etag.1 items.id.kind.1\n",
      "1 \"m2yskBQFythfE4irbTIeOgYYfBU/AWutzVOt_5p1iLVifyBdfoSTf9E\"   youtube#video\n",
      "  items.id.videoId         items.kind.2\n",
      "1      Eqa2nAAhHN0 youtube#searchResult\n",
      "                                               items.etag.2 items.id.kind.2\n",
      "1 \"m2yskBQFythfE4irbTIeOgYYfBU/2dIR9BTfr7QphpBuY3hPU-h5u-4\"   youtube#video\n",
      "  items.id.videoId.1\n",
      "1        IirngItQuVs\n",
      "[1] youtube#searchListResponse\n",
      "Levels: youtube#searchListResponse\n"
     ]
    }
   ],
   "source": [
    "library(\"rjson\")\n",
    "filename = \"C:\\\\Users\\\\HP\\\\downloads\\\\readjson2.json\"\n",
    "# Give the input file name to the function.\n",
    "result <- fromJSON(file = filename )\n",
    "# Print the result.\n",
    "print(result)\n",
    "\n",
    "print(result$regionCode)\n",
    "json_data_frame <- as.data.frame(result)\n",
    "print(json_data_frame)\n",
    "\n",
    "print(json_data_frame$kind)\n"
   ]
  },
  {
   "cell_type": "code",
   "execution_count": null,
   "metadata": {},
   "outputs": [],
   "source": []
  }
 ],
 "metadata": {
  "kernelspec": {
   "display_name": "R",
   "language": "R",
   "name": "ir"
  },
  "language_info": {
   "codemirror_mode": "r",
   "file_extension": ".r",
   "mimetype": "text/x-r-source",
   "name": "R",
   "pygments_lexer": "r",
   "version": "3.5.1"
  }
 },
 "nbformat": 4,
 "nbformat_minor": 2
}
