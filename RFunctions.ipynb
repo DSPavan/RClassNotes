{
 "cells": [
  {
   "cell_type": "code",
   "execution_count": 1,
   "metadata": {},
   "outputs": [
    {
     "name": "stdout",
     "output_type": "stream",
     "text": [
      "[1] \"4 raised to the power 4 is 256\"\n"
     ]
    }
   ],
   "source": [
    "pow <- function(x, y) {\n",
    "  # function to print x raised to the power y\n",
    "  result <- x^y\n",
    "  print(paste(x,\"raised to the power\", y, \"is\", result))\n",
    "}\n",
    "\n",
    "# Calling any function\n",
    "pow(4,4)\n",
    "\n",
    "# return is important"
   ]
  },
  {
   "cell_type": "code",
   "execution_count": 3,
   "metadata": {},
   "outputs": [
    {
     "data": {
      "text/html": [
       "'4 raised to the power 4 is 256'"
      ],
      "text/latex": [
       "'4 raised to the power 4 is 256'"
      ],
      "text/markdown": [
       "'4 raised to the power 4 is 256'"
      ],
      "text/plain": [
       "[1] \"4 raised to the power 4 is 256\""
      ]
     },
     "metadata": {},
     "output_type": "display_data"
    }
   ],
   "source": [
    "pow <- function(x, y) {\n",
    "  # function to print x raised to the power y\n",
    "  result <- x^y\n",
    "  finalout <- paste(x,\"raised to the power\", y, \"is\", result)\n",
    "  return(finalout)\n",
    "}\n",
    "\n",
    "# Calling any function\n",
    "pow(4,4)"
   ]
  },
  {
   "cell_type": "code",
   "execution_count": 4,
   "metadata": {},
   "outputs": [
    {
     "name": "stdout",
     "output_type": "stream",
     "text": [
      " [1]  17  34  51  68  85 102 119 136 153 170\n"
     ]
    }
   ],
   "source": [
    "## TAb cal\n",
    "\n",
    "tabcal <- function(x, y) {\n",
    " \n",
    "  result <- x*y\n",
    "  print(result)\n",
    "}\n",
    "# for new line, use  - cat\n",
    "# Calling any function\n",
    "tabcal(17,1:10)"
   ]
  },
  {
   "cell_type": "code",
   "execution_count": 5,
   "metadata": {},
   "outputs": [
    {
     "name": "stdout",
     "output_type": "stream",
     "text": [
      "[1] \"4 raised to the power 2 is 16\"\n"
     ]
    }
   ],
   "source": [
    "##\n",
    "# Default value\n",
    "pow <- function(x, y=2) {\n",
    "  # function to print x raised to the power y\n",
    "  result <- x^y\n",
    "  print(paste(x,\"raised to the power\", y, \"is\", result))\n",
    "}\n",
    "\n",
    "# Calling any function\n",
    "pow(4) "
   ]
  },
  {
   "cell_type": "code",
   "execution_count": 6,
   "metadata": {},
   "outputs": [
    {
     "name": "stdout",
     "output_type": "stream",
     "text": [
      "[1] \"3 raised to the power 2 is 9\"\n"
     ]
    }
   ],
   "source": [
    "# parameter - names of the arguments\n",
    "pow <- function(x=3, y=2) {\n",
    "  # function to print x raised to the power y\n",
    "  result <- x^y\n",
    "  print(paste(x,\"raised to the power\", y, \"is\", result))\n",
    "}\n",
    "\n",
    "# Calling any function\n",
    "pow() "
   ]
  },
  {
   "cell_type": "code",
   "execution_count": 7,
   "metadata": {},
   "outputs": [
    {
     "name": "stdout",
     "output_type": "stream",
     "text": [
      "[1] 36\n",
      "[1] 6\n"
     ]
    },
    {
     "ename": "ERROR",
     "evalue": "Error in print(b): argument \"b\" is missing, with no default\n",
     "output_type": "error",
     "traceback": [
      "Error in print(b): argument \"b\" is missing, with no default\nTraceback:\n",
      "1. new.function(6)",
      "2. print(b)   # at line 6 of file <text>"
     ]
    }
   ],
   "source": [
    "## Lazy Evaluation\n",
    "\n",
    "new.function <- function(a, b) {\n",
    "  print(a^2)\n",
    "  print(a)\n",
    "  print(b)\n",
    "}\n",
    "# Lazy Evaluation\n",
    "# Evaluate the function without supplying one of the arguments.\n",
    "new.function(6)"
   ]
  },
  {
   "cell_type": "code",
   "execution_count": 10,
   "metadata": {},
   "outputs": [
    {
     "name": "stdout",
     "output_type": "stream",
     "text": [
      "[1] 36\n",
      "[1] 6\n",
      "[1] 2\n",
      " [1]  17  34  51  68  85 102 119 136 153 170\n",
      "[1] \"3 raised to the power 2 is 9\"\n"
     ]
    }
   ],
   "source": [
    "# from another source or file\n",
    "\n",
    "# source(\"functions1.R\")\n",
    "new.function(6,2)\n",
    "tabcal(17,1:10)\n",
    "pow()"
   ]
  },
  {
   "cell_type": "code",
   "execution_count": 11,
   "metadata": {},
   "outputs": [
    {
     "name": "stdout",
     "output_type": "stream",
     "text": [
      "[1] 270.3722\n"
     ]
    }
   ],
   "source": [
    "#set.seed(seed)\n",
    "#Set the seed of R‘s random number generator, which is useful for creating simulations or random objects that can be reproduced.\n",
    "\n",
    "#set.seed(5)\n",
    "#rnorm(5)\n",
    "\n",
    "#rnorm.\n",
    "# X generates multivariate normal random variates in the space X.\n",
    "# 1\n",
    "fahrenheit_to_kelvin <- function(temp_F) {\n",
    "  temp_K <- ((temp_F - 32) * (5 / 9)) + 273.15\n",
    "  return(temp_K)\n",
    "}\n",
    "\n",
    "temp = fahrenheit_to_kelvin(27)\n",
    "print(temp)"
   ]
  },
  {
   "cell_type": "code",
   "execution_count": null,
   "metadata": {},
   "outputs": [],
   "source": []
  }
 ],
 "metadata": {
  "kernelspec": {
   "display_name": "R",
   "language": "R",
   "name": "ir"
  },
  "language_info": {
   "codemirror_mode": "r",
   "file_extension": ".r",
   "mimetype": "text/x-r-source",
   "name": "R",
   "pygments_lexer": "r",
   "version": "3.5.0"
  }
 },
 "nbformat": 4,
 "nbformat_minor": 2
}
