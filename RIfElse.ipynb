{
 "cells": [
  {
   "cell_type": "code",
   "execution_count": 19,
   "metadata": {},
   "outputs": [],
   "source": [
    "# IF-else\n",
    "# ifelse\n",
    "# for loop\n",
    "# while loop\n",
    "# Mutate\n",
    "# Break, continue\n"
   ]
  },
  {
   "cell_type": "code",
   "execution_count": 1,
   "metadata": {},
   "outputs": [
    {
     "name": "stdout",
     "output_type": "stream",
     "text": [
      "[1] \"Positive number\"\n",
      "[1] \"Negative number\"\n",
      "[1] \"Zero\"\n"
     ]
    }
   ],
   "source": [
    "#if-else\n",
    "\n",
    "x <- 5\n",
    "if(x > 0){\n",
    "  print(\"Positive number\")\n",
    "}\n",
    "\n",
    "\n",
    "x <- -5\n",
    "if(x > 0){\n",
    "  print(\"Non-negative number\")\n",
    "} else {\n",
    "  print(\"Negative number\")\n",
    "}\n",
    "\n",
    "x <- 0\n",
    "if (x < 0) {\n",
    "  print(\"Negative number\")\n",
    "} else if (x > 0) {\n",
    "  print(\"Positive number\")\n",
    "} else\n",
    "  print(\"Zero\")\n"
   ]
  },
  {
   "cell_type": "code",
   "execution_count": 4,
   "metadata": {},
   "outputs": [
    {
     "name": "stdout",
     "output_type": "stream",
     "text": [
      "[1] \"odd\"  \"odd\"  \"even\" \"odd\" \n",
      "[1] \"Positive\" \"Positive\" \"Negative\" \"Positive\"\n"
     ]
    }
   ],
   "source": [
    "#On Vector\n",
    "# ifelse()\n",
    "\n",
    "a = c(5,7,-2,9)\n",
    "x <- ifelse(a %% 2 == 0,\"even\",\"odd\")\n",
    "print(x)\n",
    "\n",
    "x <- ifelse(a < 0,\"Negative\",\"Positive\")\n",
    "print(x)"
   ]
  },
  {
   "cell_type": "code",
   "execution_count": 5,
   "metadata": {},
   "outputs": [],
   "source": [
    "# the difference between if and ifelse:\n",
    "\n",
    "# if is a control flow statement, taking a single logical value as an argument\n",
    "# ifelse is a vectorised function, taking vectors as all its arguments.\n"
   ]
  },
  {
   "cell_type": "code",
   "execution_count": 2,
   "metadata": {},
   "outputs": [
    {
     "data": {
      "text/html": [
       "<table>\n",
       "<thead><tr><th></th><th scope=col>mpg</th><th scope=col>cyl</th><th scope=col>disp</th><th scope=col>hp</th><th scope=col>drat</th><th scope=col>wt</th><th scope=col>qsec</th><th scope=col>vs</th><th scope=col>am</th><th scope=col>gear</th><th scope=col>carb</th></tr></thead>\n",
       "<tbody>\n",
       "\t<tr><th scope=row>Mazda RX4</th><td>21.0 </td><td>6    </td><td>160  </td><td>110  </td><td>3.90 </td><td>2.620</td><td>16.46</td><td>0    </td><td>1    </td><td>4    </td><td>4    </td></tr>\n",
       "\t<tr><th scope=row>Mazda RX4 Wag</th><td>21.0 </td><td>6    </td><td>160  </td><td>110  </td><td>3.90 </td><td>2.875</td><td>17.02</td><td>0    </td><td>1    </td><td>4    </td><td>4    </td></tr>\n",
       "\t<tr><th scope=row>Datsun 710</th><td>22.8 </td><td>4    </td><td>108  </td><td> 93  </td><td>3.85 </td><td>2.320</td><td>18.61</td><td>1    </td><td>1    </td><td>4    </td><td>1    </td></tr>\n",
       "\t<tr><th scope=row>Hornet 4 Drive</th><td>21.4 </td><td>6    </td><td>258  </td><td>110  </td><td>3.08 </td><td>3.215</td><td>19.44</td><td>1    </td><td>0    </td><td>3    </td><td>1    </td></tr>\n",
       "\t<tr><th scope=row>Hornet Sportabout</th><td>18.7 </td><td>8    </td><td>360  </td><td>175  </td><td>3.15 </td><td>3.440</td><td>17.02</td><td>0    </td><td>0    </td><td>3    </td><td>2    </td></tr>\n",
       "\t<tr><th scope=row>Valiant</th><td>18.1 </td><td>6    </td><td>225  </td><td>105  </td><td>2.76 </td><td>3.460</td><td>20.22</td><td>1    </td><td>0    </td><td>3    </td><td>1    </td></tr>\n",
       "</tbody>\n",
       "</table>\n"
      ],
      "text/latex": [
       "\\begin{tabular}{r|lllllllllll}\n",
       "  & mpg & cyl & disp & hp & drat & wt & qsec & vs & am & gear & carb\\\\\n",
       "\\hline\n",
       "\tMazda RX4 & 21.0  & 6     & 160   & 110   & 3.90  & 2.620 & 16.46 & 0     & 1     & 4     & 4    \\\\\n",
       "\tMazda RX4 Wag & 21.0  & 6     & 160   & 110   & 3.90  & 2.875 & 17.02 & 0     & 1     & 4     & 4    \\\\\n",
       "\tDatsun 710 & 22.8  & 4     & 108   &  93   & 3.85  & 2.320 & 18.61 & 1     & 1     & 4     & 1    \\\\\n",
       "\tHornet 4 Drive & 21.4  & 6     & 258   & 110   & 3.08  & 3.215 & 19.44 & 1     & 0     & 3     & 1    \\\\\n",
       "\tHornet Sportabout & 18.7  & 8     & 360   & 175   & 3.15  & 3.440 & 17.02 & 0     & 0     & 3     & 2    \\\\\n",
       "\tValiant & 18.1  & 6     & 225   & 105   & 2.76  & 3.460 & 20.22 & 1     & 0     & 3     & 1    \\\\\n",
       "\\end{tabular}\n"
      ],
      "text/markdown": [
       "\n",
       "| <!--/--> | mpg | cyl | disp | hp | drat | wt | qsec | vs | am | gear | carb | \n",
       "|---|---|---|---|---|---|\n",
       "| Mazda RX4 | 21.0  | 6     | 160   | 110   | 3.90  | 2.620 | 16.46 | 0     | 1     | 4     | 4     | \n",
       "| Mazda RX4 Wag | 21.0  | 6     | 160   | 110   | 3.90  | 2.875 | 17.02 | 0     | 1     | 4     | 4     | \n",
       "| Datsun 710 | 22.8  | 4     | 108   |  93   | 3.85  | 2.320 | 18.61 | 1     | 1     | 4     | 1     | \n",
       "| Hornet 4 Drive | 21.4  | 6     | 258   | 110   | 3.08  | 3.215 | 19.44 | 1     | 0     | 3     | 1     | \n",
       "| Hornet Sportabout | 18.7  | 8     | 360   | 175   | 3.15  | 3.440 | 17.02 | 0     | 0     | 3     | 2     | \n",
       "| Valiant | 18.1  | 6     | 225   | 105   | 2.76  | 3.460 | 20.22 | 1     | 0     | 3     | 1     | \n",
       "\n",
       "\n"
      ],
      "text/plain": [
       "                  mpg  cyl disp hp  drat wt    qsec  vs am gear carb\n",
       "Mazda RX4         21.0 6   160  110 3.90 2.620 16.46 0  1  4    4   \n",
       "Mazda RX4 Wag     21.0 6   160  110 3.90 2.875 17.02 0  1  4    4   \n",
       "Datsun 710        22.8 4   108   93 3.85 2.320 18.61 1  1  4    1   \n",
       "Hornet 4 Drive    21.4 6   258  110 3.08 3.215 19.44 1  0  3    1   \n",
       "Hornet Sportabout 18.7 8   360  175 3.15 3.440 17.02 0  0  3    2   \n",
       "Valiant           18.1 6   225  105 2.76 3.460 20.22 1  0  3    1   "
      ]
     },
     "metadata": {},
     "output_type": "display_data"
    },
    {
     "name": "stderr",
     "output_type": "stream",
     "text": [
      "\n",
      "Attaching package: 'dplyr'\n",
      "\n",
      "The following objects are masked from 'package:stats':\n",
      "\n",
      "    filter, lag\n",
      "\n",
      "The following objects are masked from 'package:base':\n",
      "\n",
      "    intersect, setdiff, setequal, union\n",
      "\n"
     ]
    },
    {
     "name": "stdout",
     "output_type": "stream",
     "text": [
      "   mpg cyl disp  hp drat    wt  qsec vs am gear carb Pass.Fail\n",
      "1 21.0   6  160 110 3.90 2.620 16.46  0  1    4    4      Pass\n",
      "2 21.0   6  160 110 3.90 2.875 17.02  0  1    4    4      Pass\n",
      "3 22.8   4  108  93 3.85 2.320 18.61  1  1    4    1      Fail\n",
      "4 21.4   6  258 110 3.08 3.215 19.44  1  0    3    1      Pass\n",
      "5 18.7   8  360 175 3.15 3.440 17.02  0  0    3    2      Fail\n",
      "6 18.1   6  225 105 2.76 3.460 20.22  1  0    3    1      Pass\n"
     ]
    }
   ],
   "source": [
    "attach(mtcars)\n",
    "head(mtcars)\n",
    "library(dplyr)\n",
    "x1 <- mutate(mtcars, Pass.Fail = ifelse(cyl == 6, \"Pass\", \"Fail\"))\n",
    "print(head(x1))"
   ]
  },
  {
   "cell_type": "code",
   "execution_count": 6,
   "metadata": {},
   "outputs": [
    {
     "name": "stdout",
     "output_type": "stream",
     "text": [
      "   mpg cyl disp  hp drat    wt  qsec vs am gear carb cyltext\n",
      "1 21.0   6  160 110 3.90 2.620 16.46  0  1    4    4  Type B\n",
      "2 21.0   6  160 110 3.90 2.875 17.02  0  1    4    4  Type B\n",
      "3 22.8   4  108  93 3.85 2.320 18.61  1  1    4    1  Type A\n",
      "4 21.4   6  258 110 3.08 3.215 19.44  1  0    3    1  Type B\n",
      "5 18.7   8  360 175 3.15 3.440 17.02  0  0    3    2  Type C\n",
      "6 18.1   6  225 105 2.76 3.460 20.22  1  0    3    1  Type B\n"
     ]
    }
   ],
   "source": [
    "newdata <- mutate(mtcars, cyltext = ifelse(cyl == 4 ,\"Type A\" ,\n",
    "                                    ifelse(cyl == 6 ,\"Type B\" ,\n",
    "                                    ifelse(cyl == 8 ,\"Type C\" ,\"C\"\n",
    "                                                  )))\n",
    "                 )\n",
    "print(head(newdata))"
   ]
  },
  {
   "cell_type": "code",
   "execution_count": 7,
   "metadata": {},
   "outputs": [
    {
     "name": "stdout",
     "output_type": "stream",
     "text": [
      "[1] 2\n",
      "[1] 5\n",
      "[1] 3\n",
      "[1] 9\n",
      "[1] 8\n",
      "[1] 11\n",
      "[1] 6\n",
      "text  2 \n",
      "text  5 \n",
      "text  3 \n",
      "text  9 \n",
      "text  8 \n",
      "text  11 \n",
      "text  6 \n"
     ]
    }
   ],
   "source": [
    "## FOR\n",
    "\n",
    "x <- c(2,5,3,9,8,11,6)\n",
    "\n",
    "for (val in x) {\n",
    "  print(val)\n",
    "}\n",
    "\n",
    "\n",
    "\n",
    "xvector <- c(2,5,3,9,8,11,6)\n",
    "\n",
    "for (val in x) {\n",
    "  cat(\"text \" ,val ,\"\\n\")\n",
    "}\n"
   ]
  },
  {
   "cell_type": "code",
   "execution_count": 9,
   "metadata": {},
   "outputs": [
    {
     "name": "stdout",
     "output_type": "stream",
     "text": [
      "[1] \"C\"\n",
      "[1] \"C\"\n",
      "[1] \"C\"\n",
      "[1] \"B\"\n",
      "[1] \"B\"\n",
      "[1] \"A\"\n",
      "[1] \"B\"\n"
     ]
    }
   ],
   "source": [
    "## FOR  and IF\n",
    "xvector <- c(2,5,3,9,8,11,6)\n",
    "\n",
    "for (val in x) {\n",
    "  if(val > 9 ){\n",
    "    print(\"A\")\n",
    "  }\n",
    "  else if (val > 5){\n",
    "    print(\"B\")\n",
    "  }\n",
    "  else{\n",
    "    print(\"C\")\n",
    "  }\n",
    "}"
   ]
  },
  {
   "cell_type": "code",
   "execution_count": 11,
   "metadata": {},
   "outputs": [
    {
     "name": "stdout",
     "output_type": "stream",
     "text": [
      "[1] 720\n"
     ]
    }
   ],
   "source": [
    "num=6\n",
    "\n",
    "factorial = 1\n",
    "for(i in 1:num) {\n",
    "  factorial = factorial * i\n",
    "  }\n",
    "print(factorial)\n",
    "\n"
   ]
  },
  {
   "cell_type": "code",
   "execution_count": 12,
   "metadata": {},
   "outputs": [
    {
     "name": "stdout",
     "output_type": "stream",
     "text": [
      "[1] \"The factorial of 3 is 6\"\n"
     ]
    }
   ],
   "source": [
    "num = 3\n",
    "factorial = 1\n",
    "# check is the number is negative, positive or zero\n",
    "if(num < 0) {\n",
    "  print(\"Sorry, factorial does not exist for negative numbers\")\n",
    "} else if(num == 0) {\n",
    "  print(\"The factorial of 0 is 1\")\n",
    "} else {\n",
    "  for(i in 1:num) {\n",
    "    factorial = factorial * i\n",
    "  }\n",
    "  print(paste(\"The factorial of\", num ,\"is\",factorial))\n",
    "}"
   ]
  },
  {
   "cell_type": "code",
   "execution_count": 13,
   "metadata": {},
   "outputs": [
    {
     "name": "stdout",
     "output_type": "stream",
     "text": [
      "[1] 5\n",
      "[1] 6\n",
      "[1] 7\n"
     ]
    }
   ],
   "source": [
    "# WHILE\n",
    "cnt <- 5\n",
    "while (cnt <= 7) {\n",
    "  print(cnt)\n",
    "  cnt = cnt + 1\n",
    "}"
   ]
  },
  {
   "cell_type": "code",
   "execution_count": 14,
   "metadata": {},
   "outputs": [
    {
     "name": "stdout",
     "output_type": "stream",
     "text": [
      "[1] \"Fibonacci sequence:\"\n",
      "[1] 1\n",
      "[1] 2\n",
      "[1] 3\n",
      "[1] 5\n",
      "[1] 8\n",
      "[1] 13\n"
     ]
    }
   ],
   "source": [
    "n1 = 0\n",
    "n2 = 1\n",
    "# Note count 2\n",
    "count = 2\n",
    "print(\"Fibonacci sequence:\")\n",
    "nterms = 8\n",
    "while(count < nterms) {\n",
    "  nth = n1 + n2\n",
    "  print(nth)\n",
    "  # update values\n",
    "  n1 = n2\n",
    "  n2 = nth\n",
    "  count = count + 1\n",
    "}\n"
   ]
  },
  {
   "cell_type": "code",
   "execution_count": 15,
   "metadata": {},
   "outputs": [
    {
     "name": "stdout",
     "output_type": "stream",
     "text": [
      "[1] \"count 1 = 100\"\n",
      "[1] \"count 2 = 100\"\n",
      "[1] \"count 3 = 100\"\n",
      "[1] \"count 4 = 100\"\n",
      "[1] \"count 5 = 100\"\n"
     ]
    }
   ],
   "source": [
    "# BREAK \n",
    "v <- c(100)\n",
    "cnt <- 1\n",
    "\n",
    "repeat {\n",
    "  print(paste(\"count\", cnt , \"=\", v))\n",
    "  cnt <- cnt+1\n",
    "  \n",
    "  if(cnt > 5) {\n",
    "    break\n",
    "  }\n",
    "}"
   ]
  },
  {
   "cell_type": "code",
   "execution_count": 16,
   "metadata": {},
   "outputs": [
    {
     "name": "stdout",
     "output_type": "stream",
     "text": [
      "[1] \"A\"\n",
      "[1] \"B\"\n",
      "[1] \"C\"\n",
      "[1] \"E\"\n",
      "[1] \"F\"\n"
     ]
    }
   ],
   "source": [
    "# NEXT\n",
    "v <- LETTERS[1:6]\n",
    "for ( i in v) {\n",
    "  \n",
    "  if (i == \"D\") {\n",
    "    next\n",
    "  }\n",
    "  print(i)\n",
    "}"
   ]
  },
  {
   "cell_type": "code",
   "execution_count": 18,
   "metadata": {},
   "outputs": [
    {
     "data": {
      "text/html": [
       "<table>\n",
       "<thead><tr><th scope=col>section</th><th scope=col>grade</th><th scope=col>student</th><th scope=col>Pass.Fail</th></tr></thead>\n",
       "<tbody>\n",
       "\t<tr><td>MATH111 </td><td>78      </td><td>David   </td><td>Pass    </td></tr>\n",
       "\t<tr><td>SCI22   </td><td>93      </td><td>Kristina</td><td>Pass    </td></tr>\n",
       "\t<tr><td>ENG333  </td><td>56      </td><td>Mycroft </td><td>Fail    </td></tr>\n",
       "</tbody>\n",
       "</table>\n"
      ],
      "text/latex": [
       "\\begin{tabular}{r|llll}\n",
       " section & grade & student & Pass.Fail\\\\\n",
       "\\hline\n",
       "\t MATH111  & 78       & David    & Pass    \\\\\n",
       "\t SCI22    & 93       & Kristina & Pass    \\\\\n",
       "\t ENG333   & 56       & Mycroft  & Fail    \\\\\n",
       "\\end{tabular}\n"
      ],
      "text/markdown": [
       "\n",
       "section | grade | student | Pass.Fail | \n",
       "|---|---|---|\n",
       "| MATH111  | 78       | David    | Pass     | \n",
       "| SCI22    | 93       | Kristina | Pass     | \n",
       "| ENG333   | 56       | Mycroft  | Fail     | \n",
       "\n",
       "\n"
      ],
      "text/plain": [
       "  section grade student  Pass.Fail\n",
       "1 MATH111 78    David    Pass     \n",
       "2 SCI22   93    Kristina Pass     \n",
       "3 ENG333  56    Mycroft  Fail     "
      ]
     },
     "metadata": {},
     "output_type": "display_data"
    }
   ],
   "source": [
    "section <- c(\"MATH111\", \"SCI22\", \"ENG333\")\n",
    "grade <- c(78, 93, 56)\n",
    "student <- c(\"David\", \"Kristina\", \"Mycroft\")\n",
    "gradebook <- data.frame(section, grade, student)\n",
    "mutate(gradebook, Pass.Fail = ifelse(grade > 60, \"Pass\", \"Fail\"))"
   ]
  },
  {
   "cell_type": "code",
   "execution_count": 21,
   "metadata": {},
   "outputs": [
    {
     "name": "stdout",
     "output_type": "stream",
     "text": [
      "[1] \"green\"\n",
      "[1] \"blue\"\n"
     ]
    }
   ],
   "source": [
    "x <- switch(2,\"red\",\"green\",\"blue\")\n",
    "print(x)\n",
    "\n",
    "x <- switch(3,\"red\",\"green\",\"blue\")\n",
    "print(x)"
   ]
  },
  {
   "cell_type": "code",
   "execution_count": 22,
   "metadata": {},
   "outputs": [
    {
     "name": "stdout",
     "output_type": "stream",
     "text": [
      "[1] \"Select operation.\"\n",
      "[1] \"1.Add\"\n",
      "[1] \"2.Subtract\"\n",
      "[1] \"3.Multiply\"\n",
      "[1] \"4.Divide\"\n",
      "[1] \"5 + 10 = 15\"\n"
     ]
    }
   ],
   "source": [
    "## switch Functions also\n",
    "\n",
    "# Program make a simple calculator that can add, subtract, multiply and divide using functions\n",
    "add <- function(x, y) {\n",
    "  return(x + y)\n",
    "}\n",
    "\n",
    "subtract <- function(x, y) {\n",
    "  return(x - y)\n",
    "}\n",
    "\n",
    "multiply <- function(x, y) {\n",
    "  return(x * y)\n",
    "}\n",
    "\n",
    "divide <- function(x, y) {\n",
    "  return(x / y)\n",
    "}\n",
    "\n",
    "# take input from the user\n",
    "print(\"Select operation.\")\n",
    "print(\"1.Add\")\n",
    "print(\"2.Subtract\")\n",
    "print(\"3.Multiply\")\n",
    "print(\"4.Divide\")\n",
    "choice = 1 # as.integer(readline(prompt=\"Enter choice[1/2/3/4]: \"))\n",
    "num1 = 5  #as.integer(readline(prompt=\"Enter first number: \"))\n",
    "num2 = 10 # as.integer(readline(prompt=\"Enter second number: \"))\n",
    "\n",
    "operator <- switch(choice,\"+\",\"-\",\"*\",\"/\")\n",
    "\n",
    "result <- switch(choice, add(num1, num2), subtract(num1, num2), multiply(num1, num2), divide(num1, num2))\n",
    "print(paste(num1, operator, num2, \"=\", result))"
   ]
  },
  {
   "cell_type": "code",
   "execution_count": null,
   "metadata": {},
   "outputs": [],
   "source": []
  }
 ],
 "metadata": {
  "kernelspec": {
   "display_name": "R",
   "language": "R",
   "name": "ir"
  },
  "language_info": {
   "codemirror_mode": "r",
   "file_extension": ".r",
   "mimetype": "text/x-r-source",
   "name": "R",
   "pygments_lexer": "r",
   "version": "3.5.0"
  }
 },
 "nbformat": 4,
 "nbformat_minor": 2
}
