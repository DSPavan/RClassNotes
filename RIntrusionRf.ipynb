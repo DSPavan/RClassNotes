{
 "cells": [
  {
   "cell_type": "code",
   "execution_count": 5,
   "metadata": {},
   "outputs": [
    {
     "name": "stdout",
     "output_type": "stream",
     "text": [
      "'data.frame':\t25192 obs. of  42 variables:\n",
      " $ duration                   : int  0 0 0 0 0 0 0 0 0 0 ...\n",
      " $ protocol_type              : chr  \"tcp\" \"udp\" \"tcp\" \"tcp\" ...\n",
      " $ service                    : chr  \"ftp_data\" \"other\" \"private\" \"http\" ...\n",
      " $ flag                       : chr  \"SF\" \"SF\" \"S0\" \"SF\" ...\n",
      " $ src_bytes                  : int  491 146 0 232 199 0 0 0 0 0 ...\n",
      " $ dst_bytes                  : int  0 0 0 8153 420 0 0 0 0 0 ...\n",
      " $ land                       : int  0 0 0 0 0 0 0 0 0 0 ...\n",
      " $ wrong_fragment             : int  0 0 0 0 0 0 0 0 0 0 ...\n",
      " $ urgent                     : int  0 0 0 0 0 0 0 0 0 0 ...\n",
      " $ hot                        : int  0 0 0 0 0 0 0 0 0 0 ...\n",
      " $ num_failed_logins          : int  0 0 0 0 0 0 0 0 0 0 ...\n",
      " $ logged_in                  : int  0 0 0 1 1 0 0 0 0 0 ...\n",
      " $ num_compromised            : int  0 0 0 0 0 0 0 0 0 0 ...\n",
      " $ root_shell                 : int  0 0 0 0 0 0 0 0 0 0 ...\n",
      " $ su_attempted               : int  0 0 0 0 0 0 0 0 0 0 ...\n",
      " $ num_root                   : int  0 0 0 0 0 0 0 0 0 0 ...\n",
      " $ num_file_creations         : int  0 0 0 0 0 0 0 0 0 0 ...\n",
      " $ num_shells                 : int  0 0 0 0 0 0 0 0 0 0 ...\n",
      " $ num_access_files           : int  0 0 0 0 0 0 0 0 0 0 ...\n",
      " $ num_outbound_cmds          : int  0 0 0 0 0 0 0 0 0 0 ...\n",
      " $ is_host_login              : int  0 0 0 0 0 0 0 0 0 0 ...\n",
      " $ is_guest_login             : int  0 0 0 0 0 0 0 0 0 0 ...\n",
      " $ count                      : int  2 13 123 5 30 121 166 117 270 133 ...\n",
      " $ srv_count                  : int  2 1 6 5 32 19 9 16 23 8 ...\n",
      " $ serror_rate                : num  0 0 1 0.2 0 0 1 1 1 1 ...\n",
      " $ srv_serror_rate            : num  0 0 1 0.2 0 0 1 1 1 1 ...\n",
      " $ rerror_rate                : num  0 0 0 0 0 1 0 0 0 0 ...\n",
      " $ srv_rerror_rate            : num  0 0 0 0 0 1 0 0 0 0 ...\n",
      " $ same_srv_rate              : num  1 0.08 0.05 1 1 0.16 0.05 0.14 0.09 0.06 ...\n",
      " $ diff_srv_rate              : num  0 0.15 0.07 0 0 0.06 0.06 0.06 0.05 0.06 ...\n",
      " $ srv_diff_host_rate         : num  0 0 0 0 0.09 0 0 0 0 0 ...\n",
      " $ dst_host_count             : int  150 255 255 30 255 255 255 255 255 255 ...\n",
      " $ dst_host_srv_count         : int  25 1 26 255 255 19 9 15 23 13 ...\n",
      " $ dst_host_same_srv_rate     : num  0.17 0 0.1 1 1 0.07 0.04 0.06 0.09 0.05 ...\n",
      " $ dst_host_diff_srv_rate     : num  0.03 0.6 0.05 0 0 0.07 0.05 0.07 0.05 0.06 ...\n",
      " $ dst_host_same_src_port_rate: num  0.17 0.88 0 0.03 0 0 0 0 0 0 ...\n",
      " $ dst_host_srv_diff_host_rate: num  0 0 0 0.04 0 0 0 0 0 0 ...\n",
      " $ dst_host_serror_rate       : num  0 0 1 0.03 0 0 1 1 1 1 ...\n",
      " $ dst_host_srv_serror_rate   : num  0 0 1 0.01 0 0 1 1 1 1 ...\n",
      " $ dst_host_rerror_rate       : num  0.05 0 0 0 0 1 0 0 0 0 ...\n",
      " $ dst_host_srv_rerror_rate   : num  0 0 0 0.01 0 1 0 0 0 0 ...\n",
      " $ class                      : chr  \"normal\" \"normal\" \"anomaly\" \"normal\" ...\n"
     ]
    }
   ],
   "source": [
    "# with Missing data\n",
    "data2 <- read.csv(\"C:\\\\Users\\\\radha31\\\\Downloads\\\\Network_Intrusion1.csv\", header = TRUE,\n",
    "                 stringsAsFactors = FALSE,\n",
    "                 strip.white = TRUE ,\n",
    "                 sep = ',')\n",
    "\n",
    "str(data2)"
   ]
  },
  {
   "cell_type": "code",
   "execution_count": 6,
   "metadata": {},
   "outputs": [
    {
     "name": "stderr",
     "output_type": "stream",
     "text": [
      "\n",
      "Attaching package: 'dplyr'\n",
      "\n",
      "The following objects are masked from 'package:stats':\n",
      "\n",
      "    filter, lag\n",
      "\n",
      "The following objects are masked from 'package:base':\n",
      "\n",
      "    intersect, setdiff, setequal, union\n",
      "\n"
     ]
    },
    {
     "data": {
      "text/html": [
       "<table>\n",
       "<thead><tr><th scope=col>df1.num_failed_logins</th><th scope=col>df1.logged_in</th><th scope=col>df1.classnum</th><th scope=col>df1.count</th><th scope=col>df1.srv_count</th></tr></thead>\n",
       "<tbody>\n",
       "\t<tr><td>0  </td><td>0  </td><td>0  </td><td>  2</td><td> 2 </td></tr>\n",
       "\t<tr><td>0  </td><td>0  </td><td>0  </td><td> 13</td><td> 1 </td></tr>\n",
       "\t<tr><td>0  </td><td>0  </td><td>1  </td><td>123</td><td> 6 </td></tr>\n",
       "\t<tr><td>0  </td><td>1  </td><td>0  </td><td>  5</td><td> 5 </td></tr>\n",
       "\t<tr><td>0  </td><td>1  </td><td>0  </td><td> 30</td><td>32 </td></tr>\n",
       "\t<tr><td>0  </td><td>0  </td><td>1  </td><td>121</td><td>19 </td></tr>\n",
       "</tbody>\n",
       "</table>\n"
      ],
      "text/latex": [
       "\\begin{tabular}{r|lllll}\n",
       " df1.num\\_failed\\_logins & df1.logged\\_in & df1.classnum & df1.count & df1.srv\\_count\\\\\n",
       "\\hline\n",
       "\t 0   & 0   & 0   &   2 &  2 \\\\\n",
       "\t 0   & 0   & 0   &  13 &  1 \\\\\n",
       "\t 0   & 0   & 1   & 123 &  6 \\\\\n",
       "\t 0   & 1   & 0   &   5 &  5 \\\\\n",
       "\t 0   & 1   & 0   &  30 & 32 \\\\\n",
       "\t 0   & 0   & 1   & 121 & 19 \\\\\n",
       "\\end{tabular}\n"
      ],
      "text/markdown": [
       "\n",
       "df1.num_failed_logins | df1.logged_in | df1.classnum | df1.count | df1.srv_count | \n",
       "|---|---|---|---|---|---|\n",
       "| 0   | 0   | 0   |   2 |  2  | \n",
       "| 0   | 0   | 0   |  13 |  1  | \n",
       "| 0   | 0   | 1   | 123 |  6  | \n",
       "| 0   | 1   | 0   |   5 |  5  | \n",
       "| 0   | 1   | 0   |  30 | 32  | \n",
       "| 0   | 0   | 1   | 121 | 19  | \n",
       "\n",
       "\n"
      ],
      "text/plain": [
       "  df1.num_failed_logins df1.logged_in df1.classnum df1.count df1.srv_count\n",
       "1 0                     0             0              2        2           \n",
       "2 0                     0             0             13        1           \n",
       "3 0                     0             1            123        6           \n",
       "4 0                     1             0              5        5           \n",
       "5 0                     1             0             30       32           \n",
       "6 0                     0             1            121       19           "
      ]
     },
     "metadata": {},
     "output_type": "display_data"
    }
   ],
   "source": [
    "library(dplyr)\n",
    "df1 <- mutate(data2, classnum = ifelse(class == \"normal\" ,0 ,\n",
    "                                    ifelse(class == \"anomaly\" ,1 ,2                                  \n",
    "                                                  )))\n",
    "#head(df1)\n",
    "\n",
    "df1 <- data.frame(df1$num_failed_logins, \n",
    "         df1$logged_in, \n",
    "         df1$classnum,\n",
    "                  df1$count,\n",
    "                  df1$srv_count\n",
    "        )\n",
    "head(df1)"
   ]
  },
  {
   "cell_type": "code",
   "execution_count": 10,
   "metadata": {},
   "outputs": [
    {
     "name": "stderr",
     "output_type": "stream",
     "text": [
      "Warning message in randomForest.default(m, y, ...):\n",
      "\"The response has five or fewer unique values.  Are you sure you want to do regression?\""
     ]
    },
    {
     "name": "stdout",
     "output_type": "stream",
     "text": [
      "\n",
      "Call:\n",
      " randomForest(formula = df1.classnum ~ ., data = df1, ntree = 500) \n",
      "               Type of random forest: regression\n",
      "                     Number of trees: 500\n",
      "No. of variables tried at each split: 1\n",
      "\n",
      "          Mean of squared residuals: 0.08711826\n",
      "                    % Var explained: 64.99\n"
     ]
    }
   ],
   "source": [
    "library(randomForest)\n",
    "set.seed(71) \n",
    "rf <-randomForest(df1.classnum ~.,data=df1, ntree=500) \n",
    "print(rf)"
   ]
  },
  {
   "cell_type": "code",
   "execution_count": 11,
   "metadata": {},
   "outputs": [
    {
     "data": {
      "text/html": [
       "<table>\n",
       "<thead><tr><th></th><th scope=col>IncNodePurity</th></tr></thead>\n",
       "<tbody>\n",
       "\t<tr><th scope=row>df1.num_failed_logins</th><td>   1.256287</td></tr>\n",
       "\t<tr><th scope=row>df1.logged_in</th><td>1560.436578</td></tr>\n",
       "\t<tr><th scope=row>df1.count</th><td>1340.666473</td></tr>\n",
       "\t<tr><th scope=row>df1.srv_count</th><td> 382.658621</td></tr>\n",
       "</tbody>\n",
       "</table>\n"
      ],
      "text/latex": [
       "\\begin{tabular}{r|l}\n",
       "  & IncNodePurity\\\\\n",
       "\\hline\n",
       "\tdf1.num\\_failed\\_logins &    1.256287\\\\\n",
       "\tdf1.logged\\_in & 1560.436578\\\\\n",
       "\tdf1.count & 1340.666473\\\\\n",
       "\tdf1.srv\\_count &  382.658621\\\\\n",
       "\\end{tabular}\n"
      ],
      "text/markdown": [
       "\n",
       "| <!--/--> | IncNodePurity | \n",
       "|---|---|---|---|\n",
       "| df1.num_failed_logins |    1.256287 | \n",
       "| df1.logged_in | 1560.436578 | \n",
       "| df1.count | 1340.666473 | \n",
       "| df1.srv_count |  382.658621 | \n",
       "\n",
       "\n"
      ],
      "text/plain": [
       "                      IncNodePurity\n",
       "df1.num_failed_logins    1.256287  \n",
       "df1.logged_in         1560.436578  \n",
       "df1.count             1340.666473  \n",
       "df1.srv_count          382.658621  "
      ]
     },
     "metadata": {},
     "output_type": "display_data"
    },
    {
     "data": {
      "image/png": "[encoded data removed]",
      "text/plain": [
       "Plot with title \"rf\""
      ]
     },
     "metadata": {},
     "output_type": "display_data"
    }
   ],
   "source": [
    "#Evaluate variable importance\n",
    "importance(rf)\n",
    "varImpPlot(rf)"
   ]
  },
  {
   "cell_type": "code",
   "execution_count": 31,
   "metadata": {},
   "outputs": [
    {
     "data": {
      "text/html": [
       "<table>\n",
       "<thead><tr><th scope=col>duration</th><th scope=col>protocol_type</th><th scope=col>src_bytes</th><th scope=col>dst_bytes</th><th scope=col>land</th><th scope=col>wrong_fragment</th><th scope=col>urgent</th><th scope=col>hot</th><th scope=col>num_failed_logins</th><th scope=col>logged_in</th><th scope=col>...</th><th scope=col>dst_host_srv_count</th><th scope=col>dst_host_same_srv_rate</th><th scope=col>dst_host_diff_srv_rate</th><th scope=col>dst_host_same_src_port_rate</th><th scope=col>dst_host_srv_diff_host_rate</th><th scope=col>dst_host_serror_rate</th><th scope=col>dst_host_srv_serror_rate</th><th scope=col>dst_host_rerror_rate</th><th scope=col>dst_host_srv_rerror_rate</th><th scope=col>class</th></tr></thead>\n",
       "<tbody>\n",
       "\t<tr><td>0   </td><td>0   </td><td>491 </td><td>   0</td><td>0   </td><td>0   </td><td>0   </td><td>0   </td><td>0   </td><td>0   </td><td>... </td><td> 25 </td><td>0.17</td><td>0.03</td><td>0.17</td><td>0.00</td><td>0.00</td><td>0.00</td><td>0.05</td><td>0.00</td><td>0   </td></tr>\n",
       "\t<tr><td>0   </td><td>1   </td><td>146 </td><td>   0</td><td>0   </td><td>0   </td><td>0   </td><td>0   </td><td>0   </td><td>0   </td><td>... </td><td>  1 </td><td>0.00</td><td>0.60</td><td>0.88</td><td>0.00</td><td>0.00</td><td>0.00</td><td>0.00</td><td>0.00</td><td>0   </td></tr>\n",
       "\t<tr><td>0   </td><td>0   </td><td>  0 </td><td>   0</td><td>0   </td><td>0   </td><td>0   </td><td>0   </td><td>0   </td><td>0   </td><td>... </td><td> 26 </td><td>0.10</td><td>0.05</td><td>0.00</td><td>0.00</td><td>1.00</td><td>1.00</td><td>0.00</td><td>0.00</td><td>1   </td></tr>\n",
       "\t<tr><td>0   </td><td>0   </td><td>232 </td><td>8153</td><td>0   </td><td>0   </td><td>0   </td><td>0   </td><td>0   </td><td>1   </td><td>... </td><td>255 </td><td>1.00</td><td>0.00</td><td>0.03</td><td>0.04</td><td>0.03</td><td>0.01</td><td>0.00</td><td>0.01</td><td>0   </td></tr>\n",
       "\t<tr><td>0   </td><td>0   </td><td>199 </td><td> 420</td><td>0   </td><td>0   </td><td>0   </td><td>0   </td><td>0   </td><td>1   </td><td>... </td><td>255 </td><td>1.00</td><td>0.00</td><td>0.00</td><td>0.00</td><td>0.00</td><td>0.00</td><td>0.00</td><td>0.00</td><td>0   </td></tr>\n",
       "\t<tr><td>0   </td><td>0   </td><td>  0 </td><td>   0</td><td>0   </td><td>0   </td><td>0   </td><td>0   </td><td>0   </td><td>0   </td><td>... </td><td> 19 </td><td>0.07</td><td>0.07</td><td>0.00</td><td>0.00</td><td>0.00</td><td>0.00</td><td>1.00</td><td>1.00</td><td>1   </td></tr>\n",
       "</tbody>\n",
       "</table>\n"
      ],
      "text/latex": [
       "\\begin{tabular}{r|llllllllllllllllllllllllllllllllllllllll}\n",
       " duration & protocol\\_type & src\\_bytes & dst\\_bytes & land & wrong\\_fragment & urgent & hot & num\\_failed\\_logins & logged\\_in & ... & dst\\_host\\_srv\\_count & dst\\_host\\_same\\_srv\\_rate & dst\\_host\\_diff\\_srv\\_rate & dst\\_host\\_same\\_src\\_port\\_rate & dst\\_host\\_srv\\_diff\\_host\\_rate & dst\\_host\\_serror\\_rate & dst\\_host\\_srv\\_serror\\_rate & dst\\_host\\_rerror\\_rate & dst\\_host\\_srv\\_rerror\\_rate & class\\\\\n",
       "\\hline\n",
       "\t 0    & 0    & 491  &    0 & 0    & 0    & 0    & 0    & 0    & 0    & ...  &  25  & 0.17 & 0.03 & 0.17 & 0.00 & 0.00 & 0.00 & 0.05 & 0.00 & 0   \\\\\n",
       "\t 0    & 1    & 146  &    0 & 0    & 0    & 0    & 0    & 0    & 0    & ...  &   1  & 0.00 & 0.60 & 0.88 & 0.00 & 0.00 & 0.00 & 0.00 & 0.00 & 0   \\\\\n",
       "\t 0    & 0    &   0  &    0 & 0    & 0    & 0    & 0    & 0    & 0    & ...  &  26  & 0.10 & 0.05 & 0.00 & 0.00 & 1.00 & 1.00 & 0.00 & 0.00 & 1   \\\\\n",
       "\t 0    & 0    & 232  & 8153 & 0    & 0    & 0    & 0    & 0    & 1    & ...  & 255  & 1.00 & 0.00 & 0.03 & 0.04 & 0.03 & 0.01 & 0.00 & 0.01 & 0   \\\\\n",
       "\t 0    & 0    & 199  &  420 & 0    & 0    & 0    & 0    & 0    & 1    & ...  & 255  & 1.00 & 0.00 & 0.00 & 0.00 & 0.00 & 0.00 & 0.00 & 0.00 & 0   \\\\\n",
       "\t 0    & 0    &   0  &    0 & 0    & 0    & 0    & 0    & 0    & 0    & ...  &  19  & 0.07 & 0.07 & 0.00 & 0.00 & 0.00 & 0.00 & 1.00 & 1.00 & 1   \\\\\n",
       "\\end{tabular}\n"
      ],
      "text/markdown": [
       "\n",
       "duration | protocol_type | src_bytes | dst_bytes | land | wrong_fragment | urgent | hot | num_failed_logins | logged_in | ... | dst_host_srv_count | dst_host_same_srv_rate | dst_host_diff_srv_rate | dst_host_same_src_port_rate | dst_host_srv_diff_host_rate | dst_host_serror_rate | dst_host_srv_serror_rate | dst_host_rerror_rate | dst_host_srv_rerror_rate | class | \n",
       "|---|---|---|---|---|---|\n",
       "| 0    | 0    | 491  |    0 | 0    | 0    | 0    | 0    | 0    | 0    | ...  |  25  | 0.17 | 0.03 | 0.17 | 0.00 | 0.00 | 0.00 | 0.05 | 0.00 | 0    | \n",
       "| 0    | 1    | 146  |    0 | 0    | 0    | 0    | 0    | 0    | 0    | ...  |   1  | 0.00 | 0.60 | 0.88 | 0.00 | 0.00 | 0.00 | 0.00 | 0.00 | 0    | \n",
       "| 0    | 0    |   0  |    0 | 0    | 0    | 0    | 0    | 0    | 0    | ...  |  26  | 0.10 | 0.05 | 0.00 | 0.00 | 1.00 | 1.00 | 0.00 | 0.00 | 1    | \n",
       "| 0    | 0    | 232  | 8153 | 0    | 0    | 0    | 0    | 0    | 1    | ...  | 255  | 1.00 | 0.00 | 0.03 | 0.04 | 0.03 | 0.01 | 0.00 | 0.01 | 0    | \n",
       "| 0    | 0    | 199  |  420 | 0    | 0    | 0    | 0    | 0    | 1    | ...  | 255  | 1.00 | 0.00 | 0.00 | 0.00 | 0.00 | 0.00 | 0.00 | 0.00 | 0    | \n",
       "| 0    | 0    |   0  |    0 | 0    | 0    | 0    | 0    | 0    | 0    | ...  |  19  | 0.07 | 0.07 | 0.00 | 0.00 | 0.00 | 0.00 | 1.00 | 1.00 | 1    | \n",
       "\n",
       "\n"
      ],
      "text/plain": [
       "  duration protocol_type src_bytes dst_bytes land wrong_fragment urgent hot\n",
       "1 0        0             491          0      0    0              0      0  \n",
       "2 0        1             146          0      0    0              0      0  \n",
       "3 0        0               0          0      0    0              0      0  \n",
       "4 0        0             232       8153      0    0              0      0  \n",
       "5 0        0             199        420      0    0              0      0  \n",
       "6 0        0               0          0      0    0              0      0  \n",
       "  num_failed_logins logged_in ... dst_host_srv_count dst_host_same_srv_rate\n",
       "1 0                 0         ...  25                0.17                  \n",
       "2 0                 0         ...   1                0.00                  \n",
       "3 0                 0         ...  26                0.10                  \n",
       "4 0                 1         ... 255                1.00                  \n",
       "5 0                 1         ... 255                1.00                  \n",
       "6 0                 0         ...  19                0.07                  \n",
       "  dst_host_diff_srv_rate dst_host_same_src_port_rate\n",
       "1 0.03                   0.17                       \n",
       "2 0.60                   0.88                       \n",
       "3 0.05                   0.00                       \n",
       "4 0.00                   0.03                       \n",
       "5 0.00                   0.00                       \n",
       "6 0.07                   0.00                       \n",
       "  dst_host_srv_diff_host_rate dst_host_serror_rate dst_host_srv_serror_rate\n",
       "1 0.00                        0.00                 0.00                    \n",
       "2 0.00                        0.00                 0.00                    \n",
       "3 0.00                        1.00                 1.00                    \n",
       "4 0.04                        0.03                 0.01                    \n",
       "5 0.00                        0.00                 0.00                    \n",
       "6 0.00                        0.00                 0.00                    \n",
       "  dst_host_rerror_rate dst_host_srv_rerror_rate class\n",
       "1 0.05                 0.00                     0    \n",
       "2 0.00                 0.00                     0    \n",
       "3 0.00                 0.00                     1    \n",
       "4 0.00                 0.01                     0    \n",
       "5 0.00                 0.00                     0    \n",
       "6 1.00                 1.00                     1    "
      ]
     },
     "metadata": {},
     "output_type": "display_data"
    },
    {
     "name": "stderr",
     "output_type": "stream",
     "text": [
      "Warning message in randomForest.default(m, y, ...):\n",
      "\"The response has five or fewer unique values.  Are you sure you want to do regression?\""
     ]
    },
    {
     "name": "stdout",
     "output_type": "stream",
     "text": [
      "\n",
      "Call:\n",
      " randomForest(formula = class ~ ., data = df2, ntree = 500) \n",
      "               Type of random forest: regression\n",
      "                     Number of trees: 500\n",
      "No. of variables tried at each split: 13\n",
      "\n",
      "          Mean of squared residuals: 0.002027446\n",
      "                    % Var explained: 99.19\n"
     ]
    },
    {
     "data": {
      "text/html": [
       "<ol class=list-inline>\n",
       "\t<li>'SF'</li>\n",
       "\t<li>'S0'</li>\n",
       "\t<li>'REJ'</li>\n",
       "\t<li>'RSTR'</li>\n",
       "\t<li>'SH'</li>\n",
       "\t<li>'RSTO'</li>\n",
       "\t<li>'S1'</li>\n",
       "\t<li>'RSTOS0'</li>\n",
       "\t<li>'S3'</li>\n",
       "\t<li>'S2'</li>\n",
       "\t<li>'OTH'</li>\n",
       "</ol>\n"
      ],
      "text/latex": [
       "\\begin{enumerate*}\n",
       "\\item 'SF'\n",
       "\\item 'S0'\n",
       "\\item 'REJ'\n",
       "\\item 'RSTR'\n",
       "\\item 'SH'\n",
       "\\item 'RSTO'\n",
       "\\item 'S1'\n",
       "\\item 'RSTOS0'\n",
       "\\item 'S3'\n",
       "\\item 'S2'\n",
       "\\item 'OTH'\n",
       "\\end{enumerate*}\n"
      ],
      "text/markdown": [
       "1. 'SF'\n",
       "2. 'S0'\n",
       "3. 'REJ'\n",
       "4. 'RSTR'\n",
       "5. 'SH'\n",
       "6. 'RSTO'\n",
       "7. 'S1'\n",
       "8. 'RSTOS0'\n",
       "9. 'S3'\n",
       "10. 'S2'\n",
       "11. 'OTH'\n",
       "\n",
       "\n"
      ],
      "text/plain": [
       " [1] \"SF\"     \"S0\"     \"REJ\"    \"RSTR\"   \"SH\"     \"RSTO\"   \"S1\"     \"RSTOS0\"\n",
       " [9] \"S3\"     \"S2\"     \"OTH\"   "
      ]
     },
     "metadata": {},
     "output_type": "display_data"
    },
    {
     "data": {
      "image/png": "[encoded data removed]",
      "text/plain": [
       "Plot with title \"rf2\""
      ]
     },
     "metadata": {},
     "output_type": "display_data"
    }
   ],
   "source": [
    "#library(dplyr)\n",
    "df2 <- mutate(data2, class = ifelse(class == \"normal\" ,0 ,\n",
    "                                    ifelse(class == \"anomaly\" ,1 ,2                                  \n",
    "                                                  )))\n",
    "\n",
    "#unique(data2$protocol_type)\n",
    "\n",
    "df2 <- mutate(df2, protocol_type = ifelse(protocol_type == \"tcp\" ,0 ,\n",
    "                                    ifelse(protocol_type == \"udp\" ,1 ,\n",
    "                                           ifelse(protocol_type == \"icmp\" ,3,3\n",
    "                                                  ))))\n",
    "#head(df2)\n",
    "#colnames(df2)\n",
    "\n",
    "df2 <- df2[c(-3,-4)]\n",
    "\n",
    "head(df2)\n",
    "rf2 <-randomForest(class ~.,data=df2, ntree=500) \n",
    "print(rf2)\n",
    "varImpPlot(rf2)\n",
    "\n",
    "unique(data2$flag)"
   ]
  },
  {
   "cell_type": "code",
   "execution_count": 32,
   "metadata": {},
   "outputs": [
    {
     "name": "stderr",
     "output_type": "stream",
     "text": [
      "Warning message in randomForest.default(m, y, ...):\n",
      "\"The response has five or fewer unique values.  Are you sure you want to do regression?\""
     ]
    },
    {
     "data": {
      "image/png": "[encoded data removed]",
      "text/plain": [
       "Plot with title \"rf3\""
      ]
     },
     "metadata": {},
     "output_type": "display_data"
    }
   ],
   "source": [
    "rf3 <-randomForest(protocol_type ~.,data=df2, ntree=500) \n",
    "#print(rf3)\n",
    "varImpPlot(rf3)\n",
    "\n"
   ]
  },
  {
   "cell_type": "code",
   "execution_count": null,
   "metadata": {},
   "outputs": [],
   "source": []
  }
 ],
 "metadata": {
  "kernelspec": {
   "display_name": "R",
   "language": "R",
   "name": "ir"
  },
  "language_info": {
   "codemirror_mode": "r",
   "file_extension": ".r",
   "mimetype": "text/x-r-source",
   "name": "R",
   "pygments_lexer": "r",
   "version": "3.5.1"
  }
 },
 "nbformat": 4,
 "nbformat_minor": 2
}
