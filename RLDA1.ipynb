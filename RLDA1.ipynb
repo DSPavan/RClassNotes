{
 "cells": [
  {
   "cell_type": "code",
   "execution_count": null,
   "metadata": {},
   "outputs": [],
   "source": [
    "require(MASS)\n",
    "require(ggplot2)\n",
    "require(scales)\n",
    "require(gridExtra)"
   ]
  },
  {
   "cell_type": "code",
   "execution_count": null,
   "metadata": {},
   "outputs": [],
   "source": [
    "pca <- prcomp(iris[,-5],\n",
    "              center = TRUE,\n",
    "              scale. = TRUE) \n",
    "\n",
    "prop.pca = pca$sdev^2/sum(pca$sdev^2)"
   ]
  },
  {
   "cell_type": "code",
   "execution_count": null,
   "metadata": {},
   "outputs": [],
   "source": [
    "lda <- lda(Species ~ ., \n",
    "           iris, \n",
    "           prior = c(1,1,1)/3)\n",
    "\n",
    "prop.lda = r$svd^2/sum(r$svd^2)"
   ]
  },
  {
   "cell_type": "code",
   "execution_count": null,
   "metadata": {},
   "outputs": [],
   "source": [
    "plda <- predict(object = lda,\n",
    "                newdata = iris)"
   ]
  },
  {
   "cell_type": "code",
   "execution_count": null,
   "metadata": {},
   "outputs": [],
   "source": [
    "dataset = data.frame(species = iris[,\"Species\"],\n",
    "                     pca = pca$x, lda = plda$x)"
   ]
  },
  {
   "cell_type": "code",
   "execution_count": null,
   "metadata": {},
   "outputs": [],
   "source": [
    "dataset = data.frame(species = iris[,\"Species\"],\n",
    "                     lda = plda$x)\n",
    "\n",
    "p1 <- ggplot(dataset) + geom_point(aes(lda.LD1, lda.LD2, colour = species, shape = species), size = 2.5) + \n",
    "  labs(x = paste(\"LD1 (\", percent(prop.lda[1]), \")\", sep=\"\"),\n",
    "       y = paste(\"LD2 (\", percent(prop.lda[2]), \")\", sep=\"\"))\n",
    "\n",
    "grid.arrange(p1)"
   ]
  },
  {
   "cell_type": "code",
   "execution_count": null,
   "metadata": {},
   "outputs": [],
   "source": [
    "dataset = data.frame(species = iris[,\"Species\"],\n",
    "                     pca = pca$x, lda = plda$x)\n",
    "\n",
    "p1 <- ggplot(dataset) + geom_point(aes(lda.LD1, lda.LD2, colour = species, shape = species), size = 2.5) + \n",
    "  labs(x = paste(\"LD1 (\", percent(prop.lda[1]), \")\", sep=\"\"),\n",
    "       y = paste(\"LD2 (\", percent(prop.lda[2]), \")\", sep=\"\"))\n",
    "\n",
    "p2 <- ggplot(dataset) + geom_point(aes(pca.PC1, pca.PC2, colour = species, shape = species), size = 2.5) +\n",
    "  labs(x = paste(\"PC1 (\", percent(prop.pca[1]), \")\", sep=\"\"),\n",
    "       y = paste(\"PC2 (\", percent(prop.pca[2]), \")\", sep=\"\"))\n",
    "\n",
    "grid.arrange(p1, p2)"
   ]
  },
  {
   "cell_type": "code",
   "execution_count": null,
   "metadata": {},
   "outputs": [],
   "source": []
  }
 ],
 "metadata": {
  "kernelspec": {
   "display_name": "R",
   "language": "R",
   "name": "ir"
  },
  "language_info": {
   "name": ""
  }
 },
 "nbformat": 4,
 "nbformat_minor": 2
}
