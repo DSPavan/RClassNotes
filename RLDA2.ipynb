{
 "cells": [
  {
   "cell_type": "code",
   "execution_count": null,
   "metadata": {},
   "outputs": [],
   "source": [
    "## LDA - Linear Discriminant Analysis (LDA)\n",
    "require(MASS)\n",
    "r <- lda(formula = Species ~ ., \n",
    "         data = iris, \n",
    "         prior = c(1,1,1)/3)\n",
    "\n",
    "print(r$prior)\n",
    "print(r$counts)\n",
    "print(r$means)\n",
    "print(r$scaling)\n",
    "print(r$svd)"
   ]
  },
  {
   "cell_type": "code",
   "execution_count": null,
   "metadata": {},
   "outputs": [],
   "source": [
    "# PCA is an unsupervised learning technique\n",
    "# (don’t use class information) \n",
    "# while LDA is a supervised technique \n",
    "# (uses class information), \n",
    "# but both provide the possibility of \n",
    "# dimensionality reduction, which is very useful \n",
    "# for visualization.\n",
    "#############"
   ]
  },
  {
   "cell_type": "code",
   "execution_count": null,
   "metadata": {},
   "outputs": [],
   "source": [
    "prop = r$svd^2/sum(r$svd^2)\n",
    "print(prop)"
   ]
  },
  {
   "cell_type": "code",
   "execution_count": null,
   "metadata": {},
   "outputs": [],
   "source": []
  }
 ],
 "metadata": {
  "kernelspec": {
   "display_name": "R",
   "language": "R",
   "name": "ir"
  },
  "language_info": {
   "name": ""
  }
 },
 "nbformat": 4,
 "nbformat_minor": 2
}
