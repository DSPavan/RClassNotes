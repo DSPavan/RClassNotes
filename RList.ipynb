{
 "cells": [
  {
   "cell_type": "code",
   "execution_count": 1,
   "metadata": {},
   "outputs": [],
   "source": [
    "#Lists are the R objects which contain elements of different types like − numbers, strings, vectors and another list inside it.\n",
    "#This is the difference with vector.\n",
    "\n",
    "# list()\n"
   ]
  },
  {
   "cell_type": "code",
   "execution_count": 2,
   "metadata": {},
   "outputs": [
    {
     "name": "stdout",
     "output_type": "stream",
     "text": [
      "[[1]]\n",
      "[1] \"Red\"\n",
      "\n",
      "[[2]]\n",
      "[1] \"Green\"\n",
      "\n",
      "[[3]]\n",
      "[1] 21 32 11\n",
      "\n",
      "[[4]]\n",
      "[1] TRUE\n",
      "\n",
      "[[5]]\n",
      "[1] 51.23\n",
      "\n",
      "[[6]]\n",
      "[1] 119.1\n",
      "\n",
      "[1] 6\n"
     ]
    }
   ],
   "source": [
    "list_data <- list(\"Red\", \"Green\", c(21,32,11), TRUE, 51.23, 119.1)\n",
    "print(list_data)\n",
    "print(length(list_data))"
   ]
  },
  {
   "cell_type": "code",
   "execution_count": 3,
   "metadata": {},
   "outputs": [
    {
     "name": "stdout",
     "output_type": "stream",
     "text": [
      "[1] \"list\"\n"
     ]
    }
   ],
   "source": [
    "print(typeof(list_data))"
   ]
  },
  {
   "cell_type": "code",
   "execution_count": 4,
   "metadata": {},
   "outputs": [
    {
     "name": "stdout",
     "output_type": "stream",
     "text": [
      "List of 6\n",
      " $ : chr \"Red\"\n",
      " $ : chr \"Green\"\n",
      " $ : num [1:3] 21 32 11\n",
      " $ : logi TRUE\n",
      " $ : num 51.2\n",
      " $ : num 119\n"
     ]
    }
   ],
   "source": [
    "#str() function\n",
    "str(list_data)"
   ]
  },
  {
   "cell_type": "code",
   "execution_count": 25,
   "metadata": {},
   "outputs": [
    {
     "name": "stdout",
     "output_type": "stream",
     "text": [
      "[[1]]\n",
      "[1] \"Red\"\n",
      "\n",
      "[[2]]\n",
      "[1] \"Green\"\n",
      "\n",
      "[[3]]\n",
      "[1] 21 32 11\n",
      "\n",
      "[[4]]\n",
      "[1] TRUE\n",
      "\n",
      "[[5]]\n",
      "[1] 51.23\n",
      "\n",
      "[[6]]\n",
      "[1] 119.1\n",
      "\n",
      "NULL\n"
     ]
    }
   ],
   "source": [
    "# Access the first element of the list.\n",
    "list_data <- list(\"Red\", \"Green\", c(21,32,11), TRUE, 51.23, 119.1)\n",
    "print(list_data)\n",
    "print(list_data$c[1])\n",
    "\n",
    "\n",
    "\n",
    "\n",
    "\n"
   ]
  },
  {
   "cell_type": "code",
   "execution_count": 26,
   "metadata": {},
   "outputs": [
    {
     "name": "stdout",
     "output_type": "stream",
     "text": [
      "[1] 21 32 11\n"
     ]
    }
   ],
   "source": [
    "# Access the list element using the name of the element.\n",
    "# Give names to the elements in the list.\n",
    "names(list_data) <- c(\"1st\", \"2nd\", \"Avector\", \"bool\",\"num\", \"num2\")\n",
    "print(list_data$Avector)"
   ]
  },
  {
   "cell_type": "code",
   "execution_count": 31,
   "metadata": {},
   "outputs": [
    {
     "data": {
      "text/html": [
       "'119.1 == 51.23'"
      ],
      "text/latex": [
       "'119.1 == 51.23'"
      ],
      "text/markdown": [
       "'119.1 == 51.23'"
      ],
      "text/plain": [
       "[1] \"119.1 == 51.23\""
      ]
     },
     "metadata": {},
     "output_type": "display_data"
    }
   ],
   "source": [
    "paste(list_data$num2 ,\"==\", list_data$num) # print two and more values with paste()"
   ]
  },
  {
   "cell_type": "code",
   "execution_count": 35,
   "metadata": {},
   "outputs": [
    {
     "name": "stdout",
     "output_type": "stream",
     "text": [
      "$`1st`\n",
      "[1] \"Red\"\n",
      "\n"
     ]
    }
   ],
   "source": [
    "print(list_data[1])"
   ]
  },
  {
   "cell_type": "code",
   "execution_count": 36,
   "metadata": {},
   "outputs": [],
   "source": [
    "#We can add, delete and update list elements \n",
    "#We can add and delete elements only at the end of a list. \n",
    "#But we can update any element.\n"
   ]
  },
  {
   "cell_type": "code",
   "execution_count": 39,
   "metadata": {},
   "outputs": [
    {
     "name": "stdout",
     "output_type": "stream",
     "text": [
      "[[1]]\n",
      "[1] \"New element\"\n",
      "\n"
     ]
    }
   ],
   "source": [
    "# Add element at the end of the list.\n",
    "list_data[7] <- \"New element\"\n",
    "print(list_data[7])\n"
   ]
  },
  {
   "cell_type": "code",
   "execution_count": 40,
   "metadata": {},
   "outputs": [
    {
     "name": "stdout",
     "output_type": "stream",
     "text": [
      "$Avector\n",
      "[1] \"updated element\"\n",
      "\n"
     ]
    }
   ],
   "source": [
    "# Update the 3rd Element. \n",
    "list_data[3] <- \"updated element\"\n",
    "print(list_data[3])\n"
   ]
  },
  {
   "cell_type": "code",
   "execution_count": 41,
   "metadata": {},
   "outputs": [
    {
     "name": "stdout",
     "output_type": "stream",
     "text": [
      "$`1st`\n",
      "[1] \"Red\"\n",
      "\n",
      "$`2nd`\n",
      "[1] \"Green\"\n",
      "\n",
      "$Avector\n",
      "[1] \"updated element\"\n",
      "\n",
      "$bool\n",
      "[1] TRUE\n",
      "\n",
      "$num\n",
      "[1] 51.23\n",
      "\n",
      "$num2\n",
      "[1] 119.1\n",
      "\n",
      "[[7]]\n",
      "[1] \"New element\"\n",
      "\n"
     ]
    }
   ],
   "source": [
    "print(list_data)"
   ]
  },
  {
   "cell_type": "code",
   "execution_count": 42,
   "metadata": {},
   "outputs": [
    {
     "name": "stdout",
     "output_type": "stream",
     "text": [
      "$`1st`\n",
      "[1] \"Red\"\n",
      "\n",
      "$`2nd`\n",
      "[1] \"Green\"\n",
      "\n",
      "$Avector\n",
      "[1] \"updated element\"\n",
      "\n",
      "$num\n",
      "[1] 51.23\n",
      "\n",
      "$num2\n",
      "[1] 119.1\n",
      "\n",
      "[[6]]\n",
      "[1] \"New element\"\n",
      "\n"
     ]
    }
   ],
   "source": [
    "# Remove the last element. \n",
    "list_data[4] <- NULL\n",
    "print(list_data)"
   ]
  },
  {
   "cell_type": "code",
   "execution_count": 46,
   "metadata": {},
   "outputs": [
    {
     "name": "stdout",
     "output_type": "stream",
     "text": [
      "[1] \"Green\"\n"
     ]
    }
   ],
   "source": [
    "print( list_data[[2]] )  # [ [ ]]  double bracket\n"
   ]
  },
  {
   "cell_type": "code",
   "execution_count": 47,
   "metadata": {},
   "outputs": [],
   "source": [
    "#An alternative to [[, which is used often while accessing content of a list is the $ operator.\n",
    "#They are both the same except that $ can do partial matching on tags"
   ]
  },
  {
   "cell_type": "code",
   "execution_count": 48,
   "metadata": {},
   "outputs": [
    {
     "data": {
      "text/html": [
       "<ol>\n",
       "\t<li>3</li>\n",
       "\t<li>3</li>\n",
       "\t<li>4</li>\n",
       "\t<li>4</li>\n",
       "\t<li>7</li>\n",
       "\t<li>7</li>\n",
       "\t<li>8</li>\n",
       "\t<li>9</li>\n",
       "</ol>\n"
      ],
      "text/latex": [
       "\\begin{enumerate}\n",
       "\\item 3\n",
       "\\item 3\n",
       "\\item 4\n",
       "\\item 4\n",
       "\\item 7\n",
       "\\item 7\n",
       "\\item 8\n",
       "\\item 9\n",
       "\\end{enumerate}\n"
      ],
      "text/markdown": [
       "1. 3\n",
       "2. 3\n",
       "3. 4\n",
       "4. 4\n",
       "5. 7\n",
       "6. 7\n",
       "7. 8\n",
       "8. 9\n",
       "\n",
       "\n"
      ],
      "text/plain": [
       "[[1]]\n",
       "[1] 3\n",
       "\n",
       "[[2]]\n",
       "[1] 3\n",
       "\n",
       "[[3]]\n",
       "[1] 4\n",
       "\n",
       "[[4]]\n",
       "[1] 4\n",
       "\n",
       "[[5]]\n",
       "[1] 7\n",
       "\n",
       "[[6]]\n",
       "[1] 7\n",
       "\n",
       "[[7]]\n",
       "[1] 8\n",
       "\n",
       "[[8]]\n",
       "[1] 9\n"
      ]
     },
     "metadata": {},
     "output_type": "display_data"
    }
   ],
   "source": [
    "# Merge the two lists. \n",
    "list1 <- list(3,3,4,4)\n",
    "list2 <- list(7,7,8,9)\n",
    "merged.list <- c(list1,list2)\n",
    "merged.list\n",
    "\n",
    "# Index and numbers"
   ]
  },
  {
   "cell_type": "code",
   "execution_count": 49,
   "metadata": {},
   "outputs": [
    {
     "ename": "ERROR",
     "evalue": "Error in list1 + list2: non-numeric argument to binary operator\n",
     "output_type": "error",
     "traceback": [
      "Error in list1 + list2: non-numeric argument to binary operator\nTraceback:\n"
     ]
    }
   ],
   "source": [
    "v2 <- list1+list2\n",
    "print(v2)\n",
    "#This will throw error – “non-numeric argument to binary operator”\n"
   ]
  },
  {
   "cell_type": "code",
   "execution_count": 51,
   "metadata": {},
   "outputs": [
    {
     "name": "stdout",
     "output_type": "stream",
     "text": [
      "[1] 3 3 4 4\n",
      "[1] 7 7 8 9\n",
      "[1] 10 10 12 13\n"
     ]
    }
   ],
   "source": [
    "# Convert the lists to vectors.  - unlist()  For calculations\n",
    "v1 <- unlist(list1)\n",
    "v2 <- unlist(list2)\n",
    "\n",
    "print(v1)\n",
    "print(v2)\n",
    "\n",
    "# Now add the vectors\n",
    "result <- v1+v2\n",
    "print(result)\n"
   ]
  },
  {
   "cell_type": "code",
   "execution_count": 53,
   "metadata": {},
   "outputs": [
    {
     "name": "stdout",
     "output_type": "stream",
     "text": [
      "[[1]]\n",
      "[1] 3\n",
      "\n",
      "[[2]]\n",
      "[1] 3\n",
      "\n",
      "[[3]]\n",
      "[1] 4\n",
      "\n",
      "[[4]]\n",
      "[1] 4\n",
      "\n",
      "[[5]]\n",
      "[1] 7\n",
      "\n",
      "[[6]]\n",
      "[1] 7\n",
      "\n",
      "[[7]]\n",
      "[1] 8\n",
      "\n",
      "[[8]]\n",
      "[1] 9\n",
      "\n"
     ]
    }
   ],
   "source": [
    "# Merge the two lists.  # Append\n",
    "merged.list2 <- c(list1,list2)\n",
    "\n",
    "# Print the merged list.\n",
    "print(merged.list2) "
   ]
  },
  {
   "cell_type": "code",
   "execution_count": null,
   "metadata": {},
   "outputs": [],
   "source": []
  }
 ],
 "metadata": {
  "kernelspec": {
   "display_name": "R",
   "language": "R",
   "name": "ir"
  },
  "language_info": {
   "codemirror_mode": "r",
   "file_extension": ".r",
   "mimetype": "text/x-r-source",
   "name": "R",
   "pygments_lexer": "r",
   "version": "3.5.0"
  }
 },
 "nbformat": 4,
 "nbformat_minor": 2
}
