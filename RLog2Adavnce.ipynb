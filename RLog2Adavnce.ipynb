{
 "cells": [
  {
   "cell_type": "code",
   "execution_count": 41,
   "metadata": {},
   "outputs": [
    {
     "name": "stdout",
     "output_type": "stream",
     "text": [
      "'data.frame':\t100 obs. of  3 variables:\n",
      " $ exam_1  : num  34.6 30.3 35.8 60.2 79 ...\n",
      " $ exam_2  : num  78 43.9 72.9 86.3 75.3 ...\n",
      " $ admitted: int  0 0 0 1 1 0 1 1 1 1 ...\n"
     ]
    }
   ],
   "source": [
    "# with Missing data\n",
    "data2 <- read.csv(\"C:/Users/radha31/Downloads/Marks2.csv\", header = TRUE,\n",
    "                 stringsAsFactors = FALSE,\n",
    "                 strip.white = TRUE ,\n",
    "                 sep = ',')\n",
    "\n",
    "str(data2)"
   ]
  },
  {
   "cell_type": "code",
   "execution_count": 30,
   "metadata": {},
   "outputs": [
    {
     "data": {
      "text/html": [
       "<ol class=list-inline>\n",
       "\t<li>20</li>\n",
       "\t<li>3</li>\n",
       "</ol>\n"
      ],
      "text/latex": [
       "\\begin{enumerate*}\n",
       "\\item 20\n",
       "\\item 3\n",
       "\\end{enumerate*}\n"
      ],
      "text/markdown": [
       "1. 20\n",
       "2. 3\n",
       "\n",
       "\n"
      ],
      "text/plain": [
       "[1] 20  3"
      ]
     },
     "metadata": {},
     "output_type": "display_data"
    },
    {
     "data": {
      "text/html": [
       "<dl class=dl-horizontal>\n",
       "\t<dt>1</dt>\n",
       "\t\t<dd>0.179587245776572</dd>\n",
       "\t<dt>3</dt>\n",
       "\t\t<dd>0.112165030018418</dd>\n",
       "\t<dt>4</dt>\n",
       "\t\t<dd>0.970647486898989</dd>\n",
       "\t<dt>5</dt>\n",
       "\t\t<dd>0.99147006586388</dd>\n",
       "\t<dt>7</dt>\n",
       "\t\t<dd>0.993924525243221</dd>\n",
       "\t<dt>14</dt>\n",
       "\t\t<dd>0.998511239012602</dd>\n",
       "\t<dt>23</dt>\n",
       "\t\t<dd>0.0352877402575849</dd>\n",
       "\t<dt>29</dt>\n",
       "\t\t<dd>0.195552353559056</dd>\n",
       "\t<dt>33</dt>\n",
       "\t\t<dd>0.2631241521774</dd>\n",
       "\t<dt>41</dt>\n",
       "\t\t<dd>0.490203956578181</dd>\n",
       "\t<dt>44</dt>\n",
       "\t\t<dd>0.57093567800569</dd>\n",
       "\t<dt>59</dt>\n",
       "\t\t<dd>0.962612348793308</dd>\n",
       "\t<dt>60</dt>\n",
       "\t\t<dd>0.983946590773096</dd>\n",
       "\t<dt>68</dt>\n",
       "\t\t<dd>0.0433455522973775</dd>\n",
       "\t<dt>69</dt>\n",
       "\t\t<dd>0.99935329069515</dd>\n",
       "\t<dt>76</dt>\n",
       "\t\t<dd>0.999417538419455</dd>\n",
       "\t<dt>82</dt>\n",
       "\t\t<dd>0.946908905879337</dd>\n",
       "\t<dt>88</dt>\n",
       "\t\t<dd>0.998309288013093</dd>\n",
       "\t<dt>96</dt>\n",
       "\t\t<dd>0.827009943668206</dd>\n",
       "\t<dt>100</dt>\n",
       "\t\t<dd>0.997866026378095</dd>\n",
       "</dl>\n"
      ],
      "text/latex": [
       "\\begin{description*}\n",
       "\\item[1] 0.179587245776572\n",
       "\\item[3] 0.112165030018418\n",
       "\\item[4] 0.970647486898989\n",
       "\\item[5] 0.99147006586388\n",
       "\\item[7] 0.993924525243221\n",
       "\\item[14] 0.998511239012602\n",
       "\\item[23] 0.0352877402575849\n",
       "\\item[29] 0.195552353559056\n",
       "\\item[33] 0.2631241521774\n",
       "\\item[41] 0.490203956578181\n",
       "\\item[44] 0.57093567800569\n",
       "\\item[59] 0.962612348793308\n",
       "\\item[60] 0.983946590773096\n",
       "\\item[68] 0.0433455522973775\n",
       "\\item[69] 0.99935329069515\n",
       "\\item[76] 0.999417538419455\n",
       "\\item[82] 0.946908905879337\n",
       "\\item[88] 0.998309288013093\n",
       "\\item[96] 0.827009943668206\n",
       "\\item[100] 0.997866026378095\n",
       "\\end{description*}\n"
      ],
      "text/markdown": [
       "1\n",
       ":   0.1795872457765723\n",
       ":   0.1121650300184184\n",
       ":   0.9706474868989895\n",
       ":   0.991470065863887\n",
       ":   0.99392452524322114\n",
       ":   0.99851123901260223\n",
       ":   0.035287740257584929\n",
       ":   0.19555235355905633\n",
       ":   0.263124152177441\n",
       ":   0.49020395657818144\n",
       ":   0.5709356780056959\n",
       ":   0.96261234879330860\n",
       ":   0.98394659077309668\n",
       ":   0.043345552297377569\n",
       ":   0.9993532906951576\n",
       ":   0.99941753841945582\n",
       ":   0.94690890587933788\n",
       ":   0.99830928801309396\n",
       ":   0.827009943668206100\n",
       ":   0.997866026378095\n",
       "\n"
      ],
      "text/plain": [
       "         1          3          4          5          7         14         23 \n",
       "0.17958725 0.11216503 0.97064749 0.99147007 0.99392453 0.99851124 0.03528774 \n",
       "        29         33         41         44         59         60         68 \n",
       "0.19555235 0.26312415 0.49020396 0.57093568 0.96261235 0.98394659 0.04334555 \n",
       "        69         76         82         88         96        100 \n",
       "0.99935329 0.99941754 0.94690891 0.99830929 0.82700994 0.99786603 "
      ]
     },
     "metadata": {},
     "output_type": "display_data"
    }
   ],
   "source": [
    "# Create Training and Test data -\n",
    "set.seed(100)  # setting seed to reproduce results of random sampling\n",
    "trainingRowIndex <- sample(1:nrow(data2), 0.8*nrow(data2))  # row indices for training data\n",
    "trainingData <- data[trainingRowIndex, ]  # model training data\n",
    "testData  <- data[-trainingRowIndex, ]   # test data\n",
    "\n",
    "dim(testData )\n",
    "logitMod <- glm(admitted ~ exam_1+exam_2, \n",
    "                data=trainingData, \n",
    "                family=binomial(link=\"logit\"))\n",
    "\n",
    "#predicted <- plogis(predict(logitMod, testData))  # predicted scores\n",
    "# or\n",
    "predicted <- predict(logitMod, testData, type=\"response\")  # predicted scores\n",
    "predicted"
   ]
  },
  {
   "cell_type": "code",
   "execution_count": 31,
   "metadata": {},
   "outputs": [
    {
     "name": "stderr",
     "output_type": "stream",
     "text": [
      "Waiting for profiling to be done...\n"
     ]
    },
    {
     "data": {
      "text/html": [
       "<table>\n",
       "<thead><tr><th></th><th scope=col>2.5 %</th><th scope=col>97.5 %</th></tr></thead>\n",
       "<tbody>\n",
       "\t<tr><th scope=row>(Intercept)</th><td>-27.96769761</td><td>-10.7926517 </td></tr>\n",
       "\t<tr><th scope=row>exam_1</th><td>  0.08780418</td><td>  0.2372689 </td></tr>\n",
       "\t<tr><th scope=row>exam_2</th><td>  0.08210701</td><td>  0.2279395 </td></tr>\n",
       "</tbody>\n",
       "</table>\n"
      ],
      "text/latex": [
       "\\begin{tabular}{r|ll}\n",
       "  & 2.5 \\% & 97.5 \\%\\\\\n",
       "\\hline\n",
       "\t(Intercept) & -27.96769761 & -10.7926517 \\\\\n",
       "\texam\\_1 &   0.08780418 &   0.2372689 \\\\\n",
       "\texam\\_2 &   0.08210701 &   0.2279395 \\\\\n",
       "\\end{tabular}\n"
      ],
      "text/markdown": [
       "\n",
       "| <!--/--> | 2.5 % | 97.5 % | \n",
       "|---|---|---|\n",
       "| (Intercept) | -27.96769761 | -10.7926517  | \n",
       "| exam_1 |   0.08780418 |   0.2372689  | \n",
       "| exam_2 |   0.08210701 |   0.2279395  | \n",
       "\n",
       "\n"
      ],
      "text/plain": [
       "            2.5 %        97.5 %     \n",
       "(Intercept) -27.96769761 -10.7926517\n",
       "exam_1        0.08780418   0.2372689\n",
       "exam_2        0.08210701   0.2279395"
      ]
     },
     "metadata": {},
     "output_type": "display_data"
    }
   ],
   "source": [
    "## CIs using profiled log-likelihood\n",
    "confint(logitMod)"
   ]
  },
  {
   "cell_type": "code",
   "execution_count": 32,
   "metadata": {},
   "outputs": [
    {
     "data": {
      "text/html": [
       "<dl class=dl-horizontal>\n",
       "\t<dt>(Intercept)</dt>\n",
       "\t\t<dd>1.72145672403822e-08</dd>\n",
       "\t<dt>exam_1</dt>\n",
       "\t\t<dd>1.16175595982497</dd>\n",
       "\t<dt>exam_2</dt>\n",
       "\t\t<dd>1.15387200558793</dd>\n",
       "</dl>\n"
      ],
      "text/latex": [
       "\\begin{description*}\n",
       "\\item[(Intercept)] 1.72145672403822e-08\n",
       "\\item[exam\\textbackslash{}\\_1] 1.16175595982497\n",
       "\\item[exam\\textbackslash{}\\_2] 1.15387200558793\n",
       "\\end{description*}\n"
      ],
      "text/markdown": [
       "(Intercept)\n",
       ":   1.72145672403822e-08exam_1\n",
       ":   1.16175595982497exam_2\n",
       ":   1.15387200558793\n",
       "\n"
      ],
      "text/plain": [
       " (Intercept)       exam_1       exam_2 \n",
       "1.721457e-08 1.161756e+00 1.153872e+00 "
      ]
     },
     "metadata": {},
     "output_type": "display_data"
    }
   ],
   "source": [
    "## odds ratios only\n",
    "exp(coef(logitMod))"
   ]
  },
  {
   "cell_type": "code",
   "execution_count": 42,
   "metadata": {},
   "outputs": [
    {
     "data": {
      "image/png": "[encoded data removed]",
      "text/plain": [
       "Plot with title \"Missing values vs observed\""
      ]
     },
     "metadata": {},
     "output_type": "display_data"
    }
   ],
   "source": [
    "#A visual take on the missing values might be helpful: the Amelia package has a special plotting function missmap() that will plot your dataset and highlight missing values:\n",
    "\n",
    "library(Amelia)\n",
    "missmap(data2, main = \"Missing values vs observed\")"
   ]
  },
  {
   "cell_type": "code",
   "execution_count": 34,
   "metadata": {},
   "outputs": [],
   "source": [
    "# install.packages(\"Amelia\")"
   ]
  },
  {
   "cell_type": "code",
   "execution_count": 44,
   "metadata": {},
   "outputs": [
    {
     "data": {
      "image/png": "[encoded data removed]",
      "text/plain": [
       "Plot with title \"Missing values vs observed\""
      ]
     },
     "metadata": {},
     "output_type": "display_data"
    }
   ],
   "source": [
    "missmap(data2, main = \"Missing values vs observed\")"
   ]
  },
  {
   "cell_type": "code",
   "execution_count": 52,
   "metadata": {},
   "outputs": [],
   "source": [
    "# Create the function.\n",
    "getmode <- function(v) {\n",
    "   uniqv <- unique(v)\n",
    "   uniqv[which.max(tabulate(match(v, uniqv)))]\n",
    "}"
   ]
  },
  {
   "cell_type": "code",
   "execution_count": 53,
   "metadata": {},
   "outputs": [
    {
     "data": {
      "text/html": [
       "1"
      ],
      "text/latex": [
       "1"
      ],
      "text/markdown": [
       "1"
      ],
      "text/plain": [
       "[1] 1"
      ]
     },
     "metadata": {},
     "output_type": "display_data"
    }
   ],
   "source": [
    "getmode(data2$admitted)"
   ]
  },
  {
   "cell_type": "code",
   "execution_count": 38,
   "metadata": {},
   "outputs": [
    {
     "data": {
      "text/html": [
       "<table>\n",
       "<thead><tr><th></th><th scope=col>1</th></tr></thead>\n",
       "<tbody>\n",
       "\t<tr><th scope=row>0</th><td>0</td></tr>\n",
       "\t<tr><th scope=row>1</th><td>1</td></tr>\n",
       "</tbody>\n",
       "</table>\n"
      ],
      "text/latex": [
       "\\begin{tabular}{r|l}\n",
       "  & 1\\\\\n",
       "\\hline\n",
       "\t0 & 0\\\\\n",
       "\t1 & 1\\\\\n",
       "\\end{tabular}\n"
      ],
      "text/markdown": [
       "\n",
       "| <!--/--> | 1 | \n",
       "|---|---|\n",
       "| 0 | 0 | \n",
       "| 1 | 1 | \n",
       "\n",
       "\n"
      ],
      "text/plain": [
       "  1\n",
       "0 0\n",
       "1 1"
      ]
     },
     "metadata": {},
     "output_type": "display_data"
    }
   ],
   "source": [
    "data2$admitted <- as.factor(data2$admitted)\n",
    "contrasts(data2$admitted)"
   ]
  },
  {
   "cell_type": "code",
   "execution_count": 45,
   "metadata": {},
   "outputs": [
    {
     "data": {
      "text/plain": [
       "\n",
       " 0  1 \n",
       "40 56 "
      ]
     },
     "metadata": {},
     "output_type": "display_data"
    },
    {
     "data": {
      "text/html": [
       "56"
      ],
      "text/latex": [
       "56"
      ],
      "text/markdown": [
       "56"
      ],
      "text/plain": [
       "[1] 56"
      ]
     },
     "metadata": {},
     "output_type": "display_data"
    }
   ],
   "source": [
    "# count of 1,0\n",
    "\n",
    "table(data2$admitted)\n",
    "tabulate(data2$admitted)"
   ]
  },
  {
   "cell_type": "code",
   "execution_count": 46,
   "metadata": {},
   "outputs": [
    {
     "name": "stderr",
     "output_type": "stream",
     "text": [
      "Warning message in data(data2, package = \"VIM\"):\n",
      "\"data set 'data2' not found\""
     ]
    },
    {
     "data": {
      "image/png": "[encoded data removed]",
      "text/plain": [
       "plot without title"
      ]
     },
     "metadata": {},
     "output_type": "display_data"
    }
   ],
   "source": [
    "## Load VIM package for Visualization and Imputation of Missing Values\n",
    "\n",
    "library(VIM)\n",
    "## Load sleep data in VIM\n",
    "data(data2, package = \"VIM\")\n",
    "## in number\n",
    "aggr(data2, prop = F, numbers = T)"
   ]
  },
  {
   "cell_type": "code",
   "execution_count": 25,
   "metadata": {},
   "outputs": [
    {
     "name": "stderr",
     "output_type": "stream",
     "text": [
      "Installing package into 'C:/Users/radha31/Documents/R/win-library/3.5'\n",
      "(as 'lib' is unspecified)\n",
      "also installing the dependencies 'zoo', 'DEoptimR', 'lmtest', 'robustbase', 'vcd', 'e1071', 'laeken'\n",
      "\n"
     ]
    },
    {
     "name": "stdout",
     "output_type": "stream",
     "text": [
      "package 'zoo' successfully unpacked and MD5 sums checked\n",
      "package 'DEoptimR' successfully unpacked and MD5 sums checked\n",
      "package 'lmtest' successfully unpacked and MD5 sums checked\n",
      "package 'robustbase' successfully unpacked and MD5 sums checked\n",
      "package 'vcd' successfully unpacked and MD5 sums checked\n",
      "package 'e1071' successfully unpacked and MD5 sums checked\n",
      "package 'laeken' successfully unpacked and MD5 sums checked\n",
      "package 'VIM' successfully unpacked and MD5 sums checked\n",
      "\n",
      "The downloaded binary packages are in\n",
      "\tC:\\Users\\radha31\\AppData\\Local\\Temp\\RtmpmSR3Pm\\downloaded_packages\n"
     ]
    }
   ],
   "source": [
    "#install.packages(\"VIM\")"
   ]
  },
  {
   "cell_type": "code",
   "execution_count": 49,
   "metadata": {},
   "outputs": [],
   "source": [
    "data2$exam_1[is.na(data2$exam_1)] <- mean(data2$exam_1,na.rm=T) # Missingvalue replace"
   ]
  },
  {
   "cell_type": "code",
   "execution_count": 50,
   "metadata": {},
   "outputs": [],
   "source": [
    "data2$exam_2[is.na(data2$exam_2)] <- mean(data2$exam_2,na.rm=T) # Missingvalue replace"
   ]
  },
  {
   "cell_type": "code",
   "execution_count": 55,
   "metadata": {},
   "outputs": [],
   "source": [
    "# based on Mode\n",
    "data2$admitted[is.na(data2$admitted)] <- 1 # Missingvalue replace"
   ]
  },
  {
   "cell_type": "code",
   "execution_count": 56,
   "metadata": {},
   "outputs": [
    {
     "data": {
      "image/png": "[encoded data removed]",
      "text/plain": [
       "plot without title"
      ]
     },
     "metadata": {},
     "output_type": "display_data"
    }
   ],
   "source": [
    "aggr(data2, prop = F, numbers = T)"
   ]
  },
  {
   "cell_type": "code",
   "execution_count": null,
   "metadata": {},
   "outputs": [],
   "source": []
  }
 ],
 "metadata": {
  "kernelspec": {
   "display_name": "R",
   "language": "R",
   "name": "ir"
  },
  "language_info": {
   "codemirror_mode": "r",
   "file_extension": ".r",
   "mimetype": "text/x-r-source",
   "name": "R",
   "pygments_lexer": "r",
   "version": "3.5.1"
  }
 },
 "nbformat": 4,
 "nbformat_minor": 2
}
