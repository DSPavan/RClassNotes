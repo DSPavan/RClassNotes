{
 "cells": [
  {
   "cell_type": "code",
   "execution_count": 94,
   "metadata": {},
   "outputs": [],
   "source": [
    "#So, until 1972, people didn't know how to analyze data which has a non-normal error distribution in the dependent variable.\n",
    "# Then, in 1972,\n",
    "# came a breakthrough by John Nelder and Robert Wedderburn in the form of Generalized Linear Models.\n",
    "\n",
    "# How can you evaluate Logistic Regression model fit and accuracy ?\n",
    "# Akaike Information Criteria (AIC) - > Smaller the better.\n",
    "# Null Deviance and Residual Deviance -> The larger the difference between null and residual deviance, better the model.\n",
    "# Confusion Matrix"
   ]
  },
  {
   "cell_type": "code",
   "execution_count": 117,
   "metadata": {},
   "outputs": [
    {
     "name": "stdout",
     "output_type": "stream",
     "text": [
      "'data.frame':\t100 obs. of  3 variables:\n",
      " $ exam_1  : num  34.6 30.3 35.8 60.2 79 ...\n",
      " $ exam_2  : num  78 43.9 72.9 86.3 75.3 ...\n",
      " $ admitted: int  0 0 0 1 1 0 1 1 1 1 ...\n",
      "NULL\n"
     ]
    }
   ],
   "source": [
    "data <- read.csv(\"C:/Users/radha31/Downloads/Marks.csv\", header = TRUE,\n",
    "                 stringsAsFactors = FALSE,\n",
    "                 strip.white = TRUE ,\n",
    "                 sep = ',')\n",
    "\n",
    "print(str(data))"
   ]
  },
  {
   "cell_type": "code",
   "execution_count": 198,
   "metadata": {},
   "outputs": [
    {
     "data": {
      "text/html": [
       "<table>\n",
       "<thead><tr><th scope=col>exam_1</th><th scope=col>exam_2</th><th scope=col>admitted</th></tr></thead>\n",
       "<tbody>\n",
       "\t<tr><td>34.62366</td><td>78.02469</td><td>0       </td></tr>\n",
       "\t<tr><td>30.28671</td><td>43.89500</td><td>0       </td></tr>\n",
       "\t<tr><td>35.84741</td><td>72.90220</td><td>0       </td></tr>\n",
       "\t<tr><td>60.18260</td><td>86.30855</td><td>1       </td></tr>\n",
       "\t<tr><td>79.03274</td><td>75.34438</td><td>1       </td></tr>\n",
       "\t<tr><td>45.08328</td><td>56.31637</td><td>0       </td></tr>\n",
       "</tbody>\n",
       "</table>\n"
      ],
      "text/latex": [
       "\\begin{tabular}{r|lll}\n",
       " exam\\_1 & exam\\_2 & admitted\\\\\n",
       "\\hline\n",
       "\t 34.62366 & 78.02469 & 0       \\\\\n",
       "\t 30.28671 & 43.89500 & 0       \\\\\n",
       "\t 35.84741 & 72.90220 & 0       \\\\\n",
       "\t 60.18260 & 86.30855 & 1       \\\\\n",
       "\t 79.03274 & 75.34438 & 1       \\\\\n",
       "\t 45.08328 & 56.31637 & 0       \\\\\n",
       "\\end{tabular}\n"
      ],
      "text/markdown": [
       "\n",
       "exam_1 | exam_2 | admitted | \n",
       "|---|---|---|---|---|---|\n",
       "| 34.62366 | 78.02469 | 0        | \n",
       "| 30.28671 | 43.89500 | 0        | \n",
       "| 35.84741 | 72.90220 | 0        | \n",
       "| 60.18260 | 86.30855 | 1        | \n",
       "| 79.03274 | 75.34438 | 1        | \n",
       "| 45.08328 | 56.31637 | 0        | \n",
       "\n",
       "\n"
      ],
      "text/plain": [
       "  exam_1   exam_2   admitted\n",
       "1 34.62366 78.02469 0       \n",
       "2 30.28671 43.89500 0       \n",
       "3 35.84741 72.90220 0       \n",
       "4 60.18260 86.30855 1       \n",
       "5 79.03274 75.34438 1       \n",
       "6 45.08328 56.31637 0       "
      ]
     },
     "metadata": {},
     "output_type": "display_data"
    },
    {
     "data": {
      "text/html": [
       "<ol class=list-inline>\n",
       "\t<li>'0'</li>\n",
       "\t<li>'1'</li>\n",
       "</ol>\n"
      ],
      "text/latex": [
       "\\begin{enumerate*}\n",
       "\\item '0'\n",
       "\\item '1'\n",
       "\\end{enumerate*}\n"
      ],
      "text/markdown": [
       "1. '0'\n",
       "2. '1'\n",
       "\n",
       "\n"
      ],
      "text/plain": [
       "[1] \"0\" \"1\""
      ]
     },
     "metadata": {},
     "output_type": "display_data"
    }
   ],
   "source": [
    "head(data)\n",
    "factorA <- factor(data$admitted)\n",
    "lv <- levels(factorA)\n",
    "lv\n"
   ]
  },
  {
   "cell_type": "code",
   "execution_count": 119,
   "metadata": {},
   "outputs": [
    {
     "data": {
      "text/plain": [
       "\n",
       " 0  1 \n",
       "40 60 "
      ]
     },
     "metadata": {},
     "output_type": "display_data"
    }
   ],
   "source": [
    "table(data$admitted)\n",
    "\n"
   ]
  },
  {
   "cell_type": "code",
   "execution_count": 201,
   "metadata": {},
   "outputs": [
    {
     "data": {
      "text/html": [
       "<ol class=list-inline>\n",
       "\t<li>20</li>\n",
       "\t<li>3</li>\n",
       "</ol>\n"
      ],
      "text/latex": [
       "\\begin{enumerate*}\n",
       "\\item 20\n",
       "\\item 3\n",
       "\\end{enumerate*}\n"
      ],
      "text/markdown": [
       "1. 20\n",
       "2. 3\n",
       "\n",
       "\n"
      ],
      "text/plain": [
       "[1] 20  3"
      ]
     },
     "metadata": {},
     "output_type": "display_data"
    }
   ],
   "source": [
    "# Create Training and Test data -\n",
    "set.seed(100)  # setting seed to reproduce results of random sampling\n",
    "trainingRowIndex <- sample(1:nrow(data), 0.8*nrow(data))  # row indices for training data\n",
    "trainingData <- data[trainingRowIndex, ]  # model training data\n",
    "testData  <- data[-trainingRowIndex, ]   # test data\n",
    "\n",
    "dim(testData )"
   ]
  },
  {
   "cell_type": "code",
   "execution_count": 205,
   "metadata": {},
   "outputs": [
    {
     "data": {
      "text/html": [
       "<dl class=dl-horizontal>\n",
       "\t<dt>1</dt>\n",
       "\t\t<dd>0.116778694954498</dd>\n",
       "\t<dt>3</dt>\n",
       "\t\t<dd>0.0615072703845253</dd>\n",
       "\t<dt>4</dt>\n",
       "\t\t<dd>0.986805381154685</dd>\n",
       "\t<dt>5</dt>\n",
       "\t\t<dd>0.997210566546717</dd>\n",
       "\t<dt>7</dt>\n",
       "\t\t<dd>0.998252226018184</dd>\n",
       "\t<dt>14</dt>\n",
       "\t\t<dd>0.99970487269583</dd>\n",
       "\t<dt>23</dt>\n",
       "\t\t<dd>0.0129959798042389</dd>\n",
       "\t<dt>29</dt>\n",
       "\t\t<dd>0.125557077591767</dd>\n",
       "\t<dt>33</dt>\n",
       "\t\t<dd>0.19259269795593</dd>\n",
       "\t<dt>41</dt>\n",
       "\t\t<dd>0.965504208541913</dd>\n",
       "\t<dt>44</dt>\n",
       "\t\t<dd>0.545926240028888</dd>\n",
       "\t<dt>59</dt>\n",
       "\t\t<dd>0.981472927446553</dd>\n",
       "\t<dt>60</dt>\n",
       "\t\t<dd>0.993807655398417</dd>\n",
       "\t<dt>68</dt>\n",
       "\t\t<dd>0.0170421109429381</dd>\n",
       "\t<dt>69</dt>\n",
       "\t\t<dd>0.999895851233216</dd>\n",
       "\t<dt>76</dt>\n",
       "\t\t<dd>0.999905445226584</dd>\n",
       "\t<dt>82</dt>\n",
       "\t\t<dd>0.969648162822362</dd>\n",
       "\t<dt>88</dt>\n",
       "\t\t<dd>0.999648946248872</dd>\n",
       "\t<dt>96</dt>\n",
       "\t\t<dd>0.859329496560229</dd>\n",
       "\t<dt>100</dt>\n",
       "\t\t<dd>0.999528278717552</dd>\n",
       "</dl>\n"
      ],
      "text/latex": [
       "\\begin{description*}\n",
       "\\item[1] 0.116778694954498\n",
       "\\item[3] 0.0615072703845253\n",
       "\\item[4] 0.986805381154685\n",
       "\\item[5] 0.997210566546717\n",
       "\\item[7] 0.998252226018184\n",
       "\\item[14] 0.99970487269583\n",
       "\\item[23] 0.0129959798042389\n",
       "\\item[29] 0.125557077591767\n",
       "\\item[33] 0.19259269795593\n",
       "\\item[41] 0.965504208541913\n",
       "\\item[44] 0.545926240028888\n",
       "\\item[59] 0.981472927446553\n",
       "\\item[60] 0.993807655398417\n",
       "\\item[68] 0.0170421109429381\n",
       "\\item[69] 0.999895851233216\n",
       "\\item[76] 0.999905445226584\n",
       "\\item[82] 0.969648162822362\n",
       "\\item[88] 0.999648946248872\n",
       "\\item[96] 0.859329496560229\n",
       "\\item[100] 0.999528278717552\n",
       "\\end{description*}\n"
      ],
      "text/markdown": [
       "1\n",
       ":   0.1167786949544983\n",
       ":   0.06150727038452534\n",
       ":   0.9868053811546855\n",
       ":   0.9972105665467177\n",
       ":   0.99825222601818414\n",
       ":   0.9997048726958323\n",
       ":   0.012995979804238929\n",
       ":   0.12555707759176733\n",
       ":   0.1925926979559341\n",
       ":   0.96550420854191344\n",
       ":   0.54592624002888859\n",
       ":   0.98147292744655360\n",
       ":   0.99380765539841768\n",
       ":   0.017042110942938169\n",
       ":   0.99989585123321676\n",
       ":   0.99990544522658482\n",
       ":   0.96964816282236288\n",
       ":   0.99964894624887296\n",
       ":   0.859329496560229100\n",
       ":   0.999528278717552\n",
       "\n"
      ],
      "text/plain": [
       "         1          3          4          5          7         14         23 \n",
       "0.11677869 0.06150727 0.98680538 0.99721057 0.99825223 0.99970487 0.01299598 \n",
       "        29         33         41         44         59         60         68 \n",
       "0.12555708 0.19259270 0.96550421 0.54592624 0.98147293 0.99380766 0.01704211 \n",
       "        69         76         82         88         96        100 \n",
       "0.99989585 0.99990545 0.96964816 0.99964895 0.85932950 0.99952828 "
      ]
     },
     "metadata": {},
     "output_type": "display_data"
    }
   ],
   "source": [
    "logitMod <- glm(admitted ~ exam_1+exam_2, \n",
    "                data=trainingData, \n",
    "                family=binomial(link=\"logit\"))\n",
    "\n",
    "#predicted <- plogis(predict(logitMod, testData))  # predicted scores\n",
    "# or\n",
    "predicted <- predict(logitMod, testData, type=\"response\")  # predicted scores\n",
    "predicted"
   ]
  },
  {
   "cell_type": "code",
   "execution_count": 204,
   "metadata": {},
   "outputs": [
    {
     "data": {
      "text/plain": [
       "   \n",
       "    FALSE TRUE\n",
       "  0     7    0\n",
       "  1     0   13"
      ]
     },
     "metadata": {},
     "output_type": "display_data"
    }
   ],
   "source": [
    "#confusion matrix\n",
    "table(testData$admitted, predicted > 0.8)"
   ]
  },
  {
   "cell_type": "code",
   "execution_count": 206,
   "metadata": {},
   "outputs": [
    {
     "data": {
      "text/plain": [
       "\n",
       "Call:  glm(formula = admitted ~ exam_1 + exam_2, family = binomial(link = \"logit\"), \n",
       "    data = trainingData)\n",
       "\n",
       "Coefficients:\n",
       "(Intercept)       exam_1       exam_2  \n",
       "   -22.7769       0.1889       0.1821  \n",
       "\n",
       "Degrees of Freedom: 79 Total (i.e. Null);  77 Residual\n",
       "Null Deviance:\t    108.4 \n",
       "Residual Deviance: 37.74 \tAIC: 43.74"
      ]
     },
     "metadata": {},
     "output_type": "display_data"
    }
   ],
   "source": [
    "logitMod"
   ]
  },
  {
   "cell_type": "code",
   "execution_count": 153,
   "metadata": {},
   "outputs": [],
   "source": [
    "# predicted"
   ]
  },
  {
   "cell_type": "code",
   "execution_count": 20,
   "metadata": {},
   "outputs": [],
   "source": [
    " # plot(logitMod)\n",
    "#response = Admitted ( which we want to know) - Output\n",
    "\n",
    "#Residual V Fitted – Predicted Value\n",
    "#Normal Q-Q – Theoretical quantile\n",
    "#Scale – Location - Predicted value\n",
    "#Residuary v leverage - Leverage"
   ]
  },
  {
   "cell_type": "code",
   "execution_count": 207,
   "metadata": {},
   "outputs": [
    {
     "data": {
      "text/plain": [
       "\n",
       "Call:\n",
       "glm(formula = admitted ~ exam_1 + exam_2, family = binomial(link = \"logit\"), \n",
       "    data = trainingData)\n",
       "\n",
       "Deviance Residuals: \n",
       "     Min        1Q    Median        3Q       Max  \n",
       "-2.18789  -0.23090   0.02051   0.27290   1.67564  \n",
       "\n",
       "Coefficients:\n",
       "             Estimate Std. Error z value Pr(>|z|)    \n",
       "(Intercept) -22.77691    5.74852  -3.962 7.43e-05 ***\n",
       "exam_1        0.18894    0.04894   3.861 0.000113 ***\n",
       "exam_2        0.18215    0.04739   3.843 0.000121 ***\n",
       "---\n",
       "Signif. codes:  0 '***' 0.001 '**' 0.01 '*' 0.05 '.' 0.1 ' ' 1\n",
       "\n",
       "(Dispersion parameter for binomial family taken to be 1)\n",
       "\n",
       "    Null deviance: 108.441  on 79  degrees of freedom\n",
       "Residual deviance:  37.737  on 77  degrees of freedom\n",
       "AIC: 43.737\n",
       "\n",
       "Number of Fisher Scoring iterations: 7\n"
      ]
     },
     "metadata": {},
     "output_type": "display_data"
    }
   ],
   "source": [
    "summary(logitMod)"
   ]
  },
  {
   "cell_type": "code",
   "execution_count": 208,
   "metadata": {},
   "outputs": [
    {
     "data": {
      "text/html": [
       "<dl class=dl-horizontal>\n",
       "\t<dt>exam_1</dt>\n",
       "\t\t<dd>3.87038233793132</dd>\n",
       "\t<dt>exam_2</dt>\n",
       "\t\t<dd>3.87038233793132</dd>\n",
       "</dl>\n"
      ],
      "text/latex": [
       "\\begin{description*}\n",
       "\\item[exam\\textbackslash{}\\_1] 3.87038233793132\n",
       "\\item[exam\\textbackslash{}\\_2] 3.87038233793132\n",
       "\\end{description*}\n"
      ],
      "text/markdown": [
       "exam_1\n",
       ":   3.87038233793132exam_2\n",
       ":   3.87038233793132\n",
       "\n"
      ],
      "text/plain": [
       "  exam_1   exam_2 \n",
       "3.870382 3.870382 "
      ]
     },
     "metadata": {},
     "output_type": "display_data"
    }
   ],
   "source": [
    "library(car)\n",
    "vif(logitMod)\n",
    "\n",
    "# variables in the model have VIF should be below 4. best below 2.5"
   ]
  },
  {
   "cell_type": "code",
   "execution_count": 39,
   "metadata": {},
   "outputs": [],
   "source": [
    "#library(InformationValue)\n",
    "#optCutOff <- optimalCutoff(data$admitted, predicted) \n",
    "#misClassError(data$admitted, predicted, threshold = 0.7)"
   ]
  },
  {
   "cell_type": "code",
   "execution_count": 40,
   "metadata": {},
   "outputs": [],
   "source": [
    "# ROC \n",
    "# ROC # ROC  Receiver Operating Characteristics Curve traces \n",
    "# the percentage of # true positives accurately predicted by a given logit model \n",
    "# as the prediction probability cutoff is lowered from 1 to 0"
   ]
  },
  {
   "cell_type": "code",
   "execution_count": 209,
   "metadata": {},
   "outputs": [
    {
     "data": {
      "image/png": "[encoded data removed]",
      "text/plain": [
       "plot without title"
      ]
     },
     "metadata": {},
     "output_type": "display_data"
    }
   ],
   "source": [
    "#options(warn=-1)\n",
    "plotROC(testData, predicted)\n",
    "#  Greater the area under the ROC curve, better the predictive ability of the model.\n",
    "# The above model has area under ROC curve 44%, Average, 80% and above  which is pretty good."
   ]
  },
  {
   "cell_type": "code",
   "execution_count": 219,
   "metadata": {},
   "outputs": [
    {
     "data": {
      "text/html": [
       "<dl>\n",
       "\t<dt>$Concordance</dt>\n",
       "\t\t<dd>1</dd>\n",
       "\t<dt>$Discordance</dt>\n",
       "\t\t<dd>0</dd>\n",
       "\t<dt>$Tied</dt>\n",
       "\t\t<dd>0</dd>\n",
       "\t<dt>$Pairs</dt>\n",
       "\t\t<dd>91</dd>\n",
       "</dl>\n"
      ],
      "text/latex": [
       "\\begin{description}\n",
       "\\item[\\$Concordance] 1\n",
       "\\item[\\$Discordance] 0\n",
       "\\item[\\$Tied] 0\n",
       "\\item[\\$Pairs] 91\n",
       "\\end{description}\n"
      ],
      "text/markdown": [
       "$Concordance\n",
       ":   1\n",
       "$Discordance\n",
       ":   0\n",
       "$Tied\n",
       ":   0\n",
       "$Pairs\n",
       ":   91\n",
       "\n",
       "\n"
      ],
      "text/plain": [
       "$Concordance\n",
       "[1] 1\n",
       "\n",
       "$Discordance\n",
       "[1] 0\n",
       "\n",
       "$Tied\n",
       "[1] 0\n",
       "\n",
       "$Pairs\n",
       "[1] 91\n"
      ]
     },
     "metadata": {},
     "output_type": "display_data"
    }
   ],
   "source": [
    "Concordance(testData$admitted, predicted)\n",
    "# Concordance is the percentage of pairs, whose scores of actual positive’s are greater than the scores of actual negative’s. For a perfect model, \n",
    "# this will be 100%. So, the higher the concordance, the better is the quality of model."
   ]
  },
  {
   "cell_type": "code",
   "execution_count": 47,
   "metadata": {},
   "outputs": [],
   "source": [
    "# Specificity and Sensitivity\n",
    "# Sensitivity (or True Positive Rate) is the percentage of 1’s (actuals) correctly predicted by the model, while,\n",
    "# specificity is the percentage of 0’s (actuals) correctly predicted.\n",
    "# Specificity can also be calculated as 1 − False Positive Rate."
   ]
  },
  {
   "cell_type": "code",
   "execution_count": 213,
   "metadata": {},
   "outputs": [
    {
     "data": {
      "text/html": [
       "1"
      ],
      "text/latex": [
       "1"
      ],
      "text/markdown": [
       "1"
      ],
      "text/plain": [
       "[1] 1"
      ]
     },
     "metadata": {},
     "output_type": "display_data"
    }
   ],
   "source": [
    "sensitivity(testData$admitted, predicted, threshold = 0.5)"
   ]
  },
  {
   "cell_type": "code",
   "execution_count": 214,
   "metadata": {},
   "outputs": [
    {
     "data": {
      "text/html": [
       "0.857142857142857"
      ],
      "text/latex": [
       "0.857142857142857"
      ],
      "text/markdown": [
       "0.857142857142857"
      ],
      "text/plain": [
       "[1] 0.8571429"
      ]
     },
     "metadata": {},
     "output_type": "display_data"
    }
   ],
   "source": [
    "specificity(testData$admitted, predicted, threshold = 0.5)"
   ]
  },
  {
   "cell_type": "code",
   "execution_count": 215,
   "metadata": {},
   "outputs": [
    {
     "data": {
      "image/png": "[encoded data removed]",
      "text/plain": [
       "plot without title"
      ]
     },
     "metadata": {},
     "output_type": "display_data"
    }
   ],
   "source": [
    "library(\"ggplot2\")\n",
    "pl <- ggplot(data, aes(admitted, as.numeric(exam_1+exam_2),\n",
    "                       color=exam_1+exam_2)) +\n",
    "  stat_smooth(method=\"loess\", formula=admitted~exam_1 +exam_2,\n",
    "              alpha=0.5, size=4, aes(fill=admitted)) +\n",
    "  geom_point(position=position_jitter(height=0.03, width=0)) +\n",
    "  geom_line( color='red', size=3, alpha=0.5)+\n",
    "  xlab(\"Pr (admitted)\") + ylab(\"Exam1+Exam2\")\n",
    "\n",
    "print(pl)"
   ]
  },
  {
   "cell_type": "code",
   "execution_count": 216,
   "metadata": {},
   "outputs": [
    {
     "data": {
      "text/html": [
       "<table>\n",
       "<thead><tr><th></th><th scope=col>0</th><th scope=col>1</th></tr></thead>\n",
       "<tbody>\n",
       "\t<tr><th scope=row>0</th><td>6 </td><td> 0</td></tr>\n",
       "\t<tr><th scope=row>1</th><td>1 </td><td>13</td></tr>\n",
       "</tbody>\n",
       "</table>\n"
      ],
      "text/latex": [
       "\\begin{tabular}{r|ll}\n",
       "  & 0 & 1\\\\\n",
       "\\hline\n",
       "\t0 & 6  &  0\\\\\n",
       "\t1 & 1  & 13\\\\\n",
       "\\end{tabular}\n"
      ],
      "text/markdown": [
       "\n",
       "| <!--/--> | 0 | 1 | \n",
       "|---|---|\n",
       "| 0 | 6  |  0 | \n",
       "| 1 | 1  | 13 | \n",
       "\n",
       "\n"
      ],
      "text/plain": [
       "  0 1 \n",
       "0 6  0\n",
       "1 1 13"
      ]
     },
     "metadata": {},
     "output_type": "display_data"
    }
   ],
   "source": [
    "# ggsave(\"AP1d.pdf\", plot=pl)\n",
    "\n",
    "\n",
    "confusionMatrix(testData$admitted, predicted > 0.5)"
   ]
  },
  {
   "cell_type": "code",
   "execution_count": 217,
   "metadata": {},
   "outputs": [
    {
     "data": {
      "text/html": [
       "0.549905445226584"
      ],
      "text/latex": [
       "0.549905445226584"
      ],
      "text/markdown": [
       "0.549905445226584"
      ],
      "text/plain": [
       "[1] 0.5499054"
      ]
     },
     "metadata": {},
     "output_type": "display_data"
    }
   ],
   "source": [
    "library(InformationValue)\n",
    "optCutOff <- optimalCutoff(testData$admitted, predicted)[1] \n",
    "optCutOff"
   ]
  },
  {
   "cell_type": "code",
   "execution_count": 218,
   "metadata": {},
   "outputs": [
    {
     "data": {
      "text/html": [
       "0"
      ],
      "text/latex": [
       "0"
      ],
      "text/markdown": [
       "0"
      ],
      "text/plain": [
       "[1] 0"
      ]
     },
     "metadata": {},
     "output_type": "display_data"
    }
   ],
   "source": [
    "misClassError(testData$admitted, predicted, threshold = optCutOff)"
   ]
  },
  {
   "cell_type": "code",
   "execution_count": null,
   "metadata": {},
   "outputs": [],
   "source": []
  }
 ],
 "metadata": {
  "kernelspec": {
   "display_name": "R",
   "language": "R",
   "name": "ir"
  },
  "language_info": {
   "codemirror_mode": "r",
   "file_extension": ".r",
   "mimetype": "text/x-r-source",
   "name": "R",
   "pygments_lexer": "r",
   "version": "3.5.1"
  }
 },
 "nbformat": 4,
 "nbformat_minor": 2
}
