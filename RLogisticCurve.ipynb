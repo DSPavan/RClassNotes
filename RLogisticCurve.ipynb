{
 "cells": [
  {
   "cell_type": "code",
   "execution_count": 1,
   "metadata": {},
   "outputs": [
    {
     "name": "stdout",
     "output_type": "stream",
     "text": [
      "'data.frame':\t100 obs. of  3 variables:\n",
      " $ exam_1  : num  34.6 30.3 35.8 60.2 79 ...\n",
      " $ exam_2  : num  78 43.9 72.9 86.3 75.3 ...\n",
      " $ admitted: int  0 0 0 1 1 0 1 1 1 1 ...\n",
      "NULL\n"
     ]
    }
   ],
   "source": [
    "data <- read.csv(\"C:/Users/radha31/Downloads/Marks.csv\", header = TRUE,\n",
    "                 stringsAsFactors = FALSE,\n",
    "                 strip.white = TRUE ,\n",
    "                 sep = ',')\n",
    "\n",
    "print(str(data))"
   ]
  },
  {
   "cell_type": "code",
   "execution_count": 21,
   "metadata": {},
   "outputs": [],
   "source": [
    "fit = glm(admitted ~ exam_1, data=data, family=binomial)\n",
    "\n",
    "\n",
    "newdat <- data.frame(\n",
    "    exam_1=seq(min(data$exam_1), max(data$exam_1),\n",
    "    \n",
    "               len=100))\n",
    "\n",
    "#newdat\n"
   ]
  },
  {
   "cell_type": "code",
   "execution_count": 17,
   "metadata": {},
   "outputs": [
    {
     "data": {
      "image/png": "[encoded data removed]",
      "text/plain": [
       "plot without title"
      ]
     },
     "metadata": {},
     "output_type": "display_data"
    }
   ],
   "source": [
    "newdat$admitted = predict(fit, newdata=newdat, type=\"response\")\n",
    "\n",
    "plot(admitted ~ exam_1, data=data, col=\"red4\")\n",
    "\n",
    "lines(admitted ~ exam_1, newdat, col=\"green4\", lwd=2)"
   ]
  },
  {
   "cell_type": "code",
   "execution_count": 20,
   "metadata": {},
   "outputs": [
    {
     "data": {
      "image/png": "[encoded data removed]",
      "text/plain": [
       "plot without title"
      ]
     },
     "metadata": {},
     "output_type": "display_data"
    }
   ],
   "source": [
    "fit = glm(admitted ~ exam_2, data=data, family=binomial)\n",
    "\n",
    "\n",
    "newdat <- data.frame(\n",
    "    exam_2=seq(min(data$exam_2), max(data$exam_2),\n",
    "    \n",
    "               len=100))\n",
    "\n",
    "#newdat\n",
    "\n",
    "newdat$admitted = predict(fit, newdata=newdat, type=\"response\")\n",
    "\n",
    "plot(admitted ~ exam_2, data=data, col=\"red4\")\n",
    "\n",
    "lines(admitted ~ exam_2, newdat, col=\"green4\", lwd=2)"
   ]
  },
  {
   "cell_type": "code",
   "execution_count": 29,
   "metadata": {},
   "outputs": [
    {
     "data": {
      "text/html": [
       "<table>\n",
       "<thead><tr><th scope=col>exam_1</th><th scope=col>exam_2</th><th scope=col>admitted</th><th scope=col>combcol</th></tr></thead>\n",
       "<tbody>\n",
       "\t<tr><td>34.62366 </td><td>78.02469 </td><td>0        </td><td>112.64835</td></tr>\n",
       "\t<tr><td>30.28671 </td><td>43.89500 </td><td>0        </td><td> 74.18171</td></tr>\n",
       "\t<tr><td>35.84741 </td><td>72.90220 </td><td>0        </td><td>108.74961</td></tr>\n",
       "\t<tr><td>60.18260 </td><td>86.30855 </td><td>1        </td><td>146.49115</td></tr>\n",
       "\t<tr><td>79.03274 </td><td>75.34438 </td><td>1        </td><td>154.37711</td></tr>\n",
       "\t<tr><td>45.08328 </td><td>56.31637 </td><td>0        </td><td>101.39965</td></tr>\n",
       "</tbody>\n",
       "</table>\n"
      ],
      "text/latex": [
       "\\begin{tabular}{r|llll}\n",
       " exam\\_1 & exam\\_2 & admitted & combcol\\\\\n",
       "\\hline\n",
       "\t 34.62366  & 78.02469  & 0         & 112.64835\\\\\n",
       "\t 30.28671  & 43.89500  & 0         &  74.18171\\\\\n",
       "\t 35.84741  & 72.90220  & 0         & 108.74961\\\\\n",
       "\t 60.18260  & 86.30855  & 1         & 146.49115\\\\\n",
       "\t 79.03274  & 75.34438  & 1         & 154.37711\\\\\n",
       "\t 45.08328  & 56.31637  & 0         & 101.39965\\\\\n",
       "\\end{tabular}\n"
      ],
      "text/markdown": [
       "\n",
       "exam_1 | exam_2 | admitted | combcol | \n",
       "|---|---|---|---|---|---|\n",
       "| 34.62366  | 78.02469  | 0         | 112.64835 | \n",
       "| 30.28671  | 43.89500  | 0         |  74.18171 | \n",
       "| 35.84741  | 72.90220  | 0         | 108.74961 | \n",
       "| 60.18260  | 86.30855  | 1         | 146.49115 | \n",
       "| 79.03274  | 75.34438  | 1         | 154.37711 | \n",
       "| 45.08328  | 56.31637  | 0         | 101.39965 | \n",
       "\n",
       "\n"
      ],
      "text/plain": [
       "  exam_1   exam_2   admitted combcol  \n",
       "1 34.62366 78.02469 0        112.64835\n",
       "2 30.28671 43.89500 0         74.18171\n",
       "3 35.84741 72.90220 0        108.74961\n",
       "4 60.18260 86.30855 1        146.49115\n",
       "5 79.03274 75.34438 1        154.37711\n",
       "6 45.08328 56.31637 0        101.39965"
      ]
     },
     "metadata": {},
     "output_type": "display_data"
    },
    {
     "data": {
      "image/png": "[encoded data removed]",
      "text/plain": [
       "plot without title"
      ]
     },
     "metadata": {},
     "output_type": "display_data"
    }
   ],
   "source": [
    "library(\"dplyr\")\n",
    "data <- data %>% \n",
    "  mutate(combcol = exam_1+exam_2)\n",
    "head(data)\n",
    "\n",
    "fit = glm(admitted ~ combcol, data=data, family=binomial)\n",
    "\n",
    "\n",
    "newdat <- data.frame(\n",
    "    combcol =seq(min(data$combcol), max(data$combcol),\n",
    "    \n",
    "               len=100))\n",
    "\n",
    "#newdat\n",
    "\n",
    "newdat$admitted = predict(fit, newdata=newdat, type=\"response\")\n",
    "\n",
    "plot(admitted ~ combcol, data=data, col=\"red4\")\n",
    "\n",
    "lines(admitted ~ combcol, newdat, col=\"green4\", lwd=2)"
   ]
  },
  {
   "cell_type": "code",
   "execution_count": 30,
   "metadata": {},
   "outputs": [
    {
     "data": {
      "text/plain": [
       "\n",
       "Call:\n",
       "glm(formula = admitted ~ combcol, family = binomial, data = data)\n",
       "\n",
       "Deviance Residuals: \n",
       "     Min        1Q    Median        3Q       Max  \n",
       "-2.13995  -0.17844   0.01552   0.19030   1.78160  \n",
       "\n",
       "Coefficients:\n",
       "             Estimate Std. Error z value Pr(>|z|)    \n",
       "(Intercept) -25.20970    5.79796  -4.348 1.37e-05 ***\n",
       "combcol       0.20429    0.04677   4.368 1.26e-05 ***\n",
       "---\n",
       "Signif. codes:  0 '***' 0.001 '**' 0.01 '*' 0.05 '.' 0.1 ' ' 1\n",
       "\n",
       "(Dispersion parameter for binomial family taken to be 1)\n",
       "\n",
       "    Null deviance: 134.602  on 99  degrees of freedom\n",
       "Residual deviance:  40.738  on 98  degrees of freedom\n",
       "AIC: 44.738\n",
       "\n",
       "Number of Fisher Scoring iterations: 7\n"
      ]
     },
     "metadata": {},
     "output_type": "display_data"
    }
   ],
   "source": [
    "summary(fit)"
   ]
  },
  {
   "cell_type": "code",
   "execution_count": 43,
   "metadata": {},
   "outputs": [
    {
     "data": {
      "image/png": "[encoded data removed]",
      "text/plain": [
       "plot without title"
      ]
     },
     "metadata": {},
     "output_type": "display_data"
    }
   ],
   "source": [
    "library(InformationValue)\n",
    "predicted <- predict(fit, data, type=\"response\")  # predicted scores\n",
    "#predicted\n",
    "plotROC(data, predicted)\n"
   ]
  },
  {
   "cell_type": "code",
   "execution_count": 44,
   "metadata": {},
   "outputs": [
    {
     "data": {
      "text/html": [
       "0.916666666666667"
      ],
      "text/latex": [
       "0.916666666666667"
      ],
      "text/markdown": [
       "0.916666666666667"
      ],
      "text/plain": [
       "[1] 0.9166667"
      ]
     },
     "metadata": {},
     "output_type": "display_data"
    }
   ],
   "source": [
    "sensitivity(data$admitted, predicted, threshold = 0.5)"
   ]
  },
  {
   "cell_type": "code",
   "execution_count": 45,
   "metadata": {},
   "outputs": [
    {
     "data": {
      "text/html": [
       "0.875"
      ],
      "text/latex": [
       "0.875"
      ],
      "text/markdown": [
       "0.875"
      ],
      "text/plain": [
       "[1] 0.875"
      ]
     },
     "metadata": {},
     "output_type": "display_data"
    }
   ],
   "source": [
    "specificity(data$admitted, predicted, threshold = 0.5)"
   ]
  },
  {
   "cell_type": "code",
   "execution_count": 46,
   "metadata": {},
   "outputs": [
    {
     "data": {
      "text/html": [
       "<dl>\n",
       "\t<dt>$Concordance</dt>\n",
       "\t\t<dd>0.973333333333333</dd>\n",
       "\t<dt>$Discordance</dt>\n",
       "\t\t<dd>0.0266666666666667</dd>\n",
       "\t<dt>$Tied</dt>\n",
       "\t\t<dd>-5.20417042793042e-17</dd>\n",
       "\t<dt>$Pairs</dt>\n",
       "\t\t<dd>2400</dd>\n",
       "</dl>\n"
      ],
      "text/latex": [
       "\\begin{description}\n",
       "\\item[\\$Concordance] 0.973333333333333\n",
       "\\item[\\$Discordance] 0.0266666666666667\n",
       "\\item[\\$Tied] -5.20417042793042e-17\n",
       "\\item[\\$Pairs] 2400\n",
       "\\end{description}\n"
      ],
      "text/markdown": [
       "$Concordance\n",
       ":   0.973333333333333\n",
       "$Discordance\n",
       ":   0.0266666666666667\n",
       "$Tied\n",
       ":   -5.20417042793042e-17\n",
       "$Pairs\n",
       ":   2400\n",
       "\n",
       "\n"
      ],
      "text/plain": [
       "$Concordance\n",
       "[1] 0.9733333\n",
       "\n",
       "$Discordance\n",
       "[1] 0.02666667\n",
       "\n",
       "$Tied\n",
       "[1] -5.20417e-17\n",
       "\n",
       "$Pairs\n",
       "[1] 2400\n"
      ]
     },
     "metadata": {},
     "output_type": "display_data"
    }
   ],
   "source": [
    "Concordance(data$admitted, predicted)\n",
    "# Concordance is the percentage of pairs, whose scores of actual positive’s are greater than the scores of actual negative’s. For a perfect model, \n",
    "# this will be 100%. So, the higher the concordance, the better is the quality of model."
   ]
  },
  {
   "cell_type": "code",
   "execution_count": 47,
   "metadata": {},
   "outputs": [
    {
     "data": {
      "text/html": [
       "<table>\n",
       "<thead><tr><th></th><th scope=col>0</th><th scope=col>1</th></tr></thead>\n",
       "<tbody>\n",
       "\t<tr><th scope=row>0</th><td>35</td><td> 5</td></tr>\n",
       "\t<tr><th scope=row>1</th><td> 5</td><td>55</td></tr>\n",
       "</tbody>\n",
       "</table>\n"
      ],
      "text/latex": [
       "\\begin{tabular}{r|ll}\n",
       "  & 0 & 1\\\\\n",
       "\\hline\n",
       "\t0 & 35 &  5\\\\\n",
       "\t1 &  5 & 55\\\\\n",
       "\\end{tabular}\n"
      ],
      "text/markdown": [
       "\n",
       "| <!--/--> | 0 | 1 | \n",
       "|---|---|\n",
       "| 0 | 35 |  5 | \n",
       "| 1 |  5 | 55 | \n",
       "\n",
       "\n"
      ],
      "text/plain": [
       "  0  1 \n",
       "0 35  5\n",
       "1  5 55"
      ]
     },
     "metadata": {},
     "output_type": "display_data"
    }
   ],
   "source": [
    "confusionMatrix(data$admitted, predicted > 0.5)"
   ]
  },
  {
   "cell_type": "code",
   "execution_count": 51,
   "metadata": {},
   "outputs": [
    {
     "data": {
      "text/html": [
       "0.199996204468851"
      ],
      "text/latex": [
       "0.199996204468851"
      ],
      "text/markdown": [
       "0.199996204468851"
      ],
      "text/plain": [
       "[1] 0.1999962"
      ]
     },
     "metadata": {},
     "output_type": "display_data"
    }
   ],
   "source": [
    "library(InformationValue)\n",
    "optCutOff <- optimalCutoff(data$admitted, predicted)[1] \n",
    "optCutOff"
   ]
  },
  {
   "cell_type": "code",
   "execution_count": 52,
   "metadata": {},
   "outputs": [
    {
     "data": {
      "text/html": [
       "0.07"
      ],
      "text/latex": [
       "0.07"
      ],
      "text/markdown": [
       "0.07"
      ],
      "text/plain": [
       "[1] 0.07"
      ]
     },
     "metadata": {},
     "output_type": "display_data"
    }
   ],
   "source": [
    "misClassError(data$admitted, predicted, threshold = optCutOff)"
   ]
  },
  {
   "cell_type": "code",
   "execution_count": 54,
   "metadata": {},
   "outputs": [
    {
     "data": {
      "text/html": [
       "<table>\n",
       "<thead><tr><th></th><th scope=col>0</th><th scope=col>1</th></tr></thead>\n",
       "<tbody>\n",
       "\t<tr><th scope=row>0</th><td>33</td><td> 0</td></tr>\n",
       "\t<tr><th scope=row>1</th><td> 7</td><td>60</td></tr>\n",
       "</tbody>\n",
       "</table>\n"
      ],
      "text/latex": [
       "\\begin{tabular}{r|ll}\n",
       "  & 0 & 1\\\\\n",
       "\\hline\n",
       "\t0 & 33 &  0\\\\\n",
       "\t1 &  7 & 60\\\\\n",
       "\\end{tabular}\n"
      ],
      "text/markdown": [
       "\n",
       "| <!--/--> | 0 | 1 | \n",
       "|---|---|\n",
       "| 0 | 33 |  0 | \n",
       "| 1 |  7 | 60 | \n",
       "\n",
       "\n"
      ],
      "text/plain": [
       "  0  1 \n",
       "0 33  0\n",
       "1  7 60"
      ]
     },
     "metadata": {},
     "output_type": "display_data"
    }
   ],
   "source": [
    "confusionMatrix(data$admitted, predicted > 0.2)"
   ]
  },
  {
   "cell_type": "code",
   "execution_count": 56,
   "metadata": {},
   "outputs": [
    {
     "data": {
      "text/html": [
       "<table>\n",
       "<thead><tr><th></th><th scope=col>0</th><th scope=col>1</th></tr></thead>\n",
       "<tbody>\n",
       "\t<tr><th scope=row>0</th><td>40</td><td>16</td></tr>\n",
       "\t<tr><th scope=row>1</th><td> 0</td><td>44</td></tr>\n",
       "</tbody>\n",
       "</table>\n"
      ],
      "text/latex": [
       "\\begin{tabular}{r|ll}\n",
       "  & 0 & 1\\\\\n",
       "\\hline\n",
       "\t0 & 40 & 16\\\\\n",
       "\t1 &  0 & 44\\\\\n",
       "\\end{tabular}\n"
      ],
      "text/markdown": [
       "\n",
       "| <!--/--> | 0 | 1 | \n",
       "|---|---|\n",
       "| 0 | 40 | 16 | \n",
       "| 1 |  0 | 44 | \n",
       "\n",
       "\n"
      ],
      "text/plain": [
       "  0  1 \n",
       "0 40 16\n",
       "1  0 44"
      ]
     },
     "metadata": {},
     "output_type": "display_data"
    }
   ],
   "source": [
    "confusionMatrix(data$admitted, predicted > 0.9)"
   ]
  },
  {
   "cell_type": "code",
   "execution_count": null,
   "metadata": {},
   "outputs": [],
   "source": []
  }
 ],
 "metadata": {
  "kernelspec": {
   "display_name": "R",
   "language": "R",
   "name": "ir"
  },
  "language_info": {
   "codemirror_mode": "r",
   "file_extension": ".r",
   "mimetype": "text/x-r-source",
   "name": "R",
   "pygments_lexer": "r",
   "version": "3.5.1"
  }
 },
 "nbformat": 4,
 "nbformat_minor": 2
}
