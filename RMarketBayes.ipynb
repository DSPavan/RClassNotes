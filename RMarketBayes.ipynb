{
 "cells": [
  {
   "cell_type": "code",
   "execution_count": 1,
   "metadata": {},
   "outputs": [
    {
     "name": "stderr",
     "output_type": "stream",
     "text": [
      "Loading required package: Matrix\n",
      "\n",
      "Attaching package: 'arules'\n",
      "\n",
      "The following objects are masked from 'package:base':\n",
      "\n",
      "    abbreviate, write\n",
      "\n",
      "Loading required package: grid\n",
      "Warning message in readLines(file, encoding = encoding):\n",
      "\"incomplete final line found on 'C:\\Users\\radha31\\Downloads\\groceries.csv'\""
     ]
    },
    {
     "name": "stdout",
     "output_type": "stream",
     "text": [
      "transactions in sparse format with\n",
      " 6 transactions (rows) and\n",
      " 169 items (columns)\n"
     ]
    }
   ],
   "source": [
    "# Market basket analysis\n",
    "# Load the libraries\n",
    "library(arules)\n",
    "library(arulesViz)\n",
    "library(datasets)\n",
    "\n",
    "groceries <- read.transactions(\"C:\\\\Users\\\\radha31\\\\Downloads\\\\groceries.csv\", sep = \",\")\n",
    "\n",
    "#data2 <- as.data.frame(data2)\n",
    "print(head(groceries))"
   ]
  },
  {
   "cell_type": "code",
   "execution_count": 2,
   "metadata": {},
   "outputs": [
    {
     "data": {
      "image/png": "[encoded data removed]",
      "text/plain": [
       "plot without title"
      ]
     },
     "metadata": {},
     "output_type": "display_data"
    }
   ],
   "source": [
    "#print(data2)\n",
    "itemFrequencyPlot(groceries,topN=20,type=\"absolute\", col = \"green4\")"
   ]
  },
  {
   "cell_type": "code",
   "execution_count": 3,
   "metadata": {},
   "outputs": [
    {
     "name": "stdout",
     "output_type": "stream",
     "text": [
      "Apriori\n",
      "\n",
      "Parameter specification:\n",
      " confidence minval smax arem  aval originalSupport maxtime support minlen\n",
      "        0.6    0.1    1 none FALSE            TRUE       5   0.001      1\n",
      " maxlen target   ext\n",
      "     10  rules FALSE\n",
      "\n",
      "Algorithmic control:\n",
      " filter tree heap memopt load sort verbose\n",
      "    0.1 TRUE TRUE  FALSE TRUE    2    TRUE\n",
      "\n",
      "Absolute minimum support count: 9 \n",
      "\n",
      "set item appearances ...[0 item(s)] done [0.00s].\n",
      "set transactions ...[169 item(s), 9835 transaction(s)] done [0.00s].\n",
      "sorting and recoding items ... [157 item(s)] done [0.00s].\n",
      "creating transaction tree ... done [0.00s].\n",
      "checking subsets of size 1 2 3 4 5 6 done [0.02s].\n",
      "writing ... [2918 rule(s)] done [0.00s].\n",
      "creating S4 object  ... done [0.00s].\n",
      "     lhs                     rhs                support confidence lift count\n",
      "[1]  {rice,                                                                  \n",
      "      sugar}              => {whole milk}        0.0012          1  3.9    12\n",
      "[2]  {canned fish,                                                           \n",
      "      hygiene articles}   => {whole milk}        0.0011          1  3.9    11\n",
      "[3]  {butter,                                                                \n",
      "      rice,                                                                  \n",
      "      root vegetables}    => {whole milk}        0.0010          1  3.9    10\n",
      "[4]  {flour,                                                                 \n",
      "      root vegetables,                                                       \n",
      "      whipped/sour cream} => {whole milk}        0.0017          1  3.9    17\n",
      "[5]  {butter,                                                                \n",
      "      domestic eggs,                                                         \n",
      "      soft cheese}        => {whole milk}        0.0010          1  3.9    10\n",
      "[6]  {citrus fruit,                                                          \n",
      "      root vegetables,                                                       \n",
      "      soft cheese}        => {other vegetables}  0.0010          1  5.2    10\n",
      "[7]  {butter,                                                                \n",
      "      hygiene articles,                                                      \n",
      "      pip fruit}          => {whole milk}        0.0010          1  3.9    10\n",
      "[8]  {hygiene articles,                                                      \n",
      "      root vegetables,                                                       \n",
      "      whipped/sour cream} => {whole milk}        0.0010          1  3.9    10\n",
      "[9]  {hygiene articles,                                                      \n",
      "      pip fruit,                                                             \n",
      "      root vegetables}    => {whole milk}        0.0010          1  3.9    10\n",
      "[10] {cream cheese,                                                          \n",
      "      domestic eggs,                                                         \n",
      "      sugar}              => {whole milk}        0.0011          1  3.9    11\n"
     ]
    }
   ],
   "source": [
    "# Get the rules\n",
    "rules <- apriori(groceries, parameter = list(supp = 0.001, conf = 0.6, maxlen=10))\n",
    "rules<-sort(rules, by=\"confidence\", decreasing=TRUE)\n",
    "# Show the top 5 rules, but only 2 digits\n",
    "options(digits=2)\n",
    "inspect(rules[1:10])"
   ]
  },
  {
   "cell_type": "code",
   "execution_count": 4,
   "metadata": {},
   "outputs": [
    {
     "name": "stdout",
     "output_type": "stream",
     "text": [
      "    lhs                     rhs          support confidence lift count\n",
      "[1] {rice,                                                            \n",
      "     sugar}              => {whole milk}  0.0012          1  3.9    12\n",
      "[2] {canned fish,                                                     \n",
      "     hygiene articles}   => {whole milk}  0.0011          1  3.9    11\n",
      "[3] {butter,                                                          \n",
      "     rice,                                                            \n",
      "     root vegetables}    => {whole milk}  0.0010          1  3.9    10\n",
      "[4] {flour,                                                           \n",
      "     root vegetables,                                                 \n",
      "     whipped/sour cream} => {whole milk}  0.0017          1  3.9    17\n",
      "[5] {butter,                                                          \n",
      "     domestic eggs,                                                   \n",
      "     soft cheese}        => {whole milk}  0.0010          1  3.9    10\n"
     ]
    }
   ],
   "source": [
    "rules<-apriori(data=groceries, parameter=list(supp=0.001,conf = 0.08), \n",
    "               appearance = list(default=\"lhs\",rhs=\"whole milk\"),\n",
    "               control = list(verbose=F))\n",
    "rules<-sort(rules, decreasing=TRUE,by=\"confidence\")\n",
    "inspect(rules[1:5])"
   ]
  },
  {
   "cell_type": "code",
   "execution_count": 5,
   "metadata": {},
   "outputs": [
    {
     "name": "stdout",
     "output_type": "stream",
     "text": [
      "    lhs             rhs                support confidence lift count\n",
      "[1] {whole milk} => {other vegetables} 0.075   0.29       1.5  736  \n",
      "[2] {whole milk} => {rolls/buns}       0.057   0.22       1.2  557  \n",
      "[3] {whole milk} => {yogurt}           0.056   0.22       1.6  551  \n",
      "[4] {whole milk} => {root vegetables}  0.049   0.19       1.8  481  \n",
      "[5] {whole milk} => {tropical fruit}   0.042   0.17       1.6  416  \n"
     ]
    }
   ],
   "source": [
    "rules<-apriori(data=groceries, parameter=list(supp=0.001,conf = 0.15,minlen=2), \n",
    "               appearance = list(default=\"rhs\",lhs=\"whole milk\"),\n",
    "               control = list(verbose=F))\n",
    "rules<-sort(rules, decreasing=TRUE,by=\"confidence\")\n",
    "inspect(rules[1:5])"
   ]
  },
  {
   "cell_type": "code",
   "execution_count": 6,
   "metadata": {},
   "outputs": [],
   "source": [
    "library(arulesViz)\n",
    "plot(rules,method=\"graph\",engine='interactive',shading=NA)"
   ]
  },
  {
   "cell_type": "code",
   "execution_count": null,
   "metadata": {},
   "outputs": [],
   "source": []
  },
  {
   "cell_type": "code",
   "execution_count": null,
   "metadata": {},
   "outputs": [],
   "source": []
  }
 ],
 "metadata": {
  "kernelspec": {
   "display_name": "R",
   "language": "R",
   "name": "ir"
  },
  "language_info": {
   "codemirror_mode": "r",
   "file_extension": ".r",
   "mimetype": "text/x-r-source",
   "name": "R",
   "pygments_lexer": "r",
   "version": "3.5.1"
  }
 },
 "nbformat": 4,
 "nbformat_minor": 2
}
