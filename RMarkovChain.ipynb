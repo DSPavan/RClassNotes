{
 "cells": [
  {
   "cell_type": "code",
   "execution_count": 1,
   "metadata": {},
   "outputs": [],
   "source": [
    "#  transitions from one state to another according to a given set of probabilistic rules\n",
    "# Probability\n",
    "\n",
    "#the probability of the next state of the system is only dependent on the present state of the system and not on any prior states.\n",
    "#This is called the Markov property (seen below):"
   ]
  },
  {
   "cell_type": "markdown",
   "metadata": {},
   "source": [
    "Transition Matrices have the property that the product of subsequent matrices \n",
    "can describe the transition probabilities along a time interval. Therefore, one can model how probable is to \n",
    "be at a certain state after k steps by calculating the following:\n",
    "\n"
   ]
  },
  {
   "attachments": {},
   "cell_type": "markdown",
   "metadata": {},
   "source": [
    "# Markov chains are widely used in many fields such as finance, game theory, and genetics."
   ]
  },
  {
   "cell_type": "code",
   "execution_count": 5,
   "metadata": {},
   "outputs": [
    {
     "name": "stderr",
     "output_type": "stream",
     "text": [
      "Warning message:\n",
      "\"package 'markovchain' was built under R version 3.5.3\"Package:  markovchain\n",
      "Version:  0.6.9.16\n",
      "Date:     2019-07-21\n",
      "BugReport: http://github.com/spedygiorgio/markovchain/issues\n",
      "\n",
      "\n",
      "Attaching package: 'dplyr'\n",
      "\n",
      "The following objects are masked from 'package:stats':\n",
      "\n",
      "    filter, lag\n",
      "\n",
      "The following objects are masked from 'package:base':\n",
      "\n",
      "    intersect, setdiff, setequal, union\n",
      "\n",
      "Warning message in verifyMarkovProperty(seq):\n",
      "\"The accuracy of the statistical inference functions has been questioned. It will be thoroughly investigated in future versions of the package.\""
     ]
    },
    {
     "name": "stdout",
     "output_type": "stream",
     "text": [
      "Testing markovianity property on given data sequence\n",
      "Chi - square statistic is: 0.5733333 \n",
      "Degrees of freedom are: 27 \n",
      "And corresponding p-value is: 1 \n"
     ]
    }
   ],
   "source": [
    "library(markovchain)\n",
    "library(dplyr)\n",
    "# SDR Funnel is our sales representative stages, \n",
    "#AE Funnel is our account executive stages\n",
    "#, and CW is a successfully closed deal\n",
    "seq <- c('SDR Funnel','SDR Funnel','AE Funnel','AE Funnel','AE Funnel','AE Funnel','AE Funnel','AE Funnel','CW')\n",
    "verifyMarkovProperty(seq)"
   ]
  },
  {
   "cell_type": "code",
   "execution_count": 10,
   "metadata": {},
   "outputs": [
    {
     "name": "stderr",
     "output_type": "stream",
     "text": [
      "Installing package into 'C:/Users/pavan/Documents/R/win-library/3.5'\n",
      "(as 'lib' is unspecified)\n",
      "Warning message:\n",
      "\"package 'diagram' is in use and will not be installed\"Installing package into 'C:/Users/pavan/Documents/R/win-library/3.5'\n",
      "(as 'lib' is unspecified)\n"
     ]
    },
    {
     "name": "stdout",
     "output_type": "stream",
     "text": [
      "package 'pracma' successfully unpacked and MD5 sums checked\n",
      "\n",
      "The downloaded binary packages are in\n",
      "\tC:\\Users\\pavan\\AppData\\Local\\Temp\\RtmpmUo70N\\downloaded_packages\n"
     ]
    }
   ],
   "source": [
    "#install.packages(\"markovchain\")\n",
    "install.packages(\"diagram\")\n",
    "\n",
    "install.packages(\"pracma\")"
   ]
  },
  {
   "cell_type": "code",
   "execution_count": 6,
   "metadata": {},
   "outputs": [],
   "source": [
    "#Since the p-value shown is above 0.05, we do not reject the null hypothesis that the sequence follows the Markov property."
   ]
  },
  {
   "cell_type": "code",
   "execution_count": 11,
   "metadata": {},
   "outputs": [
    {
     "name": "stderr",
     "output_type": "stream",
     "text": [
      "Warning message:\n",
      "\"package 'pracma' was built under R version 3.5.3\"\n",
      "Attaching package: 'pracma'\n",
      "\n",
      "The following objects are masked from 'package:expm':\n",
      "\n",
      "    expm, logm, sqrtm\n",
      "\n",
      "The following objects are masked from 'package:Matrix':\n",
      "\n",
      "    expm, lu, tril, triu\n",
      "\n"
     ]
    },
    {
     "data": {
      "text/html": [
       "<table>\n",
       "<thead><tr><th></th><th scope=col>Rain</th><th scope=col>Nice</th><th scope=col>Snow</th></tr></thead>\n",
       "<tbody>\n",
       "\t<tr><th scope=row>Rain</th><td>0.50</td><td>0.25</td><td>0.25</td></tr>\n",
       "\t<tr><th scope=row>Nice</th><td>0.50</td><td>0.00</td><td>0.50</td></tr>\n",
       "\t<tr><th scope=row>Snow</th><td>0.25</td><td>0.25</td><td>0.50</td></tr>\n",
       "</tbody>\n",
       "</table>\n"
      ],
      "text/latex": [
       "\\begin{tabular}{r|lll}\n",
       "  & Rain & Nice & Snow\\\\\n",
       "\\hline\n",
       "\tRain & 0.50 & 0.25 & 0.25\\\\\n",
       "\tNice & 0.50 & 0.00 & 0.50\\\\\n",
       "\tSnow & 0.25 & 0.25 & 0.50\\\\\n",
       "\\end{tabular}\n"
      ],
      "text/markdown": [
       "\n",
       "| <!--/--> | Rain | Nice | Snow | \n",
       "|---|---|---|\n",
       "| Rain | 0.50 | 0.25 | 0.25 | \n",
       "| Nice | 0.50 | 0.00 | 0.50 | \n",
       "| Snow | 0.25 | 0.25 | 0.50 | \n",
       "\n",
       "\n"
      ],
      "text/plain": [
       "     Rain Nice Snow\n",
       "Rain 0.50 0.25 0.25\n",
       "Nice 0.50 0.00 0.50\n",
       "Snow 0.25 0.25 0.50"
      ]
     },
     "metadata": {},
     "output_type": "display_data"
    }
   ],
   "source": [
    "library(expm)\n",
    "library(markovchain)\n",
    "library(diagram)\n",
    "library(pracma)\n",
    "\n",
    "stateNames <- c(\"Rain\",\"Nice\",\"Snow\")\n",
    "Oz <- matrix(c(.5,.25,.25,.5,0,.5,.25,.25,.5),\n",
    "             nrow=3, byrow=TRUE)\n",
    "row.names(Oz) <- stateNames; colnames(Oz) <- stateNames\n",
    "Oz"
   ]
  },
  {
   "cell_type": "code",
   "execution_count": 12,
   "metadata": {},
   "outputs": [
    {
     "data": {
      "text/html": [
       "<table>\n",
       "<thead><tr><th></th><th scope=col>Rain</th><th scope=col>Nice</th><th scope=col>Snow</th></tr></thead>\n",
       "<tbody>\n",
       "\t<tr><th scope=row>Rain</th><td>0.406</td><td>0.203</td><td>0.391</td></tr>\n",
       "\t<tr><th scope=row>Nice</th><td>0.406</td><td>0.188</td><td>0.406</td></tr>\n",
       "\t<tr><th scope=row>Snow</th><td>0.391</td><td>0.203</td><td>0.406</td></tr>\n",
       "</tbody>\n",
       "</table>\n"
      ],
      "text/latex": [
       "\\begin{tabular}{r|lll}\n",
       "  & Rain & Nice & Snow\\\\\n",
       "\\hline\n",
       "\tRain & 0.406 & 0.203 & 0.391\\\\\n",
       "\tNice & 0.406 & 0.188 & 0.406\\\\\n",
       "\tSnow & 0.391 & 0.203 & 0.406\\\\\n",
       "\\end{tabular}\n"
      ],
      "text/markdown": [
       "\n",
       "| <!--/--> | Rain | Nice | Snow | \n",
       "|---|---|---|\n",
       "| Rain | 0.406 | 0.203 | 0.391 | \n",
       "| Nice | 0.406 | 0.188 | 0.406 | \n",
       "| Snow | 0.391 | 0.203 | 0.406 | \n",
       "\n",
       "\n"
      ],
      "text/plain": [
       "     Rain  Nice  Snow \n",
       "Rain 0.406 0.203 0.391\n",
       "Nice 0.406 0.188 0.406\n",
       "Snow 0.391 0.203 0.406"
      ]
     },
     "metadata": {},
     "output_type": "display_data"
    },
    {
     "data": {
      "image/png": "[encoded data removed]",
      "text/plain": [
       "Plot with title \"\""
      ]
     },
     "metadata": {},
     "output_type": "display_data"
    }
   ],
   "source": [
    "plotmat(Oz,pos = c(1,2), \n",
    "        lwd = 1, box.lwd = 2, \n",
    "        cex.txt = 0.8, \n",
    "        box.size = 0.1, \n",
    "        box.type = \"circle\", \n",
    "        box.prop = 0.5,\n",
    "        box.col = \"light yellow\",\n",
    "        arr.length=.1,\n",
    "        arr.width=.1,\n",
    "        self.cex = .4,\n",
    "        self.shifty = -.01,\n",
    "        self.shiftx = .13,\n",
    "        main = \"\")\n",
    "\n",
    "Oz3 <- Oz %^% 3\n",
    "round(Oz3,3)"
   ]
  },
  {
   "cell_type": "code",
   "execution_count": 13,
   "metadata": {},
   "outputs": [
    {
     "data": {
      "text/html": [
       "<table>\n",
       "<thead><tr><th scope=col>Rain</th><th scope=col>Nice</th><th scope=col>Snow</th></tr></thead>\n",
       "<tbody>\n",
       "\t<tr><td>0.401</td><td>0.198</td><td>0.401</td></tr>\n",
       "</tbody>\n",
       "</table>\n"
      ],
      "text/latex": [
       "\\begin{tabular}{lll}\n",
       " Rain & Nice & Snow\\\\\n",
       "\\hline\n",
       "\t 0.401 & 0.198 & 0.401\\\\\n",
       "\\end{tabular}\n"
      ],
      "text/markdown": [
       "\n",
       "Rain | Nice | Snow | \n",
       "|---|\n",
       "| 0.401 | 0.198 | 0.401 | \n",
       "\n",
       "\n"
      ],
      "text/plain": [
       "     Rain  Nice  Snow \n",
       "[1,] 0.401 0.198 0.401"
      ]
     },
     "metadata": {},
     "output_type": "display_data"
    }
   ],
   "source": [
    "u <- c(1/3, 1/3, 1/3)\n",
    "round(u %*% Oz3,3)"
   ]
  },
  {
   "cell_type": "code",
   "execution_count": null,
   "metadata": {},
   "outputs": [],
   "source": []
  }
 ],
 "metadata": {
  "kernelspec": {
   "display_name": "R",
   "language": "R",
   "name": "ir"
  },
  "language_info": {
   "codemirror_mode": "r",
   "file_extension": ".r",
   "mimetype": "text/x-r-source",
   "name": "R",
   "pygments_lexer": "r",
   "version": "3.5.1"
  }
 },
 "nbformat": 4,
 "nbformat_minor": 2
}
