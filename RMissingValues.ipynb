{
 "cells": [
  {
   "cell_type": "code",
   "execution_count": 6,
   "metadata": {},
   "outputs": [
    {
     "data": {
      "text/html": [
       "<table>\n",
       "<thead><tr><th scope=col>Name</th><th scope=col>Sex</th><th scope=col>Age</th></tr></thead>\n",
       "<tbody>\n",
       "\t<tr><td>Sachin </td><td>men    </td><td>45     </td></tr>\n",
       "\t<tr><td>Kohli  </td><td>men    </td><td>33     </td></tr>\n",
       "\t<tr><td>NA     </td><td>women  </td><td>NA     </td></tr>\n",
       "\t<tr><td>Mithali</td><td>women  </td><td>33     </td></tr>\n",
       "</tbody>\n",
       "</table>\n"
      ],
      "text/latex": [
       "\\begin{tabular}{r|lll}\n",
       " Name & Sex & Age\\\\\n",
       "\\hline\n",
       "\t Sachin  & men     & 45     \\\\\n",
       "\t Kohli   & men     & 33     \\\\\n",
       "\t NA      & women   & NA     \\\\\n",
       "\t Mithali & women   & 33     \\\\\n",
       "\\end{tabular}\n"
      ],
      "text/markdown": [
       "\n",
       "Name | Sex | Age | \n",
       "|---|---|---|---|\n",
       "| Sachin  | men     | 45      | \n",
       "| Kohli   | men     | 33      | \n",
       "| NA      | women   | NA      | \n",
       "| Mithali | women   | 33      | \n",
       "\n",
       "\n"
      ],
      "text/plain": [
       "  Name    Sex   Age\n",
       "1 Sachin  men   45 \n",
       "2 Kohli   men   33 \n",
       "3 NA      women NA \n",
       "4 Mithali women 33 "
      ]
     },
     "metadata": {},
     "output_type": "display_data"
    }
   ],
   "source": [
    "# R Missing values\n",
    "# In R the missing values are coded by the symbol NA\n",
    "Name <- c(\"Sachin\", \"Kohli\", NA,\"Mithali\")\n",
    "Sex <- c(\"men\", \"men\", \"women\",\"women\")\n",
    "Age <- c(45, 33, NA,33)\n",
    "dt <- data.frame(Name, Sex, Age)\n",
    "dt"
   ]
  },
  {
   "cell_type": "code",
   "execution_count": 2,
   "metadata": {},
   "outputs": [
    {
     "data": {
      "text/html": [
       "<table>\n",
       "<thead><tr><th scope=col>Name</th><th scope=col>Sex</th><th scope=col>Age</th></tr></thead>\n",
       "<tbody>\n",
       "\t<tr><td>FALSE</td><td>FALSE</td><td>FALSE</td></tr>\n",
       "\t<tr><td>FALSE</td><td>FALSE</td><td>FALSE</td></tr>\n",
       "\t<tr><td> TRUE</td><td>FALSE</td><td> TRUE</td></tr>\n",
       "\t<tr><td>FALSE</td><td>FALSE</td><td>FALSE</td></tr>\n",
       "</tbody>\n",
       "</table>\n"
      ],
      "text/latex": [
       "\\begin{tabular}{lll}\n",
       " Name & Sex & Age\\\\\n",
       "\\hline\n",
       "\t FALSE & FALSE & FALSE\\\\\n",
       "\t FALSE & FALSE & FALSE\\\\\n",
       "\t  TRUE & FALSE &  TRUE\\\\\n",
       "\t FALSE & FALSE & FALSE\\\\\n",
       "\\end{tabular}\n"
      ],
      "text/markdown": [
       "\n",
       "Name | Sex | Age | \n",
       "|---|---|---|---|\n",
       "| FALSE | FALSE | FALSE | \n",
       "| FALSE | FALSE | FALSE | \n",
       "|  TRUE | FALSE |  TRUE | \n",
       "| FALSE | FALSE | FALSE | \n",
       "\n",
       "\n"
      ],
      "text/plain": [
       "     Name  Sex   Age  \n",
       "[1,] FALSE FALSE FALSE\n",
       "[2,] FALSE FALSE FALSE\n",
       "[3,]  TRUE FALSE  TRUE\n",
       "[4,] FALSE FALSE FALSE"
      ]
     },
     "metadata": {},
     "output_type": "display_data"
    }
   ],
   "source": [
    "is.na(dt)"
   ]
  },
  {
   "cell_type": "code",
   "execution_count": 4,
   "metadata": {},
   "outputs": [
    {
     "data": {
      "text/html": [
       "2"
      ],
      "text/latex": [
       "2"
      ],
      "text/markdown": [
       "2"
      ],
      "text/plain": [
       "[1] 2"
      ]
     },
     "metadata": {},
     "output_type": "display_data"
    },
    {
     "data": {
      "text/html": [
       "0.166666666666667"
      ],
      "text/latex": [
       "0.166666666666667"
      ],
      "text/markdown": [
       "0.166666666666667"
      ],
      "text/plain": [
       "[1] 0.1666667"
      ]
     },
     "metadata": {},
     "output_type": "display_data"
    }
   ],
   "source": [
    "# how much and how many are missing\n",
    "sum(is.na(dt))\n",
    "mean(is.na(dt))"
   ]
  },
  {
   "cell_type": "code",
   "execution_count": 5,
   "metadata": {},
   "outputs": [
    {
     "data": {
      "text/html": [
       "<table>\n",
       "<thead><tr><th></th><th scope=col>Name</th><th scope=col>Sex</th><th scope=col>Age</th></tr></thead>\n",
       "<tbody>\n",
       "\t<tr><th scope=row>1</th><td>Sachin </td><td>men    </td><td>45     </td></tr>\n",
       "\t<tr><th scope=row>2</th><td>Kohli  </td><td>men    </td><td>33     </td></tr>\n",
       "\t<tr><th scope=row>4</th><td>Mithali</td><td>women  </td><td>33     </td></tr>\n",
       "</tbody>\n",
       "</table>\n"
      ],
      "text/latex": [
       "\\begin{tabular}{r|lll}\n",
       "  & Name & Sex & Age\\\\\n",
       "\\hline\n",
       "\t1 & Sachin  & men     & 45     \\\\\n",
       "\t2 & Kohli   & men     & 33     \\\\\n",
       "\t4 & Mithali & women   & 33     \\\\\n",
       "\\end{tabular}\n"
      ],
      "text/markdown": [
       "\n",
       "| <!--/--> | Name | Sex | Age | \n",
       "|---|---|---|\n",
       "| 1 | Sachin  | men     | 45      | \n",
       "| 2 | Kohli   | men     | 33      | \n",
       "| 4 | Mithali | women   | 33      | \n",
       "\n",
       "\n"
      ],
      "text/plain": [
       "  Name    Sex   Age\n",
       "1 Sachin  men   45 \n",
       "2 Kohli   men   33 \n",
       "4 Mithali women 33 "
      ]
     },
     "metadata": {},
     "output_type": "display_data"
    }
   ],
   "source": [
    "na.omit(dt)  # only cleaned data"
   ]
  },
  {
   "cell_type": "code",
   "execution_count": 7,
   "metadata": {},
   "outputs": [
    {
     "data": {
      "text/html": [
       "<table>\n",
       "<thead><tr><th></th><th scope=col>Name</th><th scope=col>Sex</th><th scope=col>Age</th></tr></thead>\n",
       "<tbody>\n",
       "\t<tr><th scope=row>3</th><td>NA   </td><td>women</td><td>NA   </td></tr>\n",
       "</tbody>\n",
       "</table>\n"
      ],
      "text/latex": [
       "\\begin{tabular}{r|lll}\n",
       "  & Name & Sex & Age\\\\\n",
       "\\hline\n",
       "\t3 & NA    & women & NA   \\\\\n",
       "\\end{tabular}\n"
      ],
      "text/markdown": [
       "\n",
       "| <!--/--> | Name | Sex | Age | \n",
       "|---|\n",
       "| 3 | NA    | women | NA    | \n",
       "\n",
       "\n"
      ],
      "text/plain": [
       "  Name Sex   Age\n",
       "3 NA   women NA "
      ]
     },
     "metadata": {},
     "output_type": "display_data"
    }
   ],
   "source": [
    "# list rows of data that have missing values \n",
    "dt[!complete.cases(dt),]"
   ]
  },
  {
   "cell_type": "code",
   "execution_count": 8,
   "metadata": {},
   "outputs": [
    {
     "data": {
      "text/html": [
       "&lt;NA&gt;"
      ],
      "text/latex": [
       "<NA>"
      ],
      "text/markdown": [
       "&lt;NA&gt;"
      ],
      "text/plain": [
       "[1] NA"
      ]
     },
     "metadata": {},
     "output_type": "display_data"
    },
    {
     "data": {
      "text/html": [
       "37"
      ],
      "text/latex": [
       "37"
      ],
      "text/markdown": [
       "37"
      ],
      "text/plain": [
       "[1] 37"
      ]
     },
     "metadata": {},
     "output_type": "display_data"
    }
   ],
   "source": [
    "x <- dt$Age\n",
    "mean(x) # returns NA\n",
    "mean(x, na.rm=TRUE) # returns 2"
   ]
  },
  {
   "cell_type": "code",
   "execution_count": null,
   "metadata": {},
   "outputs": [],
   "source": []
  }
 ],
 "metadata": {
  "kernelspec": {
   "display_name": "R",
   "language": "R",
   "name": "ir"
  },
  "language_info": {
   "codemirror_mode": "r",
   "file_extension": ".r",
   "mimetype": "text/x-r-source",
   "name": "R",
   "pygments_lexer": "r",
   "version": "3.5.0"
  }
 },
 "nbformat": 4,
 "nbformat_minor": 2
}
