{
 "cells": [
  {
   "cell_type": "code",
   "execution_count": 1,
   "metadata": {},
   "outputs": [],
   "source": [
    "attach(airquality)"
   ]
  },
  {
   "cell_type": "code",
   "execution_count": 2,
   "metadata": {},
   "outputs": [
    {
     "data": {
      "text/html": [
       "<table>\n",
       "<thead><tr><th scope=col>Ozone</th><th scope=col>Solar.R</th><th scope=col>Wind</th><th scope=col>Temp</th><th scope=col>Month</th><th scope=col>Day</th></tr></thead>\n",
       "<tbody>\n",
       "\t<tr><td>41  </td><td>190 </td><td> 7.4</td><td>67  </td><td>5   </td><td>1   </td></tr>\n",
       "\t<tr><td>36  </td><td>118 </td><td> 8.0</td><td>72  </td><td>5   </td><td>2   </td></tr>\n",
       "\t<tr><td>12  </td><td>149 </td><td>12.6</td><td>74  </td><td>5   </td><td>3   </td></tr>\n",
       "\t<tr><td>18  </td><td>313 </td><td>11.5</td><td>62  </td><td>5   </td><td>4   </td></tr>\n",
       "\t<tr><td>NA  </td><td> NA </td><td>14.3</td><td>56  </td><td>5   </td><td>5   </td></tr>\n",
       "\t<tr><td>28  </td><td> NA </td><td>14.9</td><td>66  </td><td>5   </td><td>6   </td></tr>\n",
       "</tbody>\n",
       "</table>\n"
      ],
      "text/latex": [
       "\\begin{tabular}{r|llllll}\n",
       " Ozone & Solar.R & Wind & Temp & Month & Day\\\\\n",
       "\\hline\n",
       "\t 41   & 190  &  7.4 & 67   & 5    & 1   \\\\\n",
       "\t 36   & 118  &  8.0 & 72   & 5    & 2   \\\\\n",
       "\t 12   & 149  & 12.6 & 74   & 5    & 3   \\\\\n",
       "\t 18   & 313  & 11.5 & 62   & 5    & 4   \\\\\n",
       "\t NA   &  NA  & 14.3 & 56   & 5    & 5   \\\\\n",
       "\t 28   &  NA  & 14.9 & 66   & 5    & 6   \\\\\n",
       "\\end{tabular}\n"
      ],
      "text/markdown": [
       "\n",
       "Ozone | Solar.R | Wind | Temp | Month | Day | \n",
       "|---|---|---|---|---|---|\n",
       "| 41   | 190  |  7.4 | 67   | 5    | 1    | \n",
       "| 36   | 118  |  8.0 | 72   | 5    | 2    | \n",
       "| 12   | 149  | 12.6 | 74   | 5    | 3    | \n",
       "| 18   | 313  | 11.5 | 62   | 5    | 4    | \n",
       "| NA   |  NA  | 14.3 | 56   | 5    | 5    | \n",
       "| 28   |  NA  | 14.9 | 66   | 5    | 6    | \n",
       "\n",
       "\n"
      ],
      "text/plain": [
       "  Ozone Solar.R Wind Temp Month Day\n",
       "1 41    190      7.4 67   5     1  \n",
       "2 36    118      8.0 72   5     2  \n",
       "3 12    149     12.6 74   5     3  \n",
       "4 18    313     11.5 62   5     4  \n",
       "5 NA     NA     14.3 56   5     5  \n",
       "6 28     NA     14.9 66   5     6  "
      ]
     },
     "metadata": {},
     "output_type": "display_data"
    }
   ],
   "source": [
    "head(airquality)"
   ]
  },
  {
   "cell_type": "code",
   "execution_count": 3,
   "metadata": {},
   "outputs": [
    {
     "data": {
      "text/html": [
       "<table>\n",
       "<thead><tr><th scope=col>Ozone</th><th scope=col>Solar.R</th><th scope=col>Wind</th><th scope=col>Temp</th><th scope=col>Month</th><th scope=col>Day</th></tr></thead>\n",
       "<tbody>\n",
       "\t<tr><td>41  </td><td>190 </td><td> 7.4</td><td>67  </td><td>5   </td><td>1   </td></tr>\n",
       "\t<tr><td>36  </td><td>118 </td><td> 8.0</td><td>72  </td><td>5   </td><td>2   </td></tr>\n",
       "\t<tr><td>12  </td><td>149 </td><td>12.6</td><td>74  </td><td>5   </td><td>3   </td></tr>\n",
       "\t<tr><td>18  </td><td>313 </td><td>11.5</td><td>62  </td><td>5   </td><td>4   </td></tr>\n",
       "\t<tr><td>NA  </td><td> NA </td><td>14.3</td><td>56  </td><td>5   </td><td>5   </td></tr>\n",
       "\t<tr><td>28  </td><td> NA </td><td>14.9</td><td>66  </td><td>5   </td><td>6   </td></tr>\n",
       "</tbody>\n",
       "</table>\n"
      ],
      "text/latex": [
       "\\begin{tabular}{r|llllll}\n",
       " Ozone & Solar.R & Wind & Temp & Month & Day\\\\\n",
       "\\hline\n",
       "\t 41   & 190  &  7.4 & 67   & 5    & 1   \\\\\n",
       "\t 36   & 118  &  8.0 & 72   & 5    & 2   \\\\\n",
       "\t 12   & 149  & 12.6 & 74   & 5    & 3   \\\\\n",
       "\t 18   & 313  & 11.5 & 62   & 5    & 4   \\\\\n",
       "\t NA   &  NA  & 14.3 & 56   & 5    & 5   \\\\\n",
       "\t 28   &  NA  & 14.9 & 66   & 5    & 6   \\\\\n",
       "\\end{tabular}\n"
      ],
      "text/markdown": [
       "\n",
       "Ozone | Solar.R | Wind | Temp | Month | Day | \n",
       "|---|---|---|---|---|---|\n",
       "| 41   | 190  |  7.4 | 67   | 5    | 1    | \n",
       "| 36   | 118  |  8.0 | 72   | 5    | 2    | \n",
       "| 12   | 149  | 12.6 | 74   | 5    | 3    | \n",
       "| 18   | 313  | 11.5 | 62   | 5    | 4    | \n",
       "| NA   |  NA  | 14.3 | 56   | 5    | 5    | \n",
       "| 28   |  NA  | 14.9 | 66   | 5    | 6    | \n",
       "\n",
       "\n"
      ],
      "text/plain": [
       "  Ozone Solar.R Wind Temp Month Day\n",
       "1 41    190      7.4 67   5     1  \n",
       "2 36    118      8.0 72   5     2  \n",
       "3 12    149     12.6 74   5     3  \n",
       "4 18    313     11.5 62   5     4  \n",
       "5 NA     NA     14.3 56   5     5  \n",
       "6 28     NA     14.9 66   5     6  "
      ]
     },
     "metadata": {},
     "output_type": "display_data"
    }
   ],
   "source": [
    "newdf <- airquality\n",
    "head(newdf)"
   ]
  },
  {
   "cell_type": "code",
   "execution_count": 4,
   "metadata": {},
   "outputs": [
    {
     "data": {
      "text/html": [
       "44"
      ],
      "text/latex": [
       "44"
      ],
      "text/markdown": [
       "44"
      ],
      "text/plain": [
       "[1] 44"
      ]
     },
     "metadata": {},
     "output_type": "display_data"
    },
    {
     "data": {
      "text/html": [
       "0.0479302832244009"
      ],
      "text/latex": [
       "0.0479302832244009"
      ],
      "text/markdown": [
       "0.0479302832244009"
      ],
      "text/plain": [
       "[1] 0.04793028"
      ]
     },
     "metadata": {},
     "output_type": "display_data"
    }
   ],
   "source": [
    "#is.na(newdf)\n",
    "\n",
    "# how much and how many are missing\n",
    "sum(is.na(newdf))\n",
    "mean(is.na(newdf))"
   ]
  },
  {
   "cell_type": "code",
   "execution_count": 5,
   "metadata": {},
   "outputs": [
    {
     "data": {
      "text/plain": [
       "\n",
       "FALSE  TRUE \n",
       "  874    44 "
      ]
     },
     "metadata": {},
     "output_type": "display_data"
    }
   ],
   "source": [
    "table(is.na(newdf))"
   ]
  },
  {
   "cell_type": "code",
   "execution_count": 6,
   "metadata": {},
   "outputs": [
    {
     "data": {
      "text/plain": [
       "     Ozone           Solar.R           Wind             Temp      \n",
       " Min.   :  1.00   Min.   :  7.0   Min.   : 1.700   Min.   :56.00  \n",
       " 1st Qu.: 18.00   1st Qu.:115.8   1st Qu.: 7.400   1st Qu.:72.00  \n",
       " Median : 31.50   Median :205.0   Median : 9.700   Median :79.00  \n",
       " Mean   : 42.13   Mean   :185.9   Mean   : 9.958   Mean   :77.88  \n",
       " 3rd Qu.: 63.25   3rd Qu.:258.8   3rd Qu.:11.500   3rd Qu.:85.00  \n",
       " Max.   :168.00   Max.   :334.0   Max.   :20.700   Max.   :97.00  \n",
       " NA's   :37       NA's   :7                                       \n",
       "     Month            Day      \n",
       " Min.   :5.000   Min.   : 1.0  \n",
       " 1st Qu.:6.000   1st Qu.: 8.0  \n",
       " Median :7.000   Median :16.0  \n",
       " Mean   :6.993   Mean   :15.8  \n",
       " 3rd Qu.:8.000   3rd Qu.:23.0  \n",
       " Max.   :9.000   Max.   :31.0  \n",
       "                               "
      ]
     },
     "metadata": {},
     "output_type": "display_data"
    }
   ],
   "source": [
    "summary(newdf)"
   ]
  },
  {
   "cell_type": "code",
   "execution_count": 7,
   "metadata": {},
   "outputs": [
    {
     "data": {
      "text/html": [
       "42"
      ],
      "text/latex": [
       "42"
      ],
      "text/markdown": [
       "42"
      ],
      "text/plain": [
       "[1] 42"
      ]
     },
     "metadata": {},
     "output_type": "display_data"
    },
    {
     "data": {
      "text/html": [
       "<table>\n",
       "<thead><tr><th></th><th scope=col>Ozone</th><th scope=col>Solar.R</th><th scope=col>Wind</th><th scope=col>Temp</th><th scope=col>Month</th><th scope=col>Day</th></tr></thead>\n",
       "<tbody>\n",
       "\t<tr><th scope=row>5</th><td>NA  </td><td> NA </td><td>14.3</td><td>56  </td><td>5   </td><td> 5  </td></tr>\n",
       "\t<tr><th scope=row>6</th><td>28  </td><td> NA </td><td>14.9</td><td>66  </td><td>5   </td><td> 6  </td></tr>\n",
       "\t<tr><th scope=row>10</th><td>NA  </td><td>194 </td><td> 8.6</td><td>69  </td><td>5   </td><td>10  </td></tr>\n",
       "\t<tr><th scope=row>11</th><td> 7  </td><td> NA </td><td> 6.9</td><td>74  </td><td>5   </td><td>11  </td></tr>\n",
       "\t<tr><th scope=row>25</th><td>NA  </td><td> 66 </td><td>16.6</td><td>57  </td><td>5   </td><td>25  </td></tr>\n",
       "\t<tr><th scope=row>26</th><td>NA  </td><td>266 </td><td>14.9</td><td>58  </td><td>5   </td><td>26  </td></tr>\n",
       "\t<tr><th scope=row>27</th><td>NA  </td><td> NA </td><td> 8.0</td><td>57  </td><td>5   </td><td>27  </td></tr>\n",
       "\t<tr><th scope=row>32</th><td>NA  </td><td>286 </td><td> 8.6</td><td>78  </td><td>6   </td><td> 1  </td></tr>\n",
       "\t<tr><th scope=row>33</th><td>NA  </td><td>287 </td><td> 9.7</td><td>74  </td><td>6   </td><td> 2  </td></tr>\n",
       "\t<tr><th scope=row>34</th><td>NA  </td><td>242 </td><td>16.1</td><td>67  </td><td>6   </td><td> 3  </td></tr>\n",
       "\t<tr><th scope=row>35</th><td>NA  </td><td>186 </td><td> 9.2</td><td>84  </td><td>6   </td><td> 4  </td></tr>\n",
       "\t<tr><th scope=row>36</th><td>NA  </td><td>220 </td><td> 8.6</td><td>85  </td><td>6   </td><td> 5  </td></tr>\n",
       "\t<tr><th scope=row>37</th><td>NA  </td><td>264 </td><td>14.3</td><td>79  </td><td>6   </td><td> 6  </td></tr>\n",
       "\t<tr><th scope=row>39</th><td>NA  </td><td>273 </td><td> 6.9</td><td>87  </td><td>6   </td><td> 8  </td></tr>\n",
       "\t<tr><th scope=row>42</th><td>NA  </td><td>259 </td><td>10.9</td><td>93  </td><td>6   </td><td>11  </td></tr>\n",
       "\t<tr><th scope=row>43</th><td>NA  </td><td>250 </td><td> 9.2</td><td>92  </td><td>6   </td><td>12  </td></tr>\n",
       "\t<tr><th scope=row>45</th><td>NA  </td><td>332 </td><td>13.8</td><td>80  </td><td>6   </td><td>14  </td></tr>\n",
       "\t<tr><th scope=row>46</th><td>NA  </td><td>322 </td><td>11.5</td><td>79  </td><td>6   </td><td>15  </td></tr>\n",
       "\t<tr><th scope=row>52</th><td>NA  </td><td>150 </td><td> 6.3</td><td>77  </td><td>6   </td><td>21  </td></tr>\n",
       "\t<tr><th scope=row>53</th><td>NA  </td><td> 59 </td><td> 1.7</td><td>76  </td><td>6   </td><td>22  </td></tr>\n",
       "\t<tr><th scope=row>54</th><td>NA  </td><td> 91 </td><td> 4.6</td><td>76  </td><td>6   </td><td>23  </td></tr>\n",
       "\t<tr><th scope=row>55</th><td>NA  </td><td>250 </td><td> 6.3</td><td>76  </td><td>6   </td><td>24  </td></tr>\n",
       "\t<tr><th scope=row>56</th><td>NA  </td><td>135 </td><td> 8.0</td><td>75  </td><td>6   </td><td>25  </td></tr>\n",
       "\t<tr><th scope=row>57</th><td>NA  </td><td>127 </td><td> 8.0</td><td>78  </td><td>6   </td><td>26  </td></tr>\n",
       "\t<tr><th scope=row>58</th><td>NA  </td><td> 47 </td><td>10.3</td><td>73  </td><td>6   </td><td>27  </td></tr>\n",
       "\t<tr><th scope=row>59</th><td>NA  </td><td> 98 </td><td>11.5</td><td>80  </td><td>6   </td><td>28  </td></tr>\n",
       "\t<tr><th scope=row>60</th><td>NA  </td><td> 31 </td><td>14.9</td><td>77  </td><td>6   </td><td>29  </td></tr>\n",
       "\t<tr><th scope=row>61</th><td>NA  </td><td>138 </td><td> 8.0</td><td>83  </td><td>6   </td><td>30  </td></tr>\n",
       "\t<tr><th scope=row>65</th><td>NA  </td><td>101 </td><td>10.9</td><td>84  </td><td>7   </td><td> 4  </td></tr>\n",
       "\t<tr><th scope=row>72</th><td>NA  </td><td>139 </td><td> 8.6</td><td>82  </td><td>7   </td><td>11  </td></tr>\n",
       "\t<tr><th scope=row>75</th><td>NA  </td><td>291 </td><td>14.9</td><td>91  </td><td>7   </td><td>14  </td></tr>\n",
       "\t<tr><th scope=row>83</th><td>NA  </td><td>258 </td><td> 9.7</td><td>81  </td><td>7   </td><td>22  </td></tr>\n",
       "\t<tr><th scope=row>84</th><td>NA  </td><td>295 </td><td>11.5</td><td>82  </td><td>7   </td><td>23  </td></tr>\n",
       "\t<tr><th scope=row>96</th><td>78  </td><td> NA </td><td> 6.9</td><td>86  </td><td>8   </td><td> 4  </td></tr>\n",
       "\t<tr><th scope=row>97</th><td>35  </td><td> NA </td><td> 7.4</td><td>85  </td><td>8   </td><td> 5  </td></tr>\n",
       "\t<tr><th scope=row>98</th><td>66  </td><td> NA </td><td> 4.6</td><td>87  </td><td>8   </td><td> 6  </td></tr>\n",
       "\t<tr><th scope=row>102</th><td>NA  </td><td>222 </td><td> 8.6</td><td>92  </td><td>8   </td><td>10  </td></tr>\n",
       "\t<tr><th scope=row>103</th><td>NA  </td><td>137 </td><td>11.5</td><td>86  </td><td>8   </td><td>11  </td></tr>\n",
       "\t<tr><th scope=row>107</th><td>NA  </td><td> 64 </td><td>11.5</td><td>79  </td><td>8   </td><td>15  </td></tr>\n",
       "\t<tr><th scope=row>115</th><td>NA  </td><td>255 </td><td>12.6</td><td>75  </td><td>8   </td><td>23  </td></tr>\n",
       "\t<tr><th scope=row>119</th><td>NA  </td><td>153 </td><td> 5.7</td><td>88  </td><td>8   </td><td>27  </td></tr>\n",
       "\t<tr><th scope=row>150</th><td>NA  </td><td>145 </td><td>13.2</td><td>77  </td><td>9   </td><td>27  </td></tr>\n",
       "</tbody>\n",
       "</table>\n"
      ],
      "text/latex": [
       "\\begin{tabular}{r|llllll}\n",
       "  & Ozone & Solar.R & Wind & Temp & Month & Day\\\\\n",
       "\\hline\n",
       "\t5 & NA   &  NA  & 14.3 & 56   & 5    &  5  \\\\\n",
       "\t6 & 28   &  NA  & 14.9 & 66   & 5    &  6  \\\\\n",
       "\t10 & NA   & 194  &  8.6 & 69   & 5    & 10  \\\\\n",
       "\t11 &  7   &  NA  &  6.9 & 74   & 5    & 11  \\\\\n",
       "\t25 & NA   &  66  & 16.6 & 57   & 5    & 25  \\\\\n",
       "\t26 & NA   & 266  & 14.9 & 58   & 5    & 26  \\\\\n",
       "\t27 & NA   &  NA  &  8.0 & 57   & 5    & 27  \\\\\n",
       "\t32 & NA   & 286  &  8.6 & 78   & 6    &  1  \\\\\n",
       "\t33 & NA   & 287  &  9.7 & 74   & 6    &  2  \\\\\n",
       "\t34 & NA   & 242  & 16.1 & 67   & 6    &  3  \\\\\n",
       "\t35 & NA   & 186  &  9.2 & 84   & 6    &  4  \\\\\n",
       "\t36 & NA   & 220  &  8.6 & 85   & 6    &  5  \\\\\n",
       "\t37 & NA   & 264  & 14.3 & 79   & 6    &  6  \\\\\n",
       "\t39 & NA   & 273  &  6.9 & 87   & 6    &  8  \\\\\n",
       "\t42 & NA   & 259  & 10.9 & 93   & 6    & 11  \\\\\n",
       "\t43 & NA   & 250  &  9.2 & 92   & 6    & 12  \\\\\n",
       "\t45 & NA   & 332  & 13.8 & 80   & 6    & 14  \\\\\n",
       "\t46 & NA   & 322  & 11.5 & 79   & 6    & 15  \\\\\n",
       "\t52 & NA   & 150  &  6.3 & 77   & 6    & 21  \\\\\n",
       "\t53 & NA   &  59  &  1.7 & 76   & 6    & 22  \\\\\n",
       "\t54 & NA   &  91  &  4.6 & 76   & 6    & 23  \\\\\n",
       "\t55 & NA   & 250  &  6.3 & 76   & 6    & 24  \\\\\n",
       "\t56 & NA   & 135  &  8.0 & 75   & 6    & 25  \\\\\n",
       "\t57 & NA   & 127  &  8.0 & 78   & 6    & 26  \\\\\n",
       "\t58 & NA   &  47  & 10.3 & 73   & 6    & 27  \\\\\n",
       "\t59 & NA   &  98  & 11.5 & 80   & 6    & 28  \\\\\n",
       "\t60 & NA   &  31  & 14.9 & 77   & 6    & 29  \\\\\n",
       "\t61 & NA   & 138  &  8.0 & 83   & 6    & 30  \\\\\n",
       "\t65 & NA   & 101  & 10.9 & 84   & 7    &  4  \\\\\n",
       "\t72 & NA   & 139  &  8.6 & 82   & 7    & 11  \\\\\n",
       "\t75 & NA   & 291  & 14.9 & 91   & 7    & 14  \\\\\n",
       "\t83 & NA   & 258  &  9.7 & 81   & 7    & 22  \\\\\n",
       "\t84 & NA   & 295  & 11.5 & 82   & 7    & 23  \\\\\n",
       "\t96 & 78   &  NA  &  6.9 & 86   & 8    &  4  \\\\\n",
       "\t97 & 35   &  NA  &  7.4 & 85   & 8    &  5  \\\\\n",
       "\t98 & 66   &  NA  &  4.6 & 87   & 8    &  6  \\\\\n",
       "\t102 & NA   & 222  &  8.6 & 92   & 8    & 10  \\\\\n",
       "\t103 & NA   & 137  & 11.5 & 86   & 8    & 11  \\\\\n",
       "\t107 & NA   &  64  & 11.5 & 79   & 8    & 15  \\\\\n",
       "\t115 & NA   & 255  & 12.6 & 75   & 8    & 23  \\\\\n",
       "\t119 & NA   & 153  &  5.7 & 88   & 8    & 27  \\\\\n",
       "\t150 & NA   & 145  & 13.2 & 77   & 9    & 27  \\\\\n",
       "\\end{tabular}\n"
      ],
      "text/markdown": [
       "\n",
       "| <!--/--> | Ozone | Solar.R | Wind | Temp | Month | Day | \n",
       "|---|---|---|---|---|---|---|---|---|---|---|---|---|---|---|---|---|---|---|---|---|---|---|---|---|---|---|---|---|---|---|---|---|---|---|---|---|---|---|---|---|---|\n",
       "| 5 | NA   |  NA  | 14.3 | 56   | 5    |  5   | \n",
       "| 6 | 28   |  NA  | 14.9 | 66   | 5    |  6   | \n",
       "| 10 | NA   | 194  |  8.6 | 69   | 5    | 10   | \n",
       "| 11 |  7   |  NA  |  6.9 | 74   | 5    | 11   | \n",
       "| 25 | NA   |  66  | 16.6 | 57   | 5    | 25   | \n",
       "| 26 | NA   | 266  | 14.9 | 58   | 5    | 26   | \n",
       "| 27 | NA   |  NA  |  8.0 | 57   | 5    | 27   | \n",
       "| 32 | NA   | 286  |  8.6 | 78   | 6    |  1   | \n",
       "| 33 | NA   | 287  |  9.7 | 74   | 6    |  2   | \n",
       "| 34 | NA   | 242  | 16.1 | 67   | 6    |  3   | \n",
       "| 35 | NA   | 186  |  9.2 | 84   | 6    |  4   | \n",
       "| 36 | NA   | 220  |  8.6 | 85   | 6    |  5   | \n",
       "| 37 | NA   | 264  | 14.3 | 79   | 6    |  6   | \n",
       "| 39 | NA   | 273  |  6.9 | 87   | 6    |  8   | \n",
       "| 42 | NA   | 259  | 10.9 | 93   | 6    | 11   | \n",
       "| 43 | NA   | 250  |  9.2 | 92   | 6    | 12   | \n",
       "| 45 | NA   | 332  | 13.8 | 80   | 6    | 14   | \n",
       "| 46 | NA   | 322  | 11.5 | 79   | 6    | 15   | \n",
       "| 52 | NA   | 150  |  6.3 | 77   | 6    | 21   | \n",
       "| 53 | NA   |  59  |  1.7 | 76   | 6    | 22   | \n",
       "| 54 | NA   |  91  |  4.6 | 76   | 6    | 23   | \n",
       "| 55 | NA   | 250  |  6.3 | 76   | 6    | 24   | \n",
       "| 56 | NA   | 135  |  8.0 | 75   | 6    | 25   | \n",
       "| 57 | NA   | 127  |  8.0 | 78   | 6    | 26   | \n",
       "| 58 | NA   |  47  | 10.3 | 73   | 6    | 27   | \n",
       "| 59 | NA   |  98  | 11.5 | 80   | 6    | 28   | \n",
       "| 60 | NA   |  31  | 14.9 | 77   | 6    | 29   | \n",
       "| 61 | NA   | 138  |  8.0 | 83   | 6    | 30   | \n",
       "| 65 | NA   | 101  | 10.9 | 84   | 7    |  4   | \n",
       "| 72 | NA   | 139  |  8.6 | 82   | 7    | 11   | \n",
       "| 75 | NA   | 291  | 14.9 | 91   | 7    | 14   | \n",
       "| 83 | NA   | 258  |  9.7 | 81   | 7    | 22   | \n",
       "| 84 | NA   | 295  | 11.5 | 82   | 7    | 23   | \n",
       "| 96 | 78   |  NA  |  6.9 | 86   | 8    |  4   | \n",
       "| 97 | 35   |  NA  |  7.4 | 85   | 8    |  5   | \n",
       "| 98 | 66   |  NA  |  4.6 | 87   | 8    |  6   | \n",
       "| 102 | NA   | 222  |  8.6 | 92   | 8    | 10   | \n",
       "| 103 | NA   | 137  | 11.5 | 86   | 8    | 11   | \n",
       "| 107 | NA   |  64  | 11.5 | 79   | 8    | 15   | \n",
       "| 115 | NA   | 255  | 12.6 | 75   | 8    | 23   | \n",
       "| 119 | NA   | 153  |  5.7 | 88   | 8    | 27   | \n",
       "| 150 | NA   | 145  | 13.2 | 77   | 9    | 27   | \n",
       "\n",
       "\n"
      ],
      "text/plain": [
       "    Ozone Solar.R Wind Temp Month Day\n",
       "5   NA     NA     14.3 56   5      5 \n",
       "6   28     NA     14.9 66   5      6 \n",
       "10  NA    194      8.6 69   5     10 \n",
       "11   7     NA      6.9 74   5     11 \n",
       "25  NA     66     16.6 57   5     25 \n",
       "26  NA    266     14.9 58   5     26 \n",
       "27  NA     NA      8.0 57   5     27 \n",
       "32  NA    286      8.6 78   6      1 \n",
       "33  NA    287      9.7 74   6      2 \n",
       "34  NA    242     16.1 67   6      3 \n",
       "35  NA    186      9.2 84   6      4 \n",
       "36  NA    220      8.6 85   6      5 \n",
       "37  NA    264     14.3 79   6      6 \n",
       "39  NA    273      6.9 87   6      8 \n",
       "42  NA    259     10.9 93   6     11 \n",
       "43  NA    250      9.2 92   6     12 \n",
       "45  NA    332     13.8 80   6     14 \n",
       "46  NA    322     11.5 79   6     15 \n",
       "52  NA    150      6.3 77   6     21 \n",
       "53  NA     59      1.7 76   6     22 \n",
       "54  NA     91      4.6 76   6     23 \n",
       "55  NA    250      6.3 76   6     24 \n",
       "56  NA    135      8.0 75   6     25 \n",
       "57  NA    127      8.0 78   6     26 \n",
       "58  NA     47     10.3 73   6     27 \n",
       "59  NA     98     11.5 80   6     28 \n",
       "60  NA     31     14.9 77   6     29 \n",
       "61  NA    138      8.0 83   6     30 \n",
       "65  NA    101     10.9 84   7      4 \n",
       "72  NA    139      8.6 82   7     11 \n",
       "75  NA    291     14.9 91   7     14 \n",
       "83  NA    258      9.7 81   7     22 \n",
       "84  NA    295     11.5 82   7     23 \n",
       "96  78     NA      6.9 86   8      4 \n",
       "97  35     NA      7.4 85   8      5 \n",
       "98  66     NA      4.6 87   8      6 \n",
       "102 NA    222      8.6 92   8     10 \n",
       "103 NA    137     11.5 86   8     11 \n",
       "107 NA     64     11.5 79   8     15 \n",
       "115 NA    255     12.6 75   8     23 \n",
       "119 NA    153      5.7 88   8     27 \n",
       "150 NA    145     13.2 77   9     27 "
      ]
     },
     "metadata": {},
     "output_type": "display_data"
    }
   ],
   "source": [
    "sum(!complete.cases(newdf))\n",
    "\n",
    "# list rows of data that have missing values \n",
    "newdf[!complete.cases(newdf),]"
   ]
  },
  {
   "cell_type": "code",
   "execution_count": 8,
   "metadata": {},
   "outputs": [
    {
     "name": "stdout",
     "output_type": "stream",
     "text": [
      "'data.frame':\t153 obs. of  6 variables:\n",
      " $ Ozone  : int  41 36 12 18 NA 28 23 19 8 NA ...\n",
      " $ Solar.R: int  190 118 149 313 NA NA 299 99 19 194 ...\n",
      " $ Wind   : num  7.4 8 12.6 11.5 14.3 14.9 8.6 13.8 20.1 8.6 ...\n",
      " $ Temp   : int  67 72 74 62 56 66 65 59 61 69 ...\n",
      " $ Month  : int  5 5 5 5 5 5 5 5 5 5 ...\n",
      " $ Day    : int  1 2 3 4 5 6 7 8 9 10 ...\n"
     ]
    }
   ],
   "source": [
    "str(newdf)"
   ]
  },
  {
   "cell_type": "code",
   "execution_count": 9,
   "metadata": {},
   "outputs": [
    {
     "name": "stdout",
     "output_type": "stream",
     "text": [
      "'data.frame':\t111 obs. of  6 variables:\n",
      " $ Ozone  : int  41 36 12 18 23 19 8 16 11 14 ...\n",
      " $ Solar.R: int  190 118 149 313 299 99 19 256 290 274 ...\n",
      " $ Wind   : num  7.4 8 12.6 11.5 8.6 13.8 20.1 9.7 9.2 10.9 ...\n",
      " $ Temp   : int  67 72 74 62 65 59 61 69 66 68 ...\n",
      " $ Month  : int  5 5 5 5 5 5 5 5 5 5 ...\n",
      " $ Day    : int  1 2 3 4 7 8 9 12 13 14 ...\n",
      " - attr(*, \"na.action\")= 'omit' Named int  5 6 10 11 25 26 27 32 33 34 ...\n",
      "  ..- attr(*, \"names\")= chr  \"5\" \"6\" \"10\" \"11\" ...\n"
     ]
    }
   ],
   "source": [
    "newdf2 <- na.omit(newdf) \n",
    "str(newdf2)"
   ]
  },
  {
   "cell_type": "code",
   "execution_count": 10,
   "metadata": {},
   "outputs": [
    {
     "data": {
      "text/html": [
       "&lt;NA&gt;"
      ],
      "text/latex": [
       "<NA>"
      ],
      "text/markdown": [
       "&lt;NA&gt;"
      ],
      "text/plain": [
       "[1] NA"
      ]
     },
     "metadata": {},
     "output_type": "display_data"
    },
    {
     "data": {
      "text/html": [
       "42.1293103448276"
      ],
      "text/latex": [
       "42.1293103448276"
      ],
      "text/markdown": [
       "42.1293103448276"
      ],
      "text/plain": [
       "[1] 42.12931"
      ]
     },
     "metadata": {},
     "output_type": "display_data"
    }
   ],
   "source": [
    "x <- newdf$Ozone\n",
    "mean(x) # returns NA\n",
    "mean(x, na.rm=TRUE) # returns 2"
   ]
  },
  {
   "cell_type": "code",
   "execution_count": 11,
   "metadata": {},
   "outputs": [
    {
     "name": "stderr",
     "output_type": "stream",
     "text": [
      "Warning message:\n",
      "\"package 'Amelia' was built under R version 3.5.2\"Loading required package: Rcpp\n",
      "## \n",
      "## Amelia II: Multiple Imputation\n",
      "## (Version 1.7.5, built: 2018-05-07)\n",
      "## Copyright (C) 2005-2019 James Honaker, Gary King and Matthew Blackwell\n",
      "## Refer to http://gking.harvard.edu/amelia/ for more information\n",
      "## \n"
     ]
    },
    {
     "data": {
      "image/png": "[encoded data removed]",
      "text/plain": [
       "Plot with title \"Missing values vs observed\""
      ]
     },
     "metadata": {},
     "output_type": "display_data"
    }
   ],
   "source": [
    "#A visual take on the missing values might be helpful: the Amelia package has a special plotting function missmap() that will plot your dataset and highlight missing values:\n",
    "\n",
    "library(Amelia)\n",
    "missmap(newdf, main = \"Missing values vs observed\")"
   ]
  },
  {
   "cell_type": "code",
   "execution_count": 12,
   "metadata": {},
   "outputs": [],
   "source": [
    "#install.packages(\"Amelia\")"
   ]
  },
  {
   "cell_type": "code",
   "execution_count": 13,
   "metadata": {},
   "outputs": [],
   "source": [
    "#install.packages(\"VIM\")"
   ]
  },
  {
   "cell_type": "code",
   "execution_count": 14,
   "metadata": {},
   "outputs": [
    {
     "name": "stderr",
     "output_type": "stream",
     "text": [
      "Warning message:\n",
      "\"package 'VIM' was built under R version 3.5.2\"Loading required package: colorspace\n",
      "Loading required package: grid\n",
      "Loading required package: data.table\n",
      "VIM is ready to use. \n",
      " Since version 4.0.0 the GUI is in its own package VIMGUI.\n",
      "\n",
      "          Please use the package to use the new (and old) GUI.\n",
      "\n",
      "Suggestions and bug-reports can be submitted at: https://github.com/alexkowa/VIM/issues\n",
      "\n",
      "Attaching package: 'VIM'\n",
      "\n",
      "The following object is masked from 'package:datasets':\n",
      "\n",
      "    sleep\n",
      "\n"
     ]
    },
    {
     "data": {
      "image/png": "[encoded data removed]",
      "text/plain": [
       "plot without title"
      ]
     },
     "metadata": {},
     "output_type": "display_data"
    }
   ],
   "source": [
    "library(VIM)\n",
    "## in number\n",
    "aggr(newdf, prop = F, numbers = T)"
   ]
  },
  {
   "cell_type": "code",
   "execution_count": 15,
   "metadata": {},
   "outputs": [],
   "source": [
    "# imputation - Replace\n",
    "# Continuous Variable : Either Median or Mean\n",
    "# Character : mode"
   ]
  },
  {
   "cell_type": "code",
   "execution_count": 16,
   "metadata": {},
   "outputs": [],
   "source": [
    "newdf$Ozone[is.na(newdf$Ozone)] <- mean(newdf$Ozone,na.rm=T) # Missingvalue replace"
   ]
  },
  {
   "cell_type": "code",
   "execution_count": 17,
   "metadata": {},
   "outputs": [],
   "source": [
    "newdf$Solar.R[is.na(newdf$Solar.R)] <- median(newdf$Solar.R,na.rm=T) # Missingvalue replace"
   ]
  },
  {
   "cell_type": "code",
   "execution_count": 18,
   "metadata": {},
   "outputs": [
    {
     "data": {
      "text/plain": [
       "\n",
       "FALSE \n",
       "  918 "
      ]
     },
     "metadata": {},
     "output_type": "display_data"
    }
   ],
   "source": [
    "table(is.na(newdf))"
   ]
  },
  {
   "cell_type": "code",
   "execution_count": 19,
   "metadata": {},
   "outputs": [
    {
     "data": {
      "text/html": [
       "<table>\n",
       "<thead><tr><th scope=col>Ozone</th><th scope=col>Solar.R</th><th scope=col>Wind</th><th scope=col>Temp</th><th scope=col>Month</th><th scope=col>Day</th></tr></thead>\n",
       "<tbody>\n",
       "</tbody>\n",
       "</table>\n"
      ],
      "text/latex": [
       "\\begin{tabular}{r|llllll}\n",
       " Ozone & Solar.R & Wind & Temp & Month & Day\\\\\n",
       "\\hline\n",
       "\\end{tabular}\n"
      ],
      "text/markdown": [
       "\n",
       "Ozone | Solar.R | Wind | Temp | Month | Day | \n",
       "||\n",
       "\n",
       "\n"
      ],
      "text/plain": [
       "     Ozone Solar.R Wind Temp Month Day"
      ]
     },
     "metadata": {},
     "output_type": "display_data"
    }
   ],
   "source": [
    "newdf[!complete.cases(newdf),]"
   ]
  },
  {
   "cell_type": "code",
   "execution_count": 20,
   "metadata": {},
   "outputs": [
    {
     "data": {
      "text/html": [
       "5"
      ],
      "text/latex": [
       "5"
      ],
      "text/markdown": [
       "5"
      ],
      "text/plain": [
       "[1] 5"
      ]
     },
     "metadata": {},
     "output_type": "display_data"
    }
   ],
   "source": [
    "# Create the function.\n",
    "getmode <- function(v) {\n",
    "   uniqv <- unique(v)\n",
    "   uniqv[which.max(tabulate(match(v, uniqv)))]\n",
    "}\n",
    "getmode(newdf$Month)"
   ]
  },
  {
   "cell_type": "code",
   "execution_count": 21,
   "metadata": {},
   "outputs": [],
   "source": [
    "# based on Mode\n",
    "#newdf$Month[is.na(newdf$Month)] <- 5 # Missingvalue replace"
   ]
  },
  {
   "cell_type": "code",
   "execution_count": null,
   "metadata": {},
   "outputs": [],
   "source": []
  }
 ],
 "metadata": {
  "kernelspec": {
   "display_name": "R",
   "language": "R",
   "name": "ir"
  },
  "language_info": {
   "codemirror_mode": "r",
   "file_extension": ".r",
   "mimetype": "text/x-r-source",
   "name": "R",
   "pygments_lexer": "r",
   "version": "3.5.1"
  }
 },
 "nbformat": 4,
 "nbformat_minor": 2
}
