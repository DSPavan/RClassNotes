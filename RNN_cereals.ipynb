{
 "cells": [
  {
   "cell_type": "code",
   "execution_count": 2,
   "metadata": {},
   "outputs": [
    {
     "name": "stdout",
     "output_type": "stream",
     "text": [
      "'data.frame':\t74 obs. of  16 variables:\n",
      " $ name    : chr  \"100%_Bran\" \"100%_Natural_Bran\" \"All-Bran\" \"All-Bran_with_Extra_Fiber\" ...\n",
      " $ mfr     : chr  \"N\" \"Q\" \"K\" \"K\" ...\n",
      " $ type    : chr  \"C\" \"C\" \"C\" \"C\" ...\n",
      " $ calories: int  70 120 70 50 110 110 110 130 90 90 ...\n",
      " $ protein : int  4 3 4 4 2 2 2 3 2 3 ...\n",
      " $ fat     : int  1 5 1 0 2 2 0 2 1 0 ...\n",
      " $ sodium  : int  130 15 260 140 200 180 125 210 200 210 ...\n",
      " $ fiber   : num  10 2 9 14 1 1.5 1 2 4 5 ...\n",
      " $ carbo   : num  5 8 7 8 14 10.5 11 18 15 13 ...\n",
      " $ sugars  : int  6 8 5 0 8 10 14 8 6 5 ...\n",
      " $ potass  : int  280 135 320 330 -1 70 30 100 125 190 ...\n",
      " $ vitamins: int  25 0 25 25 25 25 25 25 25 25 ...\n",
      " $ shelf   : int  3 3 3 3 3 1 2 3 1 3 ...\n",
      " $ weight  : num  1 1 1 1 1 1 1 1.33 1 1 ...\n",
      " $ cups    : num  0.33 1 0.33 0.5 0.75 0.75 1 0.75 0.67 0.67 ...\n",
      " $ rating  : num  68.4 34 59.4 93.7 34.4 ...\n"
     ]
    },
    {
     "data": {
      "image/png": "[encoded data removed]",
      "text/plain": [
       "plot without title"
      ]
     },
     "metadata": {},
     "output_type": "display_data"
    }
   ],
   "source": [
    "data <- read.csv(\"C:\\\\Users\\\\radha31\\\\Downloads\\\\cereals.csv\", header = TRUE,\n",
    "                 stringsAsFactors = FALSE,\n",
    "                 strip.white = TRUE ,\n",
    "                 sep = ',')\n",
    "\n",
    "str(data)\n",
    "library(\"dplyr\")\n",
    "data <- data %>% na.omit()\n",
    "\n",
    "data <- data[c(-1,-2,-3,-13,-14,-15)]\n",
    "# Random sampling\n",
    "samplesize = 0.60 * nrow(data)\n",
    "set.seed(80)\n",
    "index = sample( seq_len ( nrow ( data ) ), size = samplesize )\n",
    "# Create training and test set\n",
    "datatrain = data[ index, ]\n",
    "datatest = data[ -index, ]\n",
    "\n",
    "\n",
    "## Scale data for neural network\n",
    "max = apply(data , 2 , max)\n",
    "min = apply(data, 2 , min)\n",
    "scaled = as.data.frame(scale(data, center = min, scale = max - min))\n",
    "\n",
    "# load library\n",
    "library(neuralnet)\n",
    "# creating training and test set\n",
    "trainNN = scaled[index , ]\n",
    "testNN = scaled[-index , ]\n",
    "\n",
    "# fit neural network\n",
    "set.seed(2)\n",
    "NN = neuralnet(rating ~ calories + protein + fat + sodium + fiber, trainNN, hidden = 3 , linear.output = T )\n",
    "\n",
    "# plot neural network\n",
    "#plot(NN)\n",
    "\n",
    "\n",
    "predict_testNN = compute(NN, testNN[,c(1:5)])\n",
    "predict_testNN = (predict_testNN$net.result * (max(data$rating) - min(data$rating))) + min(data$rating)\n",
    "\n",
    "plot(datatest$rating, predict_testNN, col='blue', pch=16, ylab = \"predicted rating NN\", xlab = \"real rating\")\n",
    "\n",
    "abline(0,1)\n",
    "\n",
    "# Calculate Root Mean Square Error (RMSE)\n",
    "RMSE.NN = (sum((datatest$rating - predict_testNN)^2) / nrow(datatest)) ^ 0.5\n",
    "  "
   ]
  },
  {
   "cell_type": "code",
   "execution_count": null,
   "metadata": {},
   "outputs": [],
   "source": []
  }
 ],
 "metadata": {
  "kernelspec": {
   "display_name": "R",
   "language": "R",
   "name": "ir"
  },
  "language_info": {
   "codemirror_mode": "r",
   "file_extension": ".r",
   "mimetype": "text/x-r-source",
   "name": "R",
   "pygments_lexer": "r",
   "version": "3.5.1"
  }
 },
 "nbformat": 4,
 "nbformat_minor": 2
}
