{
 "cells": [
  {
   "cell_type": "code",
   "execution_count": 14,
   "metadata": {},
   "outputs": [],
   "source": [
    "data(iris)\n",
    "library(\"stats\")\n",
    "library(naivebayes)\n"
   ]
  },
  {
   "cell_type": "code",
   "execution_count": 17,
   "metadata": {},
   "outputs": [
    {
     "data": {
      "image/png": "[encoded data removed]",
      "text/plain": [
       "plot without title"
      ]
     },
     "metadata": {},
     "output_type": "display_data"
    }
   ],
   "source": [
    "nb <- naive_bayes(Species ~ ., data = iris)\n",
    "par(mfrow=c(2,2))\n",
    "plot(nb)\n",
    "\n",
    "\n"
   ]
  },
  {
   "cell_type": "code",
   "execution_count": 16,
   "metadata": {},
   "outputs": [
    {
     "name": "stdout",
     "output_type": "stream",
     "text": [
      "===================== Naive Bayes ===================== \n",
      "Call: \n",
      "naive_bayes.formula(formula = Species ~ ., data = iris)\n",
      "\n",
      "A priori probabilities: \n",
      "\n",
      "    setosa versicolor  virginica \n",
      " 0.3333333  0.3333333  0.3333333 \n",
      "\n",
      "Tables: \n",
      "            \n",
      "Sepal.Length    setosa versicolor virginica\n",
      "        mean 5.0060000  5.9360000 6.5880000\n",
      "        sd   0.3524897  0.5161711 0.6358796\n",
      "\n",
      "           \n",
      "Sepal.Width    setosa versicolor virginica\n",
      "       mean 3.4280000  2.7700000 2.9740000\n",
      "       sd   0.3790644  0.3137983 0.3224966\n",
      "\n",
      "            \n",
      "Petal.Length    setosa versicolor virginica\n",
      "        mean 1.4620000  4.2600000 5.5520000\n",
      "        sd   0.1736640  0.4699110 0.5518947\n",
      "\n",
      "           \n",
      "Petal.Width    setosa versicolor virginica\n",
      "       mean 0.2460000  1.3260000 2.0260000\n",
      "       sd   0.1053856  0.1977527 0.2746501\n",
      "\n"
     ]
    }
   ],
   "source": [
    "print(nb)"
   ]
  },
  {
   "cell_type": "code",
   "execution_count": 4,
   "metadata": {},
   "outputs": [
    {
     "data": {
      "text/plain": [
       "            \n",
       "             setosa versicolor virginica\n",
       "  setosa         50          0         0\n",
       "  versicolor      0         47         3\n",
       "  virginica       0          3        47"
      ]
     },
     "metadata": {},
     "output_type": "display_data"
    }
   ],
   "source": [
    "table(predict(nb,iris), iris[,5])"
   ]
  },
  {
   "cell_type": "code",
   "execution_count": 20,
   "metadata": {},
   "outputs": [
    {
     "name": "stdout",
     "output_type": "stream",
     "text": [
      "\n",
      "Naive Bayes Classifier for Discrete Predictors\n",
      "\n",
      "Call:\n",
      "naiveBayes.default(x = X, y = Y, laplace = laplace)\n",
      "\n",
      "A-priori probabilities:\n",
      "Y\n",
      "    setosa versicolor  virginica \n",
      " 0.3333333  0.3333333  0.3333333 \n",
      "\n",
      "Conditional probabilities:\n",
      "            Sepal.Length\n",
      "Y             [,1]      [,2]\n",
      "  setosa     5.006 0.3524897\n",
      "  versicolor 5.936 0.5161711\n",
      "  virginica  6.588 0.6358796\n",
      "\n",
      "            Sepal.Width\n",
      "Y             [,1]      [,2]\n",
      "  setosa     3.428 0.3790644\n",
      "  versicolor 2.770 0.3137983\n",
      "  virginica  2.974 0.3224966\n",
      "\n",
      "            Petal.Length\n",
      "Y             [,1]      [,2]\n",
      "  setosa     1.462 0.1736640\n",
      "  versicolor 4.260 0.4699110\n",
      "  virginica  5.552 0.5518947\n",
      "\n",
      "            Petal.Width\n",
      "Y             [,1]      [,2]\n",
      "  setosa     0.246 0.1053856\n",
      "  versicolor 1.326 0.1977527\n",
      "  virginica  2.026 0.2746501\n",
      "\n"
     ]
    }
   ],
   "source": [
    "library(e1071)\n",
    "\n",
    "NBclassfier=naiveBayes(Species ~., data=iris)\n",
    "print(NBclassfier)"
   ]
  },
  {
   "cell_type": "code",
   "execution_count": 21,
   "metadata": {},
   "outputs": [
    {
     "data": {
      "text/plain": [
       "            \n",
       "             setosa versicolor virginica\n",
       "  setosa         50          0         0\n",
       "  versicolor      0         47         3\n",
       "  virginica       0          3        47"
      ]
     },
     "metadata": {},
     "output_type": "display_data"
    }
   ],
   "source": [
    "table(predict(NBclassfier,iris), iris[,5])"
   ]
  },
  {
   "cell_type": "code",
   "execution_count": 22,
   "metadata": {},
   "outputs": [
    {
     "data": {
      "text/plain": [
       "        Length Class  Mode     \n",
       "apriori 3      table  numeric  \n",
       "tables  4      -none- list     \n",
       "levels  3      -none- character\n",
       "call    4      -none- call     "
      ]
     },
     "metadata": {},
     "output_type": "display_data"
    }
   ],
   "source": [
    "summary(NBclassfier)"
   ]
  },
  {
   "cell_type": "code",
   "execution_count": 25,
   "metadata": {},
   "outputs": [],
   "source": [
    "#"
   ]
  },
  {
   "cell_type": "code",
   "execution_count": null,
   "metadata": {},
   "outputs": [],
   "source": []
  }
 ],
 "metadata": {
  "kernelspec": {
   "display_name": "R",
   "language": "R",
   "name": "ir"
  },
  "language_info": {
   "codemirror_mode": "r",
   "file_extension": ".r",
   "mimetype": "text/x-r-source",
   "name": "R",
   "pygments_lexer": "r",
   "version": "3.5.1"
  }
 },
 "nbformat": 4,
 "nbformat_minor": 2
}
