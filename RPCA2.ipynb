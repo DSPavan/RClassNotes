{
 "cells": [
  {
   "cell_type": "code",
   "execution_count": null,
   "metadata": {},
   "outputs": [],
   "source": [
    "DF<-data.frame(Maths=c(80, 90, 95), Science=c(85, 85, 80), English=c(60, 70, 40), Music=c(55, 45, 50))\n",
    "DF\n",
    "df2 <- prcomp(DF[,1:4], scale = FALSE)\n",
    "summary(df2)\n",
    "prcomp(DF[,1:4], scale = FALSE)\n",
    "\n",
    "biplot(df2, scale = 0)\n",
    "\n",
    "library(\"factoextra\")\n",
    "var <- get_pca_var(df2)\n",
    "var\n",
    "\n",
    "head(var$contrib)\n",
    "\n",
    "fviz_cos2(df2, choice = \"var\", axes = 1:2)\n",
    "\n",
    "\n",
    "library(\"corrplot\")\n",
    "corrplot(var$cos2, is.corr=FALSE)\n",
    "\n"
   ]
  }
 ],
 "metadata": {
  "kernelspec": {
   "display_name": "R",
   "language": "R",
   "name": "ir"
  }
 },
 "nbformat": 4,
 "nbformat_minor": 2
}
