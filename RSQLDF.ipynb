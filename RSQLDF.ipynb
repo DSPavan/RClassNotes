{
 "cells": [
  {
   "cell_type": "code",
   "execution_count": 1,
   "metadata": {},
   "outputs": [
    {
     "name": "stderr",
     "output_type": "stream",
     "text": [
      "Loading required package: gsubfn\n",
      "Loading required package: proto\n",
      "Loading required package: RSQLite\n"
     ]
    },
    {
     "data": {
      "text/html": [
       "<table>\n",
       "<thead><tr><th scope=col>Time</th><th scope=col>demand</th></tr></thead>\n",
       "<tbody>\n",
       "\t<tr><td>5   </td><td>15.6</td></tr>\n",
       "\t<tr><td>7   </td><td>19.8</td></tr>\n",
       "</tbody>\n",
       "</table>\n"
      ],
      "text/latex": [
       "\\begin{tabular}{r|ll}\n",
       " Time & demand\\\\\n",
       "\\hline\n",
       "\t 5    & 15.6\\\\\n",
       "\t 7    & 19.8\\\\\n",
       "\\end{tabular}\n"
      ],
      "text/markdown": [
       "\n",
       "Time | demand | \n",
       "|---|---|\n",
       "| 5    | 15.6 | \n",
       "| 7    | 19.8 | \n",
       "\n",
       "\n"
      ],
      "text/plain": [
       "  Time demand\n",
       "1 5    15.6  \n",
       "2 7    19.8  "
      ]
     },
     "metadata": {},
     "output_type": "display_data"
    }
   ],
   "source": [
    "library(sqldf)\n",
    "sqldf(\"select * from BOD where Time > 4\")"
   ]
  },
  {
   "cell_type": "code",
   "execution_count": 3,
   "metadata": {},
   "outputs": [
    {
     "name": "stderr",
     "output_type": "stream",
     "text": [
      "The following objects are masked from BOD (pos = 3):\n",
      "\n",
      "    demand, Time\n",
      "\n"
     ]
    },
    {
     "data": {
      "text/html": [
       "<table>\n",
       "<thead><tr><th scope=col>Time</th><th scope=col>demand</th></tr></thead>\n",
       "<tbody>\n",
       "\t<tr><td>1   </td><td> 8.3</td></tr>\n",
       "\t<tr><td>2   </td><td>10.3</td></tr>\n",
       "\t<tr><td>3   </td><td>19.0</td></tr>\n",
       "\t<tr><td>4   </td><td>16.0</td></tr>\n",
       "\t<tr><td>5   </td><td>15.6</td></tr>\n",
       "\t<tr><td>7   </td><td>19.8</td></tr>\n",
       "</tbody>\n",
       "</table>\n"
      ],
      "text/latex": [
       "\\begin{tabular}{r|ll}\n",
       " Time & demand\\\\\n",
       "\\hline\n",
       "\t 1    &  8.3\\\\\n",
       "\t 2    & 10.3\\\\\n",
       "\t 3    & 19.0\\\\\n",
       "\t 4    & 16.0\\\\\n",
       "\t 5    & 15.6\\\\\n",
       "\t 7    & 19.8\\\\\n",
       "\\end{tabular}\n"
      ],
      "text/markdown": [
       "\n",
       "Time | demand | \n",
       "|---|---|---|---|---|---|\n",
       "| 1    |  8.3 | \n",
       "| 2    | 10.3 | \n",
       "| 3    | 19.0 | \n",
       "| 4    | 16.0 | \n",
       "| 5    | 15.6 | \n",
       "| 7    | 19.8 | \n",
       "\n",
       "\n"
      ],
      "text/plain": [
       "  Time demand\n",
       "1 1     8.3  \n",
       "2 2    10.3  \n",
       "3 3    19.0  \n",
       "4 4    16.0  \n",
       "5 5    15.6  \n",
       "6 7    19.8  "
      ]
     },
     "metadata": {},
     "output_type": "display_data"
    }
   ],
   "source": [
    "attach(BOD)\n",
    "BOD"
   ]
  },
  {
   "cell_type": "code",
   "execution_count": null,
   "metadata": {},
   "outputs": [],
   "source": []
  }
 ],
 "metadata": {
  "kernelspec": {
   "display_name": "R",
   "language": "R",
   "name": "ir"
  },
  "language_info": {
   "codemirror_mode": "r",
   "file_extension": ".r",
   "mimetype": "text/x-r-source",
   "name": "R",
   "pygments_lexer": "r",
   "version": "3.5.0"
  }
 },
 "nbformat": 4,
 "nbformat_minor": 2
}
