{
 "cells": [
  {
   "cell_type": "code",
   "execution_count": 1,
   "metadata": {},
   "outputs": [
    {
     "name": "stdout",
     "output_type": "stream",
     "text": [
      "'data.frame':\t100 obs. of  3 variables:\n",
      " $ exam_1  : num  34.6 30.3 35.8 60.2 79 ...\n",
      " $ exam_2  : num  78 43.9 72.9 86.3 75.3 ...\n",
      " $ admitted: int  0 0 0 1 1 0 1 1 1 1 ...\n"
     ]
    }
   ],
   "source": [
    "# with Missing data\n",
    "data2 <- read.csv(\"C:/Users/radha31/Downloads/Marks.csv\", header = TRUE,\n",
    "                 stringsAsFactors = FALSE,\n",
    "                 strip.white = TRUE ,\n",
    "                 sep = ',')\n",
    "\n",
    "str(data2)"
   ]
  },
  {
   "cell_type": "code",
   "execution_count": 2,
   "metadata": {},
   "outputs": [],
   "source": [
    "# install.packages(\"rgl\")\n",
    "# install.packages(\"lattice\")\n",
    "#install.packages(\"RJSplot\")"
   ]
  },
  {
   "cell_type": "code",
   "execution_count": 3,
   "metadata": {},
   "outputs": [
    {
     "data": {
      "text/plain": [
       "\n",
       "Call:\n",
       "lm(formula = scale(admitted) ~ scale(exam_1) + scale(exam_2), \n",
       "    data = data2)\n",
       "\n",
       "Coefficients:\n",
       "  (Intercept)  scale(exam_1)  scale(exam_2)  \n",
       "   -2.467e-17      5.865e-01      5.262e-01  \n"
      ]
     },
     "metadata": {},
     "output_type": "display_data"
    }
   ],
   "source": [
    "lm(scale(admitted) ~ scale(exam_1) + scale(exam_2), data=data2)"
   ]
  },
  {
   "cell_type": "code",
   "execution_count": 4,
   "metadata": {},
   "outputs": [
    {
     "name": "stderr",
     "output_type": "stream",
     "text": [
      "Loading required package: carData\n",
      "The graph has been generated in the \"C:\\Users\\radha31\\Scatter3d\" path.\n"
     ]
    }
   ],
   "source": [
    "library(car)\n",
    "library(RJSplot)\n",
    "#scatter3d_rjs(data2$admitted,data2$exam_1 , data2$exam_2)"
   ]
  },
  {
   "cell_type": "code",
   "execution_count": 5,
   "metadata": {},
   "outputs": [
    {
     "name": "stderr",
     "output_type": "stream",
     "text": [
      "Loading required namespace: rgl\n",
      "Loading required namespace: mgcv\n"
     ]
    }
   ],
   "source": [
    "scatter3d(data2$admitted,data2$exam_1 , data2$exam_2)"
   ]
  },
  {
   "cell_type": "code",
   "execution_count": 6,
   "metadata": {},
   "outputs": [],
   "source": [
    "#scatter3d(data2$admitted ~ data2$exam_1 + data2$exam_2)"
   ]
  }
 ],
 "metadata": {
  "kernelspec": {
   "display_name": "R",
   "language": "R",
   "name": "ir"
  },
  "language_info": {
   "codemirror_mode": "r",
   "file_extension": ".r",
   "mimetype": "text/x-r-source",
   "name": "R",
   "pygments_lexer": "r",
   "version": "3.5.1"
  }
 },
 "nbformat": 4,
 "nbformat_minor": 2
}
