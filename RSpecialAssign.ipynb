{
 "cells": [
  {
   "cell_type": "code",
   "execution_count": 1,
   "metadata": {},
   "outputs": [],
   "source": [
    "# R Assign\n",
    "rm(list=ls())\n",
    "\n",
    "add_up_numbers <- function(a, b) {\n",
    "  return(a + b)\n",
    "}\n",
    "\n"
   ]
  },
  {
   "cell_type": "code",
   "execution_count": 2,
   "metadata": {},
   "outputs": [
    {
     "data": {
      "text/html": [
       "8"
      ],
      "text/latex": [
       "8"
      ],
      "text/markdown": [
       "8"
      ],
      "text/plain": [
       "[1] 8"
      ]
     },
     "metadata": {},
     "output_type": "display_data"
    }
   ],
   "source": [
    "add_up_numbers(a = 3, b = 5)\n",
    "# [1] 8\n"
   ]
  },
  {
   "cell_type": "code",
   "execution_count": 3,
   "metadata": {},
   "outputs": [
    {
     "ename": "ERROR",
     "evalue": "Error in eval(expr, envir, enclos): object 'a' not found\n",
     "output_type": "error",
     "traceback": [
      "Error in eval(expr, envir, enclos): object 'a' not found\nTraceback:\n"
     ]
    }
   ],
   "source": [
    "a + b\n",
    "# Error: object 'a' not found"
   ]
  },
  {
   "cell_type": "code",
   "execution_count": 4,
   "metadata": {},
   "outputs": [
    {
     "data": {
      "text/html": [
       "1"
      ],
      "text/latex": [
       "1"
      ],
      "text/markdown": [
       "1"
      ],
      "text/plain": [
       "[1] 1"
      ]
     },
     "metadata": {},
     "output_type": "display_data"
    }
   ],
   "source": [
    "x = 3\n",
    "if(y <- x) 1 else 0\n",
    "\n"
   ]
  },
  {
   "cell_type": "code",
   "execution_count": 5,
   "metadata": {},
   "outputs": [
    {
     "ename": "ERROR",
     "evalue": "Error in parse(text = x, srcfile = src): <text>:1:6: unexpected '='\n1: if(y =\n         ^\n",
     "output_type": "error",
     "traceback": [
      "Error in parse(text = x, srcfile = src): <text>:1:6: unexpected '='\n1: if(y =\n         ^\nTraceback:\n"
     ]
    }
   ],
   "source": [
    "if(y = x) 1 else 0   \n",
    "\n",
    "\n"
   ]
  },
  {
   "cell_type": "code",
   "execution_count": 6,
   "metadata": {},
   "outputs": [
    {
     "data": {
      "text/html": [
       "1"
      ],
      "text/latex": [
       "1"
      ],
      "text/markdown": [
       "1"
      ],
      "text/plain": [
       "[1] 1"
      ]
     },
     "metadata": {},
     "output_type": "display_data"
    }
   ],
   "source": [
    "a1 =  b = c = 1 \n",
    "a1"
   ]
  },
  {
   "cell_type": "code",
   "execution_count": 7,
   "metadata": {},
   "outputs": [
    {
     "ename": "ERROR",
     "evalue": "Error in a1 <- b = c = 1: could not find function \"<-<-\"\n",
     "output_type": "error",
     "traceback": [
      "Error in a1 <- b = c = 1: could not find function \"<-<-\"\nTraceback:\n"
     ]
    }
   ],
   "source": [
    "a1 <-  b = c = 1 \n",
    "a1"
   ]
  },
  {
   "cell_type": "code",
   "execution_count": 8,
   "metadata": {},
   "outputs": [
    {
     "data": {
      "text/html": [
       "<table>\n",
       "<thead><tr><th scope=col>z</th><th scope=col>x</th><th scope=col>y</th></tr></thead>\n",
       "<tbody>\n",
       "\t<tr><td>-1.1818913  </td><td>-0.182440809</td><td> 0.8189832  </td></tr>\n",
       "\t<tr><td>-0.1134967  </td><td> 0.004909608</td><td>-0.4831255  </td></tr>\n",
       "\t<tr><td>-2.4801437  </td><td>-0.948652948</td><td>-2.3192861  </td></tr>\n",
       "\t<tr><td> 6.1182401  </td><td> 1.092577517</td><td> 3.5260787  </td></tr>\n",
       "\t<tr><td>-4.1104171  </td><td>-0.748323294</td><td>-3.0894157  </td></tr>\n",
       "\t<tr><td>-5.9149225  </td><td>-1.402696588</td><td>-4.5894560  </td></tr>\n",
       "\t<tr><td> 1.0508626  </td><td> 0.475196033</td><td> 2.3801027  </td></tr>\n",
       "\t<tr><td> 5.5576012  </td><td> 1.618288041</td><td> 2.7871942  </td></tr>\n",
       "\t<tr><td>-1.4029627  </td><td>-0.671054486</td><td>-1.6362022  </td></tr>\n",
       "\t<tr><td>-2.0189004  </td><td>-0.652709629</td><td>-3.4511221  </td></tr>\n",
       "</tbody>\n",
       "</table>\n"
      ],
      "text/latex": [
       "\\begin{tabular}{r|lll}\n",
       " z & x & y\\\\\n",
       "\\hline\n",
       "\t -1.1818913   & -0.182440809 &  0.8189832  \\\\\n",
       "\t -0.1134967   &  0.004909608 & -0.4831255  \\\\\n",
       "\t -2.4801437   & -0.948652948 & -2.3192861  \\\\\n",
       "\t  6.1182401   &  1.092577517 &  3.5260787  \\\\\n",
       "\t -4.1104171   & -0.748323294 & -3.0894157  \\\\\n",
       "\t -5.9149225   & -1.402696588 & -4.5894560  \\\\\n",
       "\t  1.0508626   &  0.475196033 &  2.3801027  \\\\\n",
       "\t  5.5576012   &  1.618288041 &  2.7871942  \\\\\n",
       "\t -1.4029627   & -0.671054486 & -1.6362022  \\\\\n",
       "\t -2.0189004   & -0.652709629 & -3.4511221  \\\\\n",
       "\\end{tabular}\n"
      ],
      "text/markdown": [
       "\n",
       "z | x | y | \n",
       "|---|---|---|---|---|---|---|---|---|---|\n",
       "| -1.1818913   | -0.182440809 |  0.8189832   | \n",
       "| -0.1134967   |  0.004909608 | -0.4831255   | \n",
       "| -2.4801437   | -0.948652948 | -2.3192861   | \n",
       "|  6.1182401   |  1.092577517 |  3.5260787   | \n",
       "| -4.1104171   | -0.748323294 | -3.0894157   | \n",
       "| -5.9149225   | -1.402696588 | -4.5894560   | \n",
       "|  1.0508626   |  0.475196033 |  2.3801027   | \n",
       "|  5.5576012   |  1.618288041 |  2.7871942   | \n",
       "| -1.4029627   | -0.671054486 | -1.6362022   | \n",
       "| -2.0189004   | -0.652709629 | -3.4511221   | \n",
       "\n",
       "\n"
      ],
      "text/plain": [
       "   z          x            y         \n",
       "1  -1.1818913 -0.182440809  0.8189832\n",
       "2  -0.1134967  0.004909608 -0.4831255\n",
       "3  -2.4801437 -0.948652948 -2.3192861\n",
       "4   6.1182401  1.092577517  3.5260787\n",
       "5  -4.1104171 -0.748323294 -3.0894157\n",
       "6  -5.9149225 -1.402696588 -4.5894560\n",
       "7   1.0508626  0.475196033  2.3801027\n",
       "8   5.5576012  1.618288041  2.7871942\n",
       "9  -1.4029627 -0.671054486 -1.6362022\n",
       "10 -2.0189004 -0.652709629 -3.4511221"
      ]
     },
     "metadata": {},
     "output_type": "display_data"
    },
    {
     "data": {
      "text/plain": [
       "\n",
       "Call:\n",
       "lm(formula = z ~ x + y, data = data)\n",
       "\n",
       "Coefficients:\n",
       "(Intercept)            x            y  \n",
       "     0.1480       3.2464       0.2283  \n"
      ]
     },
     "metadata": {},
     "output_type": "display_data"
    }
   ],
   "source": [
    "x <- rnorm(10)\n",
    "y <- 2*x+rnorm(10)\n",
    "z <- 3*x+rnorm(10)\n",
    "\n",
    "data <- data.frame(z,x,y)\n",
    "rm(x,y,z)\n",
    "data\n",
    "\n",
    "lm(formula=z~x+y,data=data) \n",
    "\n",
    "\n",
    "\n",
    "# In conclusion, for better readability of R code, I suggest that we only use <-\n",
    "# for assignment and = for specifying named parameters."
   ]
  },
  {
   "cell_type": "code",
   "execution_count": 9,
   "metadata": {},
   "outputs": [
    {
     "data": {
      "text/plain": [
       "\n",
       "Call:\n",
       "lm(formula = formula <- z ~ x + y, data = data <- data)\n",
       "\n",
       "Coefficients:\n",
       "(Intercept)            x            y  \n",
       "     0.1480       3.2464       0.2283  \n"
      ]
     },
     "metadata": {},
     "output_type": "display_data"
    }
   ],
   "source": [
    "lm(formula <- z~x+y, data <- data) \n",
    "\n"
   ]
  },
  {
   "cell_type": "code",
   "execution_count": 10,
   "metadata": {},
   "outputs": [
    {
     "ename": "ERROR",
     "evalue": "Error in as.data.frame.default(data): cannot coerce class '\"formula\"' to a data.frame\n",
     "output_type": "error",
     "traceback": [
      "Error in as.data.frame.default(data): cannot coerce class '\"formula\"' to a data.frame\nTraceback:\n",
      "1. lm(data <- data, formula <- z ~ x + y)",
      "2. eval(mf, parent.frame())",
      "3. eval(mf, parent.frame())",
      "4. stats::model.frame(formula = data <- data, data = formula <- z ~ \n .     x + y, drop.unused.levels = TRUE)",
      "5. model.frame.default(formula = data <- data, data = formula <- z ~ \n .     x + y, drop.unused.levels = TRUE)",
      "6. as.data.frame(data)",
      "7. as.data.frame.default(data)",
      "8. stop(gettextf(\"cannot coerce class %s to a data.frame\", sQuote(deparse(class(x))[1L])), \n .     domain = NA)"
     ]
    }
   ],
   "source": [
    "lm( data <- data, formula <- z~x+y) "
   ]
  },
  {
   "cell_type": "code",
   "execution_count": 12,
   "metadata": {},
   "outputs": [
    {
     "name": "stdout",
     "output_type": "stream",
     "text": [
      "[[1]]\n",
      "[1] \"Red\"\n",
      "\n",
      "[[2]]\n",
      "[1] \"Green\"\n",
      "\n",
      "[[3]]\n",
      "[1] 21 32 11\n",
      "\n",
      "[[4]]\n",
      "[1] TRUE\n",
      "\n",
      "[[5]]\n",
      "[1] 51.23\n",
      "\n",
      "[[6]]\n",
      "[1] 119.1\n",
      "\n"
     ]
    },
    {
     "data": {
      "text/html": [
       "<ol>\n",
       "\t<li>'Red'</li>\n",
       "</ol>\n"
      ],
      "text/latex": [
       "\\begin{enumerate}\n",
       "\\item 'Red'\n",
       "\\end{enumerate}\n"
      ],
      "text/markdown": [
       "1. 'Red'\n",
       "\n",
       "\n"
      ],
      "text/plain": [
       "[[1]]\n",
       "[1] \"Red\"\n"
      ]
     },
     "metadata": {},
     "output_type": "display_data"
    },
    {
     "data": {
      "text/html": [
       "<ol class=list-inline>\n",
       "\t<li>21</li>\n",
       "\t<li>32</li>\n",
       "\t<li>11</li>\n",
       "</ol>\n"
      ],
      "text/latex": [
       "\\begin{enumerate*}\n",
       "\\item 21\n",
       "\\item 32\n",
       "\\item 11\n",
       "\\end{enumerate*}\n"
      ],
      "text/markdown": [
       "1. 21\n",
       "2. 32\n",
       "3. 11\n",
       "\n",
       "\n"
      ],
      "text/plain": [
       "[1] 21 32 11"
      ]
     },
     "metadata": {},
     "output_type": "display_data"
    },
    {
     "data": {
      "text/html": [
       "21"
      ],
      "text/latex": [
       "21"
      ],
      "text/markdown": [
       "21"
      ],
      "text/plain": [
       "[1] 21"
      ]
     },
     "metadata": {},
     "output_type": "display_data"
    }
   ],
   "source": [
    "# general list\n",
    "# Access the first element of the list.\n",
    "list_data <- list(\"Red\", \"Green\", c(21,32,11), TRUE, 51.23, 119.1)\n",
    "print(list_data)\n",
    "# print(list_data$c[1][1])# wrong\n",
    "\n",
    "list_data[1] \n",
    "list_data[[3]] \n",
    "\n",
    "list_data[[3]][1]"
   ]
  },
  {
   "cell_type": "code",
   "execution_count": null,
   "metadata": {},
   "outputs": [],
   "source": []
  }
 ],
 "metadata": {
  "kernelspec": {
   "display_name": "R",
   "language": "R",
   "name": "ir"
  },
  "language_info": {
   "codemirror_mode": "r",
   "file_extension": ".r",
   "mimetype": "text/x-r-source",
   "name": "R",
   "pygments_lexer": "r",
   "version": "3.5.0"
  }
 },
 "nbformat": 4,
 "nbformat_minor": 2
}
