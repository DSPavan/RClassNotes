{
 "cells": [
  {
   "cell_type": "code",
   "execution_count": null,
   "metadata": {},
   "outputs": [],
   "source": [
    "library(ts)\n",
    "ts (1:12, frequency = 4, start = c(1959, 1)) # frequency 4 => Quarterly Data\n",
    "\n",
    "ts (1:10, frequency = 12, start = 1990) # freq 12 => Monthly data. \n",
    "\n",
    "ts (1:6, start=c(2009), end=c(2014), frequency=1) # Yearly Data\n"
   ]
  },
  {
   "cell_type": "code",
   "execution_count": null,
   "metadata": {},
   "outputs": [],
   "source": [
    "#Seasonality (St), Trend (Tt) and Error (et) "
   ]
  },
  {
   "cell_type": "code",
   "execution_count": null,
   "metadata": {},
   "outputs": [],
   "source": [
    "ts2 <- ts (1:12, frequency = 4, start = c(1959, 1))\n",
    "\n",
    "additiveTS <- log (ts2)  # often converts multiplicative to additive time series\n",
    "additiveTS\n"
   ]
  },
  {
   "cell_type": "code",
   "execution_count": null,
   "metadata": {},
   "outputs": [],
   "source": [
    "#What is a Stationary Time Series ?\n",
    "#A time series is said to be stationary if it holds the following conditions true.\n",
    "\n",
    "#The mean value of time-series is constant over time, which implies, the trend component is nullified.\n",
    "#The variance does not increase over time.\n",
    "#Seasonality effect is minimal.\n",
    "#This means it is devoid of trend or seasonal patterns, which makes it looks like a random white noise irrespective of the observed time interval.\n",
    "\n"
   ]
  },
  {
   "cell_type": "code",
   "execution_count": null,
   "metadata": {},
   "outputs": [],
   "source": [
    "# ts2, t\n",
    "tsData <- EuStockMarkets[, 1] # ts data\n",
    "head(tsData)\n",
    "decomposedRes <- decompose(tsData, type=\"mult\") # use type = \"additive\" for additive components\n",
    "plot (decomposedRes) # see plot below\n",
    "\n",
    "stlRes <- stl(tsData, s.window = \"periodic\")\n",
    "head(stlRes)\n",
    "\n",
    "\n",
    "laggedTS <- lag(tsData,-24) # shifted 3 periods earlier. Use `-3` to shift by 3 periods forward.\n",
    "plot(laggedTS)"
   ]
  },
  {
   "cell_type": "code",
   "execution_count": null,
   "metadata": {},
   "outputs": [],
   "source": [
    "# Autocorrelation is the correlation of a Time Series with lags of itself. This is a significant metric because,\n",
    "# It shows if the previous states (lagged observations) of the time series has an influence on the current state"
   ]
  },
  {
   "cell_type": "code",
   "execution_count": null,
   "metadata": {},
   "outputs": [],
   "source": [
    " #In the autocorrelation chart, if the autocorrelation crosses the dashed blue line,\n",
    " #it means that specific lag is significantly correlated with current series."
   ]
  },
  {
   "cell_type": "code",
   "execution_count": null,
   "metadata": {},
   "outputs": [],
   "source": [
    "# It is used commonly to determine if the time series is stationary or not. A stationary time series will have the autocorrelation fall to zero fairly\n",
    "# quickly but for a non-stationary series it drops gradually."
   ]
  },
  {
   "cell_type": "code",
   "execution_count": null,
   "metadata": {},
   "outputs": [],
   "source": [
    "# both acf() and pacf() generates plots by default\n",
    "acfRes <- acf(tsData) # autocorrelation\n",
    "pacfRes <- pacf(tsData)  # partial autocorrelation"
   ]
  },
  {
   "cell_type": "code",
   "execution_count": null,
   "metadata": {},
   "outputs": [],
   "source": []
  }
 ],
 "metadata": {
  "kernelspec": {
   "display_name": "R",
   "language": "R",
   "name": "ir"
  },
  "language_info": {
   "name": ""
  }
 },
 "nbformat": 4,
 "nbformat_minor": 2
}
