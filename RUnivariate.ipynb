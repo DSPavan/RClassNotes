{
 "cells": [
  {
   "cell_type": "code",
   "execution_count": 1,
   "metadata": {},
   "outputs": [],
   "source": [
    "# R univariate\n",
    "# Exploratory Data Analysis \n",
    "\n",
    "#Univariate analysis includes:\n",
    "\n",
    "# Measures of central tendancy:\n",
    "#    Mean\n",
    "#    Median\n",
    "#    Mode\n",
    "#Measures of dispersion:\n",
    "#    Min\n",
    "#    Max\n",
    "#    Range\n",
    "#    Quartiles\n",
    "#    Variance\n",
    "#    Standard deviation\n",
    "#Other measures include:\n",
    "#    Skewness\n",
    "#    Kurtosis\n",
    "\n",
    "#Graphical methods include the following:\n",
    "\n",
    "#    Histogram\n",
    "#    Box plots\n",
    "#    Bar plots\n",
    "#   Kernel density plots"
   ]
  },
  {
   "cell_type": "code",
   "execution_count": 2,
   "metadata": {},
   "outputs": [
    {
     "name": "stdout",
     "output_type": "stream",
     "text": [
      "'data.frame':\t80 obs. of  16 variables:\n",
      " $ name    : chr  \"100%_Bran\" \"100%_Natural_Bran\" \"All-Bran\" \"All-Bran_with_Extra_Fiber\" ...\n",
      " $ mfr     : chr  \"N\" \"Q\" \"K\" \"K\" ...\n",
      " $ type    : chr  \"C\" \"C\" \"C\" \"C\" ...\n",
      " $ calories: chr  \"70\" \"120\" \"70\" \"50\" ...\n",
      " $ protein : chr  \"4\" \"3\" \"4\" \"4\" ...\n",
      " $ fat     : int  1 5 1 0 2 2 0 2 1 0 ...\n",
      " $ sodium  : int  130 15 260 140 200 180 125 210 200 210 ...\n",
      " $ fiber   : num  10 2 9 14 1 1.5 1 2 4 5 ...\n",
      " $ carbo   : num  5 8 7 8 14 10.5 11 18 15 13 ...\n",
      " $ sugars  : int  6 8 5 0 8 10 14 8 6 5 ...\n",
      " $ potass  : int  280 135 320 330 -1 70 30 100 125 190 ...\n",
      " $ vitamins: int  25 0 25 25 25 25 25 25 25 25 ...\n",
      " $ shelf   : int  3 3 3 3 3 1 2 3 1 3 ...\n",
      " $ weight  : num  1 1 1 1 1 1 1 1.33 1 1 ...\n",
      " $ cups    : num  0.33 1 0.33 0.5 0.75 0.75 1 0.75 0.67 0.67 ...\n",
      " $ rating  : num  68.4 34 59.4 93.7 34.4 ...\n",
      "NULL\n"
     ]
    }
   ],
   "source": [
    "#  stringsAsFactors = FALSE,\n",
    "data2 <- read.csv(\"C:\\\\Users\\\\radha\\\\Downloads\\\\cereals_1.csv\", header = TRUE,\n",
    "                 stringsAsFactors = FALSE,\n",
    "                 strip.white = TRUE ,\n",
    "                 sep = ',')\n",
    "\n",
    "print(str(data2))"
   ]
  },
  {
   "cell_type": "code",
   "execution_count": 5,
   "metadata": {},
   "outputs": [
    {
     "data": {
      "text/html": [
       "<ol class=list-inline>\n",
       "\t<li>'name'</li>\n",
       "\t<li>'mfr'</li>\n",
       "\t<li>'type'</li>\n",
       "\t<li>'calories'</li>\n",
       "\t<li>'protein'</li>\n",
       "\t<li>'fat'</li>\n",
       "\t<li>'sodium'</li>\n",
       "\t<li>'fiber'</li>\n",
       "\t<li>'carbo'</li>\n",
       "\t<li>'sugars'</li>\n",
       "\t<li>'potass'</li>\n",
       "\t<li>'vitamins'</li>\n",
       "\t<li>'shelf'</li>\n",
       "\t<li>'weight'</li>\n",
       "\t<li>'cups'</li>\n",
       "\t<li>'rating'</li>\n",
       "</ol>\n"
      ],
      "text/latex": [
       "\\begin{enumerate*}\n",
       "\\item 'name'\n",
       "\\item 'mfr'\n",
       "\\item 'type'\n",
       "\\item 'calories'\n",
       "\\item 'protein'\n",
       "\\item 'fat'\n",
       "\\item 'sodium'\n",
       "\\item 'fiber'\n",
       "\\item 'carbo'\n",
       "\\item 'sugars'\n",
       "\\item 'potass'\n",
       "\\item 'vitamins'\n",
       "\\item 'shelf'\n",
       "\\item 'weight'\n",
       "\\item 'cups'\n",
       "\\item 'rating'\n",
       "\\end{enumerate*}\n"
      ],
      "text/markdown": [
       "1. 'name'\n",
       "2. 'mfr'\n",
       "3. 'type'\n",
       "4. 'calories'\n",
       "5. 'protein'\n",
       "6. 'fat'\n",
       "7. 'sodium'\n",
       "8. 'fiber'\n",
       "9. 'carbo'\n",
       "10. 'sugars'\n",
       "11. 'potass'\n",
       "12. 'vitamins'\n",
       "13. 'shelf'\n",
       "14. 'weight'\n",
       "15. 'cups'\n",
       "16. 'rating'\n",
       "\n",
       "\n"
      ],
      "text/plain": [
       " [1] \"name\"     \"mfr\"      \"type\"     \"calories\" \"protein\"  \"fat\"     \n",
       " [7] \"sodium\"   \"fiber\"    \"carbo\"    \"sugars\"   \"potass\"   \"vitamins\"\n",
       "[13] \"shelf\"    \"weight\"   \"cups\"     \"rating\"  "
      ]
     },
     "metadata": {},
     "output_type": "display_data"
    }
   ],
   "source": [
    "# View(data2)  # allows us to view the data set\n",
    "names(data2)  # names of the variables "
   ]
  },
  {
   "cell_type": "code",
   "execution_count": 6,
   "metadata": {},
   "outputs": [
    {
     "data": {
      "text/plain": [
       "     name               mfr                type             calories        \n",
       " Length:80          Length:80          Length:80          Length:80         \n",
       " Class :character   Class :character   Class :character   Class :character  \n",
       " Mode  :character   Mode  :character   Mode  :character   Mode  :character  \n",
       "                                                                            \n",
       "                                                                            \n",
       "                                                                            \n",
       "                                                                            \n",
       "   protein               fat              sodium          fiber       \n",
       " Length:80          Min.   :  0.000   Min.   :  0.0   Min.   : 0.000  \n",
       " Class :character   1st Qu.:  0.000   1st Qu.:125.0   1st Qu.: 1.000  \n",
       " Mode  :character   Median :  1.000   Median :180.0   Median : 2.000  \n",
       "                    Mean   :  6.364   Mean   :154.6   Mean   : 2.113  \n",
       "                    3rd Qu.:  2.000   3rd Qu.:210.0   3rd Qu.: 3.000  \n",
       "                    Max.   :150.000   Max.   :320.0   Max.   :14.000  \n",
       "                    NA's   :3         NA's   :3       NA's   :3       \n",
       "     carbo            sugars           potass          vitamins     \n",
       " Min.   : -1.00   Min.   :-1.000   Min.   : -1.00   Min.   :  0.00  \n",
       " 1st Qu.: 12.00   1st Qu.: 3.000   1st Qu.: 35.00   1st Qu.: 25.00  \n",
       " Median : 15.00   Median : 6.000   Median : 85.00   Median : 25.00  \n",
       " Mean   : 19.29   Mean   : 6.649   Mean   : 89.64   Mean   : 27.69  \n",
       " 3rd Qu.: 18.00   3rd Qu.:10.000   3rd Qu.:110.00   3rd Qu.: 25.00  \n",
       " Max.   :160.00   Max.   :15.000   Max.   :330.00   Max.   :100.00  \n",
       " NA's   :3        NA's   :3        NA's   :3        NA's   :3       \n",
       "     shelf             weight            cups            rating     \n",
       " Min.   :  1.000   Min.   : 0.500   Min.   :0.2500   Min.   : 1.00  \n",
       " 1st Qu.:  1.000   1st Qu.: 1.000   1st Qu.:0.6700   1st Qu.:31.23  \n",
       " Median :  2.000   Median : 1.000   Median :0.7500   Median :40.11  \n",
       " Mean   :  9.104   Mean   : 1.961   Mean   :0.9032   Mean   :41.25  \n",
       " 3rd Qu.:  3.000   3rd Qu.: 1.000   3rd Qu.:1.0000   3rd Qu.:50.83  \n",
       " Max.   :200.000   Max.   :25.000   Max.   :3.0000   Max.   :93.70  \n",
       " NA's   :3         NA's   :3        NA's   :3        NA's   :3      "
      ]
     },
     "metadata": {},
     "output_type": "display_data"
    }
   ],
   "source": [
    "summary(data2)"
   ]
  },
  {
   "cell_type": "code",
   "execution_count": 7,
   "metadata": {},
   "outputs": [
    {
     "data": {
      "text/plain": [
       "   Min. 1st Qu.  Median    Mean 3rd Qu.    Max.    NA's \n",
       " -1.000   3.000   6.000   6.649  10.000  15.000       3 "
      ]
     },
     "metadata": {},
     "output_type": "display_data"
    }
   ],
   "source": [
    "summary(data2$sugars)"
   ]
  },
  {
   "cell_type": "code",
   "execution_count": 8,
   "metadata": {},
   "outputs": [
    {
     "ename": "ERROR",
     "evalue": "Error in describe(data2$sugars): could not find function \"describe\"\n",
     "output_type": "error",
     "traceback": [
      "Error in describe(data2$sugars): could not find function \"describe\"\nTraceback:\n"
     ]
    }
   ],
   "source": [
    "describe(data2$sugars)"
   ]
  },
  {
   "cell_type": "code",
   "execution_count": 10,
   "metadata": {},
   "outputs": [
    {
     "data": {
      "text/html": [
       "<table>\n",
       "<thead><tr><th></th><th scope=col>vars</th><th scope=col>n</th><th scope=col>mean</th><th scope=col>sd</th><th scope=col>median</th><th scope=col>trimmed</th><th scope=col>mad</th><th scope=col>min</th><th scope=col>max</th><th scope=col>range</th><th scope=col>skew</th><th scope=col>kurtosis</th><th scope=col>se</th></tr></thead>\n",
       "<tbody>\n",
       "\t<tr><th scope=row>X1</th><td>1        </td><td>77       </td><td>6.649351 </td><td>4.424115 </td><td>6        </td><td>6.587302 </td><td>4.4478   </td><td>-1       </td><td>15       </td><td>16       </td><td>0.1726446</td><td>-1.14467 </td><td>0.5041747</td></tr>\n",
       "</tbody>\n",
       "</table>\n"
      ],
      "text/latex": [
       "\\begin{tabular}{r|lllllllllllll}\n",
       "  & vars & n & mean & sd & median & trimmed & mad & min & max & range & skew & kurtosis & se\\\\\n",
       "\\hline\n",
       "\tX1 & 1         & 77        & 6.649351  & 4.424115  & 6         & 6.587302  & 4.4478    & -1        & 15        & 16        & 0.1726446 & -1.14467  & 0.5041747\\\\\n",
       "\\end{tabular}\n"
      ],
      "text/markdown": [
       "\n",
       "| <!--/--> | vars | n | mean | sd | median | trimmed | mad | min | max | range | skew | kurtosis | se | \n",
       "|---|\n",
       "| X1 | 1         | 77        | 6.649351  | 4.424115  | 6         | 6.587302  | 4.4478    | -1        | 15        | 16        | 0.1726446 | -1.14467  | 0.5041747 | \n",
       "\n",
       "\n"
      ],
      "text/plain": [
       "   vars n  mean     sd       median trimmed  mad    min max range skew     \n",
       "X1 1    77 6.649351 4.424115 6      6.587302 4.4478 -1  15  16    0.1726446\n",
       "   kurtosis se       \n",
       "X1 -1.14467 0.5041747"
      ]
     },
     "metadata": {},
     "output_type": "display_data"
    }
   ],
   "source": [
    "library(psych)\n",
    "describe(data2$sugars)\n",
    "# Standard error - se"
   ]
  },
  {
   "cell_type": "code",
   "execution_count": 11,
   "metadata": {},
   "outputs": [
    {
     "ename": "ERROR",
     "evalue": "Error in stat.desc(data2$sugars): could not find function \"stat.desc\"\n",
     "output_type": "error",
     "traceback": [
      "Error in stat.desc(data2$sugars): could not find function \"stat.desc\"\nTraceback:\n"
     ]
    }
   ],
   "source": [
    "stat.desc(data2$sugars)"
   ]
  },
  {
   "cell_type": "code",
   "execution_count": 15,
   "metadata": {},
   "outputs": [
    {
     "data": {
      "text/html": [
       "<dl class=dl-horizontal>\n",
       "\t<dt>nbr.val</dt>\n",
       "\t\t<dd>77</dd>\n",
       "\t<dt>nbr.null</dt>\n",
       "\t\t<dd>7</dd>\n",
       "\t<dt>nbr.na</dt>\n",
       "\t\t<dd>3</dd>\n",
       "\t<dt>min</dt>\n",
       "\t\t<dd>-1</dd>\n",
       "\t<dt>max</dt>\n",
       "\t\t<dd>15</dd>\n",
       "\t<dt>range</dt>\n",
       "\t\t<dd>16</dd>\n",
       "\t<dt>sum</dt>\n",
       "\t\t<dd>512</dd>\n",
       "\t<dt>median</dt>\n",
       "\t\t<dd>6</dd>\n",
       "\t<dt>mean</dt>\n",
       "\t\t<dd>6.64935064935065</dd>\n",
       "\t<dt>SE.mean</dt>\n",
       "\t\t<dd>0.504174722670201</dd>\n",
       "\t<dt>CI.mean.0.95</dt>\n",
       "\t\t<dd>1.00415098561743</dd>\n",
       "\t<dt>var</dt>\n",
       "\t\t<dd>19.5727956254272</dd>\n",
       "\t<dt>std.dev</dt>\n",
       "\t\t<dd>4.42411523645431</dd>\n",
       "\t<dt>coef.var</dt>\n",
       "\t\t<dd>0.665345455482387</dd>\n",
       "</dl>\n"
      ],
      "text/latex": [
       "\\begin{description*}\n",
       "\\item[nbr.val] 77\n",
       "\\item[nbr.null] 7\n",
       "\\item[nbr.na] 3\n",
       "\\item[min] -1\n",
       "\\item[max] 15\n",
       "\\item[range] 16\n",
       "\\item[sum] 512\n",
       "\\item[median] 6\n",
       "\\item[mean] 6.64935064935065\n",
       "\\item[SE.mean] 0.504174722670201\n",
       "\\item[CI.mean.0.95] 1.00415098561743\n",
       "\\item[var] 19.5727956254272\n",
       "\\item[std.dev] 4.42411523645431\n",
       "\\item[coef.var] 0.665345455482387\n",
       "\\end{description*}\n"
      ],
      "text/markdown": [
       "nbr.val\n",
       ":   77nbr.null\n",
       ":   7nbr.na\n",
       ":   3min\n",
       ":   -1max\n",
       ":   15range\n",
       ":   16sum\n",
       ":   512median\n",
       ":   6mean\n",
       ":   6.64935064935065SE.mean\n",
       ":   0.504174722670201CI.mean.0.95\n",
       ":   1.00415098561743var\n",
       ":   19.5727956254272std.dev\n",
       ":   4.42411523645431coef.var\n",
       ":   0.665345455482387\n",
       "\n"
      ],
      "text/plain": [
       "     nbr.val     nbr.null       nbr.na          min          max        range \n",
       "  77.0000000    7.0000000    3.0000000   -1.0000000   15.0000000   16.0000000 \n",
       "         sum       median         mean      SE.mean CI.mean.0.95          var \n",
       " 512.0000000    6.0000000    6.6493506    0.5041747    1.0041510   19.5727956 \n",
       "     std.dev     coef.var \n",
       "   4.4241152    0.6653455 "
      ]
     },
     "metadata": {},
     "output_type": "display_data"
    }
   ],
   "source": [
    "library(pastecs)\n",
    "stat.desc(data2$sugars)"
   ]
  },
  {
   "cell_type": "code",
   "execution_count": 18,
   "metadata": {},
   "outputs": [],
   "source": [
    "# coefficient of variation (CV), also known as relative standard deviation (RSD)\n",
    "# The CV or RSD is widely used in analytical chemistry to express the precision and repeatability of an assay ,\n",
    "# voltaility, security\n",
    "# The coefficient of variation (CV) is defined as the ratio of the standard deviation {\\displaystyle \\ \\sigma } \\ \\sigma \n",
    "# to the mean {\\displaystyle \\ \\mu } \\ \\mu \n"
   ]
  },
  {
   "cell_type": "code",
   "execution_count": 19,
   "metadata": {},
   "outputs": [
    {
     "data": {
      "image/png": "[encoded data removed]",
      "text/plain": [
       "Plot with title \"Histogram of Sugars\""
      ]
     },
     "metadata": {},
     "output_type": "display_data"
    }
   ],
   "source": [
    "hist(data2$sugars,\n",
    "     main = \"Histogram of Sugars\",\n",
    "     xlab = \"Sugars\")"
   ]
  },
  {
   "cell_type": "code",
   "execution_count": 22,
   "metadata": {},
   "outputs": [
    {
     "data": {
      "image/png": "[encoded data removed]",
      "text/plain": [
       "Plot with title \"Histogram of data2$sugars\""
      ]
     },
     "metadata": {},
     "output_type": "display_data"
    }
   ],
   "source": [
    "# hist(v,main,xlab,xlim,ylim,breaks,col,border)\n",
    "# Create the histogram.\n",
    "hist(data2$sugars,\n",
    "     xlab = \"Sugar\",\n",
    "     col = \"green\",\n",
    "     border = \"red\", \n",
    "     xlim = c(0,15),\n",
    "     ylim = c(0,20),\n",
    "   breaks = 10)"
   ]
  },
  {
   "cell_type": "code",
   "execution_count": 23,
   "metadata": {},
   "outputs": [
    {
     "data": {
      "image/png": "[encoded data removed]",
      "text/plain": [
       "Plot with title \"BOXPLOT OF SUGAR\""
      ]
     },
     "metadata": {},
     "output_type": "display_data"
    }
   ],
   "source": [
    "boxplot(data2$sugars,\n",
    "        main = toupper(\"Boxplot of Sugar\"),\n",
    "        ylab = \"Frequency\",\n",
    "        col = \"blue\")"
   ]
  },
  {
   "cell_type": "code",
   "execution_count": 29,
   "metadata": {},
   "outputs": [
    {
     "data": {
      "image/png": "[encoded data removed]",
      "text/plain": [
       "Plot with title \"Kernel density of Sugars\""
      ]
     },
     "metadata": {},
     "output_type": "display_data"
    }
   ],
   "source": [
    "d <- density(data2$sugars, na.rm=TRUE)\n",
    "plot(d, main = \"Kernel density of Sugars\")\n",
    "polygon(d, col = \"green\", border = \"blue\")"
   ]
  },
  {
   "cell_type": "code",
   "execution_count": 30,
   "metadata": {},
   "outputs": [],
   "source": [
    "# Give the chart file a name.\n",
    "# png(file = \"line_chart_2_lines.jpg\")\n",
    "\n",
    "# Save the file.\n",
    "# dev.off()"
   ]
  },
  {
   "cell_type": "code",
   "execution_count": null,
   "metadata": {},
   "outputs": [],
   "source": []
  }
 ],
 "metadata": {
  "kernelspec": {
   "display_name": "R",
   "language": "R",
   "name": "ir"
  },
  "language_info": {
   "codemirror_mode": "r",
   "file_extension": ".r",
   "mimetype": "text/x-r-source",
   "name": "R",
   "pygments_lexer": "r",
   "version": "3.5.0"
  }
 },
 "nbformat": 4,
 "nbformat_minor": 2
}
