{
 "cells": [
  {
   "cell_type": "code",
   "execution_count": 1,
   "metadata": {},
   "outputs": [],
   "source": [
    "testSummary <- function(x) {\n",
    "    \n",
    "    m1 <- mean(x)\n",
    "    s1 <- sum(x)\n",
    "    s2 <- sd(x)\n",
    "    \n",
    "    pt <- cat(\"mean\",m1,\"sum\",s1,\"Std Dev\",s2 )\n",
    "    return(pt)\n",
    "}"
   ]
  },
  {
   "cell_type": "code",
   "execution_count": 3,
   "metadata": {},
   "outputs": [
    {
     "name": "stdout",
     "output_type": "stream",
     "text": [
      "mean 50.5 sum 5050 Std Dev 29.01149"
     ]
    }
   ],
   "source": [
    "z <- c(1:100)\n",
    "r1 <- testSummary(z)"
   ]
  },
  {
   "cell_type": "code",
   "execution_count": null,
   "metadata": {},
   "outputs": [],
   "source": []
  }
 ],
 "metadata": {
  "kernelspec": {
   "display_name": "R",
   "language": "R",
   "name": "ir"
  },
  "language_info": {
   "codemirror_mode": "r",
   "file_extension": ".r",
   "mimetype": "text/x-r-source",
   "name": "R",
   "pygments_lexer": "r",
   "version": "3.5.0"
  }
 },
 "nbformat": 4,
 "nbformat_minor": 2
}
