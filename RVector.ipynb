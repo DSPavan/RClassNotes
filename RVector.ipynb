{
 "cells": [
  {
   "cell_type": "code",
   "execution_count": 3,
   "metadata": {},
   "outputs": [],
   "source": [
    "v1 <- TRUE \n",
    "v2 <-  8 # 8, 8.52, 9.1234 etc\n",
    "v3 <- 2L # Note using “L”\n",
    "v4 <- 2+5i # “Note using I”\n",
    "v4 <- \"Data science\" # if “TRUE” also character\n",
    "v6 <- charToRaw(\"Hello\")\n",
    "\n",
    "\n"
   ]
  },
  {
   "cell_type": "code",
   "execution_count": 6,
   "metadata": {},
   "outputs": [
    {
     "name": "stdout",
     "output_type": "stream",
     "text": [
      "[1] \"numeric\"\n",
      "[1] \"double\"\n",
      "[1] TRUE\n"
     ]
    }
   ],
   "source": [
    "#Know which type : Either one, you can use  try with v1,v2,v3,v4,v5,v6\n",
    "# Types : They are logical, integer, double, complex, character and raw.\n",
    "print(class(v2))\n",
    "print(typeof(v2))\n",
    "\n",
    "print(is.vector(v2))"
   ]
  },
  {
   "cell_type": "code",
   "execution_count": 7,
   "metadata": {},
   "outputs": [
    {
     "name": "stdout",
     "output_type": "stream",
     "text": [
      "[1] 1\n",
      "[1]  1  5 10 25\n"
     ]
    }
   ],
   "source": [
    "single.vector <-  c(1)\n",
    "multi.vector <- c(1,5,10,25)\n",
    "print(single.vector)\n",
    "print(multi.vector)\n",
    "\n"
   ]
  },
  {
   "cell_type": "code",
   "execution_count": 8,
   "metadata": {},
   "outputs": [
    {
     "name": "stdout",
     "output_type": "stream",
     "text": [
      "  [1]   1   2   3   4   5   6   7   8   9  10  11  12  13  14  15  16  17  18\n",
      " [19]  19  20  21  22  23  24  25  26  27  28  29  30  31  32  33  34  35  36\n",
      " [37]  37  38  39  40  41  42  43  44  45  46  47  48  49  50  51  52  53  54\n",
      " [55]  55  56  57  58  59  60  61  62  63  64  65  66  67  68  69  70  71  72\n",
      " [73]  73  74  75  76  77  78  79  80  81  82  83  84  85  86  87  88  89  90\n",
      " [91]  91  92  93  94  95  96  97  98  99 100\n"
     ]
    }
   ],
   "source": [
    "# Creating a sequence from 5 to 13.\n",
    "vseq <- 1:100\n",
    "print(vseq)\n"
   ]
  },
  {
   "cell_type": "code",
   "execution_count": 9,
   "metadata": {},
   "outputs": [
    {
     "data": {
      "text/html": [
       "<ol class=list-inline>\n",
       "\t<li>6.6</li>\n",
       "\t<li>7.6</li>\n",
       "\t<li>8.6</li>\n",
       "\t<li>9.6</li>\n",
       "\t<li>10.6</li>\n",
       "\t<li>11.6</li>\n",
       "\t<li>12.6</li>\n",
       "</ol>\n"
      ],
      "text/latex": [
       "\\begin{enumerate*}\n",
       "\\item 6.6\n",
       "\\item 7.6\n",
       "\\item 8.6\n",
       "\\item 9.6\n",
       "\\item 10.6\n",
       "\\item 11.6\n",
       "\\item 12.6\n",
       "\\end{enumerate*}\n"
      ],
      "text/markdown": [
       "1. 6.6\n",
       "2. 7.6\n",
       "3. 8.6\n",
       "4. 9.6\n",
       "5. 10.6\n",
       "6. 11.6\n",
       "7. 12.6\n",
       "\n",
       "\n"
      ],
      "text/plain": [
       "[1]  6.6  7.6  8.6  9.6 10.6 11.6 12.6"
      ]
     },
     "metadata": {},
     "output_type": "display_data"
    }
   ],
   "source": [
    "vseq2 <- 6.6:12.6\n",
    "vseq2\n"
   ]
  },
  {
   "cell_type": "code",
   "execution_count": 10,
   "metadata": {},
   "outputs": [
    {
     "name": "stdout",
     "output_type": "stream",
     "text": [
      " [1] 5.0 5.4 5.8 6.2 6.6 7.0 7.4 7.8 8.2 8.6 9.0\n"
     ]
    }
   ],
   "source": [
    "# Create vector with elements from 5 to 9 incrementing by 0.4.\n",
    "print(seq(5, 9, by = 0.4))\n"
   ]
  },
  {
   "cell_type": "code",
   "execution_count": 13,
   "metadata": {},
   "outputs": [
    {
     "data": {
      "text/html": [
       "<ol class=list-inline>\n",
       "\t<li>1</li>\n",
       "\t<li>2.33333333333333</li>\n",
       "\t<li>3.66666666666667</li>\n",
       "\t<li>5</li>\n",
       "</ol>\n"
      ],
      "text/latex": [
       "\\begin{enumerate*}\n",
       "\\item 1\n",
       "\\item 2.33333333333333\n",
       "\\item 3.66666666666667\n",
       "\\item 5\n",
       "\\end{enumerate*}\n"
      ],
      "text/markdown": [
       "1. 1\n",
       "2. 2.33333333333333\n",
       "3. 3.66666666666667\n",
       "4. 5\n",
       "\n",
       "\n"
      ],
      "text/plain": [
       "[1] 1.000000 2.333333 3.666667 5.000000"
      ]
     },
     "metadata": {},
     "output_type": "display_data"
    }
   ],
   "source": [
    "seq(1, 5, length.out=4) # specify length of the vector"
   ]
  },
  {
   "cell_type": "code",
   "execution_count": 14,
   "metadata": {},
   "outputs": [
    {
     "name": "stdout",
     "output_type": "stream",
     "text": [
      "[1] \"apple\" \"red\"   \"100\"   \"TRUE\" \n"
     ]
    }
   ],
   "source": [
    "# The logical and numeric values are converted to characters. \n",
    "s <- c('apple','red',100,TRUE)\n",
    "print(s)\n"
   ]
  },
  {
   "cell_type": "code",
   "execution_count": 38,
   "metadata": {},
   "outputs": [
    {
     "data": {
      "text/html": [
       "'third'"
      ],
      "text/latex": [
       "'third'"
      ],
      "text/markdown": [
       "'third'"
      ],
      "text/plain": [
       "[1] \"third\""
      ]
     },
     "metadata": {},
     "output_type": "display_data"
    },
    {
     "data": {
      "text/html": [
       "<ol class=list-inline>\n",
       "\t<li>'second'</li>\n",
       "\t<li>'fourth'</li>\n",
       "</ol>\n"
      ],
      "text/latex": [
       "\\begin{enumerate*}\n",
       "\\item 'second'\n",
       "\\item 'fourth'\n",
       "\\end{enumerate*}\n"
      ],
      "text/markdown": [
       "1. 'second'\n",
       "2. 'fourth'\n",
       "\n",
       "\n"
      ],
      "text/plain": [
       "[1] \"second\" \"fourth\""
      ]
     },
     "metadata": {},
     "output_type": "display_data"
    }
   ],
   "source": [
    "# Access its members\n",
    "# Vector index in R starts from 1, unlike most programming languages where index start from 0.\n",
    "\n",
    "#We can use a vector of integers as index to access specific elements.\n",
    "\n",
    "#We can also use negative integers to return all elements except that those specified.\n",
    "\n",
    "vecGroup <- c(\"first\",\"second\",\"third\",\"fourth\")\n",
    "\n",
    "vecGroup[3]           # access 3rd element []\n",
    "\n",
    "vecGroup[c(2, 4)]  # [ c ( )] , obeerve square and round brackets\n"
   ]
  },
  {
   "cell_type": "code",
   "execution_count": 28,
   "metadata": {},
   "outputs": [
    {
     "data": {
      "text/html": [
       "<ol class=list-inline>\n",
       "\t<li>'second'</li>\n",
       "\t<li>'third'</li>\n",
       "\t<li>'fourth'</li>\n",
       "</ol>\n"
      ],
      "text/latex": [
       "\\begin{enumerate*}\n",
       "\\item 'second'\n",
       "\\item 'third'\n",
       "\\item 'fourth'\n",
       "\\end{enumerate*}\n"
      ],
      "text/markdown": [
       "1. 'second'\n",
       "2. 'third'\n",
       "3. 'fourth'\n",
       "\n",
       "\n"
      ],
      "text/plain": [
       "[1] \"second\" \"third\"  \"fourth\""
      ]
     },
     "metadata": {},
     "output_type": "display_data"
    },
    {
     "data": {
      "text/html": [
       "<ol class=list-inline>\n",
       "\t<li>'second'</li>\n",
       "\t<li>'fourth'</li>\n",
       "</ol>\n"
      ],
      "text/latex": [
       "\\begin{enumerate*}\n",
       "\\item 'second'\n",
       "\\item 'fourth'\n",
       "\\end{enumerate*}\n"
      ],
      "text/markdown": [
       "1. 'second'\n",
       "2. 'fourth'\n",
       "\n",
       "\n"
      ],
      "text/plain": [
       "[1] \"second\" \"fourth\""
      ]
     },
     "metadata": {},
     "output_type": "display_data"
    },
    {
     "data": {
      "text/html": [
       "'first'"
      ],
      "text/latex": [
       "'first'"
      ],
      "text/markdown": [
       "'first'"
      ],
      "text/plain": [
       "[1] \"first\""
      ]
     },
     "metadata": {},
     "output_type": "display_data"
    },
    {
     "data": {
      "text/html": [
       "'second'"
      ],
      "text/latex": [
       "'second'"
      ],
      "text/markdown": [
       "'second'"
      ],
      "text/plain": [
       "[1] \"second\""
      ]
     },
     "metadata": {},
     "output_type": "display_data"
    },
    {
     "data": {
      "text/html": [
       "'third'"
      ],
      "text/latex": [
       "'third'"
      ],
      "text/markdown": [
       "'third'"
      ],
      "text/plain": [
       "[1] \"third\""
      ]
     },
     "metadata": {},
     "output_type": "display_data"
    },
    {
     "data": {
      "text/html": [
       "'fourth'"
      ],
      "text/latex": [
       "'fourth'"
      ],
      "text/markdown": [
       "'fourth'"
      ],
      "text/plain": [
       "[1] \"fourth\""
      ]
     },
     "metadata": {},
     "output_type": "display_data"
    }
   ],
   "source": [
    "# Accessing vector elements using negative indexing.\n",
    "vecGroup[-1]   # access all but 1st element\n",
    "\n",
    "vecGroup[c(-1,-3)]   # access all but 1st element\n",
    "\n",
    "vecGroup[1]\n",
    "vecGroup[2]\n",
    "vecGroup[3]\n",
    "vecGroup[4]"
   ]
  },
  {
   "cell_type": "code",
   "execution_count": 23,
   "metadata": {},
   "outputs": [],
   "source": [
    "# vecGroup[c(2, -3)]    # cannot mix positive and negative integers - WRONG"
   ]
  },
  {
   "cell_type": "code",
   "execution_count": 29,
   "metadata": {},
   "outputs": [
    {
     "data": {
      "text/html": [
       "<ol class=list-inline>\n",
       "\t<li>'first'</li>\n",
       "\t<li>'fourth'</li>\n",
       "</ol>\n"
      ],
      "text/latex": [
       "\\begin{enumerate*}\n",
       "\\item 'first'\n",
       "\\item 'fourth'\n",
       "\\end{enumerate*}\n"
      ],
      "text/markdown": [
       "1. 'first'\n",
       "2. 'fourth'\n",
       "\n",
       "\n"
      ],
      "text/plain": [
       "[1] \"first\"  \"fourth\""
      ]
     },
     "metadata": {},
     "output_type": "display_data"
    }
   ],
   "source": [
    "# using logical\n",
    "\n",
    "vecGroup[c(TRUE, FALSE, FALSE, TRUE)]\n"
   ]
  },
  {
   "cell_type": "code",
   "execution_count": 32,
   "metadata": {},
   "outputs": [
    {
     "data": {
      "text/html": [
       "<strong>First:</strong> 'pavan'"
      ],
      "text/latex": [
       "\\textbf{First:} 'pavan'"
      ],
      "text/markdown": [
       "**First:** 'pavan'"
      ],
      "text/plain": [
       "  First \n",
       "\"pavan\" "
      ]
     },
     "metadata": {},
     "output_type": "display_data"
    }
   ],
   "source": [
    "vn = c(\"pavan\", \"imarticus\") \n",
    "names(vn) = c(\"First\", \"Last\") \n",
    "vn[\"First\"] \n",
    "# This is best, give column names\n"
   ]
  },
  {
   "cell_type": "code",
   "execution_count": 53,
   "metadata": {},
   "outputs": [],
   "source": [
    "# Accessing vector elements using 0/1 indexing.\n",
    "#vecGroup\n",
    "#y2 <- vecGroup[c(0,0,0,1)]\n",
    "#print(y2)\n",
    "\n",
    "#y2 <- vecGroup[c(1,3,2,1)]\n",
    "#print(y2)"
   ]
  },
  {
   "cell_type": "code",
   "execution_count": 42,
   "metadata": {},
   "outputs": [
    {
     "data": {
      "text/html": [
       "<ol class=list-inline>\n",
       "\t<li>0</li>\n",
       "\t<li>3</li>\n",
       "</ol>\n"
      ],
      "text/latex": [
       "\\begin{enumerate*}\n",
       "\\item 0\n",
       "\\item 3\n",
       "\\end{enumerate*}\n"
      ],
      "text/markdown": [
       "1. 0\n",
       "2. 3\n",
       "\n",
       "\n"
      ],
      "text/plain": [
       "[1] 0 3"
      ]
     },
     "metadata": {},
     "output_type": "display_data"
    }
   ],
   "source": [
    "x <- c(0,3,5,7,9,10)\n",
    "x[x < 5]  # filtering vectors based on conditions"
   ]
  },
  {
   "cell_type": "code",
   "execution_count": 45,
   "metadata": {},
   "outputs": [
    {
     "data": {
      "text/html": [
       "<ol class=list-inline>\n",
       "\t<li>0</li>\n",
       "\t<li>3</li>\n",
       "\t<li>0</li>\n",
       "\t<li>7</li>\n",
       "\t<li>9</li>\n",
       "\t<li>10</li>\n",
       "</ol>\n"
      ],
      "text/latex": [
       "\\begin{enumerate*}\n",
       "\\item 0\n",
       "\\item 3\n",
       "\\item 0\n",
       "\\item 7\n",
       "\\item 9\n",
       "\\item 10\n",
       "\\end{enumerate*}\n"
      ],
      "text/markdown": [
       "1. 0\n",
       "2. 3\n",
       "3. 0\n",
       "4. 7\n",
       "5. 9\n",
       "6. 10\n",
       "\n",
       "\n"
      ],
      "text/plain": [
       "[1]  0  3  0  7  9 10"
      ]
     },
     "metadata": {},
     "output_type": "display_data"
    }
   ],
   "source": [
    "x[3] <- 0 ; x        # modify 2nd element\n"
   ]
  },
  {
   "cell_type": "code",
   "execution_count": 46,
   "metadata": {},
   "outputs": [
    {
     "data": {
      "text/html": [
       "&lt;NA&gt;"
      ],
      "text/latex": [
       "<NA>"
      ],
      "text/markdown": [
       "&lt;NA&gt;"
      ],
      "text/plain": [
       "[1] NA"
      ]
     },
     "metadata": {},
     "output_type": "display_data"
    }
   ],
   "source": [
    "# Out-of-Range Index\n",
    "x[7]"
   ]
  },
  {
   "cell_type": "code",
   "execution_count": 47,
   "metadata": {},
   "outputs": [
    {
     "data": {
      "text/html": [
       "<ol class=list-inline>\n",
       "\t<li>3</li>\n",
       "\t<li>0</li>\n",
       "\t<li>7</li>\n",
       "</ol>\n"
      ],
      "text/latex": [
       "\\begin{enumerate*}\n",
       "\\item 3\n",
       "\\item 0\n",
       "\\item 7\n",
       "\\end{enumerate*}\n"
      ],
      "text/markdown": [
       "1. 3\n",
       "2. 0\n",
       "3. 7\n",
       "\n",
       "\n"
      ],
      "text/plain": [
       "[1] 3 0 7"
      ]
     },
     "metadata": {},
     "output_type": "display_data"
    }
   ],
   "source": [
    "#Range Index\n",
    "x[2:4]"
   ]
  },
  {
   "cell_type": "code",
   "execution_count": 48,
   "metadata": {},
   "outputs": [
    {
     "data": {
      "text/html": [
       "<ol class=list-inline>\n",
       "\t<li>3</li>\n",
       "\t<li>7</li>\n",
       "</ol>\n"
      ],
      "text/latex": [
       "\\begin{enumerate*}\n",
       "\\item 3\n",
       "\\item 7\n",
       "\\end{enumerate*}\n"
      ],
      "text/markdown": [
       "1. 3\n",
       "2. 7\n",
       "\n",
       "\n"
      ],
      "text/plain": [
       "[1] 3 7"
      ]
     },
     "metadata": {},
     "output_type": "display_data"
    }
   ],
   "source": [
    "x[c(2,4)]"
   ]
  },
  {
   "cell_type": "code",
   "execution_count": 54,
   "metadata": {},
   "outputs": [
    {
     "name": "stdout",
     "output_type": "stream",
     "text": [
      "[1]  7 19\n",
      "[1] -1 -3\n",
      "[1] 12 88\n",
      "[1] 0.7500000 0.7272727\n"
     ]
    }
   ],
   "source": [
    "# Create two vectors.\n",
    "v1 <- c(3,8)\n",
    "v2 <- c(4,11)\n",
    "\n",
    "# Vector addition.\n",
    "add.result <- v1+v2\n",
    "print(add.result)\n",
    "\n",
    "# Vector subtraction.\n",
    "sub.result <- v1-v2\n",
    "print(sub.result)\n",
    "\n",
    "# Vector multiplication.\n",
    "multi.result <- v1*v2\n",
    "print(multi.result)\n",
    "\n",
    "# Vector division.\n",
    "divi.result <- v1/v2\n",
    "print(divi.result)"
   ]
  },
  {
   "cell_type": "code",
   "execution_count": 56,
   "metadata": {},
   "outputs": [
    {
     "name": "stdout",
     "output_type": "stream",
     "text": [
      "[1]  7 19  8 15\n"
     ]
    }
   ],
   "source": [
    "# Vector Element Recycling - careful\n",
    "v1 <- c(3,8,4,4)\n",
    "v2 <- c(4,11)\n",
    "# V2 becomes c(4,11,4,11,4,11)\n",
    "\n",
    "add.result <- v1+v2\n",
    "print(add.result)"
   ]
  },
  {
   "cell_type": "code",
   "execution_count": 57,
   "metadata": {},
   "outputs": [
    {
     "name": "stdout",
     "output_type": "stream",
     "text": [
      "[1]  0  0  3  7  9 10\n",
      "[1] 10  9  7  3  0  0\n"
     ]
    }
   ],
   "source": [
    "# Sort the elements of the vector.\n",
    "sort.result <- sort(x)\n",
    "print(sort.result)\n",
    "\n",
    "# Sort the elements in the reverse order.\n",
    "revsort.result <- sort(x, decreasing = TRUE)\n",
    "print(revsort.result)"
   ]
  },
  {
   "cell_type": "code",
   "execution_count": 67,
   "metadata": {},
   "outputs": [
    {
     "name": "stdout",
     "output_type": "stream",
     "text": [
      "[1] 5 5 6 6 8 8 9 9\n"
     ]
    }
   ],
   "source": [
    "## Combing vector\n",
    "\n",
    "vFirst <- c(5,5,6,6)\n",
    "vSecond <- c(8,8,9,9)\n",
    "\n",
    "vNew <- c(vFirst, vSecond) \n",
    "print(vNew)"
   ]
  },
  {
   "cell_type": "code",
   "execution_count": 61,
   "metadata": {},
   "outputs": [
    {
     "data": {
      "text/html": [
       "<ol class=list-inline>\n",
       "\t<li>25</li>\n",
       "\t<li>25</li>\n",
       "\t<li>30</li>\n",
       "\t<li>30</li>\n",
       "\t<li>40</li>\n",
       "\t<li>40</li>\n",
       "\t<li>45</li>\n",
       "\t<li>45</li>\n",
       "</ol>\n"
      ],
      "text/latex": [
       "\\begin{enumerate*}\n",
       "\\item 25\n",
       "\\item 25\n",
       "\\item 30\n",
       "\\item 30\n",
       "\\item 40\n",
       "\\item 40\n",
       "\\item 45\n",
       "\\item 45\n",
       "\\end{enumerate*}\n"
      ],
      "text/markdown": [
       "1. 25\n",
       "2. 25\n",
       "3. 30\n",
       "4. 30\n",
       "5. 40\n",
       "6. 40\n",
       "7. 45\n",
       "8. 45\n",
       "\n",
       "\n"
      ],
      "text/plain": [
       "[1] 25 25 30 30 40 40 45 45"
      ]
     },
     "metadata": {},
     "output_type": "display_data"
    }
   ],
   "source": [
    "vNew <- 5*vNew\n",
    "vNew\n"
   ]
  },
  {
   "cell_type": "code",
   "execution_count": 68,
   "metadata": {},
   "outputs": [
    {
     "data": {
      "text/html": [
       "<ol class=list-inline>\n",
       "\t<li>'first'</li>\n",
       "\t<li>'second'</li>\n",
       "\t<li>'third'</li>\n",
       "</ol>\n"
      ],
      "text/latex": [
       "\\begin{enumerate*}\n",
       "\\item 'first'\n",
       "\\item 'second'\n",
       "\\item 'third'\n",
       "\\end{enumerate*}\n"
      ],
      "text/markdown": [
       "1. 'first'\n",
       "2. 'second'\n",
       "3. 'third'\n",
       "\n",
       "\n"
      ],
      "text/plain": [
       "[1] \"first\"  \"second\" \"third\" "
      ]
     },
     "metadata": {},
     "output_type": "display_data"
    },
    {
     "data": {
      "text/html": [
       "<strong>second:</strong> 0"
      ],
      "text/latex": [
       "\\textbf{second:} 0"
      ],
      "text/markdown": [
       "**second:** 0"
      ],
      "text/plain": [
       "second \n",
       "     0 "
      ]
     },
     "metadata": {},
     "output_type": "display_data"
    }
   ],
   "source": [
    "x3 <- c(\"first\"=3, \"second\"=0, \"third\"=9)\n",
    "names(x3)\n",
    "x3[\"second\"]\n"
   ]
  },
  {
   "cell_type": "code",
   "execution_count": 69,
   "metadata": {},
   "outputs": [
    {
     "data": {
      "text/plain": [
       "NULL"
      ]
     },
     "metadata": {},
     "output_type": "display_data"
    }
   ],
   "source": [
    "# Delete vector - may be vey rare\n",
    "\n",
    "vFirst <- NULL\n",
    "vFirst <- vFirst[1]\n",
    "\n",
    "vFirst"
   ]
  },
  {
   "cell_type": "code",
   "execution_count": null,
   "metadata": {},
   "outputs": [],
   "source": []
  }
 ],
 "metadata": {
  "kernelspec": {
   "display_name": "R",
   "language": "R",
   "name": "ir"
  },
  "language_info": {
   "codemirror_mode": "r",
   "file_extension": ".r",
   "mimetype": "text/x-r-source",
   "name": "R",
   "pygments_lexer": "r",
   "version": "3.5.0"
  }
 },
 "nbformat": 4,
 "nbformat_minor": 2
}
