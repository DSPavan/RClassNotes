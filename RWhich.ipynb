{
 "cells": [
  {
   "cell_type": "code",
   "execution_count": 1,
   "metadata": {},
   "outputs": [
    {
     "data": {
      "text/html": [
       "4"
      ],
      "text/latex": [
       "4"
      ],
      "text/markdown": [
       "4"
      ],
      "text/plain": [
       "[1] 4"
      ]
     },
     "metadata": {},
     "output_type": "display_data"
    }
   ],
   "source": [
    "# which() function gives the TRUE indices of a logical object, allowing for array indices.\n",
    "\n",
    "which(BOD$demand == 16)"
   ]
  },
  {
   "cell_type": "code",
   "execution_count": 4,
   "metadata": {},
   "outputs": [
    {
     "data": {
      "text/html": [
       "<ol class=list-inline>\n",
       "\t<li>101</li>\n",
       "\t<li>110</li>\n",
       "\t<li>115</li>\n",
       "\t<li>116</li>\n",
       "\t<li>119</li>\n",
       "\t<li>121</li>\n",
       "\t<li>136</li>\n",
       "\t<li>137</li>\n",
       "\t<li>141</li>\n",
       "\t<li>142</li>\n",
       "\t<li>144</li>\n",
       "\t<li>145</li>\n",
       "\t<li>146</li>\n",
       "\t<li>149</li>\n",
       "</ol>\n"
      ],
      "text/latex": [
       "\\begin{enumerate*}\n",
       "\\item 101\n",
       "\\item 110\n",
       "\\item 115\n",
       "\\item 116\n",
       "\\item 119\n",
       "\\item 121\n",
       "\\item 136\n",
       "\\item 137\n",
       "\\item 141\n",
       "\\item 142\n",
       "\\item 144\n",
       "\\item 145\n",
       "\\item 146\n",
       "\\item 149\n",
       "\\end{enumerate*}\n"
      ],
      "text/markdown": [
       "1. 101\n",
       "2. 110\n",
       "3. 115\n",
       "4. 116\n",
       "5. 119\n",
       "6. 121\n",
       "7. 136\n",
       "8. 137\n",
       "9. 141\n",
       "10. 142\n",
       "11. 144\n",
       "12. 145\n",
       "13. 146\n",
       "14. 149\n",
       "\n",
       "\n"
      ],
      "text/plain": [
       " [1] 101 110 115 116 119 121 136 137 141 142 144 145 146 149"
      ]
     },
     "metadata": {},
     "output_type": "display_data"
    }
   ],
   "source": [
    "which(iris$Petal.Width > 2.25, arr.ind = FALSE) # Record Number"
   ]
  },
  {
   "cell_type": "code",
   "execution_count": 5,
   "metadata": {},
   "outputs": [
    {
     "data": {
      "text/html": [
       "<table>\n",
       "<thead><tr><th></th><th scope=col>Sepal.Length</th><th scope=col>Sepal.Width</th><th scope=col>Petal.Length</th><th scope=col>Petal.Width</th><th scope=col>Species</th></tr></thead>\n",
       "<tbody>\n",
       "\t<tr><th scope=row>101</th><td>6.3      </td><td>3.3      </td><td>6.0      </td><td>2.5      </td><td>virginica</td></tr>\n",
       "\t<tr><th scope=row>110</th><td>7.2      </td><td>3.6      </td><td>6.1      </td><td>2.5      </td><td>virginica</td></tr>\n",
       "\t<tr><th scope=row>115</th><td>5.8      </td><td>2.8      </td><td>5.1      </td><td>2.4      </td><td>virginica</td></tr>\n",
       "\t<tr><th scope=row>116</th><td>6.4      </td><td>3.2      </td><td>5.3      </td><td>2.3      </td><td>virginica</td></tr>\n",
       "\t<tr><th scope=row>119</th><td>7.7      </td><td>2.6      </td><td>6.9      </td><td>2.3      </td><td>virginica</td></tr>\n",
       "\t<tr><th scope=row>121</th><td>6.9      </td><td>3.2      </td><td>5.7      </td><td>2.3      </td><td>virginica</td></tr>\n",
       "\t<tr><th scope=row>136</th><td>7.7      </td><td>3.0      </td><td>6.1      </td><td>2.3      </td><td>virginica</td></tr>\n",
       "\t<tr><th scope=row>137</th><td>6.3      </td><td>3.4      </td><td>5.6      </td><td>2.4      </td><td>virginica</td></tr>\n",
       "\t<tr><th scope=row>141</th><td>6.7      </td><td>3.1      </td><td>5.6      </td><td>2.4      </td><td>virginica</td></tr>\n",
       "\t<tr><th scope=row>142</th><td>6.9      </td><td>3.1      </td><td>5.1      </td><td>2.3      </td><td>virginica</td></tr>\n",
       "\t<tr><th scope=row>144</th><td>6.8      </td><td>3.2      </td><td>5.9      </td><td>2.3      </td><td>virginica</td></tr>\n",
       "\t<tr><th scope=row>145</th><td>6.7      </td><td>3.3      </td><td>5.7      </td><td>2.5      </td><td>virginica</td></tr>\n",
       "\t<tr><th scope=row>146</th><td>6.7      </td><td>3.0      </td><td>5.2      </td><td>2.3      </td><td>virginica</td></tr>\n",
       "\t<tr><th scope=row>149</th><td>6.2      </td><td>3.4      </td><td>5.4      </td><td>2.3      </td><td>virginica</td></tr>\n",
       "</tbody>\n",
       "</table>\n"
      ],
      "text/latex": [
       "\\begin{tabular}{r|lllll}\n",
       "  & Sepal.Length & Sepal.Width & Petal.Length & Petal.Width & Species\\\\\n",
       "\\hline\n",
       "\t101 & 6.3       & 3.3       & 6.0       & 2.5       & virginica\\\\\n",
       "\t110 & 7.2       & 3.6       & 6.1       & 2.5       & virginica\\\\\n",
       "\t115 & 5.8       & 2.8       & 5.1       & 2.4       & virginica\\\\\n",
       "\t116 & 6.4       & 3.2       & 5.3       & 2.3       & virginica\\\\\n",
       "\t119 & 7.7       & 2.6       & 6.9       & 2.3       & virginica\\\\\n",
       "\t121 & 6.9       & 3.2       & 5.7       & 2.3       & virginica\\\\\n",
       "\t136 & 7.7       & 3.0       & 6.1       & 2.3       & virginica\\\\\n",
       "\t137 & 6.3       & 3.4       & 5.6       & 2.4       & virginica\\\\\n",
       "\t141 & 6.7       & 3.1       & 5.6       & 2.4       & virginica\\\\\n",
       "\t142 & 6.9       & 3.1       & 5.1       & 2.3       & virginica\\\\\n",
       "\t144 & 6.8       & 3.2       & 5.9       & 2.3       & virginica\\\\\n",
       "\t145 & 6.7       & 3.3       & 5.7       & 2.5       & virginica\\\\\n",
       "\t146 & 6.7       & 3.0       & 5.2       & 2.3       & virginica\\\\\n",
       "\t149 & 6.2       & 3.4       & 5.4       & 2.3       & virginica\\\\\n",
       "\\end{tabular}\n"
      ],
      "text/markdown": [
       "\n",
       "| <!--/--> | Sepal.Length | Sepal.Width | Petal.Length | Petal.Width | Species | \n",
       "|---|---|---|---|---|---|---|---|---|---|---|---|---|---|\n",
       "| 101 | 6.3       | 3.3       | 6.0       | 2.5       | virginica | \n",
       "| 110 | 7.2       | 3.6       | 6.1       | 2.5       | virginica | \n",
       "| 115 | 5.8       | 2.8       | 5.1       | 2.4       | virginica | \n",
       "| 116 | 6.4       | 3.2       | 5.3       | 2.3       | virginica | \n",
       "| 119 | 7.7       | 2.6       | 6.9       | 2.3       | virginica | \n",
       "| 121 | 6.9       | 3.2       | 5.7       | 2.3       | virginica | \n",
       "| 136 | 7.7       | 3.0       | 6.1       | 2.3       | virginica | \n",
       "| 137 | 6.3       | 3.4       | 5.6       | 2.4       | virginica | \n",
       "| 141 | 6.7       | 3.1       | 5.6       | 2.4       | virginica | \n",
       "| 142 | 6.9       | 3.1       | 5.1       | 2.3       | virginica | \n",
       "| 144 | 6.8       | 3.2       | 5.9       | 2.3       | virginica | \n",
       "| 145 | 6.7       | 3.3       | 5.7       | 2.5       | virginica | \n",
       "| 146 | 6.7       | 3.0       | 5.2       | 2.3       | virginica | \n",
       "| 149 | 6.2       | 3.4       | 5.4       | 2.3       | virginica | \n",
       "\n",
       "\n"
      ],
      "text/plain": [
       "    Sepal.Length Sepal.Width Petal.Length Petal.Width Species  \n",
       "101 6.3          3.3         6.0          2.5         virginica\n",
       "110 7.2          3.6         6.1          2.5         virginica\n",
       "115 5.8          2.8         5.1          2.4         virginica\n",
       "116 6.4          3.2         5.3          2.3         virginica\n",
       "119 7.7          2.6         6.9          2.3         virginica\n",
       "121 6.9          3.2         5.7          2.3         virginica\n",
       "136 7.7          3.0         6.1          2.3         virginica\n",
       "137 6.3          3.4         5.6          2.4         virginica\n",
       "141 6.7          3.1         5.6          2.4         virginica\n",
       "142 6.9          3.1         5.1          2.3         virginica\n",
       "144 6.8          3.2         5.9          2.3         virginica\n",
       "145 6.7          3.3         5.7          2.5         virginica\n",
       "146 6.7          3.0         5.2          2.3         virginica\n",
       "149 6.2          3.4         5.4          2.3         virginica"
      ]
     },
     "metadata": {},
     "output_type": "display_data"
    }
   ],
   "source": [
    "#which could be useful (by the means of saving both computer and human resources) e.g.\n",
    "#if you have to filter the elements of a data frame/matrix by a given variable/column and update other variables/columns based on that.\n",
    "\n",
    "V2 <- which(iris$Petal.Width > 2.25, arr.ind = FALSE)\n",
    "iris[V2,]"
   ]
  },
  {
   "cell_type": "code",
   "execution_count": null,
   "metadata": {},
   "outputs": [],
   "source": []
  }
 ],
 "metadata": {
  "kernelspec": {
   "display_name": "R",
   "language": "R",
   "name": "ir"
  },
  "language_info": {
   "codemirror_mode": "r",
   "file_extension": ".r",
   "mimetype": "text/x-r-source",
   "name": "R",
   "pygments_lexer": "r",
   "version": "3.5.1"
  }
 },
 "nbformat": 4,
 "nbformat_minor": 2
}
