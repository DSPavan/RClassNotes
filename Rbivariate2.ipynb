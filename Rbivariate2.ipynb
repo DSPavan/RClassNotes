{
 "cells": [
  {
   "cell_type": "code",
   "execution_count": 28,
   "metadata": {
    "collapsed": false
   },
   "outputs": [
   ],
   "source": [
    "#The average amount for Hyderabad comes out to $500, and the average amount for Delhi is $1,000. \n",
    "#The t-test questions whether the difference between the groups represents a true difference between people in Hyderabad and people in Chennai or if it is likely a meaningless statistical difference.\n",
    "\n",
    "# determine the difference between two sample means from two normally distributed populations with unknown variances.\n",
    "\n"
   ]
  },
  {
   "cell_type": "raw",
   "metadata": {
    "collapsed": false
   },
   "source": [
    "\n",
    "# Data in two numeric vectors\n",
    "# ++++++++++++++++++++++++++\n",
    "# Weight of the mice / pig before treatment\n",
    "before <-c(200.1, 190.9, 192.7, 213, 241.4, 196.9, 172.2, 185.5, 205.2, 193.7)\n",
    "# Weight of the mice /pig after treatment\n",
    "after <-c(392.9, 393.2, 345.1, 393, 434, 427.9, 422, 383.9, 392.3, 352.2)\n",
    "# Create a data frame\n",
    "my_data <- data.frame( \n",
    "                group = rep(c(\"before\", \"after\"), each = 10),\n",
    "                weight = c(before,  after)\n",
    "                )\n",
    "my_data"
   ]
  },
  {
   "cell_type": "code",
   "execution_count": 14,
   "metadata": {
    "collapsed": false
   },
   "outputs": [
    {
     "name": "stderr",
     "output_type": "stream",
     "text": [
      "\n",
      "Attaching package: ‘dplyr’\n",
      "\n"
     ]
    },
    {
     "name": "stderr",
     "output_type": "stream",
     "text": [
      "The following objects are masked from ‘package:stats’:\n",
      "\n",
      "    filter, lag\n",
      "\n"
     ]
    },
    {
     "name": "stderr",
     "output_type": "stream",
     "text": [
      "The following objects are masked from ‘package:base’:\n",
      "\n",
      "    intersect, setdiff, setequal, union\n",
      "\n"
     ]
    },
    {
     "data": {
      "text/html": [
       "<table>\n",
       "<thead><tr><th scope=col>group</th><th scope=col>count</th><th scope=col>mean</th><th scope=col>sd</th></tr></thead>\n",
       "<tbody>\n",
       "\t<tr><td>after   </td><td>10      </td><td>393.65  </td><td>29.39801</td></tr>\n",
       "\t<tr><td>before  </td><td>10      </td><td>199.16  </td><td>18.47354</td></tr>\n",
       "</tbody>\n",
       "</table>\n"
      ]
     },
     "execution_count": 14,
     "metadata": {
     },
     "output_type": "execute_result"
    }
   ],
   "source": [
    "library(\"dplyr\")\n",
    "group_by(my_data, group) %>%\n",
    "  summarise(\n",
    "    count = n(),\n",
    "    mean = mean(weight, na.rm = TRUE),\n",
    "    sd = sd(weight, na.rm = TRUE)\n",
    "  )"
   ]
  },
  {
   "cell_type": "code",
   "execution_count": 15,
   "metadata": {
    "collapsed": false
   },
   "outputs": [
    {
     "data": {
      "text/plain": [
       "\n",
       "\tPaired t-test\n",
       "\n",
       "data:  weight by group\n",
       "t = 20.883, df = 9, p-value = 6.2e-09\n",
       "alternative hypothesis: true difference in means is not equal to 0\n",
       "95 percent confidence interval:\n",
       " 173.4219 215.5581\n",
       "sample estimates:\n",
       "mean of the differences \n",
       "                 194.49 \n"
      ]
     },
     "execution_count": 15,
     "metadata": {
     },
     "output_type": "execute_result"
    }
   ],
   "source": [
    "# Compute t-test\n",
    "res <- t.test(weight ~ group, data = my_data, paired = TRUE)\n",
    "res"
   ]
  },
  {
   "cell_type": "code",
   "execution_count": 17,
   "metadata": {
    "collapsed": false
   },
   "outputs": [
    {
     "data": {
      "text/plain": [
       "\n",
       "\tPaired t-test\n",
       "\n",
       "data:  weight by group\n",
       "t = 20.883, df = 9, p-value = 1\n",
       "alternative hypothesis: true difference in means is less than 0\n",
       "95 percent confidence interval:\n",
       "     -Inf 211.5623\n",
       "sample estimates:\n",
       "mean of the differences \n",
       "                 194.49 \n"
      ]
     },
     "execution_count": 17,
     "metadata": {
     },
     "output_type": "execute_result"
    },
    {
     "name": "stdout",
     "output_type": "stream",
     "text": [
      "List of 9\n",
      " $ statistic  : Named num 20.9\n",
      "  ..- attr(*, \"names\")= chr \"t\"\n",
      " $ parameter  : Named num 9\n",
      "  ..- attr(*, \"names\")= chr \"df\"\n",
      " $ p.value    : num 1\n",
      " $ conf.int   : atomic [1:2] -Inf 212\n",
      "  ..- attr(*, \"conf.level\")= num 0.95\n",
      " $ estimate   : Named num 194\n",
      "  ..- attr(*, \"names\")= chr \"mean of the differences\"\n",
      " $ null.value : Named num 0\n",
      "  ..- attr(*, \"names\")= chr \"difference in means\"\n",
      " $ alternative: chr \"less\"\n",
      " $ method     : chr \"Paired t-test\"\n",
      " $ data.name  : chr \"weight by group\"\n",
      " - attr(*, \"class\")= chr \"htest\"\n"
     ]
    }
   ],
   "source": [
    "#if you want to test whether the average weight before treatment is less than the average weight after treatment, type this:\n",
    "\n",
    "result <- t.test(weight ~ group, data = my_data, paired = TRUE,\n",
    "        alternative = \"less\")\n",
    "\n",
    "# greater\n",
    "result\n",
    "str(result)"
   ]
  },
  {
   "cell_type": "code",
   "execution_count": 18,
   "metadata": {
    "collapsed": false
   },
   "outputs": [
   ],
   "source": [
    "#  one sample t-test\n",
    "# Compare Mean against population for Sample\n",
    "# Between two mutually  exclusive groups\n",
    "\n",
    "# Assumption\n",
    "\n",
    "# The two populations have the same variance. This assumption is called the assumption of homogeneity of variance.\n",
    "# The populations are normally distributed.\n",
    "# Each value is sampled independently from each other value. This assumption requires that each subject provide only one value. If a subject provides two scores, then the scores are not independent.\n",
    "\n",
    "# The degrees of freedom is the number of independent estimates of variance on which MSE ( mean suqre Error) is based.\n",
    "\n",
    "# one-sample t-test is used to compare the mean of one sample to a known standard (or theoretical/hypothetical) mean (μ)."
   ]
  },
  {
   "cell_type": "code",
   "execution_count": 19,
   "metadata": {
    "collapsed": false
   },
   "outputs": [
   ],
   "source": [
    "# a previous experiment. For example, compare whether the mean weight of mice differs from 200 mg, a value determined in a previous study.\n",
    "# or \n",
    "#from an experiment where you have control and treatment conditions. If you express your data as “percent of control”, you can test whether the average value of treatment condition differs significantly from 100."
   ]
  },
  {
   "cell_type": "code",
   "execution_count": 21,
   "metadata": {
    "collapsed": false
   },
   "outputs": [
    {
     "data": {
      "text/html": [
       "296.405"
      ]
     },
     "execution_count": 21,
     "metadata": {
     },
     "output_type": "execute_result"
    },
    {
     "data": {
      "text/plain": [
       "\n",
       "\tOne Sample t-test\n",
       "\n",
       "data:  my_data$weight\n",
       "t = 11.831, df = 19, p-value = 3.292e-10\n",
       "alternative hypothesis: true mean is not equal to 25\n",
       "95 percent confidence interval:\n",
       " 248.39 344.42\n",
       "sample estimates:\n",
       "mean of x \n",
       "  296.405 \n"
      ]
     },
     "execution_count": 21,
     "metadata": {
     },
     "output_type": "execute_result"
    }
   ],
   "source": [
    "mean(my_data$weight)\n",
    "# One-sample t-test\n",
    "res <- t.test(my_data$weight, mu = 25)\n",
    "# Printing the results\n",
    "res "
   ]
  },
  {
   "cell_type": "code",
   "execution_count": 22,
   "metadata": {
    "collapsed": false
   },
   "outputs": [
    {
     "data": {
      "text/plain": [
       "\n",
       "\tOne Sample t-test\n",
       "\n",
       "data:  my_data$weight\n",
       "t = -0.15671, df = 19, p-value = 0.8771\n",
       "alternative hypothesis: true mean is not equal to 300\n",
       "95 percent confidence interval:\n",
       " 248.39 344.42\n",
       "sample estimates:\n",
       "mean of x \n",
       "  296.405 \n"
      ]
     },
     "execution_count": 22,
     "metadata": {
     },
     "output_type": "execute_result"
    }
   ],
   "source": [
    "res <- t.test(my_data$weight, mu = 300)\n",
    "# Printing the results\n",
    "res "
   ]
  },
  {
   "cell_type": "code",
   "execution_count": 25,
   "metadata": {
    "collapsed": false
   },
   "outputs": [
    {
     "data": {
      "image/svg+xml": "<?xml version=\"1.0\" encoding=\"UTF-8\"?>\n<svg xmlns=\"http://www.w3.org/2000/svg\" xmlns:xlink=\"http://www.w3.org/1999/xlink\" width=\"504pt\" height=\"504pt\" viewBox=\"0 0 504 504\" version=\"1.1\">\n<defs>\n<g>\n<symbol overflow=\"visible\" id=\"glyph0-0\">\n<path style=\"stroke:none;\" d=\"\"/>\n</symbol>\n<symbol overflow=\"visible\" id=\"glyph0-1\">\n<path style=\"stroke:none;\" d=\"M -6.265625 -6.390625 C -7.765625 -6.390625 -8.859375 -5.21875 -8.859375 -3.546875 C -8.859375 -1.734375 -7.9375 -0.6875 -5.78125 -0.625 L -5.78125 -1.71875 C -7.28125 -1.8125 -7.90625 -2.421875 -7.90625 -3.515625 C -7.90625 -4.515625 -7.1875 -5.265625 -6.234375 -5.265625 C -5.53125 -5.265625 -4.9375 -4.84375 -4.484375 -4.0625 L -3.84375 -2.90625 C -2.78125 -1.0625 -1.953125 -0.53125 0 -0.421875 L 0 -6.328125 L -1.09375 -6.328125 L -1.09375 -1.65625 C -1.8125 -1.78125 -2.28125 -2.171875 -2.90625 -3.265625 L -3.59375 -4.515625 C -4.25 -5.75 -5.171875 -6.390625 -6.265625 -6.390625 Z M -6.265625 -6.390625 \"/>\n</symbol>\n<symbol overflow=\"visible\" id=\"glyph0-2\">\n<path style=\"stroke:none;\" d=\"M -4.265625 -6.34375 C -7.34375 -6.34375 -8.859375 -5.359375 -8.859375 -3.4375 C -8.859375 -1.53125 -7.3125 -0.53125 -4.34375 -0.53125 C -1.34375 -0.53125 0.1875 -1.53125 0.1875 -3.4375 C 0.1875 -5.3125 -1.34375 -6.34375 -4.265625 -6.34375 Z M -4.359375 -5.21875 C -1.84375 -5.21875 -0.71875 -4.640625 -0.71875 -3.40625 C -0.71875 -2.25 -1.90625 -1.65625 -4.328125 -1.65625 C -6.75 -1.65625 -7.890625 -2.25 -7.890625 -3.4375 C -7.890625 -4.625 -6.734375 -5.21875 -4.359375 -5.21875 Z M -4.359375 -5.21875 \"/>\n</symbol>\n<symbol overflow=\"visible\" id=\"glyph0-3\">\n<path style=\"stroke:none;\" d=\"M -2.9375 -6.40625 C -4.6875 -6.40625 -5.84375 -5.25 -5.84375 -3.546875 C -5.84375 -2.921875 -5.671875 -2.421875 -5.296875 -1.90625 L -7.59375 -2.265625 L -7.59375 -5.953125 L -8.671875 -5.953125 L -8.671875 -1.375 L -4.03125 -0.71875 L -4.03125 -1.71875 C -4.65625 -2.234375 -4.859375 -2.65625 -4.859375 -3.34375 C -4.859375 -4.53125 -4.09375 -5.28125 -2.78125 -5.28125 C -1.515625 -5.28125 -0.78125 -4.546875 -0.78125 -3.34375 C -0.78125 -2.390625 -1.28125 -1.796875 -2.28125 -1.53125 L -2.28125 -0.4375 C -0.515625 -0.796875 0.1875 -1.796875 0.1875 -3.375 C 0.1875 -5.15625 -1.0625 -6.40625 -2.9375 -6.40625 Z M -2.9375 -6.40625 \"/>\n</symbol>\n<symbol overflow=\"visible\" id=\"glyph0-4\">\n<path style=\"stroke:none;\" d=\"M -2.578125 -6.328125 C -3.65625 -6.328125 -4.28125 -5.890625 -4.640625 -4.828125 C -4.96875 -5.65625 -5.53125 -6.0625 -6.421875 -6.0625 C -7.953125 -6.0625 -8.859375 -5.046875 -8.859375 -3.359375 C -8.859375 -1.578125 -7.890625 -0.625 -6 -0.59375 L -6 -1.6875 C -7.3125 -1.71875 -7.90625 -2.25 -7.90625 -3.375 C -7.90625 -4.34375 -7.328125 -4.9375 -6.390625 -4.9375 C -5.4375 -4.9375 -5.046875 -4.53125 -5.046875 -2.765625 L -4.125 -2.765625 L -4.125 -3.359375 C -4.125 -4.578125 -3.546875 -5.203125 -2.5625 -5.203125 C -1.453125 -5.203125 -0.78125 -4.515625 -0.78125 -3.359375 C -0.78125 -2.15625 -1.390625 -1.578125 -2.671875 -1.5 L -2.671875 -0.40625 C -0.703125 -0.53125 0.1875 -1.515625 0.1875 -3.328125 C 0.1875 -5.15625 -0.90625 -6.328125 -2.578125 -6.328125 Z M -2.578125 -6.328125 \"/>\n</symbol>\n<symbol overflow=\"visible\" id=\"glyph0-5\">\n<path style=\"stroke:none;\" d=\"M -2.125 -6.5 L -3.109375 -6.5 L -3.109375 -5.1875 L -8.859375 -5.1875 L -8.859375 -4.375 L -3.28125 -0.34375 L -2.125 -0.34375 L -2.125 -4.09375 L 0 -4.09375 L 0 -5.1875 L -2.125 -5.1875 Z M -3.109375 -4.09375 L -3.109375 -1.3125 L -6.984375 -4.09375 Z M -3.109375 -4.09375 \"/>\n</symbol>\n<symbol overflow=\"visible\" id=\"glyph0-6\">\n<path style=\"stroke:none;\" d=\"M -9.109375 -11.609375 L -9.109375 -10.3125 L -1.71875 -8.640625 L -9.109375 -6.5625 L -9.109375 -5.3125 L -1.71875 -3.28125 L -9.109375 -1.578125 L -9.109375 -0.28125 L 0 -2.609375 L 0 -3.890625 L -7.484375 -5.921875 L 0 -8.03125 L 0 -9.296875 Z M -9.109375 -11.609375 \"/>\n</symbol>\n<symbol overflow=\"visible\" id=\"glyph0-7\">\n<path style=\"stroke:none;\" d=\"M -2.96875 -6.40625 C -3.921875 -6.40625 -4.53125 -6.34375 -5.015625 -6.15625 C -6.09375 -5.71875 -6.734375 -4.71875 -6.734375 -3.5 C -6.734375 -1.671875 -5.390625 -0.5 -3.234375 -0.5 C -1.09375 -0.5 0.1875 -1.640625 0.1875 -3.46875 C 0.1875 -4.96875 -0.65625 -6.015625 -1.984375 -6.28125 L -1.984375 -5.21875 C -1.125 -4.9375 -0.78125 -4.34375 -0.78125 -3.515625 C -0.78125 -2.421875 -1.46875 -1.609375 -2.96875 -1.59375 Z M -3.90625 -5.296875 C -3.90625 -5.296875 -3.84375 -5.296875 -3.828125 -5.28125 L -3.828125 -1.609375 C -4.984375 -1.703125 -5.78125 -2.4375 -5.78125 -3.484375 C -5.78125 -4.515625 -4.921875 -5.296875 -3.90625 -5.296875 Z M -3.90625 -5.296875 \"/>\n</symbol>\n<symbol overflow=\"visible\" id=\"glyph0-8\">\n<path style=\"stroke:none;\" d=\"M 0 -1.90625 L -6.546875 -1.90625 L -6.546875 -0.875 L 0 -0.875 Z M -7.53125 -2.046875 L -8.84375 -2.046875 L -8.84375 -0.75 L -7.53125 -0.75 Z M -7.53125 -2.046875 \"/>\n</symbol>\n<symbol overflow=\"visible\" id=\"glyph0-9\">\n<path style=\"stroke:none;\" d=\"M -1.078125 -6.109375 L -6.546875 -6.109375 L -6.546875 -5.15625 L -5.59375 -5.15625 C -6.375 -4.625 -6.734375 -3.984375 -6.734375 -3.15625 C -6.734375 -1.484375 -5.34375 -0.359375 -3.21875 -0.359375 C -1.15625 -0.359375 0.1875 -1.53125 0.1875 -3.0625 C 0.1875 -3.890625 -0.15625 -4.46875 -0.984375 -5.15625 L -0.546875 -5.15625 C 1.1875 -5.15625 1.84375 -4.4375 1.84375 -3.21875 C 1.84375 -2.40625 1.546875 -1.765625 0.75 -1.640625 L 0.75 -0.578125 C 1.984375 -0.6875 2.71875 -1.65625 2.71875 -3.1875 C 2.71875 -5.234375 1.8125 -6.109375 -1.078125 -6.109375 Z M -3.234375 -5.046875 C -1.671875 -5.046875 -0.78125 -4.375 -0.78125 -3.28125 C -0.78125 -2.140625 -1.6875 -1.453125 -3.28125 -1.453125 C -4.84375 -1.453125 -5.78125 -2.15625 -5.78125 -3.265625 C -5.78125 -4.390625 -4.828125 -5.046875 -3.234375 -5.046875 Z M -3.234375 -5.046875 \"/>\n</symbol>\n<symbol overflow=\"visible\" id=\"glyph0-10\">\n<path style=\"stroke:none;\" d=\"M 0 -6.078125 L -4.953125 -6.078125 C -6.046875 -6.078125 -6.734375 -5.28125 -6.734375 -4.015625 C -6.734375 -3.09375 -6.453125 -2.53125 -5.65625 -1.90625 L -9.109375 -1.90625 L -9.109375 -0.875 L 0 -0.875 L 0 -1.90625 L -3.609375 -1.90625 C -4.953125 -1.90625 -5.828125 -2.609375 -5.828125 -3.6875 C -5.828125 -4.421875 -5.40625 -5.03125 -4.53125 -5.03125 L 0 -5.03125 Z M 0 -6.078125 \"/>\n</symbol>\n<symbol overflow=\"visible\" id=\"glyph0-11\">\n<path style=\"stroke:none;\" d=\"M 0 -3.171875 L -0.875 -3.171875 C -0.84375 -3.03125 -0.828125 -2.875 -0.828125 -2.671875 C -0.828125 -2.21875 -0.953125 -2.09375 -1.40625 -2.09375 L -5.703125 -2.09375 L -5.703125 -3.171875 L -6.546875 -3.171875 L -6.546875 -2.09375 L -8.34375 -2.09375 L -8.34375 -1.0625 L -6.546875 -1.0625 L -6.546875 -0.171875 L -5.703125 -0.171875 L -5.703125 -1.0625 L -0.953125 -1.0625 C -0.28125 -1.0625 0.09375 -1.515625 0.09375 -2.328125 C 0.09375 -2.578125 0.0625 -2.828125 0 -3.171875 Z M 0 -3.171875 \"/>\n</symbol>\n<symbol overflow=\"visible\" id=\"glyph1-0\">\n<path style=\"stroke:none;\" d=\"\"/>\n</symbol>\n<symbol overflow=\"visible\" id=\"glyph1-1\">\n<path style=\"stroke:none;\" d=\"M 8.90625 -9 L 8.90625 -10.859375 L 0.203125 -10.859375 L 0.203125 -9 L 3.5 -9 L 3.5 0 L 5.734375 0 L 5.734375 -9 Z M 8.90625 -9 \"/>\n</symbol>\n<symbol overflow=\"visible\" id=\"glyph1-2\">\n<path style=\"stroke:none;\" d=\"M 4.4375 -3.078125 L 4.4375 -5.09375 L 0.390625 -5.09375 L 0.390625 -3.078125 Z M 4.4375 -3.078125 \"/>\n</symbol>\n<symbol overflow=\"visible\" id=\"glyph1-3\">\n<path style=\"stroke:none;\" d=\"M 4.484375 0 L 4.484375 -1.453125 C 4.28125 -1.4375 4.15625 -1.421875 4.015625 -1.421875 C 3.453125 -1.421875 3.328125 -1.578125 3.328125 -2.296875 L 3.328125 -6.5 L 4.484375 -6.5 L 4.484375 -7.890625 L 3.328125 -7.890625 L 3.328125 -10.046875 L 1.234375 -10.046875 L 1.234375 -7.890625 L 0.203125 -7.890625 L 0.203125 -6.5 L 1.234375 -6.5 L 1.234375 -1.734375 C 1.234375 -0.46875 1.90625 0.0625 3.28125 0.0625 C 3.734375 0.0625 4.109375 0.015625 4.484375 0 Z M 4.484375 0 \"/>\n</symbol>\n<symbol overflow=\"visible\" id=\"glyph1-4\">\n<path style=\"stroke:none;\" d=\"M 7.828125 -3.71875 C 7.828125 -6.5 6.421875 -8.1875 4.046875 -8.1875 C 1.75 -8.1875 0.328125 -6.625 0.328125 -3.921875 C 0.328125 -1.34375 1.734375 0.140625 4.015625 0.140625 C 5.8125 0.140625 7.28125 -0.6875 7.734375 -2.265625 L 5.671875 -2.265625 C 5.5 -1.6875 4.84375 -1.453125 4.078125 -1.453125 C 3.09375 -1.453125 2.46875 -1.90625 2.421875 -3.46875 L 7.8125 -3.46875 Z M 5.65625 -4.859375 L 2.4375 -4.859375 C 2.578125 -5.984375 3.09375 -6.59375 4.03125 -6.59375 C 4.921875 -6.59375 5.546875 -6 5.65625 -4.859375 Z M 5.65625 -4.859375 \"/>\n</symbol>\n<symbol overflow=\"visible\" id=\"glyph1-5\">\n<path style=\"stroke:none;\" d=\"M 7.75 -2.390625 L 7.75 -2.484375 C 7.75 -3.40625 7.234375 -4.09375 6.171875 -4.40625 L 3.53125 -5.171875 C 2.953125 -5.34375 2.796875 -5.46875 2.796875 -5.796875 C 2.796875 -6.25 3.28125 -6.546875 4.015625 -6.546875 C 5.015625 -6.546875 5.5 -6.1875 5.515625 -5.453125 L 7.53125 -5.453125 C 7.5 -7.15625 6.1875 -8.1875 4.03125 -8.1875 C 1.984375 -8.1875 0.71875 -7.15625 0.71875 -5.5 C 0.71875 -4.515625 0.984375 -3.984375 2.46875 -3.515625 L 4.96875 -2.75 C 5.484375 -2.578125 5.671875 -2.421875 5.671875 -2.1875 C 5.671875 -1.703125 5.078125 -1.5 4.109375 -1.5 C 3.15625 -1.5 2.65625 -1.6875 2.46875 -2.546875 L 0.4375 -2.546875 C 0.484375 -0.796875 1.78125 0.140625 4.234375 0.140625 C 6.5 0.140625 7.75 -0.765625 7.75 -2.390625 Z M 7.75 -2.390625 \"/>\n</symbol>\n<symbol overflow=\"visible\" id=\"glyph2-0\">\n<path style=\"stroke:none;\" d=\"\"/>\n</symbol>\n<symbol overflow=\"visible\" id=\"glyph2-1\">\n<path style=\"stroke:none;\" d=\"M 8.859375 0 L 8.859375 -4.8125 L 5.0625 -4.8125 L 5.0625 -3.78125 L 7.84375 -3.78125 L 7.84375 -3.53125 C 7.84375 -1.90625 6.640625 -0.796875 4.96875 -0.796875 C 2.90625 -0.796875 1.71875 -2.296875 1.71875 -4.53125 C 1.71875 -6.765625 2.984375 -8.3125 4.90625 -8.3125 C 6.296875 -8.3125 7.296875 -7.53125 7.546875 -6.34375 L 8.734375 -6.34375 C 8.40625 -8.203125 7.015625 -9.34375 4.921875 -9.34375 C 2.140625 -9.34375 0.546875 -7.1875 0.546875 -4.46875 C 0.546875 -1.65625 2.265625 0.21875 4.71875 0.21875 C 5.96875 0.21875 6.953125 -0.21875 7.84375 -1.203125 L 8.125 0 Z M 8.859375 0 \"/>\n</symbol>\n<symbol overflow=\"visible\" id=\"glyph2-2\">\n<path style=\"stroke:none;\" d=\"M 4.015625 -5.640625 L 4.015625 -6.703125 C 3.84375 -6.71875 3.75 -6.734375 3.609375 -6.734375 C 2.9375 -6.734375 2.421875 -6.34375 1.828125 -5.359375 L 1.828125 -6.546875 L 0.875 -6.546875 L 0.875 0 L 1.90625 0 L 1.90625 -3.40625 C 1.90625 -4.875 2.40625 -5.609375 4.015625 -5.640625 Z M 4.015625 -5.640625 \"/>\n</symbol>\n<symbol overflow=\"visible\" id=\"glyph2-3\">\n<path style=\"stroke:none;\" d=\"M 6.375 -3.21875 C 6.375 -5.484375 5.28125 -6.734375 3.40625 -6.734375 C 1.5625 -6.734375 0.453125 -5.46875 0.453125 -3.28125 C 0.453125 -1.078125 1.546875 0.1875 3.40625 0.1875 C 5.25 0.1875 6.375 -1.078125 6.375 -3.21875 Z M 5.28125 -3.234375 C 5.28125 -1.703125 4.5625 -0.78125 3.40625 -0.78125 C 2.25 -0.78125 1.53125 -1.6875 1.53125 -3.28125 C 1.53125 -4.84375 2.25 -5.78125 3.40625 -5.78125 C 4.59375 -5.78125 5.28125 -4.859375 5.28125 -3.234375 Z M 5.28125 -3.234375 \"/>\n</symbol>\n<symbol overflow=\"visible\" id=\"glyph2-4\">\n<path style=\"stroke:none;\" d=\"M 6.03125 0 L 6.03125 -6.546875 L 4.984375 -6.546875 L 4.984375 -2.9375 C 4.984375 -1.59375 4.28125 -0.71875 3.203125 -0.71875 C 2.375 -0.71875 1.84375 -1.21875 1.84375 -2.015625 L 1.84375 -6.546875 L 0.8125 -6.546875 L 0.8125 -1.59375 C 0.8125 -0.515625 1.625 0.1875 2.90625 0.1875 C 3.859375 0.1875 4.46875 -0.15625 5.09375 -1.015625 L 5.09375 0 Z M 6.03125 0 \"/>\n</symbol>\n<symbol overflow=\"visible\" id=\"glyph2-5\">\n<path style=\"stroke:none;\" d=\"M 6.53125 -3.21875 C 6.53125 -5.40625 5.46875 -6.734375 3.71875 -6.734375 C 2.84375 -6.734375 2.125 -6.34375 1.640625 -5.5625 L 1.640625 -6.546875 L 0.6875 -6.546875 L 0.6875 2.71875 L 1.71875 2.71875 L 1.71875 -0.78125 C 2.28125 -0.109375 2.890625 0.1875 3.734375 0.1875 C 5.421875 0.1875 6.53125 -1.125 6.53125 -3.21875 Z M 5.453125 -3.234375 C 5.453125 -1.75 4.6875 -0.78125 3.546875 -0.78125 C 2.453125 -0.78125 1.71875 -1.6875 1.71875 -3.21875 C 1.71875 -4.765625 2.453125 -5.765625 3.546875 -5.765625 C 4.703125 -5.765625 5.453125 -4.796875 5.453125 -3.234375 Z M 5.453125 -3.234375 \"/>\n</symbol>\n</g>\n</defs>\n<g id=\"surface168\">\n<rect x=\"0\" y=\"0\" width=\"504\" height=\"504\" style=\"fill:rgb(100%,100%,100%);fill-opacity:1;stroke:none;\"/>\n<path style=\" stroke:none;fill-rule:nonzero;fill:rgb(100%,100%,100%);fill-opacity:1;\" d=\"M 189.601562 386.445312 L 343.199219 386.445312 L 343.199219 126.738281 L 189.601562 126.738281 Z M 189.601562 386.445312 \"/>\n<path style=\"fill:none;stroke-width:3;stroke-linecap:butt;stroke-linejoin:round;stroke:rgb(0%,0%,0%);stroke-opacity:1;stroke-miterlimit:10;\" d=\"M 189.601562 257.742188 L 343.199219 257.742188 \"/>\n<path style=\"fill:none;stroke-width:1;stroke-linecap:round;stroke-linejoin:round;stroke:rgb(0%,0%,0%);stroke-opacity:1;stroke-dasharray:4,4;stroke-miterlimit:10;\" d=\"M 266.398438 416.800781 L 266.398438 386.445312 \"/>\n<path style=\"fill:none;stroke-width:1;stroke-linecap:round;stroke-linejoin:round;stroke:rgb(0%,0%,0%);stroke-opacity:1;stroke-dasharray:4,4;stroke-miterlimit:10;\" d=\"M 266.398438 72.800781 L 266.398438 126.738281 \"/>\n<path style=\"fill:none;stroke-width:1;stroke-linecap:round;stroke-linejoin:round;stroke:rgb(0%,0%,0%);stroke-opacity:1;stroke-miterlimit:10;\" d=\"M 228 416.800781 L 304.800781 416.800781 \"/>\n<path style=\"fill:none;stroke-width:1;stroke-linecap:round;stroke-linejoin:round;stroke:rgb(0%,0%,0%);stroke-opacity:1;stroke-miterlimit:10;\" d=\"M 228 72.800781 L 304.800781 72.800781 \"/>\n<path style=\"fill:none;stroke-width:1;stroke-linecap:round;stroke-linejoin:round;stroke:rgb(0%,0%,0%);stroke-opacity:1;stroke-miterlimit:10;\" d=\"M 189.601562 386.445312 L 343.199219 386.445312 L 343.199219 126.738281 L 189.601562 126.738281 L 189.601562 386.445312 \"/>\n<path style=\"fill:none;stroke-width:1;stroke-linecap:round;stroke-linejoin:round;stroke:rgb(0%,0%,0%);stroke-opacity:1;stroke-miterlimit:10;\" d=\"M 59.039062 380.269531 L 59.039062 117.476562 \"/>\n<path style=\"fill:none;stroke-width:1;stroke-linecap:round;stroke-linejoin:round;stroke:rgb(0%,0%,0%);stroke-opacity:1;stroke-miterlimit:10;\" d=\"M 59.039062 380.269531 L 51.839844 380.269531 \"/>\n<path style=\"fill:none;stroke-width:1;stroke-linecap:round;stroke-linejoin:round;stroke:rgb(0%,0%,0%);stroke-opacity:1;stroke-miterlimit:10;\" d=\"M 59.039062 314.574219 L 51.839844 314.574219 \"/>\n<path style=\"fill:none;stroke-width:1;stroke-linecap:round;stroke-linejoin:round;stroke:rgb(0%,0%,0%);stroke-opacity:1;stroke-miterlimit:10;\" d=\"M 59.039062 248.875 L 51.839844 248.875 \"/>\n<path style=\"fill:none;stroke-width:1;stroke-linecap:round;stroke-linejoin:round;stroke:rgb(0%,0%,0%);stroke-opacity:1;stroke-miterlimit:10;\" d=\"M 59.039062 183.175781 L 51.839844 183.175781 \"/>\n<path style=\"fill:none;stroke-width:1;stroke-linecap:round;stroke-linejoin:round;stroke:rgb(0%,0%,0%);stroke-opacity:1;stroke-miterlimit:10;\" d=\"M 59.039062 117.476562 L 51.839844 117.476562 \"/>\n<g style=\"fill:rgb(0%,0%,0%);fill-opacity:1;\">\n  <use xlink:href=\"#glyph0-1\" x=\"43.199219\" y=\"390.695312\"/>\n  <use xlink:href=\"#glyph0-2\" x=\"43.199219\" y=\"383.745313\"/>\n  <use xlink:href=\"#glyph0-2\" x=\"43.199219\" y=\"376.795313\"/>\n</g>\n<g style=\"fill:rgb(0%,0%,0%);fill-opacity:1;\">\n  <use xlink:href=\"#glyph0-1\" x=\"43.199219\" y=\"325\"/>\n  <use xlink:href=\"#glyph0-3\" x=\"43.199219\" y=\"318.05\"/>\n  <use xlink:href=\"#glyph0-2\" x=\"43.199219\" y=\"311.1\"/>\n</g>\n<g style=\"fill:rgb(0%,0%,0%);fill-opacity:1;\">\n  <use xlink:href=\"#glyph0-4\" x=\"43.199219\" y=\"259.300781\"/>\n  <use xlink:href=\"#glyph0-2\" x=\"43.199219\" y=\"252.350781\"/>\n  <use xlink:href=\"#glyph0-2\" x=\"43.199219\" y=\"245.400781\"/>\n</g>\n<g style=\"fill:rgb(0%,0%,0%);fill-opacity:1;\">\n  <use xlink:href=\"#glyph0-4\" x=\"43.199219\" y=\"193.601562\"/>\n  <use xlink:href=\"#glyph0-3\" x=\"43.199219\" y=\"186.651563\"/>\n  <use xlink:href=\"#glyph0-2\" x=\"43.199219\" y=\"179.701563\"/>\n</g>\n<g style=\"fill:rgb(0%,0%,0%);fill-opacity:1;\">\n  <use xlink:href=\"#glyph0-5\" x=\"43.199219\" y=\"127.902344\"/>\n  <use xlink:href=\"#glyph0-2\" x=\"43.199219\" y=\"120.952344\"/>\n  <use xlink:href=\"#glyph0-2\" x=\"43.199219\" y=\"114.002344\"/>\n</g>\n<g style=\"fill:rgb(0%,0%,0%);fill-opacity:1;\">\n  <use xlink:href=\"#glyph1-1\" x=\"246.121094\" y=\"34.949219\"/>\n  <use xlink:href=\"#glyph1-2\" x=\"255.224994\" y=\"34.949219\"/>\n  <use xlink:href=\"#glyph1-3\" x=\"260.186694\" y=\"34.949219\"/>\n  <use xlink:href=\"#glyph1-4\" x=\"265.148394\" y=\"34.949219\"/>\n  <use xlink:href=\"#glyph1-5\" x=\"273.432794\" y=\"34.949219\"/>\n  <use xlink:href=\"#glyph1-3\" x=\"281.717194\" y=\"34.949219\"/>\n</g>\n<g style=\"fill:rgb(0%,0%,0%);fill-opacity:1;\">\n  <use xlink:href=\"#glyph2-1\" x=\"249.03125\" y=\"486.71875\"/>\n  <use xlink:href=\"#glyph2-2\" x=\"258.75625\" y=\"486.71875\"/>\n  <use xlink:href=\"#glyph2-3\" x=\"262.91875\" y=\"486.71875\"/>\n  <use xlink:href=\"#glyph2-4\" x=\"269.86875\" y=\"486.71875\"/>\n  <use xlink:href=\"#glyph2-5\" x=\"276.81875\" y=\"486.71875\"/>\n</g>\n<g style=\"fill:rgb(0%,0%,0%);fill-opacity:1;\">\n  <use xlink:href=\"#glyph0-6\" x=\"14.398438\" y=\"264.25\"/>\n  <use xlink:href=\"#glyph0-7\" x=\"14.398438\" y=\"252.45\"/>\n  <use xlink:href=\"#glyph0-8\" x=\"14.398438\" y=\"245.5\"/>\n  <use xlink:href=\"#glyph0-9\" x=\"14.398438\" y=\"242.725\"/>\n  <use xlink:href=\"#glyph0-10\" x=\"14.398438\" y=\"235.775\"/>\n  <use xlink:href=\"#glyph0-11\" x=\"14.398438\" y=\"228.825\"/>\n</g>\n<path style=\"fill:none;stroke-width:1;stroke-linecap:round;stroke-linejoin:round;stroke:rgb(0%,0%,0%);stroke-opacity:1;stroke-miterlimit:10;\" d=\"M 59.039062 430.558594 L 473.761719 430.558594 L 473.761719 59.039062 L 59.039062 59.039062 L 59.039062 430.558594 \"/>\n</g>\n</svg>\n"
     },
     "execution_count": 25,
     "metadata": {
      "image/svg+xml": {
       "isolated": true
      }
     },
     "output_type": "execute_result"
    }
   ],
   "source": [
    "# Boxplot of MPG by Car Cylinders \n",
    "boxplot(my_data$weight,  data=my_data, main=\"T-test\", \n",
    "  \txlab=\"Group\", ylab=\"Weight\")"
   ]
  },
  {
   "cell_type": "code",
   "execution_count": 26,
   "metadata": {
    "collapsed": false
   },
   "outputs": [
    {
     "data": {
      "text/plain": [
       "\n",
       "\tShapiro-Wilk normality test\n",
       "\n",
       "data:  my_data$weight\n",
       "W = 0.80869, p-value = 0.001168\n"
      ]
     },
     "execution_count": 26,
     "metadata": {
     },
     "output_type": "execute_result"
    }
   ],
   "source": [
    "# Shapiro-Wilk test:\n",
    "shapiro.test(my_data$weight) # => p-value = 0.6993\n",
    "\n",
    "# p > 0.05 = Noramality\n",
    "# otherwise Not a Normal\n",
    "\n",
    "# From the normality plots, we conclude that the data may come from normal distributions."
   ]
  },
  {
   "cell_type": "code",
   "execution_count": 27,
   "metadata": {
    "collapsed": false
   },
   "outputs": [
    {
     "data": {
      "text/plain": [
       "\n",
       "\tTwo Sample t-test\n",
       "\n",
       "data:  before and after\n",
       "t = -17.714, df = 18, p-value = 7.744e-13\n",
       "alternative hypothesis: true difference in means is not equal to 0\n",
       "95 percent confidence interval:\n",
       " -217.5573 -171.4227\n",
       "sample estimates:\n",
       "mean of x mean of y \n",
       "   199.16    393.65 \n"
      ]
     },
     "execution_count": 27,
     "metadata": {
     },
     "output_type": "execute_result"
    }
   ],
   "source": [
    "## Two-Samples T-test \n",
    "\n",
    "## The unpaired two-samples t-test is used to compare the mean of two independent groups. \n",
    "\n",
    "\n",
    "# Compute t-test\n",
    "res <- t.test(before, after, var.equal = TRUE)\n",
    "res\n"
   ]
  },
  {
   "cell_type": "code",
   "execution_count": 0,
   "metadata": {
    "collapsed": false
   },
   "outputs": [
   ],
   "source": [
   ]
  }
 ],
 "metadata": {
  "kernelspec": {
   "display_name": "R (R-Project)",
   "language": "r",
   "name": "ir"
  }
 },
 "nbformat": 4,
 "nbformat_minor": 0
}