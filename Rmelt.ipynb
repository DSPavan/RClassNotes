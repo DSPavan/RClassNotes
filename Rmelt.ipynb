{
 "cells": [
  {
   "cell_type": "code",
   "execution_count": 2,
   "metadata": {
    "collapsed": false
   },
   "outputs": [
    {
     "name": "stdout",
     "output_type": "stream",
     "text": [
      "'data.frame':\t150 obs. of  5 variables:\n",
      " $ Sepal.Length: num  5.1 4.9 4.7 4.6 5 5.4 4.6 5 4.4 4.9 ...\n",
      " $ Sepal.Width : num  3.5 3 3.2 3.1 3.6 3.9 3.4 3.4 2.9 3.1 ...\n",
      " $ Petal.Length: num  1.4 1.4 1.3 1.5 1.4 1.7 1.4 1.5 1.4 1.5 ...\n",
      " $ Petal.Width : num  0.2 0.2 0.2 0.2 0.2 0.4 0.3 0.2 0.2 0.1 ...\n",
      " $ Species     : Factor w/ 3 levels \"setosa\",\"versicolor\",..: 1 1 1 1 1 1 1 1 1 1 ...\n"
     ]
    }
   ],
   "source": [
    "attach(iris)\n",
    "str(iris)"
   ]
  },
  {
   "cell_type": "code",
   "execution_count": 4,
   "metadata": {
    "collapsed": false
   },
   "outputs": [
    {
     "data": {
      "text/html": [
       "<table>\n",
       "<thead><tr><th scope=col>Sepal.Length</th><th scope=col>Sepal.Width</th><th scope=col>Petal.Length</th><th scope=col>Petal.Width</th><th scope=col>Species</th><th scope=col>id</th></tr></thead>\n",
       "<tbody>\n",
       "\t<tr><td>5.1   </td><td>3.5   </td><td>1.4   </td><td>0.2   </td><td>setosa</td><td>1     </td></tr>\n",
       "\t<tr><td>4.9   </td><td>3.0   </td><td>1.4   </td><td>0.2   </td><td>setosa</td><td>2     </td></tr>\n",
       "\t<tr><td>4.7   </td><td>3.2   </td><td>1.3   </td><td>0.2   </td><td>setosa</td><td>3     </td></tr>\n",
       "\t<tr><td>4.6   </td><td>3.1   </td><td>1.5   </td><td>0.2   </td><td>setosa</td><td>4     </td></tr>\n",
       "\t<tr><td>5.0   </td><td>3.6   </td><td>1.4   </td><td>0.2   </td><td>setosa</td><td>5     </td></tr>\n",
       "\t<tr><td>5.4   </td><td>3.9   </td><td>1.7   </td><td>0.4   </td><td>setosa</td><td>6     </td></tr>\n",
       "</tbody>\n",
       "</table>\n"
      ]
     },
     "execution_count": 4,
     "metadata": {
     },
     "output_type": "execute_result"
    }
   ],
   "source": [
    "head(iris)"
   ]
  },
  {
   "cell_type": "code",
   "execution_count": 5,
   "metadata": {
    "collapsed": false
   },
   "outputs": [
    {
     "data": {
      "text/html": [
       "<table>\n",
       "<thead><tr><th scope=col>id</th><th scope=col>Species</th><th scope=col>variable</th><th scope=col>value</th></tr></thead>\n",
       "<tbody>\n",
       "\t<tr><td>1           </td><td>setosa      </td><td>Sepal.Length</td><td>5.1         </td></tr>\n",
       "\t<tr><td>2           </td><td>setosa      </td><td>Sepal.Length</td><td>4.9         </td></tr>\n",
       "\t<tr><td>3           </td><td>setosa      </td><td>Sepal.Length</td><td>4.7         </td></tr>\n",
       "\t<tr><td>4           </td><td>setosa      </td><td>Sepal.Length</td><td>4.6         </td></tr>\n",
       "\t<tr><td>5           </td><td>setosa      </td><td>Sepal.Length</td><td>5.0         </td></tr>\n",
       "\t<tr><td>6           </td><td>setosa      </td><td>Sepal.Length</td><td>5.4         </td></tr>\n",
       "</tbody>\n",
       "</table>\n"
      ]
     },
     "execution_count": 5,
     "metadata": {
     },
     "output_type": "execute_result"
    }
   ],
   "source": [
    "library(reshape2)\n",
    "\n",
    "# generate a unique id for each row; this let's us go back to wide format later\n",
    "iris$id <- 1:nrow(iris)\n",
    "\n",
    "iris.lng <- melt(iris, id=c(\"id\", \"Species\"))\n",
    "head(iris.lng)\n",
    "\n",
    "# new column Variable, Value"
   ]
  },
  {
   "cell_type": "code",
   "execution_count": 10,
   "metadata": {
    "collapsed": false
   },
   "outputs": [
    {
     "name": "stdout",
     "output_type": "stream",
     "text": [
      "'data.frame':\t600 obs. of  4 variables:\n",
      " $ id      : int  1 2 3 4 5 6 7 8 9 10 ...\n",
      " $ Species : Factor w/ 3 levels \"setosa\",\"versicolor\",..: 1 1 1 1 1 1 1 1 1 1 ...\n",
      " $ variable: Factor w/ 4 levels \"Sepal.Length\",..: 1 1 1 1 1 1 1 1 1 1 ...\n",
      " $ value   : num  5.1 4.9 4.7 4.6 5 5.4 4.6 5 4.4 4.9 ...\n"
     ]
    }
   ],
   "source": [
    "str(iris.lng)"
   ]
  },
  {
   "cell_type": "code",
   "execution_count": 7,
   "metadata": {
    "collapsed": false
   },
   "outputs": [
    {
     "data": {
      "text/html": [
       "<table>\n",
       "<thead><tr><th scope=col>id</th><th scope=col>Species</th><th scope=col>Sepal.Length</th><th scope=col>Sepal.Width</th><th scope=col>Petal.Length</th><th scope=col>Petal.Width</th></tr></thead>\n",
       "<tbody>\n",
       "\t<tr><td>1     </td><td>setosa</td><td>5.1   </td><td>3.5   </td><td>1.4   </td><td>0.2   </td></tr>\n",
       "\t<tr><td>2     </td><td>setosa</td><td>4.9   </td><td>3.0   </td><td>1.4   </td><td>0.2   </td></tr>\n",
       "\t<tr><td>3     </td><td>setosa</td><td>4.7   </td><td>3.2   </td><td>1.3   </td><td>0.2   </td></tr>\n",
       "\t<tr><td>4     </td><td>setosa</td><td>4.6   </td><td>3.1   </td><td>1.5   </td><td>0.2   </td></tr>\n",
       "\t<tr><td>5     </td><td>setosa</td><td>5.0   </td><td>3.6   </td><td>1.4   </td><td>0.2   </td></tr>\n",
       "\t<tr><td>6     </td><td>setosa</td><td>5.4   </td><td>3.9   </td><td>1.7   </td><td>0.4   </td></tr>\n",
       "</tbody>\n",
       "</table>\n"
      ]
     },
     "execution_count": 7,
     "metadata": {
     },
     "output_type": "execute_result"
    }
   ],
   "source": [
    "# Wide - cast\n",
    "iris.wide <- dcast(iris.lng, id + Species ~ variable)\n",
    "head(iris.wide)"
   ]
  },
  {
   "cell_type": "code",
   "execution_count": 11,
   "metadata": {
    "collapsed": false
   },
   "outputs": [
    {
     "name": "stderr",
     "output_type": "stream",
     "text": [
      "\n",
      "Attaching package: ‘dplyr’\n",
      "\n"
     ]
    },
    {
     "name": "stderr",
     "output_type": "stream",
     "text": [
      "The following objects are masked from ‘package:stats’:\n",
      "\n",
      "    filter, lag\n",
      "\n"
     ]
    },
    {
     "name": "stderr",
     "output_type": "stream",
     "text": [
      "The following objects are masked from ‘package:base’:\n",
      "\n",
      "    intersect, setdiff, setequal, union\n",
      "\n"
     ]
    },
    {
     "data": {
      "text/html": [
       "<table>\n",
       "<thead><tr><th></th><th scope=col>id</th><th scope=col>Species</th><th scope=col>variable</th><th scope=col>value</th></tr></thead>\n",
       "<tbody>\n",
       "\t<tr><th scope=row>10</th><td>10          </td><td>setosa      </td><td>Sepal.Length</td><td>4.9         </td></tr>\n",
       "\t<tr><th scope=row>11</th><td>11          </td><td>setosa      </td><td>Sepal.Length</td><td>5.4         </td></tr>\n",
       "\t<tr><th scope=row>12</th><td>12          </td><td>setosa      </td><td>Sepal.Length</td><td>4.8         </td></tr>\n",
       "\t<tr><th scope=row>13</th><td>13          </td><td>setosa      </td><td>Sepal.Length</td><td>4.8         </td></tr>\n",
       "\t<tr><th scope=row>14</th><td>14          </td><td>setosa      </td><td>Sepal.Length</td><td>4.3         </td></tr>\n",
       "\t<tr><th scope=row>15</th><td>15          </td><td>setosa      </td><td>Sepal.Length</td><td>5.8         </td></tr>\n",
       "\t<tr><th scope=row>16</th><td>16          </td><td>setosa      </td><td>Sepal.Length</td><td>5.7         </td></tr>\n",
       "\t<tr><th scope=row>17</th><td>17          </td><td>setosa      </td><td>Sepal.Length</td><td>5.4         </td></tr>\n",
       "\t<tr><th scope=row>18</th><td>18          </td><td>setosa      </td><td>Sepal.Length</td><td>5.1         </td></tr>\n",
       "\t<tr><th scope=row>19</th><td>19          </td><td>setosa      </td><td>Sepal.Length</td><td>5.7         </td></tr>\n",
       "\t<tr><th scope=row>20</th><td>20          </td><td>setosa      </td><td>Sepal.Length</td><td>5.1         </td></tr>\n",
       "\t<tr><th scope=row>21</th><td>21          </td><td>setosa      </td><td>Sepal.Length</td><td>5.4         </td></tr>\n",
       "\t<tr><th scope=row>22</th><td>22          </td><td>setosa      </td><td>Sepal.Length</td><td>5.1         </td></tr>\n",
       "\t<tr><th scope=row>23</th><td>23          </td><td>setosa      </td><td>Sepal.Length</td><td>4.6         </td></tr>\n",
       "\t<tr><th scope=row>24</th><td>24          </td><td>setosa      </td><td>Sepal.Length</td><td>5.1         </td></tr>\n",
       "\t<tr><th scope=row>25</th><td>25          </td><td>setosa      </td><td>Sepal.Length</td><td>4.8         </td></tr>\n",
       "\t<tr><th scope=row>26</th><td>26          </td><td>setosa      </td><td>Sepal.Length</td><td>5.0         </td></tr>\n",
       "\t<tr><th scope=row>27</th><td>27          </td><td>setosa      </td><td>Sepal.Length</td><td>5.0         </td></tr>\n",
       "\t<tr><th scope=row>28</th><td>28          </td><td>setosa      </td><td>Sepal.Length</td><td>5.2         </td></tr>\n",
       "\t<tr><th scope=row>29</th><td>29          </td><td>setosa      </td><td>Sepal.Length</td><td>5.2         </td></tr>\n",
       "\t<tr><th scope=row>30</th><td>30          </td><td>setosa      </td><td>Sepal.Length</td><td>4.7         </td></tr>\n",
       "</tbody>\n",
       "</table>\n"
      ]
     },
     "execution_count": 11,
     "metadata": {
     },
     "output_type": "execute_result"
    }
   ],
   "source": [
    "library(\"dplyr\")\n",
    "iris.lng[10:30,]"
   ]
  },
  {
   "cell_type": "code",
   "execution_count": 12,
   "metadata": {
    "collapsed": false
   },
   "outputs": [
    {
     "data": {
      "text/html": [
       "<table>\n",
       "<thead><tr><th></th><th scope=col>id</th><th scope=col>Species</th><th scope=col>variable</th><th scope=col>value</th></tr></thead>\n",
       "<tbody>\n",
       "\t<tr><th scope=row>126</th><td>126         </td><td>virginica   </td><td>Sepal.Length</td><td>7.2         </td></tr>\n",
       "\t<tr><th scope=row>173</th><td> 23         </td><td>setosa      </td><td>Sepal.Width </td><td>3.6         </td></tr>\n",
       "\t<tr><th scope=row>196</th><td> 46         </td><td>setosa      </td><td>Sepal.Width </td><td>3.0         </td></tr>\n",
       "\t<tr><th scope=row>525</th><td> 75         </td><td>versicolor  </td><td>Petal.Width </td><td>1.3         </td></tr>\n",
       "\t<tr><th scope=row>189</th><td> 39         </td><td>setosa      </td><td>Sepal.Width </td><td>3.0         </td></tr>\n",
       "\t<tr><th scope=row>98</th><td> 98         </td><td>versicolor  </td><td>Sepal.Length</td><td>6.2         </td></tr>\n",
       "\t<tr><th scope=row>108</th><td>108         </td><td>virginica   </td><td>Sepal.Length</td><td>7.3         </td></tr>\n",
       "\t<tr><th scope=row>43</th><td> 43         </td><td>setosa      </td><td>Sepal.Length</td><td>4.4         </td></tr>\n",
       "\t<tr><th scope=row>286</th><td>136         </td><td>virginica   </td><td>Sepal.Width </td><td>3.0         </td></tr>\n",
       "\t<tr><th scope=row>255</th><td>105         </td><td>virginica   </td><td>Sepal.Width </td><td>3.0         </td></tr>\n",
       "</tbody>\n",
       "</table>\n"
      ]
     },
     "execution_count": 12,
     "metadata": {
     },
     "output_type": "execute_result"
    }
   ],
   "source": [
    "iris.lng[sample(nrow(iris.lng),10),] # Random sampling"
   ]
  },
  {
   "cell_type": "code",
   "execution_count": 14,
   "metadata": {
    "collapsed": false
   },
   "outputs": [
    {
     "name": "stdout",
     "output_type": "stream",
     "text": [
      "'data.frame':\t600 obs. of  4 variables:\n",
      " $ id       : int  1 2 3 4 5 6 7 8 9 10 ...\n",
      " $ Species  : Factor w/ 3 levels \"setosa\",\"versicolor\",..: 1 1 1 1 1 1 1 1 1 1 ...\n",
      " $ NewColumn: Factor w/ 4 levels \"Sepal.Length\",..: 1 1 1 1 1 1 1 1 1 1 ...\n",
      " $ value    : num  5.1 4.9 4.7 4.6 5 5.4 4.6 5 4.4 4.9 ...\n"
     ]
    },
    {
     "data": {
      "text/html": [
       "<table>\n",
       "<thead><tr><th></th><th scope=col>id</th><th scope=col>Species</th><th scope=col>NewColumn</th><th scope=col>value</th></tr></thead>\n",
       "<tbody>\n",
       "\t<tr><th scope=row>202</th><td> 52         </td><td>versicolor  </td><td>Sepal.Width </td><td>3.2         </td></tr>\n",
       "\t<tr><th scope=row>122</th><td>122         </td><td>virginica   </td><td>Sepal.Length</td><td>5.6         </td></tr>\n",
       "\t<tr><th scope=row>299</th><td>149         </td><td>virginica   </td><td>Sepal.Width </td><td>3.4         </td></tr>\n",
       "\t<tr><th scope=row>430</th><td>130         </td><td>virginica   </td><td>Petal.Length</td><td>5.8         </td></tr>\n",
       "\t<tr><th scope=row>300</th><td>150         </td><td>virginica   </td><td>Sepal.Width </td><td>3.0         </td></tr>\n",
       "\t<tr><th scope=row>494</th><td> 44         </td><td>setosa      </td><td>Petal.Width </td><td>0.6         </td></tr>\n",
       "\t<tr><th scope=row>35</th><td> 35         </td><td>setosa      </td><td>Sepal.Length</td><td>4.9         </td></tr>\n",
       "\t<tr><th scope=row>294</th><td>144         </td><td>virginica   </td><td>Sepal.Width </td><td>3.2         </td></tr>\n",
       "\t<tr><th scope=row>459</th><td>  9         </td><td>setosa      </td><td>Petal.Width </td><td>0.2         </td></tr>\n",
       "\t<tr><th scope=row>376</th><td> 76         </td><td>versicolor  </td><td>Petal.Length</td><td>4.4         </td></tr>\n",
       "</tbody>\n",
       "</table>\n"
      ]
     },
     "execution_count": 14,
     "metadata": {
     },
     "output_type": "execute_result"
    }
   ],
   "source": [
    "molted = melt(iris,id.vars=c(\"id\",\"Species\"),measured.vars=c(\"Sepal.length\",\"Sepal.width\",\"Petal.length\" ,\"Petal.width\"),variable=\"NewColumn\")\n",
    "str(molted)\n",
    "molted[sample(nrow(molted),10),] # Random sampling\n",
    "# VAriable Renamed"
   ]
  },
  {
   "cell_type": "code",
   "execution_count": 18,
   "metadata": {
    "collapsed": false
   },
   "outputs": [
    {
     "name": "stderr",
     "output_type": "stream",
     "text": [
      "Using Petal.Width as value column: use value.var to override.\n"
     ]
    },
    {
     "data": {
      "text/html": [
       "<table>\n",
       "<thead><tr><th scope=col>Species</th><th scope=col>.</th></tr></thead>\n",
       "<tbody>\n",
       "\t<tr><td>setosa    </td><td>0.246     </td></tr>\n",
       "\t<tr><td>versicolor</td><td>1.326     </td></tr>\n",
       "\t<tr><td>virginica </td><td>2.026     </td></tr>\n",
       "</tbody>\n",
       "</table>\n"
      ]
     },
     "execution_count": 18,
     "metadata": {
     },
     "output_type": "execute_result"
    }
   ],
   "source": [
    "dcast(iris.wide, Species~., fun.aggregate=mean, na.rm=TRUE)"
   ]
  },
  {
   "cell_type": "code",
   "execution_count": 0,
   "metadata": {
    "collapsed": false
   },
   "outputs": [
   ],
   "source": [
   ]
  }
 ],
 "metadata": {
  "kernelspec": {
   "display_name": "R (R-Project)",
   "language": "r",
   "name": "ir"
  },
  "language_info": {
   "codemirror_mode": "r",
   "file_extension": ".r",
   "mimetype": "text/x-r-source",
   "name": "R",
   "pygments_lexer": "r",
   "version": "3.4.4"
  }
 },
 "nbformat": 4,
 "nbformat_minor": 0
}