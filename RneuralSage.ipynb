{
 "cells": [
  {
   "cell_type": "code",
   "execution_count": 1,
   "metadata": {},
   "outputs": [],
   "source": [
    "library(\"neuralnet\")"
   ]
  },
  {
   "cell_type": "code",
   "execution_count": 2,
   "metadata": {},
   "outputs": [],
   "source": [
    "#Generate 50 random numbers uniformly distributed between 0 and 100\n",
    "#And store them as a dataframe\n",
    "\n",
    "traininginput <-  as.data.frame(runif(50, min=0, max=100))\n",
    "\n",
    "trainingoutput <- sqrt(traininginput)\n"
   ]
  },
  {
   "cell_type": "code",
   "execution_count": 4,
   "metadata": {},
   "outputs": [
    {
     "data": {
      "text/html": [
       "<table>\n",
       "<thead><tr><th scope=col>runif(50, min = 0, max = 100)</th><th scope=col>runif(50, min = 0, max = 100)</th></tr></thead>\n",
       "<tbody>\n",
       "\t<tr><td>87.97128</td><td>9.379300</td></tr>\n",
       "\t<tr><td>33.52779</td><td>5.790319</td></tr>\n",
       "\t<tr><td>32.73701</td><td>5.721626</td></tr>\n",
       "\t<tr><td>75.34483</td><td>8.680140</td></tr>\n",
       "\t<tr><td>47.16921</td><td>6.867984</td></tr>\n",
       "\t<tr><td>95.86419</td><td>9.791026</td></tr>\n",
       "</tbody>\n",
       "</table>\n"
      ],
      "text/latex": [
       "\\begin{tabular}{r|ll}\n",
       " runif(50, min = 0, max = 100) & runif(50, min = 0, max = 100)\\\\\n",
       "\\hline\n",
       "\t 87.97128 & 9.379300\\\\\n",
       "\t 33.52779 & 5.790319\\\\\n",
       "\t 32.73701 & 5.721626\\\\\n",
       "\t 75.34483 & 8.680140\\\\\n",
       "\t 47.16921 & 6.867984\\\\\n",
       "\t 95.86419 & 9.791026\\\\\n",
       "\\end{tabular}\n"
      ],
      "text/markdown": [
       "\n",
       "runif(50, min = 0, max = 100) | runif(50, min = 0, max = 100) | \n",
       "|---|---|---|---|---|---|\n",
       "| 87.97128 | 9.379300 | \n",
       "| 33.52779 | 5.790319 | \n",
       "| 32.73701 | 5.721626 | \n",
       "| 75.34483 | 8.680140 | \n",
       "| 47.16921 | 6.867984 | \n",
       "| 95.86419 | 9.791026 | \n",
       "\n",
       "\n"
      ],
      "text/plain": [
       "  runif(50, min = 0, max = 100) runif(50, min = 0, max = 100)\n",
       "1 87.97128                      9.379300                     \n",
       "2 33.52779                      5.790319                     \n",
       "3 32.73701                      5.721626                     \n",
       "4 75.34483                      8.680140                     \n",
       "5 47.16921                      6.867984                     \n",
       "6 95.86419                      9.791026                     "
      ]
     },
     "metadata": {},
     "output_type": "display_data"
    }
   ],
   "source": [
    "r1 <- cbind(traininginput,trainingoutput)\n",
    "head(r1)"
   ]
  },
  {
   "cell_type": "code",
   "execution_count": 5,
   "metadata": {},
   "outputs": [],
   "source": [
    "#Column bind the data into one variable\n",
    "trainingdata <- cbind(traininginput,trainingoutput)\n",
    "colnames(trainingdata) <- c(\"Input\",\"Output\")"
   ]
  },
  {
   "cell_type": "code",
   "execution_count": 6,
   "metadata": {},
   "outputs": [
    {
     "data": {
      "text/html": [
       "<table>\n",
       "<thead><tr><th scope=col>Input</th><th scope=col>Output</th></tr></thead>\n",
       "<tbody>\n",
       "\t<tr><td>87.97128</td><td>9.379300</td></tr>\n",
       "\t<tr><td>33.52779</td><td>5.790319</td></tr>\n",
       "\t<tr><td>32.73701</td><td>5.721626</td></tr>\n",
       "\t<tr><td>75.34483</td><td>8.680140</td></tr>\n",
       "\t<tr><td>47.16921</td><td>6.867984</td></tr>\n",
       "\t<tr><td>95.86419</td><td>9.791026</td></tr>\n",
       "</tbody>\n",
       "</table>\n"
      ],
      "text/latex": [
       "\\begin{tabular}{r|ll}\n",
       " Input & Output\\\\\n",
       "\\hline\n",
       "\t 87.97128 & 9.379300\\\\\n",
       "\t 33.52779 & 5.790319\\\\\n",
       "\t 32.73701 & 5.721626\\\\\n",
       "\t 75.34483 & 8.680140\\\\\n",
       "\t 47.16921 & 6.867984\\\\\n",
       "\t 95.86419 & 9.791026\\\\\n",
       "\\end{tabular}\n"
      ],
      "text/markdown": [
       "\n",
       "Input | Output | \n",
       "|---|---|---|---|---|---|\n",
       "| 87.97128 | 9.379300 | \n",
       "| 33.52779 | 5.790319 | \n",
       "| 32.73701 | 5.721626 | \n",
       "| 75.34483 | 8.680140 | \n",
       "| 47.16921 | 6.867984 | \n",
       "| 95.86419 | 9.791026 | \n",
       "\n",
       "\n"
      ],
      "text/plain": [
       "  Input    Output  \n",
       "1 87.97128 9.379300\n",
       "2 33.52779 5.790319\n",
       "3 32.73701 5.721626\n",
       "4 75.34483 8.680140\n",
       "5 47.16921 6.867984\n",
       "6 95.86419 9.791026"
      ]
     },
     "metadata": {},
     "output_type": "display_data"
    }
   ],
   "source": [
    "head(trainingdata)"
   ]
  },
  {
   "cell_type": "code",
   "execution_count": 7,
   "metadata": {},
   "outputs": [],
   "source": [
    "net.sqrt <- neuralnet(Output~Input,trainingdata, hidden=3, threshold=0.01)\n",
    "#print(net.sqrt)\n",
    "\n",
    "#Plot the neural network\n",
    "plot(net.sqrt)"
   ]
  },
  {
   "cell_type": "code",
   "execution_count": 9,
   "metadata": {},
   "outputs": [],
   "source": [
    "plot(net.sqrt)"
   ]
  },
  {
   "cell_type": "code",
   "execution_count": 10,
   "metadata": {},
   "outputs": [],
   "source": [
    "#Test the neural network on some training data\n",
    "testdata <- as.data.frame((1:10)^2) #Generate some squared numbers\n",
    "net.results <- compute(net.sqrt, testdata) #Run them through the neural network"
   ]
  },
  {
   "cell_type": "code",
   "execution_count": 12,
   "metadata": {},
   "outputs": [
    {
     "data": {
      "text/html": [
       "<dl>\n",
       "\t<dt>$neurons</dt>\n",
       "\t\t<dd><ol>\n",
       "\t<li><table>\n",
       "<thead><tr><th scope=col>1</th><th scope=col>(1:10)^2</th></tr></thead>\n",
       "<tbody>\n",
       "\t<tr><td>1  </td><td>  1</td></tr>\n",
       "\t<tr><td>1  </td><td>  4</td></tr>\n",
       "\t<tr><td>1  </td><td>  9</td></tr>\n",
       "\t<tr><td>1  </td><td> 16</td></tr>\n",
       "\t<tr><td>1  </td><td> 25</td></tr>\n",
       "\t<tr><td>1  </td><td> 36</td></tr>\n",
       "\t<tr><td>1  </td><td> 49</td></tr>\n",
       "\t<tr><td>1  </td><td> 64</td></tr>\n",
       "\t<tr><td>1  </td><td> 81</td></tr>\n",
       "\t<tr><td>1  </td><td>100</td></tr>\n",
       "</tbody>\n",
       "</table>\n",
       "</li>\n",
       "\t<li><table>\n",
       "<tbody>\n",
       "\t<tr><td>1                    </td><td>0.2630062678888679950</td><td>0.2166627303         </td><td>0.03366682511        </td></tr>\n",
       "\t<tr><td>1                    </td><td>0.1549111761597106451</td><td>0.2574243211         </td><td>0.03844616463        </td></tr>\n",
       "\t<tr><td>1                    </td><td>0.0569522505727107983</td><td>0.3355857526         </td><td>0.04788950429        </td></tr>\n",
       "\t<tr><td>1                    </td><td>0.0126004390528417342</td><td>0.4610517388         </td><td>0.06485939661        </td></tr>\n",
       "\t<tr><td>1                    </td><td>0.0017265395849968780</td><td>0.6274652504         </td><td>0.09488789113        </td></tr>\n",
       "\t<tr><td>1                    </td><td>0.0001503192911855802</td><td>0.7940271896         </td><td>0.14799075488        </td></tr>\n",
       "\t<tr><td>1                    </td><td>0.0000083820082673927</td><td>0.9111645220         </td><td>0.23980850094        </td></tr>\n",
       "\t<tr><td>1                    </td><td>0.0000002997381613791</td><td>0.9694406781         </td><td>0.38575082505        </td></tr>\n",
       "\t<tr><td>1                    </td><td>0.0000000068746617718</td><td>0.9913087557         </td><td>0.57813312452        </td></tr>\n",
       "\t<tr><td>1                    </td><td>0.0000000001011298201</td><td>0.9979067013         </td><td>0.76624716783        </td></tr>\n",
       "</tbody>\n",
       "</table>\n",
       "</li>\n",
       "</ol>\n",
       "</dd>\n",
       "\t<dt>$net.result</dt>\n",
       "\t\t<dd><table>\n",
       "<tbody>\n",
       "\t<tr><td>0.9945590387</td></tr>\n",
       "\t<tr><td>1.9487321529</td></tr>\n",
       "\t<tr><td>3.0284646564</td></tr>\n",
       "\t<tr><td>3.9945775060</td></tr>\n",
       "\t<tr><td>4.9828172205</td></tr>\n",
       "\t<tr><td>6.0194525851</td></tr>\n",
       "\t<tr><td>7.0053165354</td></tr>\n",
       "\t<tr><td>7.9803161890</td></tr>\n",
       "\t<tr><td>9.0118054424</td></tr>\n",
       "\t<tr><td>9.9521515183</td></tr>\n",
       "</tbody>\n",
       "</table>\n",
       "</dd>\n",
       "</dl>\n"
      ],
      "text/latex": [
       "\\begin{description}\n",
       "\\item[\\$neurons] \\begin{enumerate}\n",
       "\\item \\begin{tabular}{ll}\n",
       " 1 & (1:10)\\textasciicircum{}2\\\\\n",
       "\\hline\n",
       "\t 1   &   1\\\\\n",
       "\t 1   &   4\\\\\n",
       "\t 1   &   9\\\\\n",
       "\t 1   &  16\\\\\n",
       "\t 1   &  25\\\\\n",
       "\t 1   &  36\\\\\n",
       "\t 1   &  49\\\\\n",
       "\t 1   &  64\\\\\n",
       "\t 1   &  81\\\\\n",
       "\t 1   & 100\\\\\n",
       "\\end{tabular}\n",
       "\n",
       "\\item \\begin{tabular}{llll}\n",
       "\t 1                     & 0.2630062678888679950 & 0.2166627303          & 0.03366682511        \\\\\n",
       "\t 1                     & 0.1549111761597106451 & 0.2574243211          & 0.03844616463        \\\\\n",
       "\t 1                     & 0.0569522505727107983 & 0.3355857526          & 0.04788950429        \\\\\n",
       "\t 1                     & 0.0126004390528417342 & 0.4610517388          & 0.06485939661        \\\\\n",
       "\t 1                     & 0.0017265395849968780 & 0.6274652504          & 0.09488789113        \\\\\n",
       "\t 1                     & 0.0001503192911855802 & 0.7940271896          & 0.14799075488        \\\\\n",
       "\t 1                     & 0.0000083820082673927 & 0.9111645220          & 0.23980850094        \\\\\n",
       "\t 1                     & 0.0000002997381613791 & 0.9694406781          & 0.38575082505        \\\\\n",
       "\t 1                     & 0.0000000068746617718 & 0.9913087557          & 0.57813312452        \\\\\n",
       "\t 1                     & 0.0000000001011298201 & 0.9979067013          & 0.76624716783        \\\\\n",
       "\\end{tabular}\n",
       "\n",
       "\\end{enumerate}\n",
       "\n",
       "\\item[\\$net.result] \\begin{tabular}{l}\n",
       "\t 0.9945590387\\\\\n",
       "\t 1.9487321529\\\\\n",
       "\t 3.0284646564\\\\\n",
       "\t 3.9945775060\\\\\n",
       "\t 4.9828172205\\\\\n",
       "\t 6.0194525851\\\\\n",
       "\t 7.0053165354\\\\\n",
       "\t 7.9803161890\\\\\n",
       "\t 9.0118054424\\\\\n",
       "\t 9.9521515183\\\\\n",
       "\\end{tabular}\n",
       "\n",
       "\\end{description}\n"
      ],
      "text/markdown": [
       "$neurons\n",
       ":   1. \n",
       "1 | (1:10)^2 | \n",
       "|---|---|---|---|---|---|---|---|---|---|\n",
       "| 1   |   1 | \n",
       "| 1   |   4 | \n",
       "| 1   |   9 | \n",
       "| 1   |  16 | \n",
       "| 1   |  25 | \n",
       "| 1   |  36 | \n",
       "| 1   |  49 | \n",
       "| 1   |  64 | \n",
       "| 1   |  81 | \n",
       "| 1   | 100 | \n",
       "\n",
       "\n",
       "\n",
       "2. \n",
       "| 1                     | 0.2630062678888679950 | 0.2166627303          | 0.03366682511         | \n",
       "| 1                     | 0.1549111761597106451 | 0.2574243211          | 0.03844616463         | \n",
       "| 1                     | 0.0569522505727107983 | 0.3355857526          | 0.04788950429         | \n",
       "| 1                     | 0.0126004390528417342 | 0.4610517388          | 0.06485939661         | \n",
       "| 1                     | 0.0017265395849968780 | 0.6274652504          | 0.09488789113         | \n",
       "| 1                     | 0.0001503192911855802 | 0.7940271896          | 0.14799075488         | \n",
       "| 1                     | 0.0000083820082673927 | 0.9111645220          | 0.23980850094         | \n",
       "| 1                     | 0.0000002997381613791 | 0.9694406781          | 0.38575082505         | \n",
       "| 1                     | 0.0000000068746617718 | 0.9913087557          | 0.57813312452         | \n",
       "| 1                     | 0.0000000001011298201 | 0.9979067013          | 0.76624716783         | \n",
       "\n",
       "\n",
       "\n",
       "\n",
       "\n",
       "\n",
       "$net.result\n",
       ":   \n",
       "| 0.9945590387 | \n",
       "| 1.9487321529 | \n",
       "| 3.0284646564 | \n",
       "| 3.9945775060 | \n",
       "| 4.9828172205 | \n",
       "| 6.0194525851 | \n",
       "| 7.0053165354 | \n",
       "| 7.9803161890 | \n",
       "| 9.0118054424 | \n",
       "| 9.9521515183 | \n",
       "\n",
       "\n",
       "\n",
       "\n",
       "\n"
      ],
      "text/plain": [
       "$neurons\n",
       "$neurons[[1]]\n",
       "      1 (1:10)^2\n",
       " [1,] 1        1\n",
       " [2,] 1        4\n",
       " [3,] 1        9\n",
       " [4,] 1       16\n",
       " [5,] 1       25\n",
       " [6,] 1       36\n",
       " [7,] 1       49\n",
       " [8,] 1       64\n",
       " [9,] 1       81\n",
       "[10,] 1      100\n",
       "\n",
       "$neurons[[2]]\n",
       "      [,1]                  [,2]         [,3]          [,4]\n",
       " [1,]    1 0.2630062678888679950 0.2166627303 0.03366682511\n",
       " [2,]    1 0.1549111761597106451 0.2574243211 0.03844616463\n",
       " [3,]    1 0.0569522505727107983 0.3355857526 0.04788950429\n",
       " [4,]    1 0.0126004390528417342 0.4610517388 0.06485939661\n",
       " [5,]    1 0.0017265395849968780 0.6274652504 0.09488789113\n",
       " [6,]    1 0.0001503192911855802 0.7940271896 0.14799075488\n",
       " [7,]    1 0.0000083820082673927 0.9111645220 0.23980850094\n",
       " [8,]    1 0.0000002997381613791 0.9694406781 0.38575082505\n",
       " [9,]    1 0.0000000068746617718 0.9913087557 0.57813312452\n",
       "[10,]    1 0.0000000001011298201 0.9979067013 0.76624716783\n",
       "\n",
       "\n",
       "$net.result\n",
       "              [,1]\n",
       " [1,] 0.9945590387\n",
       " [2,] 1.9487321529\n",
       " [3,] 3.0284646564\n",
       " [4,] 3.9945775060\n",
       " [5,] 4.9828172205\n",
       " [6,] 6.0194525851\n",
       " [7,] 7.0053165354\n",
       " [8,] 7.9803161890\n",
       " [9,] 9.0118054424\n",
       "[10,] 9.9521515183\n"
      ]
     },
     "metadata": {},
     "output_type": "display_data"
    }
   ],
   "source": [
    "head(net.results)"
   ]
  },
  {
   "cell_type": "code",
   "execution_count": 13,
   "metadata": {},
   "outputs": [
    {
     "name": "stdout",
     "output_type": "stream",
     "text": [
      "   Input Expected Output Neural Net Output\n",
      "1      1               1      0.9945590387\n",
      "2      4               2      1.9487321529\n",
      "3      9               3      3.0284646564\n",
      "4     16               4      3.9945775060\n",
      "5     25               5      4.9828172205\n",
      "6     36               6      6.0194525851\n",
      "7     49               7      7.0053165354\n",
      "8     64               8      7.9803161890\n",
      "9     81               9      9.0118054424\n",
      "10   100              10      9.9521515183\n"
     ]
    }
   ],
   "source": [
    "#Lets display a better version of the results\n",
    "cleanoutput <- cbind(testdata,sqrt(testdata),\n",
    "                     as.data.frame(net.results$net.result))\n",
    "colnames(cleanoutput) <- c(\"Input\",\"Expected Output\",\"Neural Net Output\")\n",
    "print(cleanoutput)"
   ]
  },
  {
   "cell_type": "code",
   "execution_count": 27,
   "metadata": {},
   "outputs": [
    {
     "name": "stdout",
     "output_type": "stream",
     "text": [
      "'data.frame':\t74 obs. of  16 variables:\n",
      " $ name    : chr  \"100%_Bran\" \"All-Bran\" \"All-Bran_with_Extra_Fiber\" \"Cracklin'_Oat_Bran\" ...\n",
      " $ mfr     : chr  \"N\" \"K\" \"K\" \"K\" ...\n",
      " $ type    : chr  \"C\" \"C\" \"C\" \"C\" ...\n",
      " $ calories: int  70 70 50 110 120 120 120 110 110 110 ...\n",
      " $ protein : int  4 4 4 3 3 3 3 2 2 2 ...\n",
      " $ fat     : int  1 1 0 3 1 1 5 2 2 0 ...\n",
      " $ sodium  : int  130 260 140 140 200 210 15 200 180 125 ...\n",
      " $ fiber   : num  10 9 14 4 6 5 2 1 1.5 1 ...\n",
      " $ carbo   : num  5 7 8 10 11 14 8 14 10.5 11 ...\n",
      " $ sugars  : int  6 5 0 7 14 12 8 8 10 14 ...\n",
      " $ potass  : int  280 320 330 160 260 240 135 -1 70 30 ...\n",
      " $ vitamins: int  25 25 25 25 25 25 0 25 25 25 ...\n",
      " $ shelf   : int  3 3 3 3 3 2 3 3 1 2 ...\n",
      " $ weight  : num  1 1 1 1 1.33 1.33 1 1 1 1 ...\n",
      " $ cups    : num  0.33 0.33 0.5 0.5 0.67 0.75 1 0.75 0.75 1 ...\n",
      " $ rating  : num  68.4 59.4 93.7 40.4 37.8 ...\n"
     ]
    },
    {
     "data": {
      "text/html": [
       "<table>\n",
       "<thead><tr><th scope=col>name</th><th scope=col>mfr</th><th scope=col>type</th><th scope=col>calories</th><th scope=col>protein</th><th scope=col>fat</th><th scope=col>sodium</th><th scope=col>fiber</th><th scope=col>carbo</th><th scope=col>sugars</th><th scope=col>potass</th><th scope=col>vitamins</th><th scope=col>shelf</th><th scope=col>weight</th><th scope=col>cups</th><th scope=col>rating</th></tr></thead>\n",
       "<tbody>\n",
       "\t<tr><td>100%_Bran                </td><td>N                        </td><td>C                        </td><td> 70                      </td><td>4                        </td><td>1                        </td><td>130                      </td><td>10                       </td><td> 5                       </td><td> 6                       </td><td>280                      </td><td>25                       </td><td>3                        </td><td>1.00                     </td><td>0.33                     </td><td>68.402973                </td></tr>\n",
       "\t<tr><td>All-Bran                 </td><td>K                        </td><td>C                        </td><td> 70                      </td><td>4                        </td><td>1                        </td><td>260                      </td><td> 9                       </td><td> 7                       </td><td> 5                       </td><td>320                      </td><td>25                       </td><td>3                        </td><td>1.00                     </td><td>0.33                     </td><td>59.425505                </td></tr>\n",
       "\t<tr><td>All-Bran_with_Extra_Fiber</td><td>K                        </td><td>C                        </td><td> 50                      </td><td>4                        </td><td>0                        </td><td>140                      </td><td>14                       </td><td> 8                       </td><td> 0                       </td><td>330                      </td><td>25                       </td><td>3                        </td><td>1.00                     </td><td>0.50                     </td><td>93.704912                </td></tr>\n",
       "\t<tr><td>Cracklin'_Oat_Bran       </td><td>K                        </td><td>C                        </td><td>110                      </td><td>3                        </td><td>3                        </td><td>140                      </td><td> 4                       </td><td>10                       </td><td> 7                       </td><td>160                      </td><td>25                       </td><td>3                        </td><td>1.00                     </td><td>0.50                     </td><td>40.448772                </td></tr>\n",
       "\t<tr><td>Post_Nat._Raisin_Bran    </td><td>P                        </td><td>C                        </td><td>120                      </td><td>3                        </td><td>1                        </td><td>200                      </td><td> 6                       </td><td>11                       </td><td>14                       </td><td>260                      </td><td>25                       </td><td>3                        </td><td>1.33                     </td><td>0.67                     </td><td>37.840594                </td></tr>\n",
       "\t<tr><td>Raisin_Bran              </td><td>K                        </td><td>C                        </td><td>120                      </td><td>3                        </td><td>1                        </td><td>210                      </td><td> 5                       </td><td>14                       </td><td>12                       </td><td>240                      </td><td>25                       </td><td>2                        </td><td>1.33                     </td><td>0.75                     </td><td>39.259197                </td></tr>\n",
       "</tbody>\n",
       "</table>\n"
      ],
      "text/latex": [
       "\\begin{tabular}{r|llllllllllllllll}\n",
       " name & mfr & type & calories & protein & fat & sodium & fiber & carbo & sugars & potass & vitamins & shelf & weight & cups & rating\\\\\n",
       "\\hline\n",
       "\t 100\\%\\_Bran                 & N                             & C                             &  70                           & 4                             & 1                             & 130                           & 10                            &  5                            &  6                            & 280                           & 25                            & 3                             & 1.00                          & 0.33                          & 68.402973                    \\\\\n",
       "\t All-Bran                  & K                         & C                         &  70                       & 4                         & 1                         & 260                       &  9                        &  7                        &  5                        & 320                       & 25                        & 3                         & 1.00                      & 0.33                      & 59.425505                \\\\\n",
       "\t All-Bran\\_with\\_Extra\\_Fiber & K                               & C                               &  50                             & 4                               & 0                               & 140                             & 14                              &  8                              &  0                              & 330                             & 25                              & 3                               & 1.00                            & 0.50                            & 93.704912                      \\\\\n",
       "\t Cracklin'\\_Oat\\_Bran        & K                             & C                             & 110                           & 3                             & 3                             & 140                           &  4                            & 10                            &  7                            & 160                           & 25                            & 3                             & 1.00                          & 0.50                          & 40.448772                    \\\\\n",
       "\t Post\\_Nat.\\_Raisin\\_Bran     & P                               & C                               & 120                             & 3                               & 1                               & 200                             &  6                              & 11                              & 14                              & 260                             & 25                              & 3                               & 1.33                            & 0.67                            & 37.840594                      \\\\\n",
       "\t Raisin\\_Bran               & K                           & C                           & 120                         & 3                           & 1                           & 210                         &  5                          & 14                          & 12                          & 240                         & 25                          & 2                           & 1.33                        & 0.75                        & 39.259197                  \\\\\n",
       "\\end{tabular}\n"
      ],
      "text/markdown": [
       "\n",
       "name | mfr | type | calories | protein | fat | sodium | fiber | carbo | sugars | potass | vitamins | shelf | weight | cups | rating | \n",
       "|---|---|---|---|---|---|\n",
       "| 100%_Bran                 | N                         | C                         |  70                       | 4                         | 1                         | 130                       | 10                        |  5                        |  6                        | 280                       | 25                        | 3                         | 1.00                      | 0.33                      | 68.402973                 | \n",
       "| All-Bran                  | K                         | C                         |  70                       | 4                         | 1                         | 260                       |  9                        |  7                        |  5                        | 320                       | 25                        | 3                         | 1.00                      | 0.33                      | 59.425505                 | \n",
       "| All-Bran_with_Extra_Fiber | K                         | C                         |  50                       | 4                         | 0                         | 140                       | 14                        |  8                        |  0                        | 330                       | 25                        | 3                         | 1.00                      | 0.50                      | 93.704912                 | \n",
       "| Cracklin'_Oat_Bran        | K                         | C                         | 110                       | 3                         | 3                         | 140                       |  4                        | 10                        |  7                        | 160                       | 25                        | 3                         | 1.00                      | 0.50                      | 40.448772                 | \n",
       "| Post_Nat._Raisin_Bran     | P                         | C                         | 120                       | 3                         | 1                         | 200                       |  6                        | 11                        | 14                        | 260                       | 25                        | 3                         | 1.33                      | 0.67                      | 37.840594                 | \n",
       "| Raisin_Bran               | K                         | C                         | 120                       | 3                         | 1                         | 210                       |  5                        | 14                        | 12                        | 240                       | 25                        | 2                         | 1.33                      | 0.75                      | 39.259197                 | \n",
       "\n",
       "\n"
      ],
      "text/plain": [
       "  name                      mfr type calories protein fat sodium fiber carbo\n",
       "1 100%_Bran                 N   C     70      4       1   130    10     5   \n",
       "2 All-Bran                  K   C     70      4       1   260     9     7   \n",
       "3 All-Bran_with_Extra_Fiber K   C     50      4       0   140    14     8   \n",
       "4 Cracklin'_Oat_Bran        K   C    110      3       3   140     4    10   \n",
       "5 Post_Nat._Raisin_Bran     P   C    120      3       1   200     6    11   \n",
       "6 Raisin_Bran               K   C    120      3       1   210     5    14   \n",
       "  sugars potass vitamins shelf weight cups rating   \n",
       "1  6     280    25       3     1.00   0.33 68.402973\n",
       "2  5     320    25       3     1.00   0.33 59.425505\n",
       "3  0     330    25       3     1.00   0.50 93.704912\n",
       "4  7     160    25       3     1.00   0.50 40.448772\n",
       "5 14     260    25       3     1.33   0.67 37.840594\n",
       "6 12     240    25       2     1.33   0.75 39.259197"
      ]
     },
     "metadata": {},
     "output_type": "display_data"
    }
   ],
   "source": [
    "data2 <- read.csv(\"C:\\\\Users\\\\hp\\\\Downloads\\\\cerealspga05.csv\", header = TRUE,\n",
    "               stringsAsFactors = FALSE,\n",
    "               strip.white = TRUE ,\n",
    "               sep = ',')\n",
    "\n",
    "str(data2)\n",
    "\n",
    "library(\"dplyr\")\n",
    "data<- select(data2, calories,fat,sugars,fiber,sodium,rating)\n",
    "\n",
    "head(data2)"
   ]
  },
  {
   "cell_type": "code",
   "execution_count": null,
   "metadata": {},
   "outputs": [],
   "source": []
  }
 ],
 "metadata": {
  "kernelspec": {
   "display_name": "R",
   "language": "R",
   "name": "ir"
  },
  "language_info": {
   "codemirror_mode": "r",
   "file_extension": ".r",
   "mimetype": "text/x-r-source",
   "name": "R",
   "pygments_lexer": "r",
   "version": "3.5.1"
  }
 },
 "nbformat": 4,
 "nbformat_minor": 2
}
