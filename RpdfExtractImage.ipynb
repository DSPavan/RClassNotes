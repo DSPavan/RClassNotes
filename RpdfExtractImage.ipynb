{
 "cells": [
  {
   "cell_type": "code",
   "execution_count": 3,
   "metadata": {},
   "outputs": [
    {
     "name": "stdout",
     "output_type": "stream",
     "text": [
      "    we're afraid there is another quirky fact about the epos. It is\r\n",
      "completely free of the central word, meaning this tiny little dangerous\r\n",
      "word is mentioned exactly zero times. A fact that the transation lacks. that\r\n",
      "is why it is officially considered untranslatable.\r\n"
     ]
    },
    {
     "data": {
      "text/html": [],
      "text/latex": [],
      "text/markdown": [],
      "text/plain": [
       "character(0)"
      ]
     },
     "metadata": {},
     "output_type": "display_data"
    }
   ],
   "source": [
    "library(pdftools)\n",
    "#download.file(\"http://arxiv.org/pdf/1403.2805.pdf\", \"1403.2805.pdf\", mode = \"wb\")\n",
    "txt <- pdf_text(\"C:\\\\Users\\\\pavan\\\\Downloads\\\\eftos-ent-kingdom-of-a-thousand.pdf\")\n",
    "\n",
    "# first page text\n",
    "cat(txt[5]) \n",
    "\n",
    "\n",
    "toc <- pdf_data(\"C:\\\\Users\\\\pavan\\\\Downloads\\\\eftos-ent-kingdom-of-a-thousand.pdf\")\n",
    "#toc\n",
    "\n",
    "\n",
    "fileConn <-file(\"C:\\\\Users\\\\pavan\\\\Downloads\\\\output2.txt\")\n",
    "writeLines(as.character(toc), fileConn)\n",
    "close(fileConn)\n",
    "\n",
    "\n",
    "#library(magick)\n",
    "#manual <- image_read_pdf('C:\\\\Users\\\\pavan\\\\Downloads\\\\eftos-ent-kingdom-of-a-thousand.pdf', density = 72)\n",
    "#image_info(manual)\n",
    "\n",
    "## http://www.xpdfreader.com/download.html - \n",
    "# download windows64 bit\n",
    "# \n",
    "# download - XpdfReader:, 64 bit, install in c:\\program files\n",
    "# download - Xpdf  install / extract files to your desired folder, I made in my download pages\n",
    "# execute system command\n",
    "try(system(\"C:\\\\Users\\\\pavan\\\\Downloads\\\\xpdf-tools-win-4.00\\\\bin64\\\\pdfimages  -j C:\\\\Users\\\\pavan\\\\Downloads\\\\vsosports.pdf C:\\\\Users\\\\pavan\\\\Downloads\\\\img3\\\\\", intern = TRUE, ignore.stderr = TRUE))\n",
    "\n",
    "\n",
    "# AFter above step, You can extract all images in C:\\\\Users\\\\pavan\\\\Downloads\\\\img2\\\\ , Img2 folder, you have to create\n",
    "\n",
    "# https://www.xnview.com/en/xnview/  Opening for BPM file\n",
    "\n",
    "\n",
    "\n"
   ]
  },
  {
   "cell_type": "code",
   "execution_count": null,
   "metadata": {},
   "outputs": [],
   "source": []
  }
 ],
 "metadata": {
  "kernelspec": {
   "display_name": "R",
   "language": "R",
   "name": "ir"
  },
  "language_info": {
   "codemirror_mode": "r",
   "file_extension": ".r",
   "mimetype": "text/x-r-source",
   "name": "R",
   "pygments_lexer": "r",
   "version": "3.5.1"
  }
 },
 "nbformat": 4,
 "nbformat_minor": 2
}
