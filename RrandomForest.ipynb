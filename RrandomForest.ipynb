{
 "cells": [
  {
   "cell_type": "code",
   "execution_count": 1,
   "metadata": {},
   "outputs": [
    {
     "name": "stdout",
     "output_type": "stream",
     "text": [
      "'data.frame':\t1000 obs. of  21 variables:\n",
      " $ Creditability                    : int  1 1 1 1 1 1 1 1 1 1 ...\n",
      " $ Account.Balance                  : int  1 1 2 1 1 1 1 1 4 2 ...\n",
      " $ Duration.of.Credit..month.       : int  18 9 12 12 12 10 8 6 18 24 ...\n",
      " $ Payment.Status.of.Previous.Credit: int  4 4 2 4 4 4 4 4 4 2 ...\n",
      " $ Purpose                          : int  2 0 9 0 0 0 0 0 3 3 ...\n",
      " $ Credit.Amount                    : int  1049 2799 841 2122 2171 2241 3398 1361 1098 3758 ...\n",
      " $ Value.Savings.Stocks             : int  1 1 2 1 1 1 1 1 1 3 ...\n",
      " $ Length.of.current.employment     : int  2 3 4 3 3 2 4 2 1 1 ...\n",
      " $ Instalment.per.cent              : int  4 2 2 3 4 1 1 2 4 1 ...\n",
      " $ Sex...Marital.Status             : int  2 3 2 3 3 3 3 3 2 2 ...\n",
      " $ Guarantors                       : int  1 1 1 1 1 1 1 1 1 1 ...\n",
      " $ Duration.in.Current.address      : int  4 2 4 2 4 3 4 4 4 4 ...\n",
      " $ Most.valuable.available.asset    : int  2 1 1 1 2 1 1 1 3 4 ...\n",
      " $ Age..years.                      : int  21 36 23 39 38 48 39 40 65 23 ...\n",
      " $ Concurrent.Credits               : int  3 3 3 3 1 3 3 3 3 3 ...\n",
      " $ Type.of.apartment                : int  1 1 1 1 2 1 2 2 2 1 ...\n",
      " $ No.of.Credits.at.this.Bank       : int  1 2 1 2 2 2 2 1 2 1 ...\n",
      " $ Occupation                       : int  3 3 2 2 2 2 2 2 1 1 ...\n",
      " $ No.of.dependents                 : int  1 2 1 2 1 2 1 2 1 1 ...\n",
      " $ Telephone                        : int  1 1 1 1 1 1 1 1 1 1 ...\n",
      " $ Foreign.Worker                   : int  1 1 1 2 2 2 2 2 1 1 ...\n"
     ]
    },
    {
     "data": {
      "text/html": [
       "<ol class=list-inline>\n",
       "\t<li>1000</li>\n",
       "\t<li>21</li>\n",
       "</ol>\n"
      ],
      "text/latex": [
       "\\begin{enumerate*}\n",
       "\\item 1000\n",
       "\\item 21\n",
       "\\end{enumerate*}\n"
      ],
      "text/markdown": [
       "1. 1000\n",
       "2. 21\n",
       "\n",
       "\n"
      ],
      "text/plain": [
       "[1] 1000   21"
      ]
     },
     "metadata": {},
     "output_type": "display_data"
    }
   ],
   "source": [
    "mydata= read.csv(\"https://sites.google.com/site/pocketecoworld/german_credit.csv\")\n",
    "\n",
    "# Check types of variables\n",
    "str(mydata)\n",
    "\n",
    "# Check number of rows and columns\n",
    "dim(mydata)\n",
    "\n",
    "# Make dependent variable as a factor (categorical)\n",
    "mydata$Creditability = as.factor(mydata$Creditability)"
   ]
  },
  {
   "cell_type": "code",
   "execution_count": 2,
   "metadata": {},
   "outputs": [
    {
     "name": "stderr",
     "output_type": "stream",
     "text": [
      "randomForest 4.6-14\n",
      "Type rfNews() to see new features/changes/bug fixes.\n"
     ]
    },
    {
     "name": "stdout",
     "output_type": "stream",
     "text": [
      "\n",
      "Call:\n",
      " randomForest(formula = Creditability ~ ., data = mydata, ntree = 500) \n",
      "               Type of random forest: classification\n",
      "                     Number of trees: 500\n",
      "No. of variables tried at each split: 4\n",
      "\n",
      "        OOB estimate of  error rate: 23.9%\n",
      "Confusion matrix:\n",
      "    0   1 class.error\n",
      "0 122 178  0.59333333\n",
      "1  61 639  0.08714286\n"
     ]
    }
   ],
   "source": [
    "library(randomForest)\n",
    "set.seed(71) \n",
    "rf <-randomForest(Creditability~.,data=mydata, ntree=500) \n",
    "print(rf)"
   ]
  },
  {
   "cell_type": "code",
   "execution_count": 3,
   "metadata": {},
   "outputs": [
    {
     "data": {
      "text/html": [
       "<table>\n",
       "<thead><tr><th></th><th scope=col>MeanDecreaseGini</th></tr></thead>\n",
       "<tbody>\n",
       "\t<tr><th scope=row>Account.Balance</th><td>47.485472</td></tr>\n",
       "\t<tr><th scope=row>Duration.of.Credit..month.</th><td>40.751199</td></tr>\n",
       "\t<tr><th scope=row>Payment.Status.of.Previous.Credit</th><td>25.203730</td></tr>\n",
       "\t<tr><th scope=row>Purpose</th><td>25.461389</td></tr>\n",
       "\t<tr><th scope=row>Credit.Amount</th><td>56.417305</td></tr>\n",
       "\t<tr><th scope=row>Value.Savings.Stocks</th><td>20.650375</td></tr>\n",
       "\t<tr><th scope=row>Length.of.current.employment</th><td>21.430256</td></tr>\n",
       "\t<tr><th scope=row>Instalment.per.cent</th><td>17.742336</td></tr>\n",
       "\t<tr><th scope=row>Sex...Marital.Status</th><td>15.015543</td></tr>\n",
       "\t<tr><th scope=row>Guarantors</th><td> 8.530889</td></tr>\n",
       "\t<tr><th scope=row>Duration.in.Current.address</th><td>16.857442</td></tr>\n",
       "\t<tr><th scope=row>Most.valuable.available.asset</th><td>18.678415</td></tr>\n",
       "\t<tr><th scope=row>Age..years.</th><td>42.507722</td></tr>\n",
       "\t<tr><th scope=row>Concurrent.Credits</th><td> 9.869529</td></tr>\n",
       "\t<tr><th scope=row>Type.of.apartment</th><td>10.510184</td></tr>\n",
       "\t<tr><th scope=row>No.of.Credits.at.this.Bank</th><td> 8.902078</td></tr>\n",
       "\t<tr><th scope=row>Occupation</th><td>13.619489</td></tr>\n",
       "\t<tr><th scope=row>No.of.dependents</th><td> 5.698177</td></tr>\n",
       "\t<tr><th scope=row>Telephone</th><td> 8.127870</td></tr>\n",
       "\t<tr><th scope=row>Foreign.Worker</th><td> 1.860741</td></tr>\n",
       "</tbody>\n",
       "</table>\n"
      ],
      "text/latex": [
       "\\begin{tabular}{r|l}\n",
       "  & MeanDecreaseGini\\\\\n",
       "\\hline\n",
       "\tAccount.Balance & 47.485472\\\\\n",
       "\tDuration.of.Credit..month. & 40.751199\\\\\n",
       "\tPayment.Status.of.Previous.Credit & 25.203730\\\\\n",
       "\tPurpose & 25.461389\\\\\n",
       "\tCredit.Amount & 56.417305\\\\\n",
       "\tValue.Savings.Stocks & 20.650375\\\\\n",
       "\tLength.of.current.employment & 21.430256\\\\\n",
       "\tInstalment.per.cent & 17.742336\\\\\n",
       "\tSex...Marital.Status & 15.015543\\\\\n",
       "\tGuarantors &  8.530889\\\\\n",
       "\tDuration.in.Current.address & 16.857442\\\\\n",
       "\tMost.valuable.available.asset & 18.678415\\\\\n",
       "\tAge..years. & 42.507722\\\\\n",
       "\tConcurrent.Credits &  9.869529\\\\\n",
       "\tType.of.apartment & 10.510184\\\\\n",
       "\tNo.of.Credits.at.this.Bank &  8.902078\\\\\n",
       "\tOccupation & 13.619489\\\\\n",
       "\tNo.of.dependents &  5.698177\\\\\n",
       "\tTelephone &  8.127870\\\\\n",
       "\tForeign.Worker &  1.860741\\\\\n",
       "\\end{tabular}\n"
      ],
      "text/markdown": [
       "\n",
       "| <!--/--> | MeanDecreaseGini | \n",
       "|---|---|---|---|---|---|---|---|---|---|---|---|---|---|---|---|---|---|---|---|\n",
       "| Account.Balance | 47.485472 | \n",
       "| Duration.of.Credit..month. | 40.751199 | \n",
       "| Payment.Status.of.Previous.Credit | 25.203730 | \n",
       "| Purpose | 25.461389 | \n",
       "| Credit.Amount | 56.417305 | \n",
       "| Value.Savings.Stocks | 20.650375 | \n",
       "| Length.of.current.employment | 21.430256 | \n",
       "| Instalment.per.cent | 17.742336 | \n",
       "| Sex...Marital.Status | 15.015543 | \n",
       "| Guarantors |  8.530889 | \n",
       "| Duration.in.Current.address | 16.857442 | \n",
       "| Most.valuable.available.asset | 18.678415 | \n",
       "| Age..years. | 42.507722 | \n",
       "| Concurrent.Credits |  9.869529 | \n",
       "| Type.of.apartment | 10.510184 | \n",
       "| No.of.Credits.at.this.Bank |  8.902078 | \n",
       "| Occupation | 13.619489 | \n",
       "| No.of.dependents |  5.698177 | \n",
       "| Telephone |  8.127870 | \n",
       "| Foreign.Worker |  1.860741 | \n",
       "\n",
       "\n"
      ],
      "text/plain": [
       "                                  MeanDecreaseGini\n",
       "Account.Balance                   47.485472       \n",
       "Duration.of.Credit..month.        40.751199       \n",
       "Payment.Status.of.Previous.Credit 25.203730       \n",
       "Purpose                           25.461389       \n",
       "Credit.Amount                     56.417305       \n",
       "Value.Savings.Stocks              20.650375       \n",
       "Length.of.current.employment      21.430256       \n",
       "Instalment.per.cent               17.742336       \n",
       "Sex...Marital.Status              15.015543       \n",
       "Guarantors                         8.530889       \n",
       "Duration.in.Current.address       16.857442       \n",
       "Most.valuable.available.asset     18.678415       \n",
       "Age..years.                       42.507722       \n",
       "Concurrent.Credits                 9.869529       \n",
       "Type.of.apartment                 10.510184       \n",
       "No.of.Credits.at.this.Bank         8.902078       \n",
       "Occupation                        13.619489       \n",
       "No.of.dependents                   5.698177       \n",
       "Telephone                          8.127870       \n",
       "Foreign.Worker                     1.860741       "
      ]
     },
     "metadata": {},
     "output_type": "display_data"
    },
    {
     "data": {
      "image/png": "[encoded data removed]",
      "text/plain": [
       "Plot with title \"rf\""
      ]
     },
     "metadata": {},
     "output_type": "display_data"
    }
   ],
   "source": [
    "#Evaluate variable importance\n",
    "importance(rf)\n",
    "varImpPlot(rf)"
   ]
  },
  {
   "cell_type": "code",
   "execution_count": 4,
   "metadata": {},
   "outputs": [],
   "source": [
    "#Higher the value of mean decrease accuracy or mean decrease gini score , \n",
    "#higher the importance of the variable in the model. In the plot shown above,\n",
    "#Account Balance , Credit Amount is most important variable.\n",
    "\n",
    "#Mean Decrease Accuracy - How much the model accuracy decreases if we drop that variable.\n",
    "#Mean Decrease Gini - Measure of variable importance based on the Gini impurity index used for the calculation of splits in trees. "
   ]
  },
  {
   "cell_type": "code",
   "execution_count": 5,
   "metadata": {},
   "outputs": [
    {
     "data": {
      "image/png": "[encoded data removed]",
      "text/plain": [
       "Plot with title \"rf\""
      ]
     },
     "metadata": {},
     "output_type": "display_data"
    }
   ],
   "source": [
    "plot(rf)"
   ]
  },
  {
   "cell_type": "code",
   "execution_count": null,
   "metadata": {},
   "outputs": [],
   "source": []
  }
 ],
 "metadata": {
  "kernelspec": {
   "display_name": "R",
   "language": "R",
   "name": "ir"
  },
  "language_info": {
   "codemirror_mode": "r",
   "file_extension": ".r",
   "mimetype": "text/x-r-source",
   "name": "R",
   "pygments_lexer": "r",
   "version": "3.5.1"
  }
 },
 "nbformat": 4,
 "nbformat_minor": 2
}
