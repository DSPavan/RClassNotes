{
 "cells": [
  {
   "cell_type": "code",
   "execution_count": 1,
   "metadata": {},
   "outputs": [
    {
     "name": "stderr",
     "output_type": "stream",
     "text": [
      "\n",
      "Attaching package: 'dplyr'\n",
      "\n",
      "The following objects are masked from 'package:stats':\n",
      "\n",
      "    filter, lag\n",
      "\n",
      "The following objects are masked from 'package:base':\n",
      "\n",
      "    intersect, setdiff, setequal, union\n",
      "\n"
     ]
    },
    {
     "data": {
      "text/html": [
       "<table>\n",
       "<thead><tr><th></th><th scope=col>X</th><th scope=col>word</th></tr></thead>\n",
       "<tbody>\n",
       "\t<tr><th scope=row>1</th><td>2254</td><td>avg </td></tr>\n",
       "\t<tr><th scope=row>1.1</th><td>2254</td><td>of  </td></tr>\n",
       "\t<tr><th scope=row>1.2</th><td>2254</td><td>42  </td></tr>\n",
       "\t<tr><th scope=row>1.3</th><td>2254</td><td>what</td></tr>\n",
       "\t<tr><th scope=row>1.4</th><td>2254</td><td>is  </td></tr>\n",
       "\t<tr><th scope=row>1.5</th><td>2254</td><td>a   </td></tr>\n",
       "</tbody>\n",
       "</table>\n"
      ],
      "text/latex": [
       "\\begin{tabular}{r|ll}\n",
       "  & X & word\\\\\n",
       "\\hline\n",
       "\t1 & 2254 & avg \\\\\n",
       "\t1.1 & 2254 & of  \\\\\n",
       "\t1.2 & 2254 & 42  \\\\\n",
       "\t1.3 & 2254 & what\\\\\n",
       "\t1.4 & 2254 & is  \\\\\n",
       "\t1.5 & 2254 & a   \\\\\n",
       "\\end{tabular}\n"
      ],
      "text/markdown": [
       "\n",
       "| <!--/--> | X | word | \n",
       "|---|---|---|---|---|---|\n",
       "| 1 | 2254 | avg  | \n",
       "| 1.1 | 2254 | of   | \n",
       "| 1.2 | 2254 | 42   | \n",
       "| 1.3 | 2254 | what | \n",
       "| 1.4 | 2254 | is   | \n",
       "| 1.5 | 2254 | a    | \n",
       "\n",
       "\n"
      ],
      "text/plain": [
       "    X    word\n",
       "1   2254 avg \n",
       "1.1 2254 of  \n",
       "1.2 2254 42  \n",
       "1.3 2254 what\n",
       "1.4 2254 is  \n",
       "1.5 2254 a   "
      ]
     },
     "metadata": {},
     "output_type": "display_data"
    },
    {
     "data": {
      "text/html": [
       "<ol class=list-inline>\n",
       "\t<li>13837</li>\n",
       "\t<li>2</li>\n",
       "</ol>\n"
      ],
      "text/latex": [
       "\\begin{enumerate*}\n",
       "\\item 13837\n",
       "\\item 2\n",
       "\\end{enumerate*}\n"
      ],
      "text/markdown": [
       "1. 13837\n",
       "2. 2\n",
       "\n",
       "\n"
      ],
      "text/plain": [
       "[1] 13837     2"
      ]
     },
     "metadata": {},
     "output_type": "display_data"
    },
    {
     "name": "stdout",
     "output_type": "stream",
     "text": [
      "'data.frame':\t13837 obs. of  2 variables:\n",
      " $ X   : int  2254 2254 2254 2254 2254 2254 2254 2254 1390 1390 ...\n",
      " $ word: chr  \"avg\" \"of\" \"42\" \"what\" ...\n"
     ]
    }
   ],
   "source": [
    "library(dplyr)\n",
    "library(readr)\n",
    "library(tidytext)\n",
    "\n",
    "df <- read.csv(\"C:\\\\Users\\\\radha31\\\\Downloads\\\\500_questions.csv\" , header = TRUE,\n",
    "                 stringsAsFactors = FALSE,\n",
    "                 strip.white = TRUE ,\n",
    "                 sep = ',')\n",
    "\n",
    "tidy_books <- df %>% unnest_tokens(word,question)\n",
    "tidy_booksN <- df %>% unnest_tokens(word,question)\n",
    "head(tidy_books)\n",
    "dim(tidy_books)\n",
    "\n",
    "str(tidy_books)"
   ]
  },
  {
   "cell_type": "code",
   "execution_count": 2,
   "metadata": {},
   "outputs": [
    {
     "name": "stderr",
     "output_type": "stream",
     "text": [
      "Joining, by = \"word\"\n"
     ]
    },
    {
     "data": {
      "text/html": [
       "<table>\n",
       "<thead><tr><th scope=col>X</th><th scope=col>word</th></tr></thead>\n",
       "<tbody>\n",
       "\t<tr><td>2254     </td><td>avg      </td></tr>\n",
       "\t<tr><td>2254     </td><td>42       </td></tr>\n",
       "\t<tr><td>2254     </td><td>sql      </td></tr>\n",
       "\t<tr><td>2254     </td><td>view     </td></tr>\n",
       "\t<tr><td>1390     </td><td>question </td></tr>\n",
       "\t<tr><td>1390     </td><td>involving</td></tr>\n",
       "</tbody>\n",
       "</table>\n"
      ],
      "text/latex": [
       "\\begin{tabular}{r|ll}\n",
       " X & word\\\\\n",
       "\\hline\n",
       "\t 2254      & avg      \\\\\n",
       "\t 2254      & 42       \\\\\n",
       "\t 2254      & sql      \\\\\n",
       "\t 2254      & view     \\\\\n",
       "\t 1390      & question \\\\\n",
       "\t 1390      & involving\\\\\n",
       "\\end{tabular}\n"
      ],
      "text/markdown": [
       "\n",
       "X | word | \n",
       "|---|---|---|---|---|---|\n",
       "| 2254      | avg       | \n",
       "| 2254      | 42        | \n",
       "| 2254      | sql       | \n",
       "| 2254      | view      | \n",
       "| 1390      | question  | \n",
       "| 1390      | involving | \n",
       "\n",
       "\n"
      ],
      "text/plain": [
       "  X    word     \n",
       "1 2254 avg      \n",
       "2 2254 42       \n",
       "3 2254 sql      \n",
       "4 2254 view     \n",
       "5 1390 question \n",
       "6 1390 involving"
      ]
     },
     "metadata": {},
     "output_type": "display_data"
    },
    {
     "data": {
      "text/html": [
       "<ol class=list-inline>\n",
       "\t<li>6355</li>\n",
       "\t<li>2</li>\n",
       "</ol>\n"
      ],
      "text/latex": [
       "\\begin{enumerate*}\n",
       "\\item 6355\n",
       "\\item 2\n",
       "\\end{enumerate*}\n"
      ],
      "text/markdown": [
       "1. 6355\n",
       "2. 2\n",
       "\n",
       "\n"
      ],
      "text/plain": [
       "[1] 6355    2"
      ]
     },
     "metadata": {},
     "output_type": "display_data"
    }
   ],
   "source": [
    "data(stop_words)\n",
    "\n",
    "tidy_books <- tidy_books %>%\n",
    "  anti_join(stop_words)\n",
    "\n",
    "head(tidy_books)\n",
    "dim(tidy_books)\n"
   ]
  },
  {
   "cell_type": "code",
   "execution_count": 3,
   "metadata": {},
   "outputs": [
    {
     "data": {
      "text/html": [
       "<table>\n",
       "<thead><tr><th scope=col>word</th><th scope=col>n</th></tr></thead>\n",
       "<tbody>\n",
       "\t<tr><td>sql        </td><td>145        </td></tr>\n",
       "\t<tr><td>key        </td><td>121        </td></tr>\n",
       "\t<tr><td>object     </td><td> 85        </td></tr>\n",
       "\t<tr><td>questions  </td><td> 73        </td></tr>\n",
       "\t<tr><td>data       </td><td> 63        </td></tr>\n",
       "\t<tr><td>class      </td><td> 53        </td></tr>\n",
       "\t<tr><td>server     </td><td> 52        </td></tr>\n",
       "\t<tr><td>database   </td><td> 50        </td></tr>\n",
       "\t<tr><td>table      </td><td> 50        </td></tr>\n",
       "\t<tr><td>time       </td><td> 46        </td></tr>\n",
       "\t<tr><td>2          </td><td> 43        </td></tr>\n",
       "\t<tr><td>java       </td><td> 40        </td></tr>\n",
       "\t<tr><td>objects    </td><td> 34        </td></tr>\n",
       "\t<tr><td>transaction</td><td> 34        </td></tr>\n",
       "\t<tr><td>cache      </td><td> 31        </td></tr>\n",
       "\t<tr><td>inheritance</td><td> 31        </td></tr>\n",
       "\t<tr><td>round      </td><td> 31        </td></tr>\n",
       "\t<tr><td>interview  </td><td> 30        </td></tr>\n",
       "\t<tr><td>test       </td><td> 30        </td></tr>\n",
       "\t<tr><td>2005       </td><td> 28        </td></tr>\n",
       "</tbody>\n",
       "</table>\n"
      ],
      "text/latex": [
       "\\begin{tabular}{r|ll}\n",
       " word & n\\\\\n",
       "\\hline\n",
       "\t sql         & 145        \\\\\n",
       "\t key         & 121        \\\\\n",
       "\t object      &  85        \\\\\n",
       "\t questions   &  73        \\\\\n",
       "\t data        &  63        \\\\\n",
       "\t class       &  53        \\\\\n",
       "\t server      &  52        \\\\\n",
       "\t database    &  50        \\\\\n",
       "\t table       &  50        \\\\\n",
       "\t time        &  46        \\\\\n",
       "\t 2           &  43        \\\\\n",
       "\t java        &  40        \\\\\n",
       "\t objects     &  34        \\\\\n",
       "\t transaction &  34        \\\\\n",
       "\t cache       &  31        \\\\\n",
       "\t inheritance &  31        \\\\\n",
       "\t round       &  31        \\\\\n",
       "\t interview   &  30        \\\\\n",
       "\t test        &  30        \\\\\n",
       "\t 2005        &  28        \\\\\n",
       "\\end{tabular}\n"
      ],
      "text/markdown": [
       "\n",
       "word | n | \n",
       "|---|---|---|---|---|---|---|---|---|---|---|---|---|---|---|---|---|---|---|---|\n",
       "| sql         | 145         | \n",
       "| key         | 121         | \n",
       "| object      |  85         | \n",
       "| questions   |  73         | \n",
       "| data        |  63         | \n",
       "| class       |  53         | \n",
       "| server      |  52         | \n",
       "| database    |  50         | \n",
       "| table       |  50         | \n",
       "| time        |  46         | \n",
       "| 2           |  43         | \n",
       "| java        |  40         | \n",
       "| objects     |  34         | \n",
       "| transaction |  34         | \n",
       "| cache       |  31         | \n",
       "| inheritance |  31         | \n",
       "| round       |  31         | \n",
       "| interview   |  30         | \n",
       "| test        |  30         | \n",
       "| 2005        |  28         | \n",
       "\n",
       "\n"
      ],
      "text/plain": [
       "   word        n  \n",
       "1  sql         145\n",
       "2  key         121\n",
       "3  object       85\n",
       "4  questions    73\n",
       "5  data         63\n",
       "6  class        53\n",
       "7  server       52\n",
       "8  database     50\n",
       "9  table        50\n",
       "10 time         46\n",
       "11 2            43\n",
       "12 java         40\n",
       "13 objects      34\n",
       "14 transaction  34\n",
       "15 cache        31\n",
       "16 inheritance  31\n",
       "17 round        31\n",
       "18 interview    30\n",
       "19 test         30\n",
       "20 2005         28"
      ]
     },
     "metadata": {},
     "output_type": "display_data"
    }
   ],
   "source": [
    "tidy_books <- tidy_books %>%\n",
    "  count(word, sort = TRUE) \n",
    "head(tidy_books,20)"
   ]
  },
  {
   "cell_type": "code",
   "execution_count": 4,
   "metadata": {},
   "outputs": [
    {
     "data": {},
     "metadata": {},
     "output_type": "display_data"
    },
    {
     "data": {
      "image/png": "[encoded data removed]",
      "text/plain": [
       "plot without title"
      ]
     },
     "metadata": {},
     "output_type": "display_data"
    }
   ],
   "source": [
    "library(ggplot2)\n",
    "\n",
    "tidy_books %>%\n",
    "  mutate(word = reorder(word, n)) %>%\n",
    "filter(n > 25) %>%\n",
    " \n",
    "  ggplot(aes(word, n, fill=word)) +\n",
    "  geom_col() +\n",
    "  xlab(NULL) +\n",
    "  coord_flip()"
   ]
  },
  {
   "cell_type": "code",
   "execution_count": 5,
   "metadata": {},
   "outputs": [
    {
     "name": "stderr",
     "output_type": "stream",
     "text": [
      "Loading required package: NLP\n",
      "\n",
      "Attaching package: 'NLP'\n",
      "\n",
      "The following object is masked from 'package:ggplot2':\n",
      "\n",
      "    annotate\n",
      "\n"
     ]
    },
    {
     "name": "stdout",
     "output_type": "stream",
     "text": [
      "<<DocumentTermMatrix (documents: 500, terms: 3140)>>\n",
      "Non-/sparse entries: 8985/1561015\n",
      "Sparsity           : 99%\n",
      "Maximal term length: 34\n",
      "Weighting          : term frequency (tf)\n",
      "Sample             :\n",
      "     Terms\n",
      "Docs  and are can for key sql that the was you\n",
      "  100   2   0   0   2   0   0    2   4   3   3\n",
      "  171   2   2   0   1   0   0    4  16   0   0\n",
      "  200   6   1   1   1   0   0    5  14   0   4\n",
      "  34   11   1   0   8   0   0    1   8   7   0\n",
      "  442  10   3   2   3   1   0    3   7  10   0\n",
      "  496  10   1   0   5   1   0    5   9   4   1\n",
      "  57    0   0   0   2   0   0    0   5   1   6\n",
      "  64    2   0   0   2   0   1    4   4   2   0\n",
      "  66    6   0   0   4   0   0    4   9   4   2\n",
      "  93    2   4   1   0   1   0    4   2   0   1\n"
     ]
    }
   ],
   "source": [
    "# Remove more stopwords\n",
    "\n",
    "library(topicmodels)\n",
    "library(tm)\n",
    "tokenizing.phrases <- df$question\n",
    "#tokenizing.phrases\n",
    "#my.docs = c('the sky is blue, hot sun', 'flowers,hot sun', 'black cats, bees, rats and mice')\n",
    "my.corpus = VCorpus(VectorSource(df$question))\n",
    "my.dtm = DocumentTermMatrix(my.corpus)\n",
    "inspect(my.dtm)\n",
    "\n",
    "\n"
   ]
  },
  {
   "cell_type": "code",
   "execution_count": 53,
   "metadata": {},
   "outputs": [],
   "source": [
    "#tdm <- TermDocumentMatrix(my.corpus, control = list(tokenize = TrigramTokenizer)) \n",
    "#tdm\n",
    "#str(tdm)"
   ]
  },
  {
   "cell_type": "code",
   "execution_count": 39,
   "metadata": {},
   "outputs": [
    {
     "name": "stderr",
     "output_type": "stream",
     "text": [
      "Loading required package: RWeka\n",
      "Error: package or namespace load failed for 'RWeka':\n",
      " .onLoad failed in loadNamespace() for 'rJava', details:\n",
      "  call: fun(libname, pkgname)\n",
      "  error: JAVA_HOME cannot be determined from the Registry\n"
     ]
    }
   ],
   "source": [
    "# install.packages(\"topicmodels\")\n",
    "\n",
    "# install.packages(\"tm\")\n",
    "\n",
    "#install.packages(\"RWeka\")\n",
    "#require(RWeka)"
   ]
  },
  {
   "cell_type": "code",
   "execution_count": 52,
   "metadata": {},
   "outputs": [],
   "source": [
    "# tokenize into tri-grams\n",
    "#trigram.twitterTdm <- tm::TermDocumentMatrix(my.corpus, control = list(tokenize = TrigramTokenizer))\n",
    "\n",
    "#head(trigram.twitterTdm$dimnames )\n",
    "\n",
    "\n",
    "# put into data frame\n",
    "#freq.trigram.twitter <- data.frame(word = trigram.twitterTdm$dimnames$Terms, frequency = trigram.twitterTdm$v)\n",
    "# reorder by descending frequency\n",
    "#freq.trigram.twitter <- plyr::arrange(freq.trigram.twitter, -frequency)"
   ]
  },
  {
   "cell_type": "code",
   "execution_count": 6,
   "metadata": {},
   "outputs": [],
   "source": [
    "library(dplyr)\n",
    "library(tidytext)\n",
    "library(janeaustenr)\n"
   ]
  },
  {
   "cell_type": "code",
   "execution_count": 11,
   "metadata": {},
   "outputs": [
    {
     "ename": "ERROR",
     "evalue": "Error in unnest_tokens(bigram, text, token = \"ngrams\", n = 2): object 'bigram' not found\n",
     "output_type": "error",
     "traceback": [
      "Error in unnest_tokens(bigram, text, token = \"ngrams\", n = 2): object 'bigram' not found\nTraceback:\n",
      "1. unnest_tokens(bigram, text, token = \"ngrams\", n = 2)"
     ]
    }
   ],
   "source": [
    "tidy_booksN <-   unnest_tokens(bigram, text, token = \"ngrams\", n = 2)\n",
    "\n",
    "tidy_booksN"
   ]
  },
  {
   "cell_type": "code",
   "execution_count": 10,
   "metadata": {},
   "outputs": [],
   "source": [
    "# Install and download JRE\n",
    "# https://www.oracle.com/technetwork/java/javase/downloads/jre8-downloads-2133155.html\n",
    "library(\"RWeka\")"
   ]
  },
  {
   "cell_type": "code",
   "execution_count": 25,
   "metadata": {},
   "outputs": [
    {
     "data": {
      "text/plain": [
       "<<TermDocumentMatrix (terms: 11412, documents: 500)>>\n",
       "Non-/sparse entries: 11917/5694083\n",
       "Sparsity           : 100%\n",
       "Maximal term length: 65\n",
       "Weighting          : term frequency (tf)"
      ]
     },
     "metadata": {},
     "output_type": "display_data"
    }
   ],
   "source": [
    "library(dplyr)\n",
    "library(tidytext)\n",
    "library(janeaustenr)\n",
    "\n",
    "BigramTokenizer <- function(x) NGramTokenizer(x, Weka_control(min = 5, max = 5))\n",
    "tdm <- TermDocumentMatrix(my.corpus, control = list(tokenize = BigramTokenizer))\n",
    "tdm\n",
    "#tidy_books <- unnest_tokens(bigram, text, token = \"ngrams\", n = 2)\n",
    "\n",
    "#tidy_books"
   ]
  },
  {
   "cell_type": "code",
   "execution_count": 26,
   "metadata": {},
   "outputs": [
    {
     "name": "stdout",
     "output_type": "stream",
     "text": [
      "<<TermDocumentMatrix (terms: 11412, documents: 500)>>\n",
      "Non-/sparse entries: 11917/5694083\n",
      "Sparsity           : 100%\n",
      "Maximal term length: 65\n",
      "Weighting          : term frequency (tf)\n",
      "Sample             :\n",
      "                             Docs\n",
      "Terms                         100 200 291 34 442 496 57 64 66 93\n",
      "                                0   0   0  0   0   0  0  0  0  0\n",
      "  100 msec main memory access   0   0   0  0   0   0  0  0  0  0\n",
      "  4 marks and on a              0   0   0  0   0   0  0  0  0  0\n",
      "  800 msec if the hit           0   0   0  0   0   0  0  0  0  0\n",
      "  a correct ans score 4         0   0   0  0   0   0  0  0  0  0\n",
      "  a wrong ans 2 marks           0   0   0  0   0   0  0  0  0  0\n",
      "  access time 100 msec main     0   0   0  0   0   0  0  0  0  0\n",
      "  access time 800 msec if       0   0   0  0   0   0  0  0  0  0\n",
      "  and on a wrong ans            0   0   0  0   0   0  0  0  0  0\n",
      "  ans score 4 marks and         0   0   0  0   0   0  0  0  0  0\n"
     ]
    }
   ],
   "source": [
    "inspect(tdm)\n",
    "\n",
    "# Rgraphviz\n",
    "\n",
    "#plot(tdm, terms = findFreqTerms(tdm, lowfreq = 2)[1:50], corThreshold = 0.5)"
   ]
  },
  {
   "cell_type": "code",
   "execution_count": null,
   "metadata": {},
   "outputs": [],
   "source": []
  }
 ],
 "metadata": {
  "kernelspec": {
   "display_name": "R",
   "language": "R",
   "name": "ir"
  },
  "language_info": {
   "codemirror_mode": "r",
   "file_extension": ".r",
   "mimetype": "text/x-r-source",
   "name": "R",
   "pygments_lexer": "r",
   "version": "3.5.1"
  }
 },
 "nbformat": 4,
 "nbformat_minor": 2
}
