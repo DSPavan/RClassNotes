{
 "cells": [
  {
   "cell_type": "code",
   "execution_count": null,
   "metadata": {},
   "outputs": [],
   "source": [
    "# Time Series\n",
    "data(AirPassengers)\n",
    "summary(AirPassengers)\n",
    "frequency(AirPassengers)"
   ]
  },
  {
   "cell_type": "code",
   "execution_count": null,
   "metadata": {},
   "outputs": [],
   "source": [
    "class(AirPassengers)\n",
    "\n",
    "plot(AirPassengers)\n",
    "abline(reg=lm(AirPassengers~time(AirPassengers)))"
   ]
  },
  {
   "cell_type": "code",
   "execution_count": null,
   "metadata": {},
   "outputs": [],
   "source": [
    "#head(AirPassengers)\n",
    "#AirPassengers\n",
    "\n",
    "cycle(AirPassengers)"
   ]
  },
  {
   "cell_type": "code",
   "execution_count": null,
   "metadata": {},
   "outputs": [],
   "source": [
    "plot(aggregate(AirPassengers,FUN=mean))"
   ]
  },
  {
   "cell_type": "code",
   "execution_count": null,
   "metadata": {},
   "outputs": [],
   "source": [
    "boxplot(AirPassengers~cycle(AirPassengers))\n"
   ]
  },
  {
   "cell_type": "code",
   "execution_count": null,
   "metadata": {},
   "outputs": [],
   "source": [
    "library(tseries)\n",
    "adf.test(diff(log(AirPassengers)),\n",
    "         alternative=\"stationary\", k=0)"
   ]
  },
  {
   "cell_type": "code",
   "execution_count": null,
   "metadata": {},
   "outputs": [],
   "source": [
    "#find the right parameters to be used in the ARIMA model\n",
    "acf(log(AirPassengers))\n",
    "pacf(diff(log(AirPassengers))) \n",
    "acf(diff(log(AirPassengers)))"
   ]
  },
  {
   "cell_type": "code",
   "execution_count": null,
   "metadata": {},
   "outputs": [],
   "source": [
    "(fit <- arima(log(AirPassengers), c(0, 1, 1),\n",
    "              seasonal = list(order = c(0, 1, 1),\n",
    "                              period = 12)))\n",
    "pred <- predict(fit, n.ahead = 10*12)\n",
    "ts.plot(AirPassengers,2.718^pred$pred, log = \"y\",\n",
    "        lty = c(1,3))\n"
   ]
  },
  {
   "cell_type": "code",
   "execution_count": null,
   "metadata": {},
   "outputs": [],
   "source": [
    "# Differencing a time series means, to subtract each \n",
    "# data point in the series from its success\n",
    "\n",
    "# the nsdiffs and ndiffs from forecast package can\n",
    "# help find out how many seasonal differencing\n",
    "# and regular differencing respectively is\n",
    "# needed to make the series stationary. "
   ]
  },
  {
   "cell_type": "code",
   "execution_count": null,
   "metadata": {},
   "outputs": [],
   "source": [
    "library(\"forecast\")\n",
    "\n",
    "nsdiffs(AirPassengers)  # number for seasonal differencing needed\n",
    "#> 1\n",
    "\n",
    "\n",
    "AirPassengers_seasdiff <- diff(AirPassengers, lag=frequency(AirPassengers),\n",
    "                               differences=1)  # seasonal differencing\n",
    "plot(AirPassengers_seasdiff, type=\"l\", main=\"Seasonally Differenced\") "
   ]
  },
  {
   "cell_type": "code",
   "execution_count": null,
   "metadata": {},
   "outputs": [],
   "source": [
    "# still not stationary!\n",
    "\n",
    "# Make it stationary"
   ]
  },
  {
   "cell_type": "code",
   "execution_count": null,
   "metadata": {},
   "outputs": [],
   "source": [
    "ndiffs(AirPassengers_seasdiff)  # number of differences need to make it stationary\n",
    "#> 1 \n",
    "stationaryTS <- diff(AirPassengers_seasdiff, differences= 1)\n",
    "plot(stationaryTS, type=\"l\", main=\"Differenced and Stationary\")  \n",
    "# appears to be stationary"
   ]
  },
  {
   "cell_type": "code",
   "execution_count": null,
   "metadata": {},
   "outputs": [],
   "source": [
    "adf.test(AirPassengers_seasdiff)\n",
    "\n",
    "ndiffs(AirPassengers_seasdiff)  # number of differences need to make it stationary\n",
    "#> 1 \n",
    "stationaryTS <- diff(AirPassengers_seasdiff, differences= 1)\n",
    "plot(stationaryTS, type=\"l\", main=\"Differenced and Stationary\")  \n",
    "# appears to be stationary\n",
    "\n",
    "\n",
    "\n",
    "adf.test(stationaryTS)"
   ]
  },
  {
   "cell_type": "code",
   "execution_count": null,
   "metadata": {},
   "outputs": [],
   "source": []
  }
 ],
 "metadata": {
  "kernelspec": {
   "display_name": "R",
   "language": "R",
   "name": "ir"
  },
  "language_info": {
   "name": ""
  }
 },
 "nbformat": 4,
 "nbformat_minor": 2
}
