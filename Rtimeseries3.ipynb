{
 "cells": [
  {
   "cell_type": "code",
   "execution_count": null,
   "metadata": {},
   "outputs": [],
   "source": [
    "#How to extract the trend, seasonality and error?\n",
    "# seasonality,\n",
    "# trend\n",
    "# and error components.\n",
    "\n",
    "tsData <- EuStockMarkets[, 1] # ts data\n",
    "decomposedRes <- decompose(tsData, type=\"mult\") # use type = \"additive\" for additive components\n",
    "plot (decomposedRes) # see plot below\n"
   ]
  },
  {
   "cell_type": "code",
   "execution_count": null,
   "metadata": {},
   "outputs": [],
   "source": [
    "stlRes <- stl(tsData, s.window = \"periodic\")\n",
    "laggedTS <- lag(tsData, 3)"
   ]
  },
  {
   "cell_type": "code",
   "execution_count": null,
   "metadata": {},
   "outputs": [],
   "source": [
    "library(DataCombine)\n",
    "myDf <- as.data.frame(tsData)\n",
    "myDf <- slide(myDf, \"x\", NewVar = \"xLag1\", slideBy = -1)  # create lag1 variable\n",
    "myDf <- slide(myDf, \"x\", NewVar = \"xLead1\", slideBy = 1)  # create lead1 variable\n",
    "head(myDf)"
   ]
  },
  {
   "cell_type": "code",
   "execution_count": null,
   "metadata": {},
   "outputs": [],
   "source": [
    "library(forecast)\n",
    "ts.stl <- stl(tsData,\"periodic\")  # decompose the TS\n",
    "ts.sa <- seasadj(ts.stl)  # de-seasonalize\n",
    "plot(AirPassengers, type=\"l\")  # original series\n",
    "plot(ts.sa, type=\"l\")  # seasonal adjusted\n",
    "seasonplot(ts.sa, 12, col=rainbow(12), year.labels=TRUE,\n",
    "           main=\"Seasonal plot: Airpassengers\") \n"
   ]
  },
  {
   "cell_type": "code",
   "execution_count": null,
   "metadata": {},
   "outputs": [],
   "source": []
  }
 ],
 "metadata": {
  "kernelspec": {
   "display_name": "R",
   "language": "R",
   "name": "ir"
  },
  "language_info": {
   "name": ""
  }
 },
 "nbformat": 4,
 "nbformat_minor": 2
}
